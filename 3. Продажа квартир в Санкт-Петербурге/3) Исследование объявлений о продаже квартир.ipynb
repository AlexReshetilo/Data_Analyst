{
 "cells": [
  {
   "cell_type": "markdown",
   "metadata": {},
   "source": [
    "# Исследование объявлений о продаже квартир\n",
    "\n",
    "В вашем распоряжении данные сервиса Яндекс.Недвижимость — архив объявлений о продаже квартир в Санкт-Петербурге и соседних населённых пунктов за несколько лет. Нужно научиться определять рыночную стоимость объектов недвижимости. Ваша задача — установить параметры. Это позволит построить автоматизированную систему: она отследит аномалии и мошенническую деятельность. \n",
    "\n",
    "По каждой квартире на продажу доступны два вида данных. Первые вписаны пользователем, вторые — получены автоматически на основе картографических данных. Например, расстояние до центра, аэропорта, ближайшего парка и водоёма. "
   ]
  },
  {
   "cell_type": "markdown",
   "metadata": {},
   "source": [
    "### Откройте файл с данными и изучите общую информацию. "
   ]
  },
  {
   "cell_type": "code",
   "execution_count": 2,
   "metadata": {},
   "outputs": [],
   "source": [
    "import pandas as pd"
   ]
  },
  {
   "cell_type": "code",
   "execution_count": 3,
   "metadata": {},
   "outputs": [
    {
     "name": "stdout",
     "output_type": "stream",
     "text": [
      "<class 'pandas.core.frame.DataFrame'>\n",
      "RangeIndex: 23699 entries, 0 to 23698\n",
      "Data columns (total 22 columns):\n",
      " #   Column                Non-Null Count  Dtype  \n",
      "---  ------                --------------  -----  \n",
      " 0   total_images          23699 non-null  int64  \n",
      " 1   last_price            23699 non-null  float64\n",
      " 2   total_area            23699 non-null  float64\n",
      " 3   first_day_exposition  23699 non-null  object \n",
      " 4   rooms                 23699 non-null  int64  \n",
      " 5   ceiling_height        14504 non-null  float64\n",
      " 6   floors_total          23613 non-null  float64\n",
      " 7   living_area           21796 non-null  float64\n",
      " 8   floor                 23699 non-null  int64  \n",
      " 9   is_apartment          2775 non-null   object \n",
      " 10  studio                23699 non-null  bool   \n",
      " 11  open_plan             23699 non-null  bool   \n",
      " 12  kitchen_area          21421 non-null  float64\n",
      " 13  balcony               12180 non-null  float64\n",
      " 14  locality_name         23650 non-null  object \n",
      " 15  airports_nearest      18157 non-null  float64\n",
      " 16  cityCenters_nearest   18180 non-null  float64\n",
      " 17  parks_around3000      18181 non-null  float64\n",
      " 18  parks_nearest         8079 non-null   float64\n",
      " 19  ponds_around3000      18181 non-null  float64\n",
      " 20  ponds_nearest         9110 non-null   float64\n",
      " 21  days_exposition       20518 non-null  float64\n",
      "dtypes: bool(2), float64(14), int64(3), object(3)\n",
      "memory usage: 3.7+ MB\n"
     ]
    }
   ],
   "source": [
    "data = pd.read_csv('/datasets/real_estate_data.csv', sep = '\\t')\n",
    "data.info()"
   ]
  },
  {
   "cell_type": "markdown",
   "metadata": {},
   "source": [
    "### Предобработка данных"
   ]
  },
  {
   "cell_type": "code",
   "execution_count": 3,
   "metadata": {
    "scrolled": true
   },
   "outputs": [
    {
     "name": "stdout",
     "output_type": "stream",
     "text": [
      "Index(['total_images', 'last_price', 'total_area', 'first_day_exposition',\n",
      "       'rooms', 'ceiling_height', 'floors_total', 'living_area', 'floor',\n",
      "       'is_apartment', 'studio', 'open_plan', 'kitchen_area', 'balcony',\n",
      "       'locality_name', 'airports_nearest', 'cityCenters_nearest',\n",
      "       'parks_around3000', 'parks_nearest', 'ponds_around3000',\n",
      "       'ponds_nearest', 'days_exposition'],\n",
      "      dtype='object')\n"
     ]
    },
    {
     "data": {
      "text/plain": [
       "count    21796.000000\n",
       "mean        34.457852\n",
       "std         22.030445\n",
       "min          2.000000\n",
       "25%         18.600000\n",
       "50%         30.000000\n",
       "75%         42.300000\n",
       "max        409.700000\n",
       "Name: living_area, dtype: float64"
      ]
     },
     "execution_count": 3,
     "metadata": {},
     "output_type": "execute_result"
    }
   ],
   "source": [
    "print(data.columns)\n",
    "#Посмотрем на столбцы в датафрейме  \n",
    "\n",
    "#заменим пропуски и заменим тип данных\n",
    "data['days_exposition'] = data['days_exposition'].fillna(0).astype('int')\n",
    "data['balcony'] = data['balcony'].fillna(0).astype('int')\n",
    "data['is_apartment'] = data['is_apartment'].fillna(False)\n",
    "data['last_price'] = data['last_price'].astype('int')\n",
    "data['first_day_exposition'] = pd.to_datetime(data['first_day_exposition'], format = '%Y-%m-%d')\n",
    "\n",
    "#посмотрим данные с пропущенными значениями в floors_total- ничего общего между ними нет, оставим как есть\n",
    "data[data['floors_total'].isna()]\n",
    "\n",
    "data['living_area'].describe()\n"
   ]
  },
  {
   "cell_type": "code",
   "execution_count": 4,
   "metadata": {},
   "outputs": [
    {
     "data": {
      "text/plain": [
       "count    14504.000000\n",
       "mean         2.771499\n",
       "std          1.261056\n",
       "min          1.000000\n",
       "25%          2.520000\n",
       "50%          2.650000\n",
       "75%          2.800000\n",
       "max        100.000000\n",
       "Name: ceiling_height, dtype: float64"
      ]
     },
     "execution_count": 4,
     "metadata": {},
     "output_type": "execute_result"
    },
    {
     "data": {
      "image/png": "[encoded data removed]",
      "text/plain": [
       "<Figure size 432x288 with 1 Axes>"
      ]
     },
     "metadata": {
      "needs_background": "light"
     },
     "output_type": "display_data"
    }
   ],
   "source": [
    "#посмотрим параметр ceiling_height\n",
    "data['ceiling_height'].sort_values().plot(y = 'ceiling_height', kind = 'hist', bins = 30, range=(2,5))\n",
    "data['ceiling_height'].describe()"
   ]
  },
  {
   "cell_type": "markdown",
   "metadata": {},
   "source": [
    "На графике сверху видим что есть анамально высокие знаения. Нужно это поправить "
   ]
  },
  {
   "cell_type": "code",
   "execution_count": 5,
   "metadata": {},
   "outputs": [
    {
     "data": {
      "text/plain": [
       "array([ 2.7 ,   nan,  3.03,  2.5 ,  2.67,  2.56,  3.05,  2.75,  2.6 ,\n",
       "        2.9 ,  2.8 ,  2.55,  3.  ,  2.65,  3.2 ,  2.61,  3.25,  3.45,\n",
       "        2.77,  2.85,  2.64,  2.57,  4.15,  3.5 ,  3.3 ,  2.71,  4.  ,\n",
       "        2.47,  2.73,  2.84,  3.1 ,  2.34,  3.4 ,  3.06,  2.72,  2.54,\n",
       "        2.51,  2.78,  2.76,  2.58,  3.7 ,  2.52,  5.2 ,  2.87,  2.66,\n",
       "        2.59,  2.  ,  2.45,  3.6 ,  2.92,  3.11,  3.13,  3.8 ,  3.15,\n",
       "        3.55,  3.16,  3.62,  3.12,  2.53,  2.74,  2.96,  2.46,  5.3 ,\n",
       "        5.  ,  2.79,  2.95,  4.06,  2.94,  3.82,  3.54,  3.53,  2.83,\n",
       "        4.7 ,  2.4 ,  3.38,  3.01,  5.6 ,  3.65,  3.9 ,  3.18,  3.35,\n",
       "        2.3 ,  3.57,  2.48,  2.62,  2.82,  3.98,  2.63,  3.83,  3.52,\n",
       "        3.95,  3.75,  2.88,  3.67,  3.87,  3.66,  3.85,  3.86,  4.19,\n",
       "        3.24,  4.8 ,  4.5 ,  4.2 ,  3.36,  3.08,  3.68,  3.07,  3.37,\n",
       "        3.09,  8.  ,  3.26,  3.34,  2.81,  3.44,  2.97,  3.14,  4.37,\n",
       "        2.68,  3.22,  3.27,  4.1 ,  2.93,  3.46,  3.47,  3.33,  3.63,\n",
       "        3.32,  1.2 ,  8.3 ,  2.98,  2.86,  3.17,  4.4 ,  3.28,  3.04,\n",
       "        4.45,  5.5 ,  3.84,  3.23,  3.02,  3.21,  3.43,  3.78,  4.3 ,\n",
       "        3.39,  2.69,  3.31,  4.65,  3.56,  2.2 ,  3.51,  3.93,  3.42,\n",
       "        2.99,  3.49, 14.  ,  4.14,  2.91,  3.88,  1.75,  4.25,  3.29,\n",
       "        2.25,  3.76,  3.69,  6.  ,  2.89,  3.58,  5.8 ,  2.49,  4.9 ,\n",
       "        3.48, 10.3 ,  1.  , 10.  ,  3.59])"
      ]
     },
     "execution_count": 5,
     "metadata": {},
     "output_type": "execute_result"
    }
   ],
   "source": [
    "data['ceiling_height'] = data['ceiling_height'].replace({25.0: 2.5, 27.5: 2.7, 32.0: 3.2, 27.0: 2.7, 26.0: 2.6, 22.6: 2.2, 24.0: 2.4, 100.0: 10.0, 25.0: 2.5, 20.0: 2.0})\n",
    "data['ceiling_height'].unique()"
   ]
  },
  {
   "cell_type": "markdown",
   "metadata": {},
   "source": [
    "Уже другое дело, анамально высокие сначение ушли. Это сделает наши данные более чистыми"
   ]
  },
  {
   "cell_type": "markdown",
   "metadata": {},
   "source": [
    "Теперь нужно разобраться с неявные дубликаты"
   ]
  },
  {
   "cell_type": "code",
   "execution_count": 6,
   "metadata": {},
   "outputs": [
    {
     "data": {
      "text/plain": [
       "['село Шум',\n",
       " 'село Старая Ладога',\n",
       " 'село Русско-Высоцкое',\n",
       " 'село Рождествено',\n",
       " 'село Путилово',\n",
       " 'село Паша',\n",
       " 'село Павлово',\n",
       " 'село Никольское',\n",
       " 'село Копорье',\n",
       " 'садовое товарищество Садко',\n",
       " 'садовое товарищество Рахья',\n",
       " 'садовое товарищество Приладожский',\n",
       " 'садовое товарищество Новая Ропша',\n",
       " 'садовое товарищество Лесная Поляна',\n",
       " 'посёлок станции Свирь',\n",
       " 'посёлок станции Громово',\n",
       " 'посёлок при железнодорожной станции Приветнинское',\n",
       " 'посёлок при железнодорожной станции Вещево',\n",
       " 'посёлок городского типа имени Свердлова',\n",
       " 'посёлок городского типа имени Морозова',\n",
       " 'посёлок городского типа Форносово',\n",
       " 'посёлок городского типа Ульяновка',\n",
       " 'посёлок городского типа Токсово',\n",
       " 'посёлок городского типа Тайцы',\n",
       " 'посёлок городского типа Сиверский',\n",
       " 'посёлок городского типа Рябово',\n",
       " 'посёлок городского типа Рощино',\n",
       " 'посёлок городского типа Павлово',\n",
       " 'посёлок городского типа Мга',\n",
       " 'посёлок городского типа Лебяжье',\n",
       " 'посёлок городского типа Кузьмоловский',\n",
       " 'посёлок городского типа Кузнечное',\n",
       " 'посёлок городского типа Красный Бор',\n",
       " 'посёлок городского типа Вырица',\n",
       " 'посёлок городского типа Вознесенье',\n",
       " 'посёлок городского типа Важины',\n",
       " 'посёлок Щеглово',\n",
       " 'посёлок Шушары',\n",
       " 'посёлок Шугозеро',\n",
       " 'посёлок Форт Красная Горка',\n",
       " 'посёлок Усть-Луга',\n",
       " 'посёлок Усть-Ижора',\n",
       " 'посёлок Торфяное',\n",
       " 'посёлок Терволово',\n",
       " 'посёлок Тельмана',\n",
       " 'посёлок Сумино',\n",
       " 'посёлок Суйда',\n",
       " 'посёлок Стрельна',\n",
       " 'посёлок Стеклянный',\n",
       " 'посёлок Старая Малукса',\n",
       " 'посёлок Сосново',\n",
       " 'посёлок Сапёрный',\n",
       " 'посёлок Сапёрное',\n",
       " 'посёлок Ропша',\n",
       " 'посёлок Репино',\n",
       " 'посёлок Пудость',\n",
       " 'посёлок Пригородный',\n",
       " 'посёлок Понтонный',\n",
       " 'посёлок Поляны',\n",
       " 'посёлок Победа',\n",
       " 'посёлок Плоское',\n",
       " 'посёлок Плодовое',\n",
       " 'посёлок Платформа 69-й километр',\n",
       " 'посёлок Петровское',\n",
       " 'посёлок Петро-Славянка',\n",
       " 'посёлок Песочный',\n",
       " 'посёлок Перово',\n",
       " 'посёлок Парголово',\n",
       " 'посёлок Пансионат Зелёный Бор',\n",
       " 'посёлок Новый Свет',\n",
       " 'посёлок Новогорелово',\n",
       " 'посёлок Мыза-Ивановка',\n",
       " 'посёлок Мурино',\n",
       " 'посёлок Молодёжное',\n",
       " 'посёлок Мичуринское',\n",
       " 'посёлок Металлострой',\n",
       " 'посёлок Мельниково',\n",
       " 'посёлок Лисий Нос',\n",
       " 'посёлок Ленинское',\n",
       " 'посёлок Левашово',\n",
       " 'посёлок Коробицыно',\n",
       " 'посёлок Кобралово',\n",
       " 'посёлок Кикерино',\n",
       " 'посёлок Ильичёво',\n",
       " 'посёлок Жилгородок',\n",
       " 'посёлок Дзержинского',\n",
       " 'посёлок Гаврилово',\n",
       " 'посёлок Высокоключевой',\n",
       " 'посёлок Войскорово',\n",
       " 'посёлок Возрождение',\n",
       " 'посёлок Бугры',\n",
       " 'посёлок Белоостров',\n",
       " 'посёлок Аннино',\n",
       " 'посёлок Алексеевка',\n",
       " 'посёлок Александровская',\n",
       " 'поселок станции Приветнинское',\n",
       " 'поселок станции Лужайка',\n",
       " 'поселок станции Корнево',\n",
       " 'поселок станции Вещево',\n",
       " 'поселок Цвылёво',\n",
       " 'поселок Цвелодубово',\n",
       " 'поселок Ушаки',\n",
       " 'поселок Усть-Луга',\n",
       " 'поселок Углово',\n",
       " 'поселок Тёсово-4',\n",
       " 'поселок Торковичи',\n",
       " 'поселок Терволово',\n",
       " 'поселок Тельмана',\n",
       " 'поселок Суходолье',\n",
       " 'поселок Сумино',\n",
       " 'поселок Стеклянный',\n",
       " 'поселок Старая Малукса',\n",
       " 'поселок Совхозный',\n",
       " 'поселок Серебрянский',\n",
       " 'поселок Семрино',\n",
       " 'поселок Семиозерье',\n",
       " 'поселок Сельцо',\n",
       " 'поселок Селезнёво',\n",
       " 'поселок Севастьяново',\n",
       " 'поселок Ромашки',\n",
       " 'поселок Романовка',\n",
       " 'поселок Рабитицы',\n",
       " 'поселок Пчевжа',\n",
       " 'поселок Пушное',\n",
       " 'поселок Починок',\n",
       " 'поселок Почап',\n",
       " 'поселок Поляны',\n",
       " 'поселок Победа',\n",
       " 'поселок Петровское',\n",
       " 'поселок Перово',\n",
       " 'поселок Первомайское',\n",
       " 'поселок Пансионат Зелёный Бор',\n",
       " 'поселок Оредеж',\n",
       " 'поселок Новый Учхоз',\n",
       " 'поселок Новый Свет',\n",
       " 'поселок Молодцово',\n",
       " 'поселок Мичуринское',\n",
       " 'поселок Мельниково',\n",
       " 'поселок Любань',\n",
       " 'поселок Лукаши',\n",
       " 'поселок Лисий Нос',\n",
       " 'поселок Лесное',\n",
       " 'поселок Красносельское',\n",
       " 'поселок Красная Долина',\n",
       " 'поселок Котельский',\n",
       " 'поселок Коробицыно',\n",
       " 'поселок Коммунар',\n",
       " 'поселок Кобринское',\n",
       " 'поселок Кобралово',\n",
       " 'поселок Кирпичное',\n",
       " 'поселок Кингисеппский',\n",
       " 'поселок Каложицы',\n",
       " 'поселок Калитино',\n",
       " 'поселок Ильичёво',\n",
       " 'поселок Зимитицы',\n",
       " 'поселок Запорожское',\n",
       " 'поселок Заводской',\n",
       " 'поселок Житково',\n",
       " 'поселок Жилпосёлок',\n",
       " 'поселок Жилгородок',\n",
       " 'поселок Елизаветино',\n",
       " 'поселок Дружноселье',\n",
       " 'поселок Громово',\n",
       " 'поселок Гончарово',\n",
       " 'поселок Глебычево',\n",
       " 'поселок Глажево',\n",
       " 'поселок Гладкое',\n",
       " 'поселок Гарболово',\n",
       " 'поселок Гаврилово',\n",
       " 'поселок Володарское',\n",
       " 'поселок Войсковицы',\n",
       " 'поселок Возрождение',\n",
       " 'поселок Бугры',\n",
       " 'поселок Барышево',\n",
       " 'поселок Аннино',\n",
       " 'коттеджный посёлок Лесное',\n",
       " 'коттеджный поселок Счастье',\n",
       " 'коттеджный поселок Кивеннапа Север',\n",
       " 'деревня Ям-Тесово',\n",
       " 'деревня Яльгелево',\n",
       " 'деревня Ялгино',\n",
       " 'деревня Юкки',\n",
       " 'деревня Щеглово',\n",
       " 'деревня Шпаньково',\n",
       " 'деревня Чудской Бор',\n",
       " 'деревня Хязельки',\n",
       " 'деревня Хапо-Ое',\n",
       " 'деревня Фёдоровское',\n",
       " 'деревня Фалилеево',\n",
       " 'деревня Трубников Бор',\n",
       " 'деревня Торошковичи',\n",
       " 'деревня Торосово',\n",
       " 'деревня Тойворово',\n",
       " 'деревня Тихковицы',\n",
       " 'деревня Терпилицы',\n",
       " 'деревня Тарасово',\n",
       " 'деревня Сяськелево',\n",
       " 'деревня Суоранда',\n",
       " 'деревня Старые Бегуницы',\n",
       " 'деревня Старосиверская',\n",
       " 'деревня Старополье',\n",
       " 'деревня Старое Хинколово',\n",
       " 'деревня Старая Пустошь',\n",
       " 'деревня Старая',\n",
       " 'деревня Снегирёвка',\n",
       " 'деревня Сижно',\n",
       " 'деревня Русско',\n",
       " 'деревня Реброво',\n",
       " 'деревня Рапполово',\n",
       " 'деревня Разметелево',\n",
       " 'деревня Раздолье',\n",
       " 'деревня Разбегаево',\n",
       " 'деревня Рабитицы',\n",
       " 'деревня Пчева',\n",
       " 'деревня Пустынка',\n",
       " 'деревня Пудомяги',\n",
       " 'деревня Пикколово',\n",
       " 'деревня Пижма',\n",
       " 'деревня Пеники',\n",
       " 'деревня Пельгора',\n",
       " 'деревня Парицы',\n",
       " 'деревня Оржицы',\n",
       " 'деревня Нурма',\n",
       " 'деревня Новолисино',\n",
       " 'деревня Новое Девяткино',\n",
       " 'деревня Низино',\n",
       " 'деревня Нижняя',\n",
       " 'деревня Нижние Осельки',\n",
       " 'деревня Ненимяки',\n",
       " 'деревня Мистолово',\n",
       " 'деревня Мины',\n",
       " 'деревня Меньково',\n",
       " 'деревня Мануйлово',\n",
       " 'деревня Малые Колпаны',\n",
       " 'деревня Малое Карлино',\n",
       " 'деревня Малое Верево',\n",
       " 'деревня Малая Романовка',\n",
       " 'деревня Лупполово',\n",
       " 'деревня Лопухинка',\n",
       " 'деревня Лесколово',\n",
       " 'деревня Лампово',\n",
       " 'деревня Лаголово',\n",
       " 'деревня Лаврики',\n",
       " 'деревня Куттузи',\n",
       " 'деревня Куровицы',\n",
       " 'деревня Курковицы',\n",
       " 'деревня Кузьмолово',\n",
       " 'деревня Кривко',\n",
       " 'деревня Котлы',\n",
       " 'деревня Коркино',\n",
       " 'деревня Колтуши',\n",
       " 'деревня Кисельня',\n",
       " 'деревня Кипень',\n",
       " 'деревня Келози',\n",
       " 'деревня Каськово',\n",
       " 'деревня Камышовка',\n",
       " 'деревня Кальтино',\n",
       " 'деревня Калитино',\n",
       " 'деревня Иссад',\n",
       " 'деревня Извара',\n",
       " 'деревня Зимитицы',\n",
       " 'деревня Заневка',\n",
       " 'деревня Заклинье',\n",
       " 'деревня Гостилицы',\n",
       " 'деревня Горбунки',\n",
       " 'деревня Глинка',\n",
       " 'деревня Гарболово',\n",
       " 'деревня Выскатка',\n",
       " 'деревня Вахнова Кара',\n",
       " 'деревня Вартемяги',\n",
       " 'деревня Ваганово',\n",
       " 'деревня Борисова Грива',\n",
       " 'деревня Бор',\n",
       " 'деревня Большой Сабск',\n",
       " 'деревня Большое Рейзино',\n",
       " 'деревня Большие Колпаны',\n",
       " 'деревня Большая Пустомержа',\n",
       " 'деревня Большая Вруда',\n",
       " 'деревня Белогорка',\n",
       " 'деревня Бегуницы',\n",
       " 'деревня Батово',\n",
       " 'деревня Аро',\n",
       " 'деревня Агалатово',\n",
       " 'городской посёлок имени Свердлова',\n",
       " 'городской посёлок Янино-1',\n",
       " 'городской посёлок Фёдоровское',\n",
       " 'городской посёлок Форносово',\n",
       " 'городской посёлок Токсово',\n",
       " 'городской посёлок Советский',\n",
       " 'городской посёлок Синявино',\n",
       " 'городской посёлок Свирьстрой',\n",
       " 'городской посёлок Рябово',\n",
       " 'городской посёлок Рощино',\n",
       " 'городской посёлок Рахья',\n",
       " 'городской посёлок Приладожский',\n",
       " 'городской посёлок Павлово',\n",
       " 'городской посёлок Новоселье',\n",
       " 'городской посёлок Никольский',\n",
       " 'городской посёлок Назия',\n",
       " 'городской посёлок Мга',\n",
       " 'городской посёлок Лесогорский',\n",
       " 'городской посёлок Лебяжье',\n",
       " 'городской посёлок Кузьмоловский',\n",
       " 'городской посёлок Красный Бор',\n",
       " 'городской посёлок Кондратьево',\n",
       " 'городской посёлок Ефимовский',\n",
       " 'городской посёлок Дубровка',\n",
       " 'городской посёлок Дружная Горка',\n",
       " 'городской посёлок Вырица',\n",
       " 'городской посёлок Виллози',\n",
       " 'городской посёлок Будогощь',\n",
       " 'городской посёлок Большая Ижора',\n",
       " 'городской поселок Янино-1',\n",
       " 'городской поселок Большая Ижора',\n",
       " 'Шлиссельбург',\n",
       " 'Тосно',\n",
       " 'Тихвин',\n",
       " 'Сясьстрой',\n",
       " 'Сосновый Бор',\n",
       " 'Сланцы',\n",
       " 'Сестрорецк',\n",
       " 'Сертолово',\n",
       " 'Светогорск',\n",
       " 'Санкт-Петербург',\n",
       " 'Пушкин',\n",
       " 'Приозерск',\n",
       " 'Приморск',\n",
       " 'Подпорожье',\n",
       " 'Пикалёво',\n",
       " 'Петергоф',\n",
       " 'Павловск',\n",
       " 'Отрадное',\n",
       " 'Новая Ладога',\n",
       " 'Никольское',\n",
       " 'Мурино',\n",
       " 'Любань',\n",
       " 'Луга',\n",
       " 'Ломоносов',\n",
       " 'Лодейное Поле',\n",
       " 'Кудрово',\n",
       " 'Кронштадт',\n",
       " 'Красное Село',\n",
       " 'Коммунар',\n",
       " 'Колпино',\n",
       " 'Кировск',\n",
       " 'Кириши',\n",
       " 'Кингисепп',\n",
       " 'Каменногорск',\n",
       " 'Ивангород',\n",
       " 'Зеленогорск',\n",
       " 'Гатчина',\n",
       " 'Высоцк',\n",
       " 'Выборг',\n",
       " 'Всеволожск',\n",
       " 'Волхов',\n",
       " 'Волосово',\n",
       " 'Бокситогорск',\n",
       " nan]"
      ]
     },
     "execution_count": 6,
     "metadata": {},
     "output_type": "execute_result"
    }
   ],
   "source": [
    "word_list = ['поселок городского типа', 'поселок Мурино', 'деревня Кудрово', 'Коммунары',\\\n",
    "             'поселок Рябово' ,'поселок станции Вещево','поселок станции Приветнинское',\\\n",
    "             'коттеджный поселок Лесное', 'поселок при железнодорожной станции',\\\n",
    "            'садоводческое некоммерческое товарищество']\n",
    "name = ['городской посёлок', 'Мурино', 'Кудрово', 'Коммунар', 'поселок городского типа Рябово',\\\n",
    "        'поселок при железнодорожной станции Вещево',\\\n",
    "        'поселок при железнодорожной станции Приветнинское', 'поселок Лесное', 'поселок станции',\\\n",
    "       'садовое товарищество']\n",
    " \n",
    "for word in word_list:\n",
    "    data['locality_name'] = data['locality_name'].replace(word_list, name, regex=True)  \n",
    " \n",
    "\n",
    "list(data['locality_name'].sort_values(ascending=False).unique())   "
   ]
  },
  {
   "cell_type": "markdown",
   "metadata": {},
   "source": [
    "Другое дело, Теперь названия верные и мы можем продолжить наш анализ. Но можно посмотреть что там по стоимости и квадратуре"
   ]
  },
  {
   "cell_type": "code",
   "execution_count": 7,
   "metadata": {
    "scrolled": false
   },
   "outputs": [
    {
     "data": {
      "text/plain": [
       "count    23699.000000\n",
       "mean        60.348651\n",
       "std         35.654083\n",
       "min         12.000000\n",
       "25%         40.000000\n",
       "50%         52.000000\n",
       "75%         69.900000\n",
       "max        900.000000\n",
       "Name: total_area, dtype: float64"
      ]
     },
     "execution_count": 7,
     "metadata": {},
     "output_type": "execute_result"
    }
   ],
   "source": [
    "data['total_area'].describe()"
   ]
  },
  {
   "cell_type": "code",
   "execution_count": 8,
   "metadata": {
    "scrolled": true
   },
   "outputs": [
    {
     "data": {
      "text/plain": [
       "count    2.369900e+04\n",
       "mean     6.541549e+06\n",
       "std      1.088701e+07\n",
       "min      1.219000e+04\n",
       "25%      3.400000e+06\n",
       "50%      4.650000e+06\n",
       "75%      6.800000e+06\n",
       "max      7.630000e+08\n",
       "Name: last_price, dtype: float64"
      ]
     },
     "execution_count": 8,
     "metadata": {},
     "output_type": "execute_result"
    }
   ],
   "source": [
    "data['last_price'].describe()"
   ]
  },
  {
   "cell_type": "markdown",
   "metadata": {},
   "source": [
    "Так тут мы видем что есть очень огромный и очень догорие квартиры, это крайне редное явление, по этому я думаю возьмем площадь до 120кв метра и стоимости до 20 милионов. Средняя стоимость жилья "
   ]
  },
  {
   "cell_type": "code",
   "execution_count": 9,
   "metadata": {},
   "outputs": [
    {
     "data": {
      "text/plain": [
       "count    22468.000000\n",
       "mean        54.528657\n",
       "std         19.749054\n",
       "min         12.000000\n",
       "25%         39.400000\n",
       "50%         50.200000\n",
       "75%         65.600000\n",
       "max        120.000000\n",
       "Name: total_area, dtype: float64"
      ]
     },
     "execution_count": 9,
     "metadata": {},
     "output_type": "execute_result"
    }
   ],
   "source": [
    "data = data.query('last_price <= 20000000 and total_area <= 120')\n",
    "data['total_area'].describe()\n"
   ]
  },
  {
   "cell_type": "code",
   "execution_count": 10,
   "metadata": {},
   "outputs": [
    {
     "data": {
      "text/plain": [
       "count    2.246800e+04\n",
       "mean     5.216496e+06\n",
       "std      2.905341e+06\n",
       "min      1.219000e+04\n",
       "25%      3.359500e+06\n",
       "50%      4.500000e+06\n",
       "75%      6.300000e+06\n",
       "max      2.000000e+07\n",
       "Name: last_price, dtype: float64"
      ]
     },
     "execution_count": 10,
     "metadata": {},
     "output_type": "execute_result"
    }
   ],
   "source": [
    "data['last_price'].describe()"
   ]
  },
  {
   "cell_type": "markdown",
   "metadata": {},
   "source": [
    "Теперь можно проводить анализ дальше. Данные чистые)) "
   ]
  },
  {
   "cell_type": "markdown",
   "metadata": {},
   "source": [
    "### Посчитайте и добавьте в таблицу новые столбцы"
   ]
  },
  {
   "cell_type": "code",
   "execution_count": 12,
   "metadata": {},
   "outputs": [],
   "source": [
    "#Цена на один метр\n",
    "data['price_per_square_meter'] = data['last_price'] / data['total_area']\n",
    "\n",
    "#переведем в человеческий вид\n",
    "data['price_per_square_meter'] = data['price_per_square_meter'].astype('int')\n",
    "\n",
    "#День недели\n",
    "data['weekday_exposition'] = data['first_day_exposition'].dt.weekday\n",
    "\n",
    "#Месяц\n",
    "data['month_exposition'] = data['first_day_exposition'].dt.month\n",
    "\n",
    "#Год\n",
    "data['year_exposition'] = data['first_day_exposition'].dt.year\n",
    "\n",
    "#Распределение по этажам \n",
    "def floor_category(row):\n",
    "    floors_total = row['floors_total']\n",
    "    floor = row['floor']\n",
    "    if floor == 1:\n",
    "        return 'первый'\n",
    "    elif floor == floors_total:\n",
    "        return 'последний'\n",
    "    elif 1 < floor < floors_total:\n",
    "        return 'другой'\n",
    "    \n",
    "#категоризуем этажи  \n",
    "data['floor_category'] = data.apply(floor_category, axis = 1)\n",
    "\n",
    "#жилой плозади к общей\n",
    "data['useful_area_ratio'] = data['living_area'] / data['total_area']\n",
    "\n",
    "#отношения площади кухни к общей\n",
    "data['kitchen_area_ratio'] = data['kitchen_area'] / data['total_area']\n"
   ]
  },
  {
   "cell_type": "markdown",
   "metadata": {},
   "source": [
    "### Проведите исследовательский анализ данных"
   ]
  },
  {
   "cell_type": "code",
   "execution_count": 13,
   "metadata": {},
   "outputs": [
    {
     "data": {
      "text/plain": [
       "count    20704.000000\n",
       "mean        31.200969\n",
       "std         13.726975\n",
       "min          2.000000\n",
       "25%         18.300000\n",
       "50%         29.800000\n",
       "75%         40.100000\n",
       "max        101.000000\n",
       "Name: living_area, dtype: float64"
      ]
     },
     "execution_count": 13,
     "metadata": {},
     "output_type": "execute_result"
    },
    {
     "data": {
      "image/png": "[encoded data removed]",
      "text/plain": [
       "<Figure size 360x216 with 1 Axes>"
      ]
     },
     "metadata": {
      "needs_background": "light"
     },
     "output_type": "display_data"
    }
   ],
   "source": [
    "#жилая площадь\n",
    "data.plot(y = 'living_area', kind = 'hist', bins = 100, grid=True, figsize = (5,3), range = (0,120))\n",
    "data['living_area'].describe()"
   ]
  },
  {
   "cell_type": "markdown",
   "metadata": {},
   "source": [
    "Тут мы видим что самые популярные квартиры с жилой площадью с 18-20 метрама, это средний размер однушки или студии. Поэтому данные нормальные"
   ]
  },
  {
   "cell_type": "code",
   "execution_count": 14,
   "metadata": {
    "scrolled": true
   },
   "outputs": [
    {
     "data": {
      "text/plain": [
       "count    2.246800e+04\n",
       "mean     5.216496e+06\n",
       "std      2.905341e+06\n",
       "min      1.219000e+04\n",
       "25%      3.359500e+06\n",
       "50%      4.500000e+06\n",
       "75%      6.300000e+06\n",
       "max      2.000000e+07\n",
       "Name: last_price, dtype: float64"
      ]
     },
     "execution_count": 14,
     "metadata": {},
     "output_type": "execute_result"
    },
    {
     "data": {
      "image/png": "[encoded data removed]",
      "text/plain": [
       "<Figure size 360x216 with 1 Axes>"
      ]
     },
     "metadata": {
      "needs_background": "light"
     },
     "output_type": "display_data"
    }
   ],
   "source": [
    "#изучим этажность \n",
    "data.plot(y = 'floor', kind = 'hist', bins = 10, grid=True, range = (0,15), figsize = (5,3))\n",
    "data['last_price'].describe()"
   ]
  },
  {
   "cell_type": "markdown",
   "metadata": {},
   "source": [
    "Тут мы видим что самый популярный этож это четвертый, так оно и есть. Лифт сломался дойти по лестницу не проблема. И шум с окна не так слышно. Данные нормальной продолжаем анализ"
   ]
  },
  {
   "cell_type": "code",
   "execution_count": 15,
   "metadata": {
    "scrolled": true
   },
   "outputs": [
    {
     "data": {
      "text/plain": [
       "count      22389\n",
       "unique         3\n",
       "top       другой\n",
       "freq       16461\n",
       "Name: floor_category, dtype: object"
      ]
     },
     "execution_count": 15,
     "metadata": {},
     "output_type": "execute_result"
    },
    {
     "data": {
      "image/png": "[encoded data removed]",
      "text/plain": [
       "<Figure size 432x288 with 1 Axes>"
      ]
     },
     "metadata": {
      "needs_background": "light"
     },
     "output_type": "display_data"
    }
   ],
   "source": [
    "data['floor_category'].hist(bins=3)\n",
    "data['floor_category'].describe()\n"
   ]
  },
  {
   "cell_type": "markdown",
   "metadata": {},
   "source": [
    "На первой и последнем этаже квартир сначительно мешьше чем на других, это на самые популярные этажи. "
   ]
  },
  {
   "cell_type": "code",
   "execution_count": 16,
   "metadata": {},
   "outputs": [
    {
     "data": {
      "text/plain": [
       "count    22468.000000\n",
       "mean         1.956204\n",
       "std          0.909706\n",
       "min          0.000000\n",
       "25%          1.000000\n",
       "50%          2.000000\n",
       "75%          3.000000\n",
       "max          7.000000\n",
       "Name: rooms, dtype: float64"
      ]
     },
     "execution_count": 16,
     "metadata": {},
     "output_type": "execute_result"
    },
    {
     "data": {
      "image/png": "[encoded data removed]",
      "text/plain": [
       "<Figure size 360x360 with 1 Axes>"
      ]
     },
     "metadata": {
      "needs_background": "light"
     },
     "output_type": "display_data"
    }
   ],
   "source": [
    "#изучим число комнат\n",
    "data.plot(y = 'floors_total', kind = 'hist', bins = 30, grid=True, figsize = (5,5))\n",
    "data['rooms'].describe()\n"
   ]
  },
  {
   "cell_type": "markdown",
   "metadata": {},
   "source": [
    "Тут мы видим, что самые популярные дом в 8 и 10 этажей, анамальных значений тут нет"
   ]
  },
  {
   "cell_type": "code",
   "execution_count": 17,
   "metadata": {
    "scrolled": true
   },
   "outputs": [
    {
     "data": {
      "text/plain": [
       "count    22468.000000\n",
       "mean         1.956204\n",
       "std          0.909706\n",
       "min          0.000000\n",
       "25%          1.000000\n",
       "50%          2.000000\n",
       "75%          3.000000\n",
       "max          7.000000\n",
       "Name: rooms, dtype: float64"
      ]
     },
     "execution_count": 17,
     "metadata": {},
     "output_type": "execute_result"
    },
    {
     "data": {
      "image/png": "[encoded data removed]",
      "text/plain": [
       "<Figure size 360x360 with 1 Axes>"
      ]
     },
     "metadata": {
      "needs_background": "light"
     },
     "output_type": "display_data"
    }
   ],
   "source": [
    "#изучим число комнат\n",
    "data.plot(y = 'rooms', kind = 'hist', bins = 10, grid=True, figsize = (5,5))\n",
    "data['rooms'].describe()"
   ]
  },
  {
   "cell_type": "markdown",
   "metadata": {},
   "source": [
    "Тут тоже все чисто, самые популярные однушки и двушки"
   ]
  },
  {
   "cell_type": "code",
   "execution_count": 18,
   "metadata": {
    "scrolled": true
   },
   "outputs": [
    {
     "data": {
      "text/plain": [
       "count    13666.000000\n",
       "mean         2.702537\n",
       "std          0.293176\n",
       "min          1.000000\n",
       "25%          2.500000\n",
       "50%          2.640000\n",
       "75%          2.770000\n",
       "max         14.000000\n",
       "Name: ceiling_height, dtype: float64"
      ]
     },
     "execution_count": 18,
     "metadata": {},
     "output_type": "execute_result"
    },
    {
     "data": {
      "image/png": "[encoded data removed]",
      "text/plain": [
       "<Figure size 360x360 with 1 Axes>"
      ]
     },
     "metadata": {
      "needs_background": "light"
     },
     "output_type": "display_data"
    }
   ],
   "source": [
    "#изучим высоту потолков\n",
    "data.plot(y = 'ceiling_height', kind = 'hist', bins = 10, range = (2,4), grid=True, figsize = (5,5))\n",
    "data['ceiling_height'].describe()\n"
   ]
  },
  {
   "cell_type": "markdown",
   "metadata": {},
   "source": [
    "Тут тоже все чисто, самые популярная высота потолков 2.5 и 2.75 метра, как в стандартном доме"
   ]
  },
  {
   "cell_type": "code",
   "execution_count": 19,
   "metadata": {},
   "outputs": [
    {
     "data": {
      "text/plain": [
       "count    16971.000000\n",
       "mean     28872.575629\n",
       "std      12852.579630\n",
       "min          0.000000\n",
       "25%      18274.000000\n",
       "50%      26993.000000\n",
       "75%      37434.000000\n",
       "max      84869.000000\n",
       "Name: airports_nearest, dtype: float64"
      ]
     },
     "execution_count": 19,
     "metadata": {},
     "output_type": "execute_result"
    },
    {
     "data": {
      "image/png": "[encoded data removed]",
      "text/plain": [
       "<Figure size 360x360 with 1 Axes>"
      ]
     },
     "metadata": {
      "needs_background": "light"
     },
     "output_type": "display_data"
    }
   ],
   "source": [
    "#Как дела у нас с дорогой в аэропорт\n",
    "data.plot(y = 'airports_nearest', kind = 'hist', bins = 50, range = (2,40000), grid=True, figsize = (5,5))\n",
    "data['airports_nearest'].describe()\n"
   ]
  },
  {
   "cell_type": "markdown",
   "metadata": {},
   "source": [
    "Тут мы видим что на дорогу в аэропорт нужно заложить на один час больше, минимум ехать 10 километров"
   ]
  },
  {
   "cell_type": "code",
   "execution_count": 20,
   "metadata": {
    "scrolled": true
   },
   "outputs": [
    {
     "data": {
      "text/plain": [
       "count    7267.000000\n",
       "mean      495.583872\n",
       "std       343.357570\n",
       "min         1.000000\n",
       "25%       291.000000\n",
       "50%       458.000000\n",
       "75%       617.000000\n",
       "max      3190.000000\n",
       "Name: parks_nearest, dtype: float64"
      ]
     },
     "execution_count": 20,
     "metadata": {},
     "output_type": "execute_result"
    },
    {
     "data": {
      "image/png": "[encoded data removed]",
      "text/plain": [
       "<Figure size 360x360 with 1 Axes>"
      ]
     },
     "metadata": {
      "needs_background": "light"
     },
     "output_type": "display_data"
    }
   ],
   "source": [
    "#А что у нас с парками \n",
    "data.plot(y = 'parks_nearest', kind = 'hist', bins = 50, range = (2,1000), grid=True, figsize = (5,5))\n",
    "data['parks_nearest'].describe()\n"
   ]
  },
  {
   "cell_type": "markdown",
   "metadata": {},
   "source": [
    "Ну тут у нас вообще красота, самые популырные квартиры с 400 метрах от парка, не жизнь а сказка "
   ]
  },
  {
   "cell_type": "code",
   "execution_count": 1,
   "metadata": {},
   "outputs": [
    {
     "ename": "NameError",
     "evalue": "name 'data' is not defined",
     "output_type": "error",
     "traceback": [
      "\u001b[0;31m---------------------------------------------------------------------------\u001b[0m",
      "\u001b[0;31mNameError\u001b[0m                                 Traceback (most recent call last)",
      "\u001b[0;32m/tmp/ipykernel_31/1874083608.py\u001b[0m in \u001b[0;36m<module>\u001b[0;34m\u001b[0m\n\u001b[1;32m      1\u001b[0m \u001b[0;31m#А что у нас с датой публикации\u001b[0m\u001b[0;34m\u001b[0m\u001b[0;34m\u001b[0m\u001b[0;34m\u001b[0m\u001b[0m\n\u001b[0;32m----> 2\u001b[0;31m \u001b[0mdata\u001b[0m\u001b[0;34m.\u001b[0m\u001b[0mplot\u001b[0m\u001b[0;34m(\u001b[0m\u001b[0my\u001b[0m \u001b[0;34m=\u001b[0m \u001b[0;34m'weekday_exposition'\u001b[0m\u001b[0;34m,\u001b[0m \u001b[0mkind\u001b[0m \u001b[0;34m=\u001b[0m \u001b[0;34m'hist'\u001b[0m\u001b[0;34m,\u001b[0m \u001b[0mbins\u001b[0m \u001b[0;34m=\u001b[0m \u001b[0;36m7\u001b[0m\u001b[0;34m,\u001b[0m \u001b[0mrange\u001b[0m \u001b[0;34m=\u001b[0m \u001b[0;34m(\u001b[0m\u001b[0;36m1\u001b[0m\u001b[0;34m,\u001b[0m\u001b[0;36m7\u001b[0m\u001b[0;34m)\u001b[0m\u001b[0;34m,\u001b[0m \u001b[0mgrid\u001b[0m\u001b[0;34m=\u001b[0m\u001b[0;32mTrue\u001b[0m\u001b[0;34m,\u001b[0m \u001b[0mfigsize\u001b[0m \u001b[0;34m=\u001b[0m \u001b[0;34m(\u001b[0m\u001b[0;36m5\u001b[0m\u001b[0;34m,\u001b[0m\u001b[0;36m5\u001b[0m\u001b[0;34m)\u001b[0m\u001b[0;34m)\u001b[0m\u001b[0;34m\u001b[0m\u001b[0;34m\u001b[0m\u001b[0m\n\u001b[0m\u001b[1;32m      3\u001b[0m \u001b[0mdata\u001b[0m\u001b[0;34m.\u001b[0m\u001b[0mplot\u001b[0m\u001b[0;34m(\u001b[0m\u001b[0my\u001b[0m \u001b[0;34m=\u001b[0m \u001b[0;34m'month_exposition'\u001b[0m\u001b[0;34m,\u001b[0m \u001b[0mkind\u001b[0m \u001b[0;34m=\u001b[0m \u001b[0;34m'hist'\u001b[0m\u001b[0;34m,\u001b[0m \u001b[0mbins\u001b[0m \u001b[0;34m=\u001b[0m \u001b[0;36m15\u001b[0m\u001b[0;34m,\u001b[0m \u001b[0mrange\u001b[0m \u001b[0;34m=\u001b[0m \u001b[0;34m(\u001b[0m\u001b[0;36m1\u001b[0m\u001b[0;34m,\u001b[0m\u001b[0;36m12\u001b[0m\u001b[0;34m)\u001b[0m\u001b[0;34m,\u001b[0m \u001b[0mgrid\u001b[0m\u001b[0;34m=\u001b[0m\u001b[0;32mTrue\u001b[0m\u001b[0;34m,\u001b[0m \u001b[0mfigsize\u001b[0m \u001b[0;34m=\u001b[0m \u001b[0;34m(\u001b[0m\u001b[0;36m5\u001b[0m\u001b[0;34m,\u001b[0m\u001b[0;36m5\u001b[0m\u001b[0;34m)\u001b[0m\u001b[0;34m)\u001b[0m\u001b[0;34m\u001b[0m\u001b[0;34m\u001b[0m\u001b[0m\n",
      "\u001b[0;31mNameError\u001b[0m: name 'data' is not defined"
     ]
    }
   ],
   "source": [
    "#А что у нас с датой публикации\n",
    "data.plot(y = 'weekday_exposition', kind = 'hist', bins = 7, range = (1,7), grid=True, figsize = (5,5))\n",
    "data.plot(y = 'month_exposition', kind = 'hist', bins = 15, range = (1,12), grid=True, figsize = (5,5))"
   ]
  },
  {
   "cell_type": "markdown",
   "metadata": {},
   "source": [
    "Тут мы видим что самые активные продавцы в начали недели и в начале месяца, но есть один момент. С 15го числа квартиры не продавались, возможно у нас есть не все данные "
   ]
  },
  {
   "cell_type": "code",
   "execution_count": 22,
   "metadata": {
    "scrolled": true
   },
   "outputs": [
    {
     "name": "stdout",
     "output_type": "stream",
     "text": [
      "Index(['total_images', 'last_price', 'total_area', 'first_day_exposition',\n",
      "       'rooms', 'ceiling_height', 'floors_total', 'living_area', 'floor',\n",
      "       'is_apartment', 'studio', 'open_plan', 'kitchen_area', 'balcony',\n",
      "       'locality_name', 'airports_nearest', 'cityCenters_nearest',\n",
      "       'parks_around3000', 'parks_nearest', 'ponds_around3000',\n",
      "       'ponds_nearest', 'days_exposition', 'price_per_square_meter',\n",
      "       'weekday_exposition', 'month_exposition', 'year_exposition',\n",
      "       'floor_category', 'useful_area_ratio', 'kitchen_area_ratio'],\n",
      "      dtype='object')\n"
     ]
    },
    {
     "data": {
      "text/plain": [
       "45      878\n",
       "60      535\n",
       "7       231\n",
       "30      202\n",
       "4       171\n",
       "       ... \n",
       "837       1\n",
       "885       1\n",
       "933       1\n",
       "1045      1\n",
       "1391      1\n",
       "Name: days_exposition, Length: 1105, dtype: int64"
      ]
     },
     "execution_count": 22,
     "metadata": {},
     "output_type": "execute_result"
    },
    {
     "data": {
      "image/png": "[encoded data removed]",
      "text/plain": [
       "<Figure size 432x288 with 1 Axes>"
      ]
     },
     "metadata": {
      "needs_background": "light"
     },
     "output_type": "display_data"
    },
    {
     "data": {
      "image/png": "[encoded data removed]",
      "text/plain": [
       "<Figure size 432x288 with 1 Axes>"
      ]
     },
     "metadata": {
      "needs_background": "light"
     },
     "output_type": "display_data"
    },
    {
     "data": {
      "image/png": "[encoded data removed]",
      "text/plain": [
       "<Figure size 432x288 with 1 Axes>"
      ]
     },
     "metadata": {
      "needs_background": "light"
     },
     "output_type": "display_data"
    }
   ],
   "source": [
    "print(data.columns)\n",
    "\n",
    "#диаграмма размаха\n",
    "import matplotlib.pyplot as plt\n",
    "plt.boxplot(data[data['days_exposition']!=0]['days_exposition'])\n",
    "plt.ylim(1,1000)\n",
    "\n",
    "data.plot(y = 'days_exposition', kind = 'hist', bins = 30, grid = True, range = (1,1600))\n",
    "data.plot(y = 'days_exposition', kind = 'hist', bins = 100, grid = True, range = (1,200))\n",
    "\n",
    "#среднее значение, медиана и межквартильный размах\n",
    "data[data['days_exposition']!=0]['days_exposition'].describe()\n",
    "data[data['days_exposition']!=0]['days_exposition'].value_counts()\n"
   ]
  },
  {
   "cell_type": "markdown",
   "metadata": {},
   "source": [
    "Судя по гистограмме - мы имеем распределение Пуассона. Среднее значение - 180 дней, а медиана - 95 дней. Сделав гистограмму со значениями от 0 до 200 с кол-вом корзин 100, обнаружили выбивающиеся значения и методом value_counts убедились в этом - у нас аномалии на 45, 60, 7, 30, 90 днях - это наиболее популярное количество дней до снятия объявления."
   ]
  },
  {
   "cell_type": "markdown",
   "metadata": {},
   "source": [
    "Изучим зависимость цены квадратного метра от общей площади квартиры."
   ]
  },
  {
   "cell_type": "code",
   "execution_count": 23,
   "metadata": {
    "scrolled": true
   },
   "outputs": [
    {
     "data": {
      "text/plain": [
       "0.07122123809126231"
      ]
     },
     "execution_count": 23,
     "metadata": {},
     "output_type": "execute_result"
    },
    {
     "data": {
      "image/png": "[encoded data removed]",
      "text/plain": [
       "<Figure size 432x288 with 1 Axes>"
      ]
     },
     "metadata": {
      "needs_background": "light"
     },
     "output_type": "display_data"
    }
   ],
   "source": [
    "pivot_table_total_area = data.pivot_table(index = 'total_area', values = 'price_per_square_meter', aggfunc = ['mean', 'count', 'median'])\n",
    "pivot_table_total_area.columns = ['mean', 'count', 'median']\n",
    "pivot_table_total_area.plot(y = 'median', style = 'o')\n",
    "\n",
    "pivot_table_total_area.sort_values('median', ascending = False)\n",
    "\n",
    "data['total_area'].corr(data['price_per_square_meter'])"
   ]
  },
  {
   "cell_type": "markdown",
   "metadata": {},
   "source": [
    "Видим что зависимость очень слабая чем больше площадь тем немного выше стоимость. А что по комнатам "
   ]
  },
  {
   "cell_type": "code",
   "execution_count": 24,
   "metadata": {},
   "outputs": [
    {
     "data": {
      "text/plain": [
       "-0.13809928624350162"
      ]
     },
     "execution_count": 24,
     "metadata": {},
     "output_type": "execute_result"
    },
    {
     "data": {
      "image/png": "[encoded data removed]",
      "text/plain": [
       "<Figure size 432x288 with 1 Axes>"
      ]
     },
     "metadata": {
      "needs_background": "light"
     },
     "output_type": "display_data"
    }
   ],
   "source": [
    "pivot_table_rooms = data.pivot_table(index = 'rooms', values = 'price_per_square_meter', aggfunc = ['mean', 'count', 'median'])\n",
    "pivot_table_rooms.columns = ['mean', 'count', 'median']\n",
    "pivot_table_rooms.query('count > 50').plot(y = 'median')\n",
    "\n",
    "pivot_table_rooms.query('count > 50').sort_values('median', ascending = False)\n",
    "\n",
    "data['rooms'].corr(data['price_per_square_meter'])"
   ]
  },
  {
   "cell_type": "markdown",
   "metadata": {},
   "source": [
    "По графику видно что выгодней всего купить трешку, студии и однушки самый дорогие за метр площади. Теперь посмотрим этажи"
   ]
  },
  {
   "cell_type": "code",
   "execution_count": 25,
   "metadata": {
    "scrolled": true
   },
   "outputs": [
    {
     "data": {
      "text/html": [
       "<div>\n",
       "<style scoped>\n",
       "    .dataframe tbody tr th:only-of-type {\n",
       "        vertical-align: middle;\n",
       "    }\n",
       "\n",
       "    .dataframe tbody tr th {\n",
       "        vertical-align: top;\n",
       "    }\n",
       "\n",
       "    .dataframe thead th {\n",
       "        text-align: right;\n",
       "    }\n",
       "</style>\n",
       "<table border=\"1\" class=\"dataframe\">\n",
       "  <thead>\n",
       "    <tr style=\"text-align: right;\">\n",
       "      <th></th>\n",
       "      <th>mean</th>\n",
       "      <th>count</th>\n",
       "      <th>median</th>\n",
       "    </tr>\n",
       "    <tr>\n",
       "      <th>floor_category</th>\n",
       "      <th></th>\n",
       "      <th></th>\n",
       "      <th></th>\n",
       "    </tr>\n",
       "  </thead>\n",
       "  <tbody>\n",
       "    <tr>\n",
       "      <th>другой</th>\n",
       "      <td>98897.388859</td>\n",
       "      <td>16461</td>\n",
       "      <td>97364.0</td>\n",
       "    </tr>\n",
       "    <tr>\n",
       "      <th>первый</th>\n",
       "      <td>79895.405434</td>\n",
       "      <td>2834</td>\n",
       "      <td>80823.5</td>\n",
       "    </tr>\n",
       "    <tr>\n",
       "      <th>последний</th>\n",
       "      <td>86480.057531</td>\n",
       "      <td>3094</td>\n",
       "      <td>86138.0</td>\n",
       "    </tr>\n",
       "  </tbody>\n",
       "</table>\n",
       "</div>"
      ],
      "text/plain": [
       "                        mean  count   median\n",
       "floor_category                              \n",
       "другой          98897.388859  16461  97364.0\n",
       "первый          79895.405434   2834  80823.5\n",
       "последний       86480.057531   3094  86138.0"
      ]
     },
     "execution_count": 25,
     "metadata": {},
     "output_type": "execute_result"
    },
    {
     "data": {
      "image/png": "[encoded data removed]",
      "text/plain": [
       "<Figure size 432x288 with 1 Axes>"
      ]
     },
     "metadata": {
      "needs_background": "light"
     },
     "output_type": "display_data"
    }
   ],
   "source": [
    "pivot_table_floor_category = data.pivot_table(index = 'floor_category', values = 'price_per_square_meter', aggfunc = ['mean', 'count', 'median'])\n",
    "pivot_table_floor_category.columns = ['mean', 'count', 'median']\n",
    "pivot_table_floor_category.plot(y = 'median')\n",
    "pivot_table_floor_category"
   ]
  },
  {
   "cell_type": "markdown",
   "metadata": {},
   "source": [
    "Поправил график, тут мы видим что квартиры на первом этаже дешевле всех, так же на последнм этаже не самый популярный вариант. Квартиры не на первом и не на последнем самый дорогие и популярные "
   ]
  },
  {
   "cell_type": "markdown",
   "metadata": {},
   "source": [
    "Тут мы видим что чем выше квартира, тем дороже. Посмотрим по отдалению от центра"
   ]
  },
  {
   "cell_type": "code",
   "execution_count": 26,
   "metadata": {
    "scrolled": false
   },
   "outputs": [
    {
     "data": {
      "text/plain": [
       "-0.40080171971787665"
      ]
     },
     "execution_count": 26,
     "metadata": {},
     "output_type": "execute_result"
    },
    {
     "data": {
      "image/png": "[encoded data removed]",
      "text/plain": [
       "<Figure size 432x288 with 1 Axes>"
      ]
     },
     "metadata": {
      "needs_background": "light"
     },
     "output_type": "display_data"
    }
   ],
   "source": [
    "data.plot(kind = 'scatter', y = 'price_per_square_meter', x = 'cityCenters_nearest', alpha = 0.3)\n",
    "\n",
    "data['cityCenters_nearest'].corr(data['price_per_square_meter'])"
   ]
  },
  {
   "cell_type": "markdown",
   "metadata": {},
   "source": [
    "Ну не медрено что в центре жилье дороже, видим явную зависимость стоимости квадратного метра от близости к центру"
   ]
  },
  {
   "cell_type": "markdown",
   "metadata": {},
   "source": [
    "Посмотрим зависимость от дня недели и месяца и года "
   ]
  },
  {
   "cell_type": "code",
   "execution_count": 27,
   "metadata": {
    "scrolled": true
   },
   "outputs": [
    {
     "data": {
      "text/html": [
       "<div>\n",
       "<style scoped>\n",
       "    .dataframe tbody tr th:only-of-type {\n",
       "        vertical-align: middle;\n",
       "    }\n",
       "\n",
       "    .dataframe tbody tr th {\n",
       "        vertical-align: top;\n",
       "    }\n",
       "\n",
       "    .dataframe thead th {\n",
       "        text-align: right;\n",
       "    }\n",
       "</style>\n",
       "<table border=\"1\" class=\"dataframe\">\n",
       "  <thead>\n",
       "    <tr style=\"text-align: right;\">\n",
       "      <th></th>\n",
       "      <th>mean</th>\n",
       "      <th>count</th>\n",
       "      <th>median</th>\n",
       "    </tr>\n",
       "    <tr>\n",
       "      <th>weekday_exposition</th>\n",
       "      <th></th>\n",
       "      <th></th>\n",
       "      <th></th>\n",
       "    </tr>\n",
       "  </thead>\n",
       "  <tbody>\n",
       "    <tr>\n",
       "      <th>1</th>\n",
       "      <td>95417.548468</td>\n",
       "      <td>3982</td>\n",
       "      <td>94911.0</td>\n",
       "    </tr>\n",
       "    <tr>\n",
       "      <th>2</th>\n",
       "      <td>95551.132925</td>\n",
       "      <td>3754</td>\n",
       "      <td>94728.0</td>\n",
       "    </tr>\n",
       "    <tr>\n",
       "      <th>0</th>\n",
       "      <td>94674.952339</td>\n",
       "      <td>3420</td>\n",
       "      <td>93750.0</td>\n",
       "    </tr>\n",
       "    <tr>\n",
       "      <th>3</th>\n",
       "      <td>94670.975143</td>\n",
       "      <td>4023</td>\n",
       "      <td>93750.0</td>\n",
       "    </tr>\n",
       "    <tr>\n",
       "      <th>4</th>\n",
       "      <td>94839.485969</td>\n",
       "      <td>3813</td>\n",
       "      <td>93750.0</td>\n",
       "    </tr>\n",
       "    <tr>\n",
       "      <th>6</th>\n",
       "      <td>93928.342170</td>\n",
       "      <td>1622</td>\n",
       "      <td>93717.0</td>\n",
       "    </tr>\n",
       "    <tr>\n",
       "      <th>5</th>\n",
       "      <td>93323.901294</td>\n",
       "      <td>1854</td>\n",
       "      <td>92509.5</td>\n",
       "    </tr>\n",
       "  </tbody>\n",
       "</table>\n",
       "</div>"
      ],
      "text/plain": [
       "                            mean  count   median\n",
       "weekday_exposition                              \n",
       "1                   95417.548468   3982  94911.0\n",
       "2                   95551.132925   3754  94728.0\n",
       "0                   94674.952339   3420  93750.0\n",
       "3                   94670.975143   4023  93750.0\n",
       "4                   94839.485969   3813  93750.0\n",
       "6                   93928.342170   1622  93717.0\n",
       "5                   93323.901294   1854  92509.5"
      ]
     },
     "execution_count": 27,
     "metadata": {},
     "output_type": "execute_result"
    },
    {
     "data": {
      "image/png": "[encoded data removed]",
      "text/plain": [
       "<Figure size 432x288 with 1 Axes>"
      ]
     },
     "metadata": {
      "needs_background": "light"
     },
     "output_type": "display_data"
    }
   ],
   "source": [
    "pivot_table_weekday_exposition = data.pivot_table(index = 'weekday_exposition', values = 'price_per_square_meter', aggfunc = ['mean', 'count', 'median'])\n",
    "pivot_table_weekday_exposition.columns = ['mean', 'count', 'median']\n",
    "pivot_table_weekday_exposition.plot(y = 'median')\n",
    "\n",
    "pivot_table_weekday_exposition.sort_values('median', ascending = False)"
   ]
  },
  {
   "cell_type": "markdown",
   "metadata": {},
   "source": [
    "видим, что чем ближе ко вторнику выставлены объявления тем в среднем выше стоимость а по субботам стоимость самая низкая"
   ]
  },
  {
   "cell_type": "code",
   "execution_count": 28,
   "metadata": {
    "scrolled": true
   },
   "outputs": [
    {
     "data": {
      "text/html": [
       "<div>\n",
       "<style scoped>\n",
       "    .dataframe tbody tr th:only-of-type {\n",
       "        vertical-align: middle;\n",
       "    }\n",
       "\n",
       "    .dataframe tbody tr th {\n",
       "        vertical-align: top;\n",
       "    }\n",
       "\n",
       "    .dataframe thead th {\n",
       "        text-align: right;\n",
       "    }\n",
       "</style>\n",
       "<table border=\"1\" class=\"dataframe\">\n",
       "  <thead>\n",
       "    <tr style=\"text-align: right;\">\n",
       "      <th></th>\n",
       "      <th>mean</th>\n",
       "      <th>count</th>\n",
       "      <th>median</th>\n",
       "    </tr>\n",
       "    <tr>\n",
       "      <th>month_exposition</th>\n",
       "      <th></th>\n",
       "      <th></th>\n",
       "      <th></th>\n",
       "    </tr>\n",
       "  </thead>\n",
       "  <tbody>\n",
       "    <tr>\n",
       "      <th>4</th>\n",
       "      <td>96638.889771</td>\n",
       "      <td>2268</td>\n",
       "      <td>95555.0</td>\n",
       "    </tr>\n",
       "    <tr>\n",
       "      <th>8</th>\n",
       "      <td>95701.209736</td>\n",
       "      <td>1664</td>\n",
       "      <td>95168.5</td>\n",
       "    </tr>\n",
       "    <tr>\n",
       "      <th>9</th>\n",
       "      <td>96320.807344</td>\n",
       "      <td>1879</td>\n",
       "      <td>94896.0</td>\n",
       "    </tr>\n",
       "    <tr>\n",
       "      <th>1</th>\n",
       "      <td>95078.125529</td>\n",
       "      <td>1418</td>\n",
       "      <td>94444.0</td>\n",
       "    </tr>\n",
       "    <tr>\n",
       "      <th>11</th>\n",
       "      <td>95151.388765</td>\n",
       "      <td>2243</td>\n",
       "      <td>94390.0</td>\n",
       "    </tr>\n",
       "    <tr>\n",
       "      <th>3</th>\n",
       "      <td>95041.466071</td>\n",
       "      <td>2461</td>\n",
       "      <td>94322.0</td>\n",
       "    </tr>\n",
       "    <tr>\n",
       "      <th>2</th>\n",
       "      <td>94148.111244</td>\n",
       "      <td>2499</td>\n",
       "      <td>94130.0</td>\n",
       "    </tr>\n",
       "    <tr>\n",
       "      <th>7</th>\n",
       "      <td>94821.557367</td>\n",
       "      <td>1595</td>\n",
       "      <td>93797.0</td>\n",
       "    </tr>\n",
       "    <tr>\n",
       "      <th>10</th>\n",
       "      <td>94231.911417</td>\n",
       "      <td>2032</td>\n",
       "      <td>93333.0</td>\n",
       "    </tr>\n",
       "    <tr>\n",
       "      <th>12</th>\n",
       "      <td>93394.533937</td>\n",
       "      <td>1547</td>\n",
       "      <td>92857.0</td>\n",
       "    </tr>\n",
       "    <tr>\n",
       "      <th>5</th>\n",
       "      <td>94169.760833</td>\n",
       "      <td>1200</td>\n",
       "      <td>92000.0</td>\n",
       "    </tr>\n",
       "    <tr>\n",
       "      <th>6</th>\n",
       "      <td>92217.041516</td>\n",
       "      <td>1662</td>\n",
       "      <td>91851.0</td>\n",
       "    </tr>\n",
       "  </tbody>\n",
       "</table>\n",
       "</div>"
      ],
      "text/plain": [
       "                          mean  count   median\n",
       "month_exposition                              \n",
       "4                 96638.889771   2268  95555.0\n",
       "8                 95701.209736   1664  95168.5\n",
       "9                 96320.807344   1879  94896.0\n",
       "1                 95078.125529   1418  94444.0\n",
       "11                95151.388765   2243  94390.0\n",
       "3                 95041.466071   2461  94322.0\n",
       "2                 94148.111244   2499  94130.0\n",
       "7                 94821.557367   1595  93797.0\n",
       "10                94231.911417   2032  93333.0\n",
       "12                93394.533937   1547  92857.0\n",
       "5                 94169.760833   1200  92000.0\n",
       "6                 92217.041516   1662  91851.0"
      ]
     },
     "execution_count": 28,
     "metadata": {},
     "output_type": "execute_result"
    },
    {
     "data": {
      "image/png": "[encoded data removed]",
      "text/plain": [
       "<Figure size 432x288 with 1 Axes>"
      ]
     },
     "metadata": {
      "needs_background": "light"
     },
     "output_type": "display_data"
    }
   ],
   "source": [
    "pivot_table_month_exposition = data.pivot_table(index = 'month_exposition', values = 'price_per_square_meter', aggfunc = ['mean', 'count', 'median'])\n",
    "pivot_table_month_exposition.columns = ['mean', 'count', 'median']\n",
    "pivot_table_month_exposition.plot(y = 'median')\n",
    "\n",
    "pivot_table_month_exposition.sort_values('median', ascending = False)"
   ]
  },
  {
   "cell_type": "markdown",
   "metadata": {},
   "source": [
    "самая высокая стоимость метра в апреле и августе, самая низкая стоимость в мае и июне"
   ]
  },
  {
   "cell_type": "code",
   "execution_count": 29,
   "metadata": {},
   "outputs": [
    {
     "data": {
      "text/html": [
       "<div>\n",
       "<style scoped>\n",
       "    .dataframe tbody tr th:only-of-type {\n",
       "        vertical-align: middle;\n",
       "    }\n",
       "\n",
       "    .dataframe tbody tr th {\n",
       "        vertical-align: top;\n",
       "    }\n",
       "\n",
       "    .dataframe thead th {\n",
       "        text-align: right;\n",
       "    }\n",
       "</style>\n",
       "<table border=\"1\" class=\"dataframe\">\n",
       "  <thead>\n",
       "    <tr style=\"text-align: right;\">\n",
       "      <th></th>\n",
       "      <th>mean</th>\n",
       "      <th>count</th>\n",
       "      <th>median</th>\n",
       "    </tr>\n",
       "    <tr>\n",
       "      <th>year_exposition</th>\n",
       "      <th></th>\n",
       "      <th></th>\n",
       "      <th></th>\n",
       "    </tr>\n",
       "  </thead>\n",
       "  <tbody>\n",
       "    <tr>\n",
       "      <th>2014</th>\n",
       "      <td>106015.094340</td>\n",
       "      <td>106</td>\n",
       "      <td>103950.0</td>\n",
       "    </tr>\n",
       "    <tr>\n",
       "      <th>2019</th>\n",
       "      <td>102184.214964</td>\n",
       "      <td>2740</td>\n",
       "      <td>102578.5</td>\n",
       "    </tr>\n",
       "    <tr>\n",
       "      <th>2018</th>\n",
       "      <td>94761.516011</td>\n",
       "      <td>8182</td>\n",
       "      <td>95000.0</td>\n",
       "    </tr>\n",
       "    <tr>\n",
       "      <th>2015</th>\n",
       "      <td>95035.666978</td>\n",
       "      <td>1072</td>\n",
       "      <td>91672.5</td>\n",
       "    </tr>\n",
       "    <tr>\n",
       "      <th>2017</th>\n",
       "      <td>92849.483065</td>\n",
       "      <td>7765</td>\n",
       "      <td>91578.0</td>\n",
       "    </tr>\n",
       "    <tr>\n",
       "      <th>2016</th>\n",
       "      <td>92540.530542</td>\n",
       "      <td>2603</td>\n",
       "      <td>90845.0</td>\n",
       "    </tr>\n",
       "  </tbody>\n",
       "</table>\n",
       "</div>"
      ],
      "text/plain": [
       "                          mean  count    median\n",
       "year_exposition                                \n",
       "2014             106015.094340    106  103950.0\n",
       "2019             102184.214964   2740  102578.5\n",
       "2018              94761.516011   8182   95000.0\n",
       "2015              95035.666978   1072   91672.5\n",
       "2017              92849.483065   7765   91578.0\n",
       "2016              92540.530542   2603   90845.0"
      ]
     },
     "execution_count": 29,
     "metadata": {},
     "output_type": "execute_result"
    },
    {
     "data": {
      "image/png": "[encoded data removed]",
      "text/plain": [
       "<Figure size 432x288 with 1 Axes>"
      ]
     },
     "metadata": {
      "needs_background": "light"
     },
     "output_type": "display_data"
    }
   ],
   "source": [
    "pivot_table_year_exposition = data.pivot_table(index = 'year_exposition', values = 'price_per_square_meter', aggfunc = ['mean', 'count', 'median'])\n",
    "pivot_table_year_exposition.columns = ['mean', 'count', 'median']\n",
    "pivot_table_year_exposition.plot(y = 'median')\n",
    "\n",
    "pivot_table_year_exposition.sort_values('median', ascending = False)"
   ]
  },
  {
   "cell_type": "markdown",
   "metadata": {},
   "source": [
    "видим, что с 2014 до 2016 года цена падала, но далее начала увеличиваться! Мы не рассматриваем сегментацию рынка и по факту стоимость аналогичных квартир могла себя вести абсолютно иначе от года к году! В выводе присутствует реальный пример."
   ]
  },
  {
   "cell_type": "code",
   "execution_count": null,
   "metadata": {
    "scrolled": true
   },
   "outputs": [],
   "source": []
  },
  {
   "cell_type": "markdown",
   "metadata": {},
   "source": []
  },
  {
   "cell_type": "code",
   "execution_count": 30,
   "metadata": {},
   "outputs": [
    {
     "data": {
      "text/html": [
       "<div>\n",
       "<style scoped>\n",
       "    .dataframe tbody tr th:only-of-type {\n",
       "        vertical-align: middle;\n",
       "    }\n",
       "\n",
       "    .dataframe tbody tr th {\n",
       "        vertical-align: top;\n",
       "    }\n",
       "\n",
       "    .dataframe thead th {\n",
       "        text-align: right;\n",
       "    }\n",
       "</style>\n",
       "<table border=\"1\" class=\"dataframe\">\n",
       "  <thead>\n",
       "    <tr style=\"text-align: right;\">\n",
       "      <th></th>\n",
       "      <th>count</th>\n",
       "      <th>mean</th>\n",
       "    </tr>\n",
       "    <tr>\n",
       "      <th>locality_name</th>\n",
       "      <th></th>\n",
       "      <th></th>\n",
       "    </tr>\n",
       "  </thead>\n",
       "  <tbody>\n",
       "    <tr>\n",
       "      <th>Санкт-Петербург</th>\n",
       "      <td>14570</td>\n",
       "      <td>108958.307344</td>\n",
       "    </tr>\n",
       "  </tbody>\n",
       "</table>\n",
       "</div>"
      ],
      "text/plain": [
       "                 count           mean\n",
       "locality_name                        \n",
       "Санкт-Петербург  14570  108958.307344"
      ]
     },
     "execution_count": 30,
     "metadata": {},
     "output_type": "execute_result"
    }
   ],
   "source": [
    "locality_pivot_table = data.pivot_table(index = 'locality_name', values = 'price_per_square_meter', aggfunc=['count', 'mean'])\n",
    "locality_pivot_table.columns = ['count', 'mean']\n",
    "locality_pivot_table = locality_pivot_table.sort_values('count', ascending = False).head(10)\n",
    "locality_pivot_table\n",
    "#самая высокая стоимость\n",
    "locality_pivot_table[locality_pivot_table['mean']==locality_pivot_table['mean'].max()]"
   ]
  },
  {
   "cell_type": "code",
   "execution_count": 31,
   "metadata": {
    "scrolled": true
   },
   "outputs": [
    {
     "data": {
      "text/html": [
       "<div>\n",
       "<style scoped>\n",
       "    .dataframe tbody tr th:only-of-type {\n",
       "        vertical-align: middle;\n",
       "    }\n",
       "\n",
       "    .dataframe tbody tr th {\n",
       "        vertical-align: top;\n",
       "    }\n",
       "\n",
       "    .dataframe thead th {\n",
       "        text-align: right;\n",
       "    }\n",
       "</style>\n",
       "<table border=\"1\" class=\"dataframe\">\n",
       "  <thead>\n",
       "    <tr style=\"text-align: right;\">\n",
       "      <th></th>\n",
       "      <th>count</th>\n",
       "      <th>mean</th>\n",
       "    </tr>\n",
       "    <tr>\n",
       "      <th>locality_name</th>\n",
       "      <th></th>\n",
       "      <th></th>\n",
       "    </tr>\n",
       "  </thead>\n",
       "  <tbody>\n",
       "    <tr>\n",
       "      <th>Выборг</th>\n",
       "      <td>232</td>\n",
       "      <td>58229.310345</td>\n",
       "    </tr>\n",
       "  </tbody>\n",
       "</table>\n",
       "</div>"
      ],
      "text/plain": [
       "               count          mean\n",
       "locality_name                     \n",
       "Выборг           232  58229.310345"
      ]
     },
     "execution_count": 31,
     "metadata": {},
     "output_type": "execute_result"
    }
   ],
   "source": [
    "#самая низкая стоимость\n",
    "locality_pivot_table[locality_pivot_table['mean']==locality_pivot_table['mean'].min()]"
   ]
  },
  {
   "cell_type": "markdown",
   "metadata": {},
   "source": [
    "самая высокая стоимость жилья из 10 населённых пунктов с самым большим количеством объявлений в Санкт-Петербурге, тогда как самая низкая стоимость в Выборге."
   ]
  },
  {
   "cell_type": "code",
   "execution_count": 32,
   "metadata": {
    "scrolled": true
   },
   "outputs": [
    {
     "data": {
      "text/plain": [
       "<AxesSubplot:xlabel='cityCenters_nearest_km'>"
      ]
     },
     "execution_count": 32,
     "metadata": {},
     "output_type": "execute_result"
    },
    {
     "data": {
      "image/png": "[encoded data removed]",
      "text/plain": [
       "<Figure size 432x288 with 1 Axes>"
      ]
     },
     "metadata": {
      "needs_background": "light"
     },
     "output_type": "display_data"
    }
   ],
   "source": [
    "data['cityCenters_nearest_km'] = data['cityCenters_nearest']/1000\n",
    "data['cityCenters_nearest_km'] = data['cityCenters_nearest_km'].fillna(999999)\n",
    "data['cityCenters_nearest_km'] = data['cityCenters_nearest_km'].astype('int')\n",
    "pivot_table_km = data.query('locality_name == \"Санкт-Петербург\" and cityCenters_nearest_km !=999999').pivot_table(index = 'cityCenters_nearest_km', values = 'price_per_square_meter', aggfunc = 'mean')\n",
    "pivot_table_km.plot()"
   ]
  },
  {
   "cell_type": "markdown",
   "metadata": {},
   "source": [
    "Радиус тут не причем) Смотрел на youtube урок и добавил сюда))) \n",
    "Тут мы видим что чем дальше находиться квартира, тем она дороже стоит. Есть вылеты на 20км и 27км, возможно это ошибка в данных. Или просто дорогой ЖК там находиться \n",
    "\n"
   ]
  },
  {
   "cell_type": "markdown",
   "metadata": {},
   "source": [
    "### Общий вывод"
   ]
  },
  {
   "cell_type": "markdown",
   "metadata": {},
   "source": [
    "  Были обработаны данные, пропуски, заполнены пустые значания. Была добавлены стоимость за один метр площади. Так же вывел день месяц год и категории по этажам. \n",
    "  Были изучины следующие параметры на наличие выбивающихся значений - площадь, цена, число комнат, высота потолков. Были определены аномалии в данных параметрах.\n",
    "  Изучая время продажи квартир выявилось, что большое количество объявлений было автоматически снято с Яндекс Недвижимость и дату из снятия нельзя считать датой продажи квартиры, поэтому, изучая средние сроки продажи квартир - данные значения не учитывались. Было выявлено при помощи диаграммы размаха, что нормальные значения продажи квартир варьируются от 1 до 600 дней. На стоимость квадратного метра квартиры больше всего влияют количество комнат, этаж квартиры, близость к центру. Незначительно на стоимость квадратного метра влияют день, месяц, год размещения и общая площадь. "
   ]
  }
 ],
 "metadata": {
  "ExecuteTimeLog": [
   {
    "duration": 554,
    "start_time": "2022-07-03T12:27:00.321Z"
   },
   {
    "duration": 551,
    "start_time": "2022-07-03T12:30:18.071Z"
   },
   {
    "duration": 53,
    "start_time": "2022-07-03T14:34:22.528Z"
   },
   {
    "duration": 688,
    "start_time": "2022-07-03T14:34:31.100Z"
   },
   {
    "duration": 699,
    "start_time": "2022-07-03T14:34:47.593Z"
   },
   {
    "duration": 289,
    "start_time": "2022-07-03T14:35:19.360Z"
   },
   {
    "duration": 271,
    "start_time": "2022-07-03T14:36:23.517Z"
   },
   {
    "duration": 198,
    "start_time": "2022-07-03T14:36:31.672Z"
   },
   {
    "duration": 17,
    "start_time": "2022-07-03T14:39:13.108Z"
   },
   {
    "duration": 15,
    "start_time": "2022-07-03T14:39:15.803Z"
   },
   {
    "duration": 326,
    "start_time": "2022-07-03T14:39:19.135Z"
   },
   {
    "duration": 1100,
    "start_time": "2022-07-03T14:43:13.222Z"
   },
   {
    "duration": 1046,
    "start_time": "2022-07-03T14:43:24.910Z"
   },
   {
    "duration": 1115,
    "start_time": "2022-07-03T14:43:36.615Z"
   },
   {
    "duration": 431,
    "start_time": "2022-07-03T14:43:43.401Z"
   },
   {
    "duration": 206,
    "start_time": "2022-07-03T14:45:01.320Z"
   },
   {
    "duration": 999,
    "start_time": "2022-07-03T14:56:47.210Z"
   },
   {
    "duration": 1147,
    "start_time": "2022-07-03T14:56:56.127Z"
   },
   {
    "duration": 1044,
    "start_time": "2022-07-03T14:57:05.491Z"
   },
   {
    "duration": 1149,
    "start_time": "2022-07-03T14:57:13.654Z"
   },
   {
    "duration": 1025,
    "start_time": "2022-07-03T14:58:11.509Z"
   },
   {
    "duration": 1072,
    "start_time": "2022-07-03T14:58:30.510Z"
   },
   {
    "duration": 1007,
    "start_time": "2022-07-03T14:58:52.269Z"
   },
   {
    "duration": 1115,
    "start_time": "2022-07-03T14:59:14.748Z"
   },
   {
    "duration": 984,
    "start_time": "2022-07-03T14:59:27.955Z"
   },
   {
    "duration": 101,
    "start_time": "2022-07-03T14:59:47.847Z"
   },
   {
    "duration": 206,
    "start_time": "2022-07-03T14:59:53.686Z"
   },
   {
    "duration": 316,
    "start_time": "2022-07-03T14:59:59.315Z"
   },
   {
    "duration": 441,
    "start_time": "2022-07-03T15:00:13.307Z"
   },
   {
    "duration": 323,
    "start_time": "2022-07-03T15:00:36.326Z"
   },
   {
    "duration": 106,
    "start_time": "2022-07-03T15:01:00.462Z"
   },
   {
    "duration": 101,
    "start_time": "2022-07-03T15:01:17.581Z"
   },
   {
    "duration": 1009,
    "start_time": "2022-07-03T15:01:28.539Z"
   },
   {
    "duration": 1059,
    "start_time": "2022-07-03T15:01:48.434Z"
   },
   {
    "duration": 1003,
    "start_time": "2022-07-03T15:02:18.229Z"
   },
   {
    "duration": 1094,
    "start_time": "2022-07-03T15:02:30.407Z"
   },
   {
    "duration": 985,
    "start_time": "2022-07-03T15:02:42.047Z"
   },
   {
    "duration": 1055,
    "start_time": "2022-07-03T15:02:47.335Z"
   },
   {
    "duration": 979,
    "start_time": "2022-07-03T15:02:58.715Z"
   },
   {
    "duration": 1119,
    "start_time": "2022-07-03T15:03:09.409Z"
   },
   {
    "duration": 1034,
    "start_time": "2022-07-03T15:03:24.485Z"
   },
   {
    "duration": 1057,
    "start_time": "2022-07-03T15:03:58.898Z"
   },
   {
    "duration": 1149,
    "start_time": "2022-07-03T15:04:10.415Z"
   },
   {
    "duration": 1014,
    "start_time": "2022-07-03T15:04:22.601Z"
   },
   {
    "duration": 1131,
    "start_time": "2022-07-03T15:04:30.163Z"
   },
   {
    "duration": 217,
    "start_time": "2022-07-03T15:05:28.416Z"
   },
   {
    "duration": 111,
    "start_time": "2022-07-03T15:06:03.214Z"
   },
   {
    "duration": 204,
    "start_time": "2022-07-03T15:06:43.073Z"
   },
   {
    "duration": 1021,
    "start_time": "2022-07-03T15:07:21.626Z"
   },
   {
    "duration": 932,
    "start_time": "2022-07-03T15:44:31.448Z"
   },
   {
    "duration": 1041,
    "start_time": "2022-07-03T15:44:32.397Z"
   },
   {
    "duration": 495,
    "start_time": "2022-07-03T15:44:33.443Z"
   },
   {
    "duration": 1164,
    "start_time": "2022-07-03T15:44:33.943Z"
   },
   {
    "duration": 274,
    "start_time": "2022-07-03T15:51:57.698Z"
   },
   {
    "duration": 52,
    "start_time": "2022-07-03T15:56:58.901Z"
   },
   {
    "duration": 245,
    "start_time": "2022-07-03T16:03:47.854Z"
   },
   {
    "duration": 94,
    "start_time": "2022-07-03T16:32:35.748Z"
   },
   {
    "duration": 153,
    "start_time": "2022-07-03T16:40:54.500Z"
   },
   {
    "duration": 58,
    "start_time": "2022-07-03T18:39:03.242Z"
   },
   {
    "duration": 562,
    "start_time": "2022-07-03T18:39:09.210Z"
   },
   {
    "duration": 682,
    "start_time": "2022-07-03T18:39:15.200Z"
   },
   {
    "duration": 215,
    "start_time": "2022-07-03T18:39:34.775Z"
   },
   {
    "duration": 265,
    "start_time": "2022-07-03T18:39:49.841Z"
   },
   {
    "duration": 9,
    "start_time": "2022-07-03T18:40:42.100Z"
   },
   {
    "duration": 10,
    "start_time": "2022-07-03T18:40:54.812Z"
   },
   {
    "duration": 13,
    "start_time": "2022-07-03T18:42:01.942Z"
   },
   {
    "duration": 7,
    "start_time": "2022-07-03T18:42:44.594Z"
   },
   {
    "duration": 11,
    "start_time": "2022-07-03T18:48:28.068Z"
   },
   {
    "duration": 6,
    "start_time": "2022-07-03T18:48:42.507Z"
   },
   {
    "duration": 7,
    "start_time": "2022-07-03T18:49:06.683Z"
   },
   {
    "duration": 14,
    "start_time": "2022-07-03T18:50:54.874Z"
   },
   {
    "duration": 239,
    "start_time": "2022-07-03T18:51:42.650Z"
   },
   {
    "duration": 49,
    "start_time": "2022-07-04T15:32:30.033Z"
   },
   {
    "duration": 554,
    "start_time": "2022-07-04T15:32:39.043Z"
   },
   {
    "duration": 753,
    "start_time": "2022-07-04T15:32:45.641Z"
   },
   {
    "duration": 10,
    "start_time": "2022-07-04T15:32:52.903Z"
   },
   {
    "duration": 86,
    "start_time": "2022-07-04T16:01:02.509Z"
   },
   {
    "duration": 3,
    "start_time": "2022-07-04T16:01:36.953Z"
   },
   {
    "duration": 85,
    "start_time": "2022-07-04T16:01:39.428Z"
   },
   {
    "duration": 26,
    "start_time": "2022-07-04T16:19:13.751Z"
   },
   {
    "duration": 164,
    "start_time": "2022-07-04T16:19:17.618Z"
   },
   {
    "duration": 194,
    "start_time": "2022-07-04T16:21:30.688Z"
   },
   {
    "duration": 236,
    "start_time": "2022-07-04T16:21:53.512Z"
   },
   {
    "duration": 2,
    "start_time": "2022-07-04T16:22:02.325Z"
   },
   {
    "duration": 84,
    "start_time": "2022-07-04T16:22:03.100Z"
   },
   {
    "duration": 27,
    "start_time": "2022-07-04T16:22:07.382Z"
   },
   {
    "duration": 170,
    "start_time": "2022-07-04T16:29:44.751Z"
   },
   {
    "duration": 175,
    "start_time": "2022-07-04T16:30:00.759Z"
   },
   {
    "duration": 152,
    "start_time": "2022-07-04T16:37:26.150Z"
   },
   {
    "duration": 151,
    "start_time": "2022-07-04T16:37:48.310Z"
   },
   {
    "duration": 165,
    "start_time": "2022-07-04T16:37:59.859Z"
   },
   {
    "duration": 176,
    "start_time": "2022-07-04T16:38:55.975Z"
   },
   {
    "duration": 25,
    "start_time": "2022-07-04T16:40:06.113Z"
   },
   {
    "duration": 18,
    "start_time": "2022-07-04T16:40:22.455Z"
   },
   {
    "duration": 15,
    "start_time": "2022-07-04T16:40:29.550Z"
   },
   {
    "duration": 4,
    "start_time": "2022-07-04T16:40:41.248Z"
   },
   {
    "duration": 126,
    "start_time": "2022-07-04T16:40:41.792Z"
   },
   {
    "duration": 44,
    "start_time": "2022-07-04T16:40:45.058Z"
   },
   {
    "duration": 169,
    "start_time": "2022-07-04T16:40:53.868Z"
   },
   {
    "duration": 177,
    "start_time": "2022-07-04T16:41:00.923Z"
   },
   {
    "duration": 159,
    "start_time": "2022-07-04T16:41:09.431Z"
   },
   {
    "duration": 13,
    "start_time": "2022-07-04T16:41:34.395Z"
   },
   {
    "duration": 153,
    "start_time": "2022-07-04T16:44:59.079Z"
   },
   {
    "duration": 5,
    "start_time": "2022-07-04T16:49:00.834Z"
   },
   {
    "duration": 5,
    "start_time": "2022-07-04T16:49:19.956Z"
   },
   {
    "duration": 8,
    "start_time": "2022-07-04T16:54:00.181Z"
   },
   {
    "duration": 9,
    "start_time": "2022-07-04T16:54:04.125Z"
   },
   {
    "duration": 8,
    "start_time": "2022-07-04T16:54:20.304Z"
   },
   {
    "duration": 8,
    "start_time": "2022-07-04T16:54:25.779Z"
   },
   {
    "duration": 8,
    "start_time": "2022-07-04T16:54:54.739Z"
   },
   {
    "duration": 8,
    "start_time": "2022-07-04T16:55:06.463Z"
   },
   {
    "duration": 4,
    "start_time": "2022-07-04T16:58:48.062Z"
   },
   {
    "duration": 6,
    "start_time": "2022-07-04T16:58:54.560Z"
   },
   {
    "duration": 6,
    "start_time": "2022-07-04T16:58:59.342Z"
   },
   {
    "duration": 8,
    "start_time": "2022-07-04T16:59:05.385Z"
   },
   {
    "duration": 4,
    "start_time": "2022-07-04T16:59:08.612Z"
   },
   {
    "duration": 5,
    "start_time": "2022-07-04T16:59:12.221Z"
   },
   {
    "duration": 5,
    "start_time": "2022-07-04T16:59:33.397Z"
   },
   {
    "duration": 3,
    "start_time": "2022-07-04T16:59:39.157Z"
   },
   {
    "duration": 84,
    "start_time": "2022-07-04T16:59:39.949Z"
   },
   {
    "duration": 119,
    "start_time": "2022-07-04T16:59:45.158Z"
   },
   {
    "duration": 165,
    "start_time": "2022-07-04T16:59:46.862Z"
   },
   {
    "duration": 9,
    "start_time": "2022-07-04T16:59:52.118Z"
   },
   {
    "duration": 6,
    "start_time": "2022-07-04T17:00:02.599Z"
   },
   {
    "duration": 5,
    "start_time": "2022-07-04T17:00:19.018Z"
   },
   {
    "duration": 6,
    "start_time": "2022-07-04T17:00:31.367Z"
   },
   {
    "duration": 5,
    "start_time": "2022-07-04T17:00:50.981Z"
   },
   {
    "duration": 5,
    "start_time": "2022-07-04T17:00:54.096Z"
   },
   {
    "duration": 14,
    "start_time": "2022-07-04T17:00:57.230Z"
   },
   {
    "duration": 2,
    "start_time": "2022-07-04T17:01:02.197Z"
   },
   {
    "duration": 93,
    "start_time": "2022-07-04T17:01:03.432Z"
   },
   {
    "duration": 27,
    "start_time": "2022-07-04T17:01:06.256Z"
   },
   {
    "duration": 150,
    "start_time": "2022-07-04T17:01:07.057Z"
   },
   {
    "duration": 8,
    "start_time": "2022-07-04T17:01:12.979Z"
   },
   {
    "duration": 5,
    "start_time": "2022-07-04T17:01:16.177Z"
   },
   {
    "duration": 9,
    "start_time": "2022-07-04T17:02:04.798Z"
   },
   {
    "duration": 9,
    "start_time": "2022-07-04T17:02:20.683Z"
   },
   {
    "duration": 7,
    "start_time": "2022-07-04T17:02:26.605Z"
   },
   {
    "duration": 1691,
    "start_time": "2022-07-04T17:03:54.077Z"
   },
   {
    "duration": 9,
    "start_time": "2022-07-04T17:21:34.166Z"
   },
   {
    "duration": 40,
    "start_time": "2022-07-04T17:21:52.421Z"
   },
   {
    "duration": 16,
    "start_time": "2022-07-04T17:22:38.458Z"
   },
   {
    "duration": 16,
    "start_time": "2022-07-04T17:23:05.176Z"
   },
   {
    "duration": 2,
    "start_time": "2022-07-04T17:23:12.427Z"
   },
   {
    "duration": 82,
    "start_time": "2022-07-04T17:23:13.088Z"
   },
   {
    "duration": 23,
    "start_time": "2022-07-04T17:23:16.084Z"
   },
   {
    "duration": 149,
    "start_time": "2022-07-04T17:23:16.790Z"
   },
   {
    "duration": 9,
    "start_time": "2022-07-04T17:23:19.093Z"
   },
   {
    "duration": 1774,
    "start_time": "2022-07-04T17:23:22.595Z"
   },
   {
    "duration": 283,
    "start_time": "2022-07-04T17:23:30.101Z"
   },
   {
    "duration": 925,
    "start_time": "2022-07-04T17:23:34.135Z"
   },
   {
    "duration": 311,
    "start_time": "2022-07-04T17:23:37.709Z"
   },
   {
    "duration": 57,
    "start_time": "2022-07-04T17:23:55.175Z"
   },
   {
    "duration": 4,
    "start_time": "2022-07-04T17:25:22.103Z"
   },
   {
    "duration": 87,
    "start_time": "2022-07-04T17:25:22.620Z"
   },
   {
    "duration": 24,
    "start_time": "2022-07-04T17:25:24.991Z"
   },
   {
    "duration": 153,
    "start_time": "2022-07-04T17:25:25.561Z"
   },
   {
    "duration": 8,
    "start_time": "2022-07-04T17:25:27.097Z"
   },
   {
    "duration": 1768,
    "start_time": "2022-07-04T17:25:31.603Z"
   },
   {
    "duration": 276,
    "start_time": "2022-07-04T17:25:39.985Z"
   },
   {
    "duration": 1036,
    "start_time": "2022-07-04T17:25:44.475Z"
   },
   {
    "duration": 22,
    "start_time": "2022-07-04T17:26:11.304Z"
   },
   {
    "duration": 147,
    "start_time": "2022-07-04T17:28:14.275Z"
   },
   {
    "duration": 160,
    "start_time": "2022-07-04T17:30:23.610Z"
   },
   {
    "duration": 298,
    "start_time": "2022-07-04T17:32:02.514Z"
   },
   {
    "duration": 207,
    "start_time": "2022-07-04T17:33:02.599Z"
   },
   {
    "duration": 591,
    "start_time": "2022-07-04T17:36:30.636Z"
   },
   {
    "duration": 145,
    "start_time": "2022-07-04T17:39:12.539Z"
   },
   {
    "duration": 150,
    "start_time": "2022-07-04T17:39:42.419Z"
   },
   {
    "duration": 160,
    "start_time": "2022-07-04T17:40:14.904Z"
   },
   {
    "duration": 33,
    "start_time": "2022-07-04T17:41:22.211Z"
   },
   {
    "duration": 23,
    "start_time": "2022-07-04T17:42:02.711Z"
   },
   {
    "duration": 25,
    "start_time": "2022-07-04T17:42:06.034Z"
   },
   {
    "duration": 23,
    "start_time": "2022-07-04T17:42:17.686Z"
   },
   {
    "duration": 9,
    "start_time": "2022-07-04T17:42:20.356Z"
   },
   {
    "duration": 174,
    "start_time": "2022-07-04T17:42:55.074Z"
   },
   {
    "duration": 400,
    "start_time": "2022-07-05T04:34:04.480Z"
   },
   {
    "duration": 144,
    "start_time": "2022-07-05T04:34:04.882Z"
   },
   {
    "duration": 30,
    "start_time": "2022-07-05T04:34:05.027Z"
   },
   {
    "duration": 580,
    "start_time": "2022-07-05T04:34:05.059Z"
   },
   {
    "duration": 10,
    "start_time": "2022-07-05T04:34:05.642Z"
   },
   {
    "duration": 1929,
    "start_time": "2022-07-05T04:34:05.654Z"
   },
   {
    "duration": 369,
    "start_time": "2022-07-05T04:34:07.587Z"
   },
   {
    "duration": 1003,
    "start_time": "2022-07-05T04:34:07.958Z"
   },
   {
    "duration": 162,
    "start_time": "2022-07-05T04:34:08.963Z"
   },
   {
    "duration": 178,
    "start_time": "2022-07-05T04:34:09.127Z"
   },
   {
    "duration": 83,
    "start_time": "2022-07-05T04:34:09.306Z"
   },
   {
    "duration": 0,
    "start_time": "2022-07-05T04:34:09.391Z"
   },
   {
    "duration": 0,
    "start_time": "2022-07-05T04:34:09.392Z"
   },
   {
    "duration": 0,
    "start_time": "2022-07-05T04:34:09.394Z"
   },
   {
    "duration": 0,
    "start_time": "2022-07-05T04:34:09.396Z"
   },
   {
    "duration": 0,
    "start_time": "2022-07-05T04:34:09.397Z"
   },
   {
    "duration": 0,
    "start_time": "2022-07-05T04:34:09.398Z"
   },
   {
    "duration": 0,
    "start_time": "2022-07-05T04:34:09.400Z"
   },
   {
    "duration": 0,
    "start_time": "2022-07-05T04:34:09.401Z"
   },
   {
    "duration": 0,
    "start_time": "2022-07-05T04:34:09.402Z"
   },
   {
    "duration": 0,
    "start_time": "2022-07-05T04:34:09.404Z"
   },
   {
    "duration": 154,
    "start_time": "2022-07-05T04:35:07.209Z"
   },
   {
    "duration": 197,
    "start_time": "2022-07-05T04:35:10.000Z"
   },
   {
    "duration": 149,
    "start_time": "2022-07-05T04:35:13.055Z"
   },
   {
    "duration": 246,
    "start_time": "2022-07-05T04:35:17.863Z"
   },
   {
    "duration": 193,
    "start_time": "2022-07-05T04:35:22.655Z"
   },
   {
    "duration": 88,
    "start_time": "2022-07-05T04:35:29.215Z"
   },
   {
    "duration": 565,
    "start_time": "2022-07-05T04:35:33.039Z"
   },
   {
    "duration": 567,
    "start_time": "2022-07-05T04:35:39.432Z"
   },
   {
    "duration": 28,
    "start_time": "2022-07-05T04:35:44.807Z"
   },
   {
    "duration": 9,
    "start_time": "2022-07-05T04:35:51.470Z"
   },
   {
    "duration": 161,
    "start_time": "2022-07-05T04:35:55.335Z"
   },
   {
    "duration": 74,
    "start_time": "2022-07-05T04:36:59.608Z"
   },
   {
    "duration": 11,
    "start_time": "2022-07-05T04:37:17.399Z"
   },
   {
    "duration": 38,
    "start_time": "2022-07-05T04:52:48.926Z"
   },
   {
    "duration": 6,
    "start_time": "2022-07-05T04:53:01.238Z"
   },
   {
    "duration": 90,
    "start_time": "2022-07-05T04:53:13.574Z"
   },
   {
    "duration": 11,
    "start_time": "2022-07-05T04:53:51.550Z"
   },
   {
    "duration": 9,
    "start_time": "2022-07-05T04:54:54.629Z"
   },
   {
    "duration": 9,
    "start_time": "2022-07-05T04:55:20.023Z"
   },
   {
    "duration": 10,
    "start_time": "2022-07-05T04:55:50.221Z"
   },
   {
    "duration": 445,
    "start_time": "2022-07-05T04:56:09.449Z"
   },
   {
    "duration": 100,
    "start_time": "2022-07-05T04:56:09.896Z"
   },
   {
    "duration": 32,
    "start_time": "2022-07-05T04:56:09.997Z"
   },
   {
    "duration": 495,
    "start_time": "2022-07-05T04:56:10.031Z"
   },
   {
    "duration": 11,
    "start_time": "2022-07-05T04:56:10.529Z"
   },
   {
    "duration": 23,
    "start_time": "2022-07-05T04:56:10.542Z"
   },
   {
    "duration": 1784,
    "start_time": "2022-07-05T04:56:10.568Z"
   },
   {
    "duration": 339,
    "start_time": "2022-07-05T04:56:12.354Z"
   },
   {
    "duration": 1087,
    "start_time": "2022-07-05T04:56:12.697Z"
   },
   {
    "duration": 191,
    "start_time": "2022-07-05T04:56:13.786Z"
   },
   {
    "duration": 175,
    "start_time": "2022-07-05T04:56:13.979Z"
   },
   {
    "duration": 75,
    "start_time": "2022-07-05T04:56:14.156Z"
   },
   {
    "duration": 0,
    "start_time": "2022-07-05T04:56:14.233Z"
   },
   {
    "duration": 0,
    "start_time": "2022-07-05T04:56:14.234Z"
   },
   {
    "duration": 0,
    "start_time": "2022-07-05T04:56:14.235Z"
   },
   {
    "duration": 0,
    "start_time": "2022-07-05T04:56:14.237Z"
   },
   {
    "duration": 0,
    "start_time": "2022-07-05T04:56:14.239Z"
   },
   {
    "duration": 0,
    "start_time": "2022-07-05T04:56:14.240Z"
   },
   {
    "duration": 0,
    "start_time": "2022-07-05T04:56:14.242Z"
   },
   {
    "duration": 0,
    "start_time": "2022-07-05T04:56:14.243Z"
   },
   {
    "duration": 0,
    "start_time": "2022-07-05T04:56:14.245Z"
   },
   {
    "duration": 0,
    "start_time": "2022-07-05T04:56:14.246Z"
   },
   {
    "duration": 12,
    "start_time": "2022-07-05T04:56:35.485Z"
   },
   {
    "duration": 12,
    "start_time": "2022-07-05T04:56:52.158Z"
   },
   {
    "duration": 93,
    "start_time": "2022-07-05T04:57:24.156Z"
   },
   {
    "duration": 443,
    "start_time": "2022-07-05T04:57:31.133Z"
   },
   {
    "duration": 90,
    "start_time": "2022-07-05T04:57:31.578Z"
   },
   {
    "duration": 75,
    "start_time": "2022-07-05T04:57:31.674Z"
   },
   {
    "duration": 27,
    "start_time": "2022-07-05T04:57:31.764Z"
   },
   {
    "duration": 410,
    "start_time": "2022-07-05T04:57:31.792Z"
   },
   {
    "duration": 12,
    "start_time": "2022-07-05T04:57:32.203Z"
   },
   {
    "duration": 1844,
    "start_time": "2022-07-05T04:57:32.217Z"
   },
   {
    "duration": 301,
    "start_time": "2022-07-05T04:57:34.063Z"
   },
   {
    "duration": 1050,
    "start_time": "2022-07-05T04:57:34.366Z"
   },
   {
    "duration": 192,
    "start_time": "2022-07-05T04:57:35.418Z"
   },
   {
    "duration": 185,
    "start_time": "2022-07-05T04:57:35.611Z"
   },
   {
    "duration": 83,
    "start_time": "2022-07-05T04:57:35.798Z"
   },
   {
    "duration": 0,
    "start_time": "2022-07-05T04:57:35.882Z"
   },
   {
    "duration": 0,
    "start_time": "2022-07-05T04:57:35.884Z"
   },
   {
    "duration": 0,
    "start_time": "2022-07-05T04:57:35.885Z"
   },
   {
    "duration": 0,
    "start_time": "2022-07-05T04:57:35.886Z"
   },
   {
    "duration": 0,
    "start_time": "2022-07-05T04:57:35.888Z"
   },
   {
    "duration": 0,
    "start_time": "2022-07-05T04:57:35.889Z"
   },
   {
    "duration": 0,
    "start_time": "2022-07-05T04:57:35.890Z"
   },
   {
    "duration": 0,
    "start_time": "2022-07-05T04:57:35.892Z"
   },
   {
    "duration": 0,
    "start_time": "2022-07-05T04:57:35.893Z"
   },
   {
    "duration": 0,
    "start_time": "2022-07-05T04:57:35.895Z"
   },
   {
    "duration": 101,
    "start_time": "2022-07-05T05:07:59.485Z"
   },
   {
    "duration": 152,
    "start_time": "2022-07-05T05:11:28.581Z"
   },
   {
    "duration": 209,
    "start_time": "2022-07-05T05:11:32.096Z"
   },
   {
    "duration": 160,
    "start_time": "2022-07-05T05:11:35.279Z"
   },
   {
    "duration": 187,
    "start_time": "2022-07-05T05:11:37.911Z"
   },
   {
    "duration": 258,
    "start_time": "2022-07-05T05:11:40.888Z"
   },
   {
    "duration": 716,
    "start_time": "2022-07-05T05:11:49.631Z"
   },
   {
    "duration": 31,
    "start_time": "2022-07-05T05:12:05.254Z"
   },
   {
    "duration": 11,
    "start_time": "2022-07-05T05:12:08.822Z"
   },
   {
    "duration": 171,
    "start_time": "2022-07-05T05:12:12.246Z"
   },
   {
    "duration": 240,
    "start_time": "2022-07-05T05:18:17.437Z"
   },
   {
    "duration": 98,
    "start_time": "2022-07-05T05:20:43.130Z"
   },
   {
    "duration": 113,
    "start_time": "2022-07-05T05:20:55.002Z"
   },
   {
    "duration": 8,
    "start_time": "2022-07-05T05:25:06.400Z"
   },
   {
    "duration": 12,
    "start_time": "2022-07-05T05:25:40.061Z"
   },
   {
    "duration": 81,
    "start_time": "2022-07-05T07:03:08.192Z"
   },
   {
    "duration": 554,
    "start_time": "2022-07-05T07:03:19.512Z"
   },
   {
    "duration": 301,
    "start_time": "2022-07-05T07:03:20.236Z"
   },
   {
    "duration": 59,
    "start_time": "2022-07-05T07:03:24.582Z"
   },
   {
    "duration": 1097,
    "start_time": "2022-07-05T07:03:26.136Z"
   },
   {
    "duration": 18,
    "start_time": "2022-07-05T07:03:29.695Z"
   },
   {
    "duration": 3510,
    "start_time": "2022-07-05T07:03:38.020Z"
   },
   {
    "duration": 641,
    "start_time": "2022-07-05T07:04:00.488Z"
   },
   {
    "duration": 1260,
    "start_time": "2022-07-05T07:04:10.128Z"
   },
   {
    "duration": 320,
    "start_time": "2022-07-05T07:04:49.633Z"
   },
   {
    "duration": 52,
    "start_time": "2022-07-05T08:28:57.500Z"
   },
   {
    "duration": 530,
    "start_time": "2022-07-05T08:29:05.960Z"
   },
   {
    "duration": 206,
    "start_time": "2022-07-05T08:29:06.839Z"
   },
   {
    "duration": 36,
    "start_time": "2022-07-05T08:29:10.263Z"
   },
   {
    "duration": 625,
    "start_time": "2022-07-05T08:29:12.279Z"
   },
   {
    "duration": 20,
    "start_time": "2022-07-05T08:29:18.953Z"
   },
   {
    "duration": 1923,
    "start_time": "2022-07-05T08:29:22.787Z"
   },
   {
    "duration": 402,
    "start_time": "2022-07-05T08:29:30.425Z"
   },
   {
    "duration": 1263,
    "start_time": "2022-07-05T08:29:36.282Z"
   },
   {
    "duration": 53,
    "start_time": "2022-07-05T15:49:06.128Z"
   },
   {
    "duration": 499,
    "start_time": "2022-07-05T15:49:15.810Z"
   },
   {
    "duration": 168,
    "start_time": "2022-07-05T15:49:16.873Z"
   },
   {
    "duration": 13,
    "start_time": "2022-07-05T15:49:31.861Z"
   },
   {
    "duration": 5,
    "start_time": "2022-07-05T15:49:41.595Z"
   },
   {
    "duration": 7,
    "start_time": "2022-07-05T15:49:45.473Z"
   },
   {
    "duration": 6,
    "start_time": "2022-07-05T15:49:54.440Z"
   },
   {
    "duration": 4,
    "start_time": "2022-07-05T15:50:10.165Z"
   },
   {
    "duration": 5,
    "start_time": "2022-07-05T15:50:52.993Z"
   },
   {
    "duration": 6,
    "start_time": "2022-07-05T15:52:19.187Z"
   },
   {
    "duration": 5,
    "start_time": "2022-07-05T15:52:37.792Z"
   },
   {
    "duration": 5,
    "start_time": "2022-07-05T15:53:18.433Z"
   },
   {
    "duration": 6,
    "start_time": "2022-07-05T15:53:40.825Z"
   },
   {
    "duration": 12,
    "start_time": "2022-07-05T15:54:32.113Z"
   },
   {
    "duration": 9,
    "start_time": "2022-07-05T15:54:57.156Z"
   },
   {
    "duration": 16,
    "start_time": "2022-07-05T15:55:38.943Z"
   },
   {
    "duration": 10,
    "start_time": "2022-07-05T15:55:52.867Z"
   },
   {
    "duration": 9,
    "start_time": "2022-07-05T15:56:22.390Z"
   },
   {
    "duration": 10,
    "start_time": "2022-07-05T15:58:46.036Z"
   },
   {
    "duration": 16,
    "start_time": "2022-07-05T15:58:55.080Z"
   },
   {
    "duration": 18,
    "start_time": "2022-07-05T15:59:06.264Z"
   },
   {
    "duration": 19,
    "start_time": "2022-07-05T15:59:12.935Z"
   },
   {
    "duration": 10,
    "start_time": "2022-07-05T15:59:20.352Z"
   },
   {
    "duration": 1462,
    "start_time": "2022-07-05T16:05:16.696Z"
   },
   {
    "duration": 291,
    "start_time": "2022-07-05T16:05:36.387Z"
   },
   {
    "duration": 330,
    "start_time": "2022-07-05T16:05:58.019Z"
   },
   {
    "duration": 301,
    "start_time": "2022-07-05T16:07:59.840Z"
   },
   {
    "duration": 303,
    "start_time": "2022-07-05T16:08:07.013Z"
   },
   {
    "duration": 185,
    "start_time": "2022-07-05T16:08:16.740Z"
   },
   {
    "duration": 838,
    "start_time": "2022-07-05T16:10:16.693Z"
   },
   {
    "duration": 116,
    "start_time": "2022-07-05T16:10:37.847Z"
   },
   {
    "duration": 3,
    "start_time": "2022-07-05T16:10:48.521Z"
   },
   {
    "duration": 108,
    "start_time": "2022-07-05T16:10:49.183Z"
   },
   {
    "duration": 30,
    "start_time": "2022-07-05T16:10:52.472Z"
   },
   {
    "duration": 175,
    "start_time": "2022-07-05T16:10:53.385Z"
   },
   {
    "duration": 10,
    "start_time": "2022-07-05T16:10:55.217Z"
   },
   {
    "duration": 1835,
    "start_time": "2022-07-05T16:10:57.434Z"
   },
   {
    "duration": 10,
    "start_time": "2022-07-05T16:10:59.623Z"
   },
   {
    "duration": 9,
    "start_time": "2022-07-05T16:11:00.502Z"
   },
   {
    "duration": 14,
    "start_time": "2022-07-05T16:11:02.691Z"
   },
   {
    "duration": 9,
    "start_time": "2022-07-05T16:11:03.473Z"
   },
   {
    "duration": 298,
    "start_time": "2022-07-05T16:11:07.237Z"
   },
   {
    "duration": 17,
    "start_time": "2022-07-05T16:11:15.469Z"
   },
   {
    "duration": 20,
    "start_time": "2022-07-05T16:11:29.517Z"
   },
   {
    "duration": 158,
    "start_time": "2022-07-05T16:12:29.531Z"
   },
   {
    "duration": 204,
    "start_time": "2022-07-05T16:12:57.037Z"
   },
   {
    "duration": 201,
    "start_time": "2022-07-05T16:13:09.477Z"
   },
   {
    "duration": 18,
    "start_time": "2022-07-05T16:13:20.792Z"
   },
   {
    "duration": 15,
    "start_time": "2022-07-05T16:14:19.445Z"
   },
   {
    "duration": 10,
    "start_time": "2022-07-05T16:14:24.843Z"
   },
   {
    "duration": 11,
    "start_time": "2022-07-05T16:15:33.830Z"
   },
   {
    "duration": 6,
    "start_time": "2022-07-05T16:15:38.606Z"
   },
   {
    "duration": 140,
    "start_time": "2022-07-05T16:15:55.245Z"
   },
   {
    "duration": 127,
    "start_time": "2022-07-05T16:16:24.995Z"
   },
   {
    "duration": 185,
    "start_time": "2022-07-05T16:18:20.621Z"
   },
   {
    "duration": 379,
    "start_time": "2022-07-05T16:20:20.380Z"
   },
   {
    "duration": 213,
    "start_time": "2022-07-05T16:20:30.887Z"
   },
   {
    "duration": 257,
    "start_time": "2022-07-05T16:20:34.297Z"
   },
   {
    "duration": 181,
    "start_time": "2022-07-05T16:20:57.494Z"
   },
   {
    "duration": 189,
    "start_time": "2022-07-05T16:21:40.673Z"
   },
   {
    "duration": 192,
    "start_time": "2022-07-05T16:21:46.764Z"
   },
   {
    "duration": 175,
    "start_time": "2022-07-05T16:21:58.384Z"
   },
   {
    "duration": 739,
    "start_time": "2022-07-05T16:23:38.797Z"
   },
   {
    "duration": 203,
    "start_time": "2022-07-05T16:26:01.420Z"
   },
   {
    "duration": 200,
    "start_time": "2022-07-05T16:26:17.315Z"
   },
   {
    "duration": 206,
    "start_time": "2022-07-05T16:26:22.014Z"
   },
   {
    "duration": 486,
    "start_time": "2022-07-05T16:26:48.585Z"
   },
   {
    "duration": 236,
    "start_time": "2022-07-05T16:26:55.944Z"
   },
   {
    "duration": 262,
    "start_time": "2022-07-05T16:28:46.641Z"
   },
   {
    "duration": 246,
    "start_time": "2022-07-05T16:28:51.504Z"
   },
   {
    "duration": 271,
    "start_time": "2022-07-05T16:28:58.208Z"
   },
   {
    "duration": 532,
    "start_time": "2022-07-05T16:35:28.769Z"
   },
   {
    "duration": 463,
    "start_time": "2022-07-05T16:35:52.717Z"
   },
   {
    "duration": 325,
    "start_time": "2022-07-05T16:36:04.724Z"
   },
   {
    "duration": 154,
    "start_time": "2022-07-05T16:40:18.386Z"
   },
   {
    "duration": 158,
    "start_time": "2022-07-05T16:40:39.289Z"
   },
   {
    "duration": 161,
    "start_time": "2022-07-05T16:41:07.156Z"
   },
   {
    "duration": 164,
    "start_time": "2022-07-05T16:41:21.749Z"
   },
   {
    "duration": 393,
    "start_time": "2022-07-05T18:29:33.336Z"
   },
   {
    "duration": 93,
    "start_time": "2022-07-05T18:29:33.731Z"
   },
   {
    "duration": 31,
    "start_time": "2022-07-05T18:29:33.826Z"
   },
   {
    "duration": 412,
    "start_time": "2022-07-05T18:29:33.859Z"
   },
   {
    "duration": 9,
    "start_time": "2022-07-05T18:29:34.273Z"
   },
   {
    "duration": 1912,
    "start_time": "2022-07-05T18:29:34.284Z"
   },
   {
    "duration": 9,
    "start_time": "2022-07-05T18:29:36.198Z"
   },
   {
    "duration": 23,
    "start_time": "2022-07-05T18:29:36.209Z"
   },
   {
    "duration": 34,
    "start_time": "2022-07-05T18:29:36.234Z"
   },
   {
    "duration": 11,
    "start_time": "2022-07-05T18:29:36.270Z"
   },
   {
    "duration": 298,
    "start_time": "2022-07-05T18:29:36.282Z"
   },
   {
    "duration": 365,
    "start_time": "2022-07-05T18:29:36.582Z"
   },
   {
    "duration": 191,
    "start_time": "2022-07-05T18:29:36.949Z"
   },
   {
    "duration": 168,
    "start_time": "2022-07-05T18:29:37.144Z"
   },
   {
    "duration": 269,
    "start_time": "2022-07-05T18:29:37.314Z"
   },
   {
    "duration": 186,
    "start_time": "2022-07-05T18:29:37.585Z"
   },
   {
    "duration": 179,
    "start_time": "2022-07-05T18:29:37.772Z"
   },
   {
    "duration": 265,
    "start_time": "2022-07-05T18:29:37.953Z"
   },
   {
    "duration": 256,
    "start_time": "2022-07-05T18:29:38.219Z"
   },
   {
    "duration": 431,
    "start_time": "2022-07-05T18:29:38.477Z"
   },
   {
    "duration": 640,
    "start_time": "2022-07-05T18:29:38.910Z"
   },
   {
    "duration": 174,
    "start_time": "2022-07-05T18:29:39.552Z"
   },
   {
    "duration": 156,
    "start_time": "2022-07-05T18:29:39.729Z"
   },
   {
    "duration": 179,
    "start_time": "2022-07-05T18:29:39.887Z"
   },
   {
    "duration": 196,
    "start_time": "2022-07-05T18:29:40.067Z"
   },
   {
    "duration": 190,
    "start_time": "2022-07-05T18:29:40.264Z"
   },
   {
    "duration": 176,
    "start_time": "2022-07-05T18:29:40.455Z"
   },
   {
    "duration": 161,
    "start_time": "2022-07-05T18:29:40.634Z"
   },
   {
    "duration": 40,
    "start_time": "2022-07-05T18:29:40.797Z"
   },
   {
    "duration": 7,
    "start_time": "2022-07-05T18:29:40.840Z"
   },
   {
    "duration": 242,
    "start_time": "2022-07-05T18:29:40.849Z"
   },
   {
    "duration": 87,
    "start_time": "2022-07-05T18:29:47.036Z"
   },
   {
    "duration": 403,
    "start_time": "2022-07-06T04:39:31.665Z"
   },
   {
    "duration": 131,
    "start_time": "2022-07-06T04:39:32.070Z"
   },
   {
    "duration": 27,
    "start_time": "2022-07-06T04:39:32.203Z"
   },
   {
    "duration": 571,
    "start_time": "2022-07-06T04:39:32.232Z"
   },
   {
    "duration": 10,
    "start_time": "2022-07-06T04:39:32.805Z"
   },
   {
    "duration": 1639,
    "start_time": "2022-07-06T04:39:32.816Z"
   },
   {
    "duration": 11,
    "start_time": "2022-07-06T04:39:34.457Z"
   },
   {
    "duration": 7,
    "start_time": "2022-07-06T04:39:34.470Z"
   },
   {
    "duration": 15,
    "start_time": "2022-07-06T04:39:34.478Z"
   },
   {
    "duration": 7,
    "start_time": "2022-07-06T04:39:34.494Z"
   },
   {
    "duration": 334,
    "start_time": "2022-07-06T04:39:34.502Z"
   },
   {
    "duration": 283,
    "start_time": "2022-07-06T04:39:34.838Z"
   },
   {
    "duration": 151,
    "start_time": "2022-07-06T04:39:35.122Z"
   },
   {
    "duration": 130,
    "start_time": "2022-07-06T04:39:35.276Z"
   },
   {
    "duration": 211,
    "start_time": "2022-07-06T04:39:35.407Z"
   },
   {
    "duration": 168,
    "start_time": "2022-07-06T04:39:35.619Z"
   },
   {
    "duration": 178,
    "start_time": "2022-07-06T04:39:35.788Z"
   },
   {
    "duration": 283,
    "start_time": "2022-07-06T04:39:35.968Z"
   },
   {
    "duration": 280,
    "start_time": "2022-07-06T04:39:36.253Z"
   },
   {
    "duration": 385,
    "start_time": "2022-07-06T04:39:36.534Z"
   },
   {
    "duration": 569,
    "start_time": "2022-07-06T04:39:36.921Z"
   },
   {
    "duration": 222,
    "start_time": "2022-07-06T04:39:37.492Z"
   },
   {
    "duration": 157,
    "start_time": "2022-07-06T04:39:37.716Z"
   },
   {
    "duration": 170,
    "start_time": "2022-07-06T04:39:37.875Z"
   },
   {
    "duration": 187,
    "start_time": "2022-07-06T04:39:38.046Z"
   },
   {
    "duration": 177,
    "start_time": "2022-07-06T04:39:38.235Z"
   },
   {
    "duration": 198,
    "start_time": "2022-07-06T04:39:38.413Z"
   },
   {
    "duration": 284,
    "start_time": "2022-07-06T04:39:38.613Z"
   },
   {
    "duration": 23,
    "start_time": "2022-07-06T04:39:38.899Z"
   },
   {
    "duration": 8,
    "start_time": "2022-07-06T04:39:38.924Z"
   },
   {
    "duration": 183,
    "start_time": "2022-07-06T04:39:38.934Z"
   },
   {
    "duration": 10,
    "start_time": "2022-07-06T04:44:19.805Z"
   },
   {
    "duration": 75,
    "start_time": "2022-07-06T04:46:55.940Z"
   },
   {
    "duration": 5,
    "start_time": "2022-07-06T04:47:12.394Z"
   },
   {
    "duration": 9,
    "start_time": "2022-07-06T04:47:23.515Z"
   },
   {
    "duration": 8,
    "start_time": "2022-07-06T04:47:47.131Z"
   },
   {
    "duration": 82,
    "start_time": "2022-07-06T04:47:53.779Z"
   },
   {
    "duration": 79,
    "start_time": "2022-07-06T04:48:02.763Z"
   },
   {
    "duration": 89,
    "start_time": "2022-07-06T04:48:07.795Z"
   },
   {
    "duration": 425,
    "start_time": "2022-07-06T04:48:16.435Z"
   },
   {
    "duration": 92,
    "start_time": "2022-07-06T04:48:16.863Z"
   },
   {
    "duration": 28,
    "start_time": "2022-07-06T04:48:16.957Z"
   },
   {
    "duration": 478,
    "start_time": "2022-07-06T04:48:16.987Z"
   },
   {
    "duration": 9,
    "start_time": "2022-07-06T04:48:17.467Z"
   },
   {
    "duration": 1657,
    "start_time": "2022-07-06T04:48:17.477Z"
   },
   {
    "duration": 9,
    "start_time": "2022-07-06T04:48:19.136Z"
   },
   {
    "duration": 18,
    "start_time": "2022-07-06T04:48:19.147Z"
   },
   {
    "duration": 72,
    "start_time": "2022-07-06T04:48:19.166Z"
   },
   {
    "duration": 0,
    "start_time": "2022-07-06T04:48:19.241Z"
   },
   {
    "duration": 0,
    "start_time": "2022-07-06T04:48:19.242Z"
   },
   {
    "duration": 0,
    "start_time": "2022-07-06T04:48:19.243Z"
   },
   {
    "duration": 0,
    "start_time": "2022-07-06T04:48:19.244Z"
   },
   {
    "duration": 0,
    "start_time": "2022-07-06T04:48:19.246Z"
   },
   {
    "duration": 0,
    "start_time": "2022-07-06T04:48:19.247Z"
   },
   {
    "duration": 0,
    "start_time": "2022-07-06T04:48:19.264Z"
   },
   {
    "duration": 0,
    "start_time": "2022-07-06T04:48:19.265Z"
   },
   {
    "duration": 0,
    "start_time": "2022-07-06T04:48:19.266Z"
   },
   {
    "duration": 0,
    "start_time": "2022-07-06T04:48:19.267Z"
   },
   {
    "duration": 0,
    "start_time": "2022-07-06T04:48:19.268Z"
   },
   {
    "duration": 0,
    "start_time": "2022-07-06T04:48:19.269Z"
   },
   {
    "duration": 0,
    "start_time": "2022-07-06T04:48:19.270Z"
   },
   {
    "duration": 0,
    "start_time": "2022-07-06T04:48:19.271Z"
   },
   {
    "duration": 0,
    "start_time": "2022-07-06T04:48:19.272Z"
   },
   {
    "duration": 0,
    "start_time": "2022-07-06T04:48:19.273Z"
   },
   {
    "duration": 0,
    "start_time": "2022-07-06T04:48:19.274Z"
   },
   {
    "duration": 0,
    "start_time": "2022-07-06T04:48:19.274Z"
   },
   {
    "duration": 0,
    "start_time": "2022-07-06T04:48:19.276Z"
   },
   {
    "duration": 0,
    "start_time": "2022-07-06T04:48:19.277Z"
   },
   {
    "duration": 0,
    "start_time": "2022-07-06T04:48:19.278Z"
   },
   {
    "duration": 0,
    "start_time": "2022-07-06T04:48:19.279Z"
   },
   {
    "duration": 0,
    "start_time": "2022-07-06T04:48:19.279Z"
   },
   {
    "duration": 8,
    "start_time": "2022-07-06T04:48:44.437Z"
   },
   {
    "duration": 8,
    "start_time": "2022-07-06T04:48:52.459Z"
   },
   {
    "duration": 83,
    "start_time": "2022-07-06T04:49:17.642Z"
   },
   {
    "duration": 15,
    "start_time": "2022-07-06T04:52:09.417Z"
   },
   {
    "duration": 419,
    "start_time": "2022-07-06T04:52:19.054Z"
   },
   {
    "duration": 94,
    "start_time": "2022-07-06T04:52:19.475Z"
   },
   {
    "duration": 29,
    "start_time": "2022-07-06T04:52:19.570Z"
   },
   {
    "duration": 393,
    "start_time": "2022-07-06T04:52:19.600Z"
   },
   {
    "duration": 9,
    "start_time": "2022-07-06T04:52:19.995Z"
   },
   {
    "duration": 1636,
    "start_time": "2022-07-06T04:52:20.006Z"
   },
   {
    "duration": 9,
    "start_time": "2022-07-06T04:52:21.644Z"
   },
   {
    "duration": 17,
    "start_time": "2022-07-06T04:52:21.654Z"
   },
   {
    "duration": 16,
    "start_time": "2022-07-06T04:52:21.673Z"
   },
   {
    "duration": 7,
    "start_time": "2022-07-06T04:52:21.690Z"
   },
   {
    "duration": 12,
    "start_time": "2022-07-06T04:52:21.699Z"
   },
   {
    "duration": 287,
    "start_time": "2022-07-06T04:52:21.712Z"
   },
   {
    "duration": 333,
    "start_time": "2022-07-06T04:52:22.001Z"
   },
   {
    "duration": 160,
    "start_time": "2022-07-06T04:52:22.337Z"
   },
   {
    "duration": 169,
    "start_time": "2022-07-06T04:52:22.499Z"
   },
   {
    "duration": 180,
    "start_time": "2022-07-06T04:52:22.670Z"
   },
   {
    "duration": 167,
    "start_time": "2022-07-06T04:52:22.852Z"
   },
   {
    "duration": 163,
    "start_time": "2022-07-06T04:52:23.021Z"
   },
   {
    "duration": 220,
    "start_time": "2022-07-06T04:52:23.186Z"
   },
   {
    "duration": 210,
    "start_time": "2022-07-06T04:52:23.407Z"
   },
   {
    "duration": 379,
    "start_time": "2022-07-06T04:52:23.619Z"
   },
   {
    "duration": 563,
    "start_time": "2022-07-06T04:52:24.000Z"
   },
   {
    "duration": 161,
    "start_time": "2022-07-06T04:52:24.564Z"
   },
   {
    "duration": 152,
    "start_time": "2022-07-06T04:52:24.727Z"
   },
   {
    "duration": 166,
    "start_time": "2022-07-06T04:52:24.881Z"
   },
   {
    "duration": 189,
    "start_time": "2022-07-06T04:52:25.049Z"
   },
   {
    "duration": 154,
    "start_time": "2022-07-06T04:52:25.240Z"
   },
   {
    "duration": 169,
    "start_time": "2022-07-06T04:52:25.396Z"
   },
   {
    "duration": 156,
    "start_time": "2022-07-06T04:52:25.567Z"
   },
   {
    "duration": 24,
    "start_time": "2022-07-06T04:52:25.725Z"
   },
   {
    "duration": 16,
    "start_time": "2022-07-06T04:52:25.750Z"
   },
   {
    "duration": 245,
    "start_time": "2022-07-06T04:52:25.767Z"
   },
   {
    "duration": 50,
    "start_time": "2022-07-06T16:46:25.913Z"
   },
   {
    "duration": 442,
    "start_time": "2022-07-06T16:46:33.029Z"
   },
   {
    "duration": 133,
    "start_time": "2022-07-06T16:46:33.664Z"
   }
  ],
  "kernelspec": {
   "display_name": "Python 3 (ipykernel)",
   "language": "python",
   "name": "python3"
  },
  "language_info": {
   "codemirror_mode": {
    "name": "ipython",
    "version": 3
   },
   "file_extension": ".py",
   "mimetype": "text/x-python",
   "name": "python",
   "nbconvert_exporter": "python",
   "pygments_lexer": "ipython3",
   "version": "3.9.5"
  },
  "toc": {
   "base_numbering": 1,
   "nav_menu": {},
   "number_sections": true,
   "sideBar": true,
   "skip_h1_title": true,
   "title_cell": "Table of Contents",
   "title_sidebar": "Contents",
   "toc_cell": false,
   "toc_position": {
    "height": "calc(100% - 180px)",
    "left": "10px",
    "top": "150px",
    "width": "165px"
   },
   "toc_section_display": true,
   "toc_window_display": true
  }
 },
 "nbformat": 4,
 "nbformat_minor": 2
}
