{
 "cells": [
  {
   "cell_type": "markdown",
   "metadata": {},
   "source": [
    "# Проект по SQL "
   ]
  },
  {
   "cell_type": "markdown",
   "metadata": {},
   "source": [
    "# Цель\n",
    "Неоходимо проанализировать базу данных, с информацией о книгах, издательствах, авторах, а также пользовательских обзоров книг, для формулировки ценностного предложение для сервиса чтения книг по подписке, купленного компанией."
   ]
  },
  {
   "cell_type": "markdown",
   "metadata": {},
   "source": [
    "# Описание данных\n",
    "Таблица books\n",
    "Содержит данные о книгах:\n",
    "- book_id — идентификатор книги;\n",
    "- author_id — идентификатор автора;\n",
    "- title — название книги;\n",
    "- num_pages — количество страниц;\n",
    "- publication_date — дата публикации книги;\n",
    "- publisher_id — идентификатор издателя.\n",
    "\n",
    "Таблица authors\n",
    "Содержит данные об авторах:\n",
    "- author_id — идентификатор автора;\n",
    "- author — имя автора.\n",
    "\n",
    "Таблица publishers\n",
    "Содержит данные об издательствах:\n",
    "- publisher_id — идентификатор издательства;\n",
    "- publisher — название издательства;\n",
    "\n",
    "Таблица ratings\n",
    "Содержит данные о пользовательских оценках книг:\n",
    "- rating_id — идентификатор оценки;\n",
    "- book_id — идентификатор книги;\n",
    "- username — имя пользователя, оставившего оценку;\n",
    "- rating — оценка книги.\n",
    "\n",
    "Таблица reviews\n",
    "Содержит данные о пользовательских обзорах:\n",
    "- review_id — идентификатор обзора;\n",
    "- book_id — идентификатор книги;\n",
    "- username — имя автора обзора;\n",
    "- text — текст обзора."
   ]
  },
  {
   "cell_type": "markdown",
   "metadata": {},
   "source": [
    "## Подключаемся к базе данных "
   ]
  },
  {
   "cell_type": "code",
   "execution_count": 1,
   "metadata": {},
   "outputs": [],
   "source": [
    "# импортируем библиотеки\n",
    "import pandas as pd\n",
    "from sqlalchemy import create_engine"
   ]
  },
  {
   "cell_type": "code",
   "execution_count": 2,
   "metadata": {},
   "outputs": [],
   "source": [
    "# устанавливаем параметры\n",
    "db_config = {'user': 'praktikum_student', # имя пользователя\n",
    "'pwd': 'Sdf4$2;d-d30pp', # пароль\n",
    "'host': 'rc1b-wcoijxj3yxfsf3fs.mdb.yandexcloud.net',\n",
    "'port': 6432, # порт подключения\n",
    "'db': 'data-analyst-final-project-db'} # название базы данных\n",
    "connection_string = 'postgresql://{}:{}@{}:{}/{}'.format(db_config['user'],\n",
    " db_config['pwd'],\n",
    " db_config['host'],\n",
    " db_config['port'],\n",
    " db_config['db'])\n",
    "# сохраняем коннектор\n",
    "engine = create_engine(connection_string, connect_args={'sslmode':'require'}) "
   ]
  },
  {
   "cell_type": "code",
   "execution_count": 3,
   "metadata": {},
   "outputs": [],
   "source": [
    "def sql(query):\n",
    "    return pd.io.sql.read_sql(query, con = engine) "
   ]
  },
  {
   "cell_type": "markdown",
   "metadata": {},
   "source": [
    "## Знакомство с данными "
   ]
  },
  {
   "cell_type": "code",
   "execution_count": 4,
   "metadata": {},
   "outputs": [
    {
     "data": {
      "text/html": [
       "<div>\n",
       "<style scoped>\n",
       "    .dataframe tbody tr th:only-of-type {\n",
       "        vertical-align: middle;\n",
       "    }\n",
       "\n",
       "    .dataframe tbody tr th {\n",
       "        vertical-align: top;\n",
       "    }\n",
       "\n",
       "    .dataframe thead th {\n",
       "        text-align: right;\n",
       "    }\n",
       "</style>\n",
       "<table border=\"1\" class=\"dataframe\">\n",
       "  <thead>\n",
       "    <tr style=\"text-align: right;\">\n",
       "      <th></th>\n",
       "      <th>book_id</th>\n",
       "      <th>author_id</th>\n",
       "      <th>title</th>\n",
       "      <th>num_pages</th>\n",
       "      <th>publication_date</th>\n",
       "      <th>publisher_id</th>\n",
       "    </tr>\n",
       "  </thead>\n",
       "  <tbody>\n",
       "    <tr>\n",
       "      <th>0</th>\n",
       "      <td>1</td>\n",
       "      <td>546</td>\n",
       "      <td>'Salem's Lot</td>\n",
       "      <td>594</td>\n",
       "      <td>2005-11-01</td>\n",
       "      <td>93</td>\n",
       "    </tr>\n",
       "    <tr>\n",
       "      <th>1</th>\n",
       "      <td>2</td>\n",
       "      <td>465</td>\n",
       "      <td>1 000 Places to See Before You Die</td>\n",
       "      <td>992</td>\n",
       "      <td>2003-05-22</td>\n",
       "      <td>336</td>\n",
       "    </tr>\n",
       "    <tr>\n",
       "      <th>2</th>\n",
       "      <td>3</td>\n",
       "      <td>407</td>\n",
       "      <td>13 Little Blue Envelopes (Little Blue Envelope...</td>\n",
       "      <td>322</td>\n",
       "      <td>2010-12-21</td>\n",
       "      <td>135</td>\n",
       "    </tr>\n",
       "    <tr>\n",
       "      <th>3</th>\n",
       "      <td>4</td>\n",
       "      <td>82</td>\n",
       "      <td>1491: New Revelations of the Americas Before C...</td>\n",
       "      <td>541</td>\n",
       "      <td>2006-10-10</td>\n",
       "      <td>309</td>\n",
       "    </tr>\n",
       "    <tr>\n",
       "      <th>4</th>\n",
       "      <td>5</td>\n",
       "      <td>125</td>\n",
       "      <td>1776</td>\n",
       "      <td>386</td>\n",
       "      <td>2006-07-04</td>\n",
       "      <td>268</td>\n",
       "    </tr>\n",
       "  </tbody>\n",
       "</table>\n",
       "</div>"
      ],
      "text/plain": [
       "   book_id  author_id                                              title  \\\n",
       "0        1        546                                       'Salem's Lot   \n",
       "1        2        465                 1 000 Places to See Before You Die   \n",
       "2        3        407  13 Little Blue Envelopes (Little Blue Envelope...   \n",
       "3        4         82  1491: New Revelations of the Americas Before C...   \n",
       "4        5        125                                               1776   \n",
       "\n",
       "   num_pages publication_date  publisher_id  \n",
       "0        594       2005-11-01            93  \n",
       "1        992       2003-05-22           336  \n",
       "2        322       2010-12-21           135  \n",
       "3        541       2006-10-10           309  \n",
       "4        386       2006-07-04           268  "
      ]
     },
     "execution_count": 4,
     "metadata": {},
     "output_type": "execute_result"
    }
   ],
   "source": [
    "query = '''\n",
    "select *\n",
    "from books\n",
    "limit 5'''\n",
    "sql(query)"
   ]
  },
  {
   "cell_type": "code",
   "execution_count": 5,
   "metadata": {},
   "outputs": [
    {
     "data": {
      "text/html": [
       "<div>\n",
       "<style scoped>\n",
       "    .dataframe tbody tr th:only-of-type {\n",
       "        vertical-align: middle;\n",
       "    }\n",
       "\n",
       "    .dataframe tbody tr th {\n",
       "        vertical-align: top;\n",
       "    }\n",
       "\n",
       "    .dataframe thead th {\n",
       "        text-align: right;\n",
       "    }\n",
       "</style>\n",
       "<table border=\"1\" class=\"dataframe\">\n",
       "  <thead>\n",
       "    <tr style=\"text-align: right;\">\n",
       "      <th></th>\n",
       "      <th>author_id</th>\n",
       "      <th>author</th>\n",
       "    </tr>\n",
       "  </thead>\n",
       "  <tbody>\n",
       "    <tr>\n",
       "      <th>0</th>\n",
       "      <td>1</td>\n",
       "      <td>A.S. Byatt</td>\n",
       "    </tr>\n",
       "    <tr>\n",
       "      <th>1</th>\n",
       "      <td>2</td>\n",
       "      <td>Aesop/Laura Harris/Laura Gibbs</td>\n",
       "    </tr>\n",
       "    <tr>\n",
       "      <th>2</th>\n",
       "      <td>3</td>\n",
       "      <td>Agatha Christie</td>\n",
       "    </tr>\n",
       "    <tr>\n",
       "      <th>3</th>\n",
       "      <td>4</td>\n",
       "      <td>Alan Brennert</td>\n",
       "    </tr>\n",
       "    <tr>\n",
       "      <th>4</th>\n",
       "      <td>5</td>\n",
       "      <td>Alan Moore/David   Lloyd</td>\n",
       "    </tr>\n",
       "  </tbody>\n",
       "</table>\n",
       "</div>"
      ],
      "text/plain": [
       "   author_id                          author\n",
       "0          1                      A.S. Byatt\n",
       "1          2  Aesop/Laura Harris/Laura Gibbs\n",
       "2          3                 Agatha Christie\n",
       "3          4                   Alan Brennert\n",
       "4          5        Alan Moore/David   Lloyd"
      ]
     },
     "execution_count": 5,
     "metadata": {},
     "output_type": "execute_result"
    }
   ],
   "source": [
    "query = '''\n",
    "select *\n",
    "from authors\n",
    "limit 5'''\n",
    "sql(query)"
   ]
  },
  {
   "cell_type": "code",
   "execution_count": 6,
   "metadata": {},
   "outputs": [
    {
     "data": {
      "text/html": [
       "<div>\n",
       "<style scoped>\n",
       "    .dataframe tbody tr th:only-of-type {\n",
       "        vertical-align: middle;\n",
       "    }\n",
       "\n",
       "    .dataframe tbody tr th {\n",
       "        vertical-align: top;\n",
       "    }\n",
       "\n",
       "    .dataframe thead th {\n",
       "        text-align: right;\n",
       "    }\n",
       "</style>\n",
       "<table border=\"1\" class=\"dataframe\">\n",
       "  <thead>\n",
       "    <tr style=\"text-align: right;\">\n",
       "      <th></th>\n",
       "      <th>publisher_id</th>\n",
       "      <th>publisher</th>\n",
       "    </tr>\n",
       "  </thead>\n",
       "  <tbody>\n",
       "    <tr>\n",
       "      <th>0</th>\n",
       "      <td>1</td>\n",
       "      <td>Ace</td>\n",
       "    </tr>\n",
       "    <tr>\n",
       "      <th>1</th>\n",
       "      <td>2</td>\n",
       "      <td>Ace Book</td>\n",
       "    </tr>\n",
       "    <tr>\n",
       "      <th>2</th>\n",
       "      <td>3</td>\n",
       "      <td>Ace Books</td>\n",
       "    </tr>\n",
       "    <tr>\n",
       "      <th>3</th>\n",
       "      <td>4</td>\n",
       "      <td>Ace Hardcover</td>\n",
       "    </tr>\n",
       "    <tr>\n",
       "      <th>4</th>\n",
       "      <td>5</td>\n",
       "      <td>Addison Wesley Publishing Company</td>\n",
       "    </tr>\n",
       "  </tbody>\n",
       "</table>\n",
       "</div>"
      ],
      "text/plain": [
       "   publisher_id                          publisher\n",
       "0             1                                Ace\n",
       "1             2                           Ace Book\n",
       "2             3                          Ace Books\n",
       "3             4                      Ace Hardcover\n",
       "4             5  Addison Wesley Publishing Company"
      ]
     },
     "execution_count": 6,
     "metadata": {},
     "output_type": "execute_result"
    }
   ],
   "source": [
    "query = '''\n",
    "select *\n",
    "from publishers\n",
    "limit 5'''\n",
    "sql(query)"
   ]
  },
  {
   "cell_type": "code",
   "execution_count": 7,
   "metadata": {},
   "outputs": [
    {
     "data": {
      "text/html": [
       "<div>\n",
       "<style scoped>\n",
       "    .dataframe tbody tr th:only-of-type {\n",
       "        vertical-align: middle;\n",
       "    }\n",
       "\n",
       "    .dataframe tbody tr th {\n",
       "        vertical-align: top;\n",
       "    }\n",
       "\n",
       "    .dataframe thead th {\n",
       "        text-align: right;\n",
       "    }\n",
       "</style>\n",
       "<table border=\"1\" class=\"dataframe\">\n",
       "  <thead>\n",
       "    <tr style=\"text-align: right;\">\n",
       "      <th></th>\n",
       "      <th>rating_id</th>\n",
       "      <th>book_id</th>\n",
       "      <th>username</th>\n",
       "      <th>rating</th>\n",
       "    </tr>\n",
       "  </thead>\n",
       "  <tbody>\n",
       "    <tr>\n",
       "      <th>0</th>\n",
       "      <td>1</td>\n",
       "      <td>1</td>\n",
       "      <td>ryanfranco</td>\n",
       "      <td>4</td>\n",
       "    </tr>\n",
       "    <tr>\n",
       "      <th>1</th>\n",
       "      <td>2</td>\n",
       "      <td>1</td>\n",
       "      <td>grantpatricia</td>\n",
       "      <td>2</td>\n",
       "    </tr>\n",
       "    <tr>\n",
       "      <th>2</th>\n",
       "      <td>3</td>\n",
       "      <td>1</td>\n",
       "      <td>brandtandrea</td>\n",
       "      <td>5</td>\n",
       "    </tr>\n",
       "    <tr>\n",
       "      <th>3</th>\n",
       "      <td>4</td>\n",
       "      <td>2</td>\n",
       "      <td>lorichen</td>\n",
       "      <td>3</td>\n",
       "    </tr>\n",
       "    <tr>\n",
       "      <th>4</th>\n",
       "      <td>5</td>\n",
       "      <td>2</td>\n",
       "      <td>mariokeller</td>\n",
       "      <td>2</td>\n",
       "    </tr>\n",
       "  </tbody>\n",
       "</table>\n",
       "</div>"
      ],
      "text/plain": [
       "   rating_id  book_id       username  rating\n",
       "0          1        1     ryanfranco       4\n",
       "1          2        1  grantpatricia       2\n",
       "2          3        1   brandtandrea       5\n",
       "3          4        2       lorichen       3\n",
       "4          5        2    mariokeller       2"
      ]
     },
     "execution_count": 7,
     "metadata": {},
     "output_type": "execute_result"
    }
   ],
   "source": [
    "query = '''\n",
    "select *\n",
    "from ratings\n",
    "limit 5'''\n",
    "sql(query)\n"
   ]
  },
  {
   "cell_type": "code",
   "execution_count": 8,
   "metadata": {},
   "outputs": [
    {
     "data": {
      "text/html": [
       "<div>\n",
       "<style scoped>\n",
       "    .dataframe tbody tr th:only-of-type {\n",
       "        vertical-align: middle;\n",
       "    }\n",
       "\n",
       "    .dataframe tbody tr th {\n",
       "        vertical-align: top;\n",
       "    }\n",
       "\n",
       "    .dataframe thead th {\n",
       "        text-align: right;\n",
       "    }\n",
       "</style>\n",
       "<table border=\"1\" class=\"dataframe\">\n",
       "  <thead>\n",
       "    <tr style=\"text-align: right;\">\n",
       "      <th></th>\n",
       "      <th>review_id</th>\n",
       "      <th>book_id</th>\n",
       "      <th>username</th>\n",
       "      <th>text</th>\n",
       "    </tr>\n",
       "  </thead>\n",
       "  <tbody>\n",
       "    <tr>\n",
       "      <th>0</th>\n",
       "      <td>1</td>\n",
       "      <td>1</td>\n",
       "      <td>brandtandrea</td>\n",
       "      <td>Mention society tell send professor analysis. ...</td>\n",
       "    </tr>\n",
       "    <tr>\n",
       "      <th>1</th>\n",
       "      <td>2</td>\n",
       "      <td>1</td>\n",
       "      <td>ryanfranco</td>\n",
       "      <td>Foot glass pretty audience hit themselves. Amo...</td>\n",
       "    </tr>\n",
       "    <tr>\n",
       "      <th>2</th>\n",
       "      <td>3</td>\n",
       "      <td>2</td>\n",
       "      <td>lorichen</td>\n",
       "      <td>Listen treat keep worry. Miss husband tax but ...</td>\n",
       "    </tr>\n",
       "    <tr>\n",
       "      <th>3</th>\n",
       "      <td>4</td>\n",
       "      <td>3</td>\n",
       "      <td>johnsonamanda</td>\n",
       "      <td>Finally month interesting blue could nature cu...</td>\n",
       "    </tr>\n",
       "    <tr>\n",
       "      <th>4</th>\n",
       "      <td>5</td>\n",
       "      <td>3</td>\n",
       "      <td>scotttamara</td>\n",
       "      <td>Nation purpose heavy give wait song will. List...</td>\n",
       "    </tr>\n",
       "  </tbody>\n",
       "</table>\n",
       "</div>"
      ],
      "text/plain": [
       "   review_id  book_id       username  \\\n",
       "0          1        1   brandtandrea   \n",
       "1          2        1     ryanfranco   \n",
       "2          3        2       lorichen   \n",
       "3          4        3  johnsonamanda   \n",
       "4          5        3    scotttamara   \n",
       "\n",
       "                                                text  \n",
       "0  Mention society tell send professor analysis. ...  \n",
       "1  Foot glass pretty audience hit themselves. Amo...  \n",
       "2  Listen treat keep worry. Miss husband tax but ...  \n",
       "3  Finally month interesting blue could nature cu...  \n",
       "4  Nation purpose heavy give wait song will. List...  "
      ]
     },
     "execution_count": 8,
     "metadata": {},
     "output_type": "execute_result"
    }
   ],
   "source": [
    "query = '''\n",
    "select *\n",
    "from reviews\n",
    "limit 5'''\n",
    "sql(query)"
   ]
  },
  {
   "cell_type": "markdown",
   "metadata": {},
   "source": [
    "## Книги которые вышло после 1 января 2000 года"
   ]
  },
  {
   "cell_type": "code",
   "execution_count": 9,
   "metadata": {},
   "outputs": [
    {
     "data": {
      "text/html": [
       "<div>\n",
       "<style scoped>\n",
       "    .dataframe tbody tr th:only-of-type {\n",
       "        vertical-align: middle;\n",
       "    }\n",
       "\n",
       "    .dataframe tbody tr th {\n",
       "        vertical-align: top;\n",
       "    }\n",
       "\n",
       "    .dataframe thead th {\n",
       "        text-align: right;\n",
       "    }\n",
       "</style>\n",
       "<table border=\"1\" class=\"dataframe\">\n",
       "  <thead>\n",
       "    <tr style=\"text-align: right;\">\n",
       "      <th></th>\n",
       "      <th>count</th>\n",
       "    </tr>\n",
       "  </thead>\n",
       "  <tbody>\n",
       "    <tr>\n",
       "      <th>0</th>\n",
       "      <td>819</td>\n",
       "    </tr>\n",
       "  </tbody>\n",
       "</table>\n",
       "</div>"
      ],
      "text/plain": [
       "   count\n",
       "0    819"
      ]
     },
     "execution_count": 9,
     "metadata": {},
     "output_type": "execute_result"
    }
   ],
   "source": [
    "query = '''\n",
    "select count(book_id)\n",
    "from books\n",
    "where publication_date > '2000-01-01'\n",
    "'''\n",
    "sql(query)"
   ]
  },
  {
   "cell_type": "markdown",
   "metadata": {},
   "source": [
    "После Января 2000го вышло 819 книг"
   ]
  },
  {
   "cell_type": "markdown",
   "metadata": {},
   "source": [
    "## Количество обзоров и средняя оценка на каждую книгу \n"
   ]
  },
  {
   "cell_type": "code",
   "execution_count": 10,
   "metadata": {},
   "outputs": [
    {
     "data": {
      "text/html": [
       "<div>\n",
       "<style scoped>\n",
       "    .dataframe tbody tr th:only-of-type {\n",
       "        vertical-align: middle;\n",
       "    }\n",
       "\n",
       "    .dataframe tbody tr th {\n",
       "        vertical-align: top;\n",
       "    }\n",
       "\n",
       "    .dataframe thead th {\n",
       "        text-align: right;\n",
       "    }\n",
       "</style>\n",
       "<table border=\"1\" class=\"dataframe\">\n",
       "  <thead>\n",
       "    <tr style=\"text-align: right;\">\n",
       "      <th></th>\n",
       "      <th>title</th>\n",
       "      <th>number_of_reviews</th>\n",
       "      <th>avg_rating</th>\n",
       "    </tr>\n",
       "  </thead>\n",
       "  <tbody>\n",
       "    <tr>\n",
       "      <th>0</th>\n",
       "      <td>The Count of Monte Cristo</td>\n",
       "      <td>23</td>\n",
       "      <td>4.217391</td>\n",
       "    </tr>\n",
       "    <tr>\n",
       "      <th>1</th>\n",
       "      <td>Count Zero (Sprawl  #2)</td>\n",
       "      <td>2</td>\n",
       "      <td>2.500000</td>\n",
       "    </tr>\n",
       "    <tr>\n",
       "      <th>2</th>\n",
       "      <td>The Botany of Desire: A Plant's-Eye View of th...</td>\n",
       "      <td>2</td>\n",
       "      <td>3.500000</td>\n",
       "    </tr>\n",
       "    <tr>\n",
       "      <th>3</th>\n",
       "      <td>The Poisonwood Bible</td>\n",
       "      <td>22</td>\n",
       "      <td>4.363636</td>\n",
       "    </tr>\n",
       "    <tr>\n",
       "      <th>4</th>\n",
       "      <td>The Canterbury Tales</td>\n",
       "      <td>6</td>\n",
       "      <td>3.333333</td>\n",
       "    </tr>\n",
       "    <tr>\n",
       "      <th>...</th>\n",
       "      <td>...</td>\n",
       "      <td>...</td>\n",
       "      <td>...</td>\n",
       "    </tr>\n",
       "    <tr>\n",
       "      <th>994</th>\n",
       "      <td>Of Love and Other Demons</td>\n",
       "      <td>2</td>\n",
       "      <td>4.500000</td>\n",
       "    </tr>\n",
       "    <tr>\n",
       "      <th>995</th>\n",
       "      <td>In the Heart of the Sea: The Tragedy of the Wh...</td>\n",
       "      <td>3</td>\n",
       "      <td>3.333333</td>\n",
       "    </tr>\n",
       "    <tr>\n",
       "      <th>996</th>\n",
       "      <td>Welcome to Temptation (Dempseys  #1)</td>\n",
       "      <td>2</td>\n",
       "      <td>5.000000</td>\n",
       "    </tr>\n",
       "    <tr>\n",
       "      <th>997</th>\n",
       "      <td>World's End (The Sandman  #8)</td>\n",
       "      <td>2</td>\n",
       "      <td>4.500000</td>\n",
       "    </tr>\n",
       "    <tr>\n",
       "      <th>998</th>\n",
       "      <td>Holes (Holes  #1)</td>\n",
       "      <td>31</td>\n",
       "      <td>3.967742</td>\n",
       "    </tr>\n",
       "  </tbody>\n",
       "</table>\n",
       "<p>999 rows × 3 columns</p>\n",
       "</div>"
      ],
      "text/plain": [
       "                                                 title  number_of_reviews  \\\n",
       "0                            The Count of Monte Cristo                 23   \n",
       "1                              Count Zero (Sprawl  #2)                  2   \n",
       "2    The Botany of Desire: A Plant's-Eye View of th...                  2   \n",
       "3                                 The Poisonwood Bible                 22   \n",
       "4                                 The Canterbury Tales                  6   \n",
       "..                                                 ...                ...   \n",
       "994                           Of Love and Other Demons                  2   \n",
       "995  In the Heart of the Sea: The Tragedy of the Wh...                  3   \n",
       "996               Welcome to Temptation (Dempseys  #1)                  2   \n",
       "997                      World's End (The Sandman  #8)                  2   \n",
       "998                                  Holes (Holes  #1)                 31   \n",
       "\n",
       "     avg_rating  \n",
       "0      4.217391  \n",
       "1      2.500000  \n",
       "2      3.500000  \n",
       "3      4.363636  \n",
       "4      3.333333  \n",
       "..          ...  \n",
       "994    4.500000  \n",
       "995    3.333333  \n",
       "996    5.000000  \n",
       "997    4.500000  \n",
       "998    3.967742  \n",
       "\n",
       "[999 rows x 3 columns]"
      ]
     },
     "execution_count": 10,
     "metadata": {},
     "output_type": "execute_result"
    }
   ],
   "source": [
    "query = '''\n",
    "SELECT b.title ,\n",
    "         count(username) AS number_of_reviews,\n",
    "         avg(rating) AS avg_rating\n",
    "FROM books AS b\n",
    "LEFT JOIN ratings AS r\n",
    "    ON b.book_id=r.book_id\n",
    "GROUP BY  b.title\n",
    "'''\n",
    "sql(query)\n",
    "\n",
    "\n"
   ]
  },
  {
   "cell_type": "markdown",
   "metadata": {},
   "source": [
    "Самое большое количество обзоров на книгу 'Мемуары гейши', со средней оценкой 4.1"
   ]
  },
  {
   "cell_type": "markdown",
   "metadata": {},
   "source": [
    "## Определите издательство, которое выпустило наибольшее число книг толще 50 страниц — так вы исключите из анализа брошюры"
   ]
  },
  {
   "cell_type": "code",
   "execution_count": 11,
   "metadata": {},
   "outputs": [
    {
     "data": {
      "text/html": [
       "<div>\n",
       "<style scoped>\n",
       "    .dataframe tbody tr th:only-of-type {\n",
       "        vertical-align: middle;\n",
       "    }\n",
       "\n",
       "    .dataframe tbody tr th {\n",
       "        vertical-align: top;\n",
       "    }\n",
       "\n",
       "    .dataframe thead th {\n",
       "        text-align: right;\n",
       "    }\n",
       "</style>\n",
       "<table border=\"1\" class=\"dataframe\">\n",
       "  <thead>\n",
       "    <tr style=\"text-align: right;\">\n",
       "      <th></th>\n",
       "      <th>publisher</th>\n",
       "      <th>count</th>\n",
       "    </tr>\n",
       "  </thead>\n",
       "  <tbody>\n",
       "    <tr>\n",
       "      <th>0</th>\n",
       "      <td>Penguin Books</td>\n",
       "      <td>42</td>\n",
       "    </tr>\n",
       "  </tbody>\n",
       "</table>\n",
       "</div>"
      ],
      "text/plain": [
       "       publisher  count\n",
       "0  Penguin Books     42"
      ]
     },
     "execution_count": 11,
     "metadata": {},
     "output_type": "execute_result"
    }
   ],
   "source": [
    "query = '''\n",
    "select publisher, count (b.book_id)\n",
    "from publishers as p\n",
    "left outer join books AS b ON b.publisher_id = p.publisher_id\n",
    "where b.num_pages > 50\n",
    "group by publisher\n",
    "order by count desc\n",
    "limit 1'''\n",
    "sql(query)"
   ]
  },
  {
   "cell_type": "markdown",
   "metadata": {},
   "source": [
    "Издательство Penguin Books выпустило наибольшее число книг толще 50 страниц"
   ]
  },
  {
   "cell_type": "markdown",
   "metadata": {},
   "source": [
    "## Определите автора с самой высокой средней оценкой книг — учитывайте только книги с 50 и более оценками"
   ]
  },
  {
   "cell_type": "code",
   "execution_count": 12,
   "metadata": {},
   "outputs": [
    {
     "data": {
      "text/html": [
       "<div>\n",
       "<style scoped>\n",
       "    .dataframe tbody tr th:only-of-type {\n",
       "        vertical-align: middle;\n",
       "    }\n",
       "\n",
       "    .dataframe tbody tr th {\n",
       "        vertical-align: top;\n",
       "    }\n",
       "\n",
       "    .dataframe thead th {\n",
       "        text-align: right;\n",
       "    }\n",
       "</style>\n",
       "<table border=\"1\" class=\"dataframe\">\n",
       "  <thead>\n",
       "    <tr style=\"text-align: right;\">\n",
       "      <th></th>\n",
       "      <th>author</th>\n",
       "      <th>avg_rating</th>\n",
       "      <th>count</th>\n",
       "    </tr>\n",
       "  </thead>\n",
       "  <tbody>\n",
       "    <tr>\n",
       "      <th>0</th>\n",
       "      <td>J.K. Rowling/Mary GrandPré</td>\n",
       "      <td>4.287097</td>\n",
       "      <td>310</td>\n",
       "    </tr>\n",
       "    <tr>\n",
       "      <th>1</th>\n",
       "      <td>Markus Zusak/Cao Xuân Việt Khương</td>\n",
       "      <td>4.264151</td>\n",
       "      <td>53</td>\n",
       "    </tr>\n",
       "    <tr>\n",
       "      <th>2</th>\n",
       "      <td>J.R.R. Tolkien</td>\n",
       "      <td>4.246914</td>\n",
       "      <td>162</td>\n",
       "    </tr>\n",
       "    <tr>\n",
       "      <th>3</th>\n",
       "      <td>Louisa May Alcott</td>\n",
       "      <td>4.192308</td>\n",
       "      <td>52</td>\n",
       "    </tr>\n",
       "    <tr>\n",
       "      <th>4</th>\n",
       "      <td>Rick Riordan</td>\n",
       "      <td>4.080645</td>\n",
       "      <td>62</td>\n",
       "    </tr>\n",
       "    <tr>\n",
       "      <th>5</th>\n",
       "      <td>William Golding</td>\n",
       "      <td>3.901408</td>\n",
       "      <td>71</td>\n",
       "    </tr>\n",
       "    <tr>\n",
       "      <th>6</th>\n",
       "      <td>J.D. Salinger</td>\n",
       "      <td>3.825581</td>\n",
       "      <td>86</td>\n",
       "    </tr>\n",
       "    <tr>\n",
       "      <th>7</th>\n",
       "      <td>Paulo Coelho/Alan R. Clarke/Özdemir İnce</td>\n",
       "      <td>3.789474</td>\n",
       "      <td>57</td>\n",
       "    </tr>\n",
       "    <tr>\n",
       "      <th>8</th>\n",
       "      <td>William Shakespeare/Paul Werstine/Barbara A. M...</td>\n",
       "      <td>3.787879</td>\n",
       "      <td>66</td>\n",
       "    </tr>\n",
       "    <tr>\n",
       "      <th>9</th>\n",
       "      <td>Lois Lowry</td>\n",
       "      <td>3.750000</td>\n",
       "      <td>56</td>\n",
       "    </tr>\n",
       "  </tbody>\n",
       "</table>\n",
       "</div>"
      ],
      "text/plain": [
       "                                              author  avg_rating  count\n",
       "0                         J.K. Rowling/Mary GrandPré    4.287097    310\n",
       "1                  Markus Zusak/Cao Xuân Việt Khương    4.264151     53\n",
       "2                                     J.R.R. Tolkien    4.246914    162\n",
       "3                                  Louisa May Alcott    4.192308     52\n",
       "4                                       Rick Riordan    4.080645     62\n",
       "5                                    William Golding    3.901408     71\n",
       "6                                      J.D. Salinger    3.825581     86\n",
       "7           Paulo Coelho/Alan R. Clarke/Özdemir İnce    3.789474     57\n",
       "8  William Shakespeare/Paul Werstine/Barbara A. M...    3.787879     66\n",
       "9                                         Lois Lowry    3.750000     56"
      ]
     },
     "execution_count": 12,
     "metadata": {},
     "output_type": "execute_result"
    }
   ],
   "source": [
    "query = '''\n",
    "select a.author , avg(r2.rating) as avg_rating, count(r2.rating)\n",
    "from books b\n",
    "join ratings r2 \n",
    "on b.book_id = r2.book_id\n",
    "join authors a \n",
    "on b.author_id = a.author_id \n",
    "where b.book_id  in (\n",
    "                        select bo.book_id\n",
    "                        from books bo, ratings r \n",
    "                        where bo.book_id = r.book_id \n",
    "                        group by bo.book_id\n",
    "                        having count(*) >= 50)\n",
    "group by a.author \n",
    "order by avg_rating desc\n",
    "limit 10'''\n",
    "sql(query)\n"
   ]
  },
  {
   "cell_type": "markdown",
   "metadata": {},
   "source": [
    "Роулинг поличила наиболее высокую среднюю оценку среди книг с 50 и более оценками."
   ]
  },
  {
   "cell_type": "markdown",
   "metadata": {},
   "source": [
    "## Посчитайте среднее количество обзоров от пользователей, которые поставили больше 50 оценок"
   ]
  },
  {
   "cell_type": "code",
   "execution_count": 13,
   "metadata": {},
   "outputs": [
    {
     "data": {
      "text/html": [
       "<div>\n",
       "<style scoped>\n",
       "    .dataframe tbody tr th:only-of-type {\n",
       "        vertical-align: middle;\n",
       "    }\n",
       "\n",
       "    .dataframe tbody tr th {\n",
       "        vertical-align: top;\n",
       "    }\n",
       "\n",
       "    .dataframe thead th {\n",
       "        text-align: right;\n",
       "    }\n",
       "</style>\n",
       "<table border=\"1\" class=\"dataframe\">\n",
       "  <thead>\n",
       "    <tr style=\"text-align: right;\">\n",
       "      <th></th>\n",
       "      <th>avg</th>\n",
       "    </tr>\n",
       "  </thead>\n",
       "  <tbody>\n",
       "    <tr>\n",
       "      <th>0</th>\n",
       "      <td>24.333333</td>\n",
       "    </tr>\n",
       "  </tbody>\n",
       "</table>\n",
       "</div>"
      ],
      "text/plain": [
       "         avg\n",
       "0  24.333333"
      ]
     },
     "execution_count": 13,
     "metadata": {},
     "output_type": "execute_result"
    }
   ],
   "source": [
    "query = '''\n",
    "select avg(count)\n",
    "from \n",
    "(select count (review_id)\n",
    "from reviews\n",
    "where username in\n",
    "(select username\n",
    "from ratings\n",
    "group by username\n",
    "HAVING count(rating) > 50)\n",
    "group by username) as count'''\n",
    "sql(query)\n"
   ]
  },
  {
   "cell_type": "markdown",
   "metadata": {},
   "source": [
    "Среднее количество обзоров от пользователей, которые поставили больше 50 оценок - 24"
   ]
  },
  {
   "cell_type": "markdown",
   "metadata": {},
   "source": [
    "# Вывод\n",
    "В ходе анализа базы данных сервиса для чтения книг по подписке, мы получили следующие результаты:\n",
    "\n",
    "- После января 2000 года вышло 819 книг\n",
    "- Самое большое количество обзоров на книгу 'Мемуары гейши', со средней оценкой 4.1\n",
    "- Издательство Penguin Books выпустило наибольшее число книг толще 50 страниц\n",
    "- Роулинг поличила наиболее высокую среднюю оценку среди книг с 50 и более оценками.\n",
    "- Среднее количество обзоров от пользователей, которые поставили больше 50 оценок - 24"
   ]
  }
 ],
 "metadata": {
  "ExecuteTimeLog": [
   {
    "duration": 8561,
    "start_time": "2022-12-03T09:52:51.921Z"
   },
   {
    "duration": 3,
    "start_time": "2022-12-03T09:54:08.679Z"
   },
   {
    "duration": 59,
    "start_time": "2022-12-03T09:55:39.281Z"
   },
   {
    "duration": 12,
    "start_time": "2022-12-03T09:55:57.070Z"
   },
   {
    "duration": 12,
    "start_time": "2022-12-03T09:57:22.880Z"
   },
   {
    "duration": 13,
    "start_time": "2022-12-03T09:58:01.716Z"
   },
   {
    "duration": 11,
    "start_time": "2022-12-03T09:58:03.646Z"
   },
   {
    "duration": 16,
    "start_time": "2022-12-03T09:58:49.203Z"
   },
   {
    "duration": 77,
    "start_time": "2022-12-03T10:01:39.980Z"
   },
   {
    "duration": 93,
    "start_time": "2022-12-03T10:02:12.838Z"
   },
   {
    "duration": 13,
    "start_time": "2022-12-03T10:02:33.240Z"
   },
   {
    "duration": 29,
    "start_time": "2022-12-03T10:04:13.637Z"
   },
   {
    "duration": 13,
    "start_time": "2022-12-03T10:04:44.646Z"
   },
   {
    "duration": 19,
    "start_time": "2022-12-03T10:06:21.986Z"
   },
   {
    "duration": 14,
    "start_time": "2022-12-03T10:06:52.644Z"
   },
   {
    "duration": 6162,
    "start_time": "2022-12-03T14:15:27.379Z"
   },
   {
    "duration": 12,
    "start_time": "2022-12-03T14:15:33.543Z"
   },
   {
    "duration": 272,
    "start_time": "2022-12-03T14:15:33.557Z"
   },
   {
    "duration": 71,
    "start_time": "2022-12-03T14:15:33.831Z"
   },
   {
    "duration": 71,
    "start_time": "2022-12-03T14:15:33.904Z"
   },
   {
    "duration": 74,
    "start_time": "2022-12-03T14:15:33.976Z"
   },
   {
    "duration": 74,
    "start_time": "2022-12-03T14:15:34.052Z"
   },
   {
    "duration": 70,
    "start_time": "2022-12-03T14:15:34.128Z"
   },
   {
    "duration": 90,
    "start_time": "2022-12-03T14:15:34.201Z"
   },
   {
    "duration": 73,
    "start_time": "2022-12-03T14:15:34.293Z"
   },
   {
    "duration": 77,
    "start_time": "2022-12-03T14:15:34.368Z"
   },
   {
    "duration": 75,
    "start_time": "2022-12-03T14:15:34.447Z"
   },
   {
    "duration": 79,
    "start_time": "2022-12-03T14:58:05.485Z"
   },
   {
    "duration": 252,
    "start_time": "2022-12-03T14:58:45.053Z"
   },
   {
    "duration": 168,
    "start_time": "2022-12-03T14:58:49.273Z"
   },
   {
    "duration": 148,
    "start_time": "2022-12-03T14:58:58.998Z"
   },
   {
    "duration": 162,
    "start_time": "2022-12-03T14:59:12.444Z"
   },
   {
    "duration": 77,
    "start_time": "2022-12-03T14:59:20.734Z"
   },
   {
    "duration": 151,
    "start_time": "2022-12-03T15:00:00.359Z"
   },
   {
    "duration": 201,
    "start_time": "2022-12-03T15:00:44.806Z"
   },
   {
    "duration": 173,
    "start_time": "2022-12-03T15:00:51.798Z"
   },
   {
    "duration": 90,
    "start_time": "2022-12-03T15:00:55.789Z"
   },
   {
    "duration": 173,
    "start_time": "2022-12-03T15:01:00.598Z"
   },
   {
    "duration": 150,
    "start_time": "2022-12-03T15:01:09.214Z"
   },
   {
    "duration": 79,
    "start_time": "2022-12-03T15:02:08.287Z"
   },
   {
    "duration": 90,
    "start_time": "2022-12-03T15:02:46.737Z"
   },
   {
    "duration": 127,
    "start_time": "2022-12-03T15:02:52.309Z"
   },
   {
    "duration": 149,
    "start_time": "2022-12-03T15:03:11.832Z"
   },
   {
    "duration": 78,
    "start_time": "2022-12-03T15:03:39.855Z"
   },
   {
    "duration": 79,
    "start_time": "2022-12-03T15:04:14.783Z"
   },
   {
    "duration": 143,
    "start_time": "2022-12-03T15:24:52.948Z"
   },
   {
    "duration": 171,
    "start_time": "2022-12-03T15:29:31.142Z"
   },
   {
    "duration": 139,
    "start_time": "2022-12-03T15:31:09.459Z"
   },
   {
    "duration": 140,
    "start_time": "2022-12-03T15:31:12.545Z"
   },
   {
    "duration": 76,
    "start_time": "2022-12-03T15:31:16.207Z"
   },
   {
    "duration": 87,
    "start_time": "2022-12-03T15:31:40.677Z"
   },
   {
    "duration": 74,
    "start_time": "2022-12-03T15:33:34.330Z"
   },
   {
    "duration": 80,
    "start_time": "2022-12-03T15:33:38.775Z"
   },
   {
    "duration": 123,
    "start_time": "2022-12-03T15:37:46.747Z"
   },
   {
    "duration": 118,
    "start_time": "2022-12-03T15:37:56.189Z"
   },
   {
    "duration": 123,
    "start_time": "2022-12-03T15:38:36.344Z"
   },
   {
    "duration": 116,
    "start_time": "2022-12-03T15:39:04.695Z"
   },
   {
    "duration": 133,
    "start_time": "2022-12-03T15:47:25.801Z"
   },
   {
    "duration": 111,
    "start_time": "2022-12-03T15:47:40.831Z"
   },
   {
    "duration": 136,
    "start_time": "2022-12-03T15:47:45.494Z"
   },
   {
    "duration": 111,
    "start_time": "2022-12-03T15:47:59.692Z"
   },
   {
    "duration": 164,
    "start_time": "2022-12-03T15:49:40.264Z"
   },
   {
    "duration": 122,
    "start_time": "2022-12-03T15:49:44.256Z"
   },
   {
    "duration": 127,
    "start_time": "2022-12-03T15:49:50.082Z"
   },
   {
    "duration": 126,
    "start_time": "2022-12-03T15:50:11.601Z"
   },
   {
    "duration": 119,
    "start_time": "2022-12-03T15:50:34.162Z"
   },
   {
    "duration": 114,
    "start_time": "2022-12-03T15:50:41.264Z"
   },
   {
    "duration": 124,
    "start_time": "2022-12-03T15:50:47.071Z"
   },
   {
    "duration": 129,
    "start_time": "2022-12-03T15:53:35.037Z"
   },
   {
    "duration": 117,
    "start_time": "2022-12-03T15:54:13.079Z"
   },
   {
    "duration": 135,
    "start_time": "2022-12-03T15:54:18.808Z"
   },
   {
    "duration": 106,
    "start_time": "2022-12-03T15:58:32.057Z"
   },
   {
    "duration": 92,
    "start_time": "2022-12-03T15:58:46.183Z"
   },
   {
    "duration": 87,
    "start_time": "2022-12-03T15:58:50.209Z"
   },
   {
    "duration": 122,
    "start_time": "2022-12-03T16:04:01.018Z"
   },
   {
    "duration": 87,
    "start_time": "2022-12-03T16:11:07.666Z"
   },
   {
    "duration": 217,
    "start_time": "2022-12-03T16:15:03.763Z"
   },
   {
    "duration": 154,
    "start_time": "2022-12-03T16:15:29.578Z"
   },
   {
    "duration": 151,
    "start_time": "2022-12-03T16:15:40.241Z"
   },
   {
    "duration": 103,
    "start_time": "2022-12-03T16:16:07.120Z"
   },
   {
    "duration": 93,
    "start_time": "2022-12-03T16:17:12.962Z"
   },
   {
    "duration": 88,
    "start_time": "2022-12-03T16:17:44.266Z"
   },
   {
    "duration": 97,
    "start_time": "2022-12-03T16:17:50.073Z"
   },
   {
    "duration": 101,
    "start_time": "2022-12-03T16:17:57.858Z"
   },
   {
    "duration": 92,
    "start_time": "2022-12-03T16:18:04.732Z"
   },
   {
    "duration": 75,
    "start_time": "2022-12-03T16:18:13.434Z"
   },
   {
    "duration": 159,
    "start_time": "2022-12-03T16:18:17.763Z"
   },
   {
    "duration": 94,
    "start_time": "2022-12-03T16:18:21.162Z"
   },
   {
    "duration": 161,
    "start_time": "2022-12-03T16:18:25.761Z"
   },
   {
    "duration": 93,
    "start_time": "2022-12-03T16:18:47.667Z"
   },
   {
    "duration": 82,
    "start_time": "2022-12-03T16:21:18.641Z"
   },
   {
    "duration": 145,
    "start_time": "2022-12-03T16:23:06.355Z"
   },
   {
    "duration": 153,
    "start_time": "2022-12-03T16:23:25.163Z"
   },
   {
    "duration": 96,
    "start_time": "2022-12-03T16:23:42.086Z"
   },
   {
    "duration": 90,
    "start_time": "2022-12-03T16:24:17.107Z"
   },
   {
    "duration": 105,
    "start_time": "2022-12-03T16:24:24.978Z"
   },
   {
    "duration": 101,
    "start_time": "2022-12-03T16:25:09.587Z"
   },
   {
    "duration": 97,
    "start_time": "2022-12-03T16:36:10.162Z"
   },
   {
    "duration": 100,
    "start_time": "2022-12-03T16:36:30.556Z"
   },
   {
    "duration": 153,
    "start_time": "2022-12-03T16:43:41.951Z"
   },
   {
    "duration": 139,
    "start_time": "2022-12-03T16:43:55.866Z"
   },
   {
    "duration": 155,
    "start_time": "2022-12-03T16:44:09.790Z"
   },
   {
    "duration": 146,
    "start_time": "2022-12-03T16:44:29.301Z"
   },
   {
    "duration": 145,
    "start_time": "2022-12-03T16:44:49.405Z"
   },
   {
    "duration": 150,
    "start_time": "2022-12-03T16:45:23.373Z"
   },
   {
    "duration": 159,
    "start_time": "2022-12-03T16:45:44.012Z"
   },
   {
    "duration": 136,
    "start_time": "2022-12-03T16:45:48.731Z"
   },
   {
    "duration": 84,
    "start_time": "2022-12-03T16:46:07.630Z"
   },
   {
    "duration": 156,
    "start_time": "2022-12-03T16:46:34.912Z"
   },
   {
    "duration": 160,
    "start_time": "2022-12-03T16:46:40.635Z"
   },
   {
    "duration": 86,
    "start_time": "2022-12-03T16:46:52.998Z"
   },
   {
    "duration": 933331,
    "start_time": "2022-12-03T16:47:17.053Z"
   },
   {
    "duration": 5259,
    "start_time": "2022-12-03T18:06:01.345Z"
   },
   {
    "duration": 3,
    "start_time": "2022-12-03T18:06:06.606Z"
   },
   {
    "duration": 288,
    "start_time": "2022-12-03T18:06:06.612Z"
   },
   {
    "duration": 71,
    "start_time": "2022-12-03T18:06:06.902Z"
   },
   {
    "duration": 73,
    "start_time": "2022-12-03T18:06:06.975Z"
   },
   {
    "duration": 72,
    "start_time": "2022-12-03T18:06:07.050Z"
   },
   {
    "duration": 73,
    "start_time": "2022-12-03T18:06:07.124Z"
   },
   {
    "duration": 70,
    "start_time": "2022-12-03T18:06:07.198Z"
   },
   {
    "duration": 88,
    "start_time": "2022-12-03T18:06:07.270Z"
   },
   {
    "duration": 72,
    "start_time": "2022-12-03T18:06:07.360Z"
   },
   {
    "duration": 77,
    "start_time": "2022-12-03T18:06:07.434Z"
   },
   {
    "duration": 73,
    "start_time": "2022-12-03T18:06:07.512Z"
   },
   {
    "duration": 5165,
    "start_time": "2022-12-03T18:07:34.799Z"
   },
   {
    "duration": 3,
    "start_time": "2022-12-03T18:07:39.966Z"
   },
   {
    "duration": 272,
    "start_time": "2022-12-03T18:07:39.970Z"
   },
   {
    "duration": 76,
    "start_time": "2022-12-03T18:07:40.244Z"
   },
   {
    "duration": 75,
    "start_time": "2022-12-03T18:07:40.322Z"
   },
   {
    "duration": 78,
    "start_time": "2022-12-03T18:07:40.398Z"
   },
   {
    "duration": 77,
    "start_time": "2022-12-03T18:07:40.477Z"
   },
   {
    "duration": 75,
    "start_time": "2022-12-03T18:07:40.556Z"
   },
   {
    "duration": 93,
    "start_time": "2022-12-03T18:07:40.633Z"
   },
   {
    "duration": 76,
    "start_time": "2022-12-03T18:07:40.728Z"
   },
   {
    "duration": 80,
    "start_time": "2022-12-03T18:07:40.806Z"
   },
   {
    "duration": 77,
    "start_time": "2022-12-03T18:07:40.888Z"
   },
   {
    "duration": 76,
    "start_time": "2022-12-03T18:38:00.360Z"
   },
   {
    "duration": 5659,
    "start_time": "2022-12-03T18:38:04.734Z"
   },
   {
    "duration": 2,
    "start_time": "2022-12-03T18:38:10.395Z"
   },
   {
    "duration": 284,
    "start_time": "2022-12-03T18:38:10.399Z"
   },
   {
    "duration": 80,
    "start_time": "2022-12-03T18:38:10.685Z"
   },
   {
    "duration": 79,
    "start_time": "2022-12-03T18:38:10.768Z"
   },
   {
    "duration": 77,
    "start_time": "2022-12-03T18:38:10.849Z"
   },
   {
    "duration": 78,
    "start_time": "2022-12-03T18:38:10.927Z"
   },
   {
    "duration": 76,
    "start_time": "2022-12-03T18:38:11.007Z"
   },
   {
    "duration": 78,
    "start_time": "2022-12-03T18:38:11.195Z"
   },
   {
    "duration": 82,
    "start_time": "2022-12-03T18:38:11.275Z"
   },
   {
    "duration": 79,
    "start_time": "2022-12-03T18:38:11.358Z"
   },
   {
    "duration": 96,
    "start_time": "2022-12-03T18:38:11.438Z"
   },
   {
    "duration": 523,
    "start_time": "2022-12-03T18:38:51.451Z"
   },
   {
    "duration": 5182,
    "start_time": "2022-12-03T18:38:51.976Z"
   },
   {
    "duration": 3,
    "start_time": "2022-12-03T18:38:57.160Z"
   },
   {
    "duration": 257,
    "start_time": "2022-12-03T18:38:57.165Z"
   },
   {
    "duration": 73,
    "start_time": "2022-12-03T18:38:57.424Z"
   },
   {
    "duration": 75,
    "start_time": "2022-12-03T18:38:57.498Z"
   },
   {
    "duration": 73,
    "start_time": "2022-12-03T18:38:57.575Z"
   },
   {
    "duration": 77,
    "start_time": "2022-12-03T18:38:57.649Z"
   },
   {
    "duration": 73,
    "start_time": "2022-12-03T18:38:57.727Z"
   },
   {
    "duration": 106,
    "start_time": "2022-12-03T18:38:57.801Z"
   },
   {
    "duration": 78,
    "start_time": "2022-12-03T18:38:57.909Z"
   },
   {
    "duration": 79,
    "start_time": "2022-12-03T18:38:57.989Z"
   },
   {
    "duration": 75,
    "start_time": "2022-12-03T18:38:58.070Z"
   },
   {
    "duration": 569,
    "start_time": "2022-12-03T18:58:00.394Z"
   },
   {
    "duration": 5409,
    "start_time": "2022-12-03T18:58:00.965Z"
   },
   {
    "duration": 3,
    "start_time": "2022-12-03T18:58:06.376Z"
   },
   {
    "duration": 290,
    "start_time": "2022-12-03T18:58:06.382Z"
   },
   {
    "duration": 71,
    "start_time": "2022-12-03T18:58:06.674Z"
   },
   {
    "duration": 71,
    "start_time": "2022-12-03T18:58:06.747Z"
   },
   {
    "duration": 72,
    "start_time": "2022-12-03T18:58:06.820Z"
   },
   {
    "duration": 73,
    "start_time": "2022-12-03T18:58:06.893Z"
   },
   {
    "duration": 71,
    "start_time": "2022-12-03T18:58:06.968Z"
   },
   {
    "duration": 103,
    "start_time": "2022-12-03T18:58:07.041Z"
   },
   {
    "duration": 73,
    "start_time": "2022-12-03T18:58:07.145Z"
   },
   {
    "duration": 77,
    "start_time": "2022-12-03T18:58:07.220Z"
   },
   {
    "duration": 75,
    "start_time": "2022-12-03T18:58:07.299Z"
   }
  ],
  "kernelspec": {
   "display_name": "Python 3 (ipykernel)",
   "language": "python",
   "name": "python3"
  },
  "language_info": {
   "codemirror_mode": {
    "name": "ipython",
    "version": 3
   },
   "file_extension": ".py",
   "mimetype": "text/x-python",
   "name": "python",
   "nbconvert_exporter": "python",
   "pygments_lexer": "ipython3",
   "version": "3.9.5"
  },
  "toc": {
   "base_numbering": 1,
   "nav_menu": {},
   "number_sections": true,
   "sideBar": true,
   "skip_h1_title": true,
   "title_cell": "Table of Contents",
   "title_sidebar": "Contents",
   "toc_cell": false,
   "toc_position": {},
   "toc_section_display": true,
   "toc_window_display": false
  }
 },
 "nbformat": 4,
 "nbformat_minor": 2
}
