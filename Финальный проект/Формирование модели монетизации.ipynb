{
 "cells": [
  {
   "cell_type": "markdown",
   "metadata": {},
   "source": [
    "# Материалы \n",
    "\n",
    "- Презентация https://disk.yandex.ru/i/nvV4sztw8esdww\n",
    "- Дешборд https://public.tableau.com/views/game_16695438887000/Dashboard1?:language=en-US&publish=yes&:display_count=n&:origin=viz_share_link"
   ]
  },
  {
   "cell_type": "markdown",
   "metadata": {},
   "source": [
    "# Содержание \n",
    "- 1)  Загрузим данные\n",
    "- 2)  Исследовательский анализ данных\n",
    "- 3)  Сформируем модель монетизации\n",
    "- 4)  Проанализируем влияние событий на совершение целевого события\n",
    "- 5)  Проверим статистические гипотезы\n",
    "- 5.1)  Подготовим данные\n",
    "- 5.2)  Проверим гипотезу: 'Среднее время прохождения уровня между PVE и PVP пользователями не различается\"\n",
    "- 5.3)  Проверим гипотезу: 'Среднее количество построенных зданий пользователями, привлеченных из каналов yandex_direct и youtube_channel_reklama, не различается\"\n",
    "- 6)  Вывод"
   ]
  },
  {
   "cell_type": "markdown",
   "metadata": {},
   "source": [
    "# Проект Формирование модели монетизации"
   ]
  },
  {
   "cell_type": "markdown",
   "metadata": {},
   "source": [
    "Задача: Сформировать модель монетизации игрового приложения.\n",
    "\n",
    "- Провести исследовательский анализ данных\n",
    "\n",
    "- Проанализивать влияние событий на совершение целевого события\n",
    "\n",
    "- Проверить статистические гипотезы\n",
    "\n",
    "Проверьте гипотезу различия времени прохождения уровня между пользователями, которые заканчивают уровень через реализацию проекта, и пользователями, которые заканчивают уровень победой над другим игроком.\n",
    "\n",
    "Сформулируйте и проверьте статистическую гипотезу относительно представленных данных\n",
    "\n",
    "Основная монетизация игры — только планируется. Но предполагается, что в приложении будет происходить показ рекламы на экране с выбором типа объекта для постройки. В датасете представлены данные по игре пользователей на первом уровне. Завершение первого уровня требует от игрока выполнения одного из двух условий:\n",
    "\n",
    "Победа над первым врагом\n",
    "Реализация проекта - разработка орбитальной сборки спутников\n",
    "В датасете содержатся данные первых пользователей приложения — когорты пользователей, которые начали пользоваться приложением в период с 4 по 10 мая включительно"
   ]
  },
  {
   "cell_type": "markdown",
   "metadata": {},
   "source": [
    "## Загрузим данные"
   ]
  },
  {
   "cell_type": "code",
   "execution_count": 1,
   "metadata": {},
   "outputs": [],
   "source": [
    "import pandas as pd\n",
    "import numpy as np\n",
    "import seaborn as sns\n",
    "import matplotlib.pyplot as plt\n",
    "from scipy import stats as st\n",
    "from datetime import datetime, timedelta\n",
    "import warnings\n",
    "warnings.filterwarnings('ignore')"
   ]
  },
  {
   "cell_type": "code",
   "execution_count": 2,
   "metadata": {},
   "outputs": [],
   "source": [
    "game_actions = pd.read_csv('/datasets/game_actions.csv')\n",
    "ad_costs = pd.read_csv('/datasets/ad_costs.csv')\n",
    "user_source = pd.read_csv('/datasets/user_source.csv')"
   ]
  },
  {
   "cell_type": "code",
   "execution_count": 3,
   "metadata": {},
   "outputs": [
    {
     "data": {
      "text/html": [
       "<div>\n",
       "<style scoped>\n",
       "    .dataframe tbody tr th:only-of-type {\n",
       "        vertical-align: middle;\n",
       "    }\n",
       "\n",
       "    .dataframe tbody tr th {\n",
       "        vertical-align: top;\n",
       "    }\n",
       "\n",
       "    .dataframe thead th {\n",
       "        text-align: right;\n",
       "    }\n",
       "</style>\n",
       "<table border=\"1\" class=\"dataframe\">\n",
       "  <thead>\n",
       "    <tr style=\"text-align: right;\">\n",
       "      <th></th>\n",
       "      <th>event_datetime</th>\n",
       "      <th>event</th>\n",
       "      <th>building_type</th>\n",
       "      <th>user_id</th>\n",
       "      <th>project_type</th>\n",
       "    </tr>\n",
       "  </thead>\n",
       "  <tbody>\n",
       "    <tr>\n",
       "      <th>0</th>\n",
       "      <td>2020-05-04 00:00:01</td>\n",
       "      <td>building</td>\n",
       "      <td>assembly_shop</td>\n",
       "      <td>55e92310-cb8e-4754-b622-597e124b03de</td>\n",
       "      <td>NaN</td>\n",
       "    </tr>\n",
       "    <tr>\n",
       "      <th>1</th>\n",
       "      <td>2020-05-04 00:00:03</td>\n",
       "      <td>building</td>\n",
       "      <td>assembly_shop</td>\n",
       "      <td>c07b1c10-f477-44dc-81dc-ec82254b1347</td>\n",
       "      <td>NaN</td>\n",
       "    </tr>\n",
       "    <tr>\n",
       "      <th>2</th>\n",
       "      <td>2020-05-04 00:00:16</td>\n",
       "      <td>building</td>\n",
       "      <td>assembly_shop</td>\n",
       "      <td>6edd42cc-e753-4ff6-a947-2107cd560710</td>\n",
       "      <td>NaN</td>\n",
       "    </tr>\n",
       "    <tr>\n",
       "      <th>3</th>\n",
       "      <td>2020-05-04 00:00:16</td>\n",
       "      <td>building</td>\n",
       "      <td>assembly_shop</td>\n",
       "      <td>92c69003-d60a-444a-827f-8cc51bf6bf4c</td>\n",
       "      <td>NaN</td>\n",
       "    </tr>\n",
       "    <tr>\n",
       "      <th>4</th>\n",
       "      <td>2020-05-04 00:00:35</td>\n",
       "      <td>building</td>\n",
       "      <td>assembly_shop</td>\n",
       "      <td>cdc6bb92-0ccb-4490-9866-ef142f09139d</td>\n",
       "      <td>NaN</td>\n",
       "    </tr>\n",
       "  </tbody>\n",
       "</table>\n",
       "</div>"
      ],
      "text/plain": [
       "        event_datetime     event  building_type  \\\n",
       "0  2020-05-04 00:00:01  building  assembly_shop   \n",
       "1  2020-05-04 00:00:03  building  assembly_shop   \n",
       "2  2020-05-04 00:00:16  building  assembly_shop   \n",
       "3  2020-05-04 00:00:16  building  assembly_shop   \n",
       "4  2020-05-04 00:00:35  building  assembly_shop   \n",
       "\n",
       "                                user_id project_type  \n",
       "0  55e92310-cb8e-4754-b622-597e124b03de          NaN  \n",
       "1  c07b1c10-f477-44dc-81dc-ec82254b1347          NaN  \n",
       "2  6edd42cc-e753-4ff6-a947-2107cd560710          NaN  \n",
       "3  92c69003-d60a-444a-827f-8cc51bf6bf4c          NaN  \n",
       "4  cdc6bb92-0ccb-4490-9866-ef142f09139d          NaN  "
      ]
     },
     "metadata": {},
     "output_type": "display_data"
    },
    {
     "name": "stdout",
     "output_type": "stream",
     "text": [
      "<class 'pandas.core.frame.DataFrame'>\n",
      "RangeIndex: 135640 entries, 0 to 135639\n",
      "Data columns (total 5 columns):\n",
      " #   Column          Non-Null Count   Dtype \n",
      "---  ------          --------------   ----- \n",
      " 0   event_datetime  135640 non-null  object\n",
      " 1   event           135640 non-null  object\n",
      " 2   building_type   127957 non-null  object\n",
      " 3   user_id         135640 non-null  object\n",
      " 4   project_type    1866 non-null    object\n",
      "dtypes: object(5)\n",
      "memory usage: 5.2+ MB\n"
     ]
    },
    {
     "data": {
      "text/plain": [
       "event_datetime         0\n",
       "event                  0\n",
       "building_type       7683\n",
       "user_id                0\n",
       "project_type      133774\n",
       "dtype: int64"
      ]
     },
     "metadata": {},
     "output_type": "display_data"
    },
    {
     "name": "stdout",
     "output_type": "stream",
     "text": [
      "**************************************************\n"
     ]
    },
    {
     "data": {
      "text/html": [
       "<div>\n",
       "<style scoped>\n",
       "    .dataframe tbody tr th:only-of-type {\n",
       "        vertical-align: middle;\n",
       "    }\n",
       "\n",
       "    .dataframe tbody tr th {\n",
       "        vertical-align: top;\n",
       "    }\n",
       "\n",
       "    .dataframe thead th {\n",
       "        text-align: right;\n",
       "    }\n",
       "</style>\n",
       "<table border=\"1\" class=\"dataframe\">\n",
       "  <thead>\n",
       "    <tr style=\"text-align: right;\">\n",
       "      <th></th>\n",
       "      <th>source</th>\n",
       "      <th>day</th>\n",
       "      <th>cost</th>\n",
       "    </tr>\n",
       "  </thead>\n",
       "  <tbody>\n",
       "    <tr>\n",
       "      <th>0</th>\n",
       "      <td>facebook_ads</td>\n",
       "      <td>2020-05-03</td>\n",
       "      <td>935.882786</td>\n",
       "    </tr>\n",
       "    <tr>\n",
       "      <th>1</th>\n",
       "      <td>facebook_ads</td>\n",
       "      <td>2020-05-04</td>\n",
       "      <td>548.354480</td>\n",
       "    </tr>\n",
       "    <tr>\n",
       "      <th>2</th>\n",
       "      <td>facebook_ads</td>\n",
       "      <td>2020-05-05</td>\n",
       "      <td>260.185754</td>\n",
       "    </tr>\n",
       "    <tr>\n",
       "      <th>3</th>\n",
       "      <td>facebook_ads</td>\n",
       "      <td>2020-05-06</td>\n",
       "      <td>177.982200</td>\n",
       "    </tr>\n",
       "    <tr>\n",
       "      <th>4</th>\n",
       "      <td>facebook_ads</td>\n",
       "      <td>2020-05-07</td>\n",
       "      <td>111.766796</td>\n",
       "    </tr>\n",
       "  </tbody>\n",
       "</table>\n",
       "</div>"
      ],
      "text/plain": [
       "         source         day        cost\n",
       "0  facebook_ads  2020-05-03  935.882786\n",
       "1  facebook_ads  2020-05-04  548.354480\n",
       "2  facebook_ads  2020-05-05  260.185754\n",
       "3  facebook_ads  2020-05-06  177.982200\n",
       "4  facebook_ads  2020-05-07  111.766796"
      ]
     },
     "metadata": {},
     "output_type": "display_data"
    },
    {
     "name": "stdout",
     "output_type": "stream",
     "text": [
      "<class 'pandas.core.frame.DataFrame'>\n",
      "RangeIndex: 28 entries, 0 to 27\n",
      "Data columns (total 3 columns):\n",
      " #   Column  Non-Null Count  Dtype  \n",
      "---  ------  --------------  -----  \n",
      " 0   source  28 non-null     object \n",
      " 1   day     28 non-null     object \n",
      " 2   cost    28 non-null     float64\n",
      "dtypes: float64(1), object(2)\n",
      "memory usage: 800.0+ bytes\n"
     ]
    },
    {
     "data": {
      "text/plain": [
       "source    0\n",
       "day       0\n",
       "cost      0\n",
       "dtype: int64"
      ]
     },
     "metadata": {},
     "output_type": "display_data"
    },
    {
     "name": "stdout",
     "output_type": "stream",
     "text": [
      "**************************************************\n"
     ]
    },
    {
     "data": {
      "text/html": [
       "<div>\n",
       "<style scoped>\n",
       "    .dataframe tbody tr th:only-of-type {\n",
       "        vertical-align: middle;\n",
       "    }\n",
       "\n",
       "    .dataframe tbody tr th {\n",
       "        vertical-align: top;\n",
       "    }\n",
       "\n",
       "    .dataframe thead th {\n",
       "        text-align: right;\n",
       "    }\n",
       "</style>\n",
       "<table border=\"1\" class=\"dataframe\">\n",
       "  <thead>\n",
       "    <tr style=\"text-align: right;\">\n",
       "      <th></th>\n",
       "      <th>user_id</th>\n",
       "      <th>source</th>\n",
       "    </tr>\n",
       "  </thead>\n",
       "  <tbody>\n",
       "    <tr>\n",
       "      <th>0</th>\n",
       "      <td>0001f83c-c6ac-4621-b7f0-8a28b283ac30</td>\n",
       "      <td>facebook_ads</td>\n",
       "    </tr>\n",
       "    <tr>\n",
       "      <th>1</th>\n",
       "      <td>00151b4f-ba38-44a8-a650-d7cf130a0105</td>\n",
       "      <td>yandex_direct</td>\n",
       "    </tr>\n",
       "    <tr>\n",
       "      <th>2</th>\n",
       "      <td>001aaea6-3d14-43f1-8ca8-7f48820f17aa</td>\n",
       "      <td>youtube_channel_reklama</td>\n",
       "    </tr>\n",
       "    <tr>\n",
       "      <th>3</th>\n",
       "      <td>001d39dc-366c-4021-9604-6a3b9ff01e25</td>\n",
       "      <td>instagram_new_adverts</td>\n",
       "    </tr>\n",
       "    <tr>\n",
       "      <th>4</th>\n",
       "      <td>002f508f-67b6-479f-814b-b05f00d4e995</td>\n",
       "      <td>facebook_ads</td>\n",
       "    </tr>\n",
       "  </tbody>\n",
       "</table>\n",
       "</div>"
      ],
      "text/plain": [
       "                                user_id                   source\n",
       "0  0001f83c-c6ac-4621-b7f0-8a28b283ac30             facebook_ads\n",
       "1  00151b4f-ba38-44a8-a650-d7cf130a0105            yandex_direct\n",
       "2  001aaea6-3d14-43f1-8ca8-7f48820f17aa  youtube_channel_reklama\n",
       "3  001d39dc-366c-4021-9604-6a3b9ff01e25    instagram_new_adverts\n",
       "4  002f508f-67b6-479f-814b-b05f00d4e995             facebook_ads"
      ]
     },
     "metadata": {},
     "output_type": "display_data"
    },
    {
     "name": "stdout",
     "output_type": "stream",
     "text": [
      "<class 'pandas.core.frame.DataFrame'>\n",
      "RangeIndex: 13576 entries, 0 to 13575\n",
      "Data columns (total 2 columns):\n",
      " #   Column   Non-Null Count  Dtype \n",
      "---  ------   --------------  ----- \n",
      " 0   user_id  13576 non-null  object\n",
      " 1   source   13576 non-null  object\n",
      "dtypes: object(2)\n",
      "memory usage: 212.2+ KB\n"
     ]
    },
    {
     "data": {
      "text/plain": [
       "user_id    0\n",
       "source     0\n",
       "dtype: int64"
      ]
     },
     "metadata": {},
     "output_type": "display_data"
    },
    {
     "name": "stdout",
     "output_type": "stream",
     "text": [
      "**************************************************\n"
     ]
    }
   ],
   "source": [
    "df_list = game_actions, ad_costs, user_source\n",
    "for df in df_list:\n",
    "    df.duplicated().sum()\n",
    "    display(df.head())\n",
    "    df.info()\n",
    "    display(df.isna().sum())\n",
    "    print(50* '*')#Посмотрим на данные"
   ]
  },
  {
   "cell_type": "code",
   "execution_count": 4,
   "metadata": {},
   "outputs": [
    {
     "data": {
      "text/html": [
       "<div>\n",
       "<style scoped>\n",
       "    .dataframe tbody tr th:only-of-type {\n",
       "        vertical-align: middle;\n",
       "    }\n",
       "\n",
       "    .dataframe tbody tr th {\n",
       "        vertical-align: top;\n",
       "    }\n",
       "\n",
       "    .dataframe thead th {\n",
       "        text-align: right;\n",
       "    }\n",
       "</style>\n",
       "<table border=\"1\" class=\"dataframe\">\n",
       "  <thead>\n",
       "    <tr style=\"text-align: right;\">\n",
       "      <th></th>\n",
       "      <th>event_datetime</th>\n",
       "      <th>event</th>\n",
       "      <th>building_type</th>\n",
       "      <th>user_id</th>\n",
       "      <th>project_type</th>\n",
       "    </tr>\n",
       "  </thead>\n",
       "  <tbody>\n",
       "    <tr>\n",
       "      <th>count</th>\n",
       "      <td>135640</td>\n",
       "      <td>135640</td>\n",
       "      <td>127957</td>\n",
       "      <td>135640</td>\n",
       "      <td>1866</td>\n",
       "    </tr>\n",
       "    <tr>\n",
       "      <th>unique</th>\n",
       "      <td>128790</td>\n",
       "      <td>3</td>\n",
       "      <td>3</td>\n",
       "      <td>13576</td>\n",
       "      <td>1</td>\n",
       "    </tr>\n",
       "    <tr>\n",
       "      <th>top</th>\n",
       "      <td>2020-05-08 21:56:19</td>\n",
       "      <td>building</td>\n",
       "      <td>spaceport</td>\n",
       "      <td>bf542075-e3a2-4e79-82d8-3838e86d2a25</td>\n",
       "      <td>satellite_orbital_assembly</td>\n",
       "    </tr>\n",
       "    <tr>\n",
       "      <th>freq</th>\n",
       "      <td>4</td>\n",
       "      <td>127957</td>\n",
       "      <td>59325</td>\n",
       "      <td>22</td>\n",
       "      <td>1866</td>\n",
       "    </tr>\n",
       "  </tbody>\n",
       "</table>\n",
       "</div>"
      ],
      "text/plain": [
       "             event_datetime     event building_type  \\\n",
       "count                135640    135640        127957   \n",
       "unique               128790         3             3   \n",
       "top     2020-05-08 21:56:19  building     spaceport   \n",
       "freq                      4    127957         59325   \n",
       "\n",
       "                                     user_id                project_type  \n",
       "count                                 135640                        1866  \n",
       "unique                                 13576                           1  \n",
       "top     bf542075-e3a2-4e79-82d8-3838e86d2a25  satellite_orbital_assembly  \n",
       "freq                                      22                        1866  "
      ]
     },
     "execution_count": 4,
     "metadata": {},
     "output_type": "execute_result"
    }
   ],
   "source": [
    "game_actions.describe()"
   ]
  },
  {
   "cell_type": "code",
   "execution_count": 5,
   "metadata": {},
   "outputs": [
    {
     "data": {
      "text/plain": [
       "(1, 0, 0)"
      ]
     },
     "execution_count": 5,
     "metadata": {},
     "output_type": "execute_result"
    }
   ],
   "source": [
    "game_actions.duplicated().sum(), ad_costs.duplicated().sum(), user_source.duplicated().sum()"
   ]
  },
  {
   "cell_type": "code",
   "execution_count": 6,
   "metadata": {},
   "outputs": [],
   "source": [
    "game_actions = game_actions.drop_duplicates()"
   ]
  },
  {
   "cell_type": "code",
   "execution_count": 7,
   "metadata": {},
   "outputs": [
    {
     "data": {
      "text/plain": [
       "array([nan, 'satellite_orbital_assembly'], dtype=object)"
      ]
     },
     "execution_count": 7,
     "metadata": {},
     "output_type": "execute_result"
    }
   ],
   "source": [
    "game_actions['project_type'].unique()"
   ]
  },
  {
   "cell_type": "code",
   "execution_count": 8,
   "metadata": {},
   "outputs": [
    {
     "data": {
      "text/plain": [
       "array(['building', 'finished_stage_1', 'project'], dtype=object)"
      ]
     },
     "execution_count": 8,
     "metadata": {},
     "output_type": "execute_result"
    }
   ],
   "source": [
    "game_actions['event'].unique()"
   ]
  },
  {
   "cell_type": "code",
   "execution_count": 9,
   "metadata": {},
   "outputs": [
    {
     "data": {
      "text/plain": [
       "7683"
      ]
     },
     "execution_count": 9,
     "metadata": {},
     "output_type": "execute_result"
    }
   ],
   "source": [
    "(len(game_actions.loc[:, ['building_type', 'event']].query('event == \"finished_stage_1\"')) \n",
    "+ len(game_actions.loc[:, ['building_type', 'event']].query('event == \"project\"')))"
   ]
  },
  {
   "cell_type": "markdown",
   "metadata": {},
   "source": [
    "События finished_stage_1 и project не являются зданиями, т.е. не отображаются в building_type, количество пропусков в building_type соответвует сумме событий finished_stage_1 и project. Пропуски не требуют заполнения."
   ]
  },
  {
   "cell_type": "code",
   "execution_count": 10,
   "metadata": {},
   "outputs": [],
   "source": [
    "game_actions['date'] = pd.to_datetime(game_actions['event_datetime']).dt.date\n",
    "ad_costs['day'] = pd.to_datetime(ad_costs['day'])"
   ]
  },
  {
   "cell_type": "markdown",
   "metadata": {},
   "source": [
    "# Вывод \n",
    "В основном датасете game_actions 5 колонок, 133774 строк. Обнаружен и удален один дубликат. Пропуски в датасете объясняются разным типом событий в колонках и не требуют заполнения. В датасетах ad_costs и user_source пропуски и дубликаты отсутствуют. В user_id количество уникальных пользователей соответствует количеству уникальных пользователей в game_actions."
   ]
  },
  {
   "cell_type": "markdown",
   "metadata": {},
   "source": [
    "## Исследовательский анализ данных"
   ]
  },
  {
   "cell_type": "code",
   "execution_count": 11,
   "metadata": {},
   "outputs": [
    {
     "data": {
      "text/plain": [
       "'2020-05-04 00:00:01'"
      ]
     },
     "execution_count": 11,
     "metadata": {},
     "output_type": "execute_result"
    }
   ],
   "source": [
    "game_actions['event_datetime'].min()#первое событие"
   ]
  },
  {
   "cell_type": "code",
   "execution_count": 12,
   "metadata": {},
   "outputs": [
    {
     "data": {
      "text/plain": [
       "'2020-06-05 12:32:49'"
      ]
     },
     "execution_count": 12,
     "metadata": {},
     "output_type": "execute_result"
    }
   ],
   "source": [
    "game_actions['event_datetime'].max()#последнее событие"
   ]
  },
  {
   "cell_type": "code",
   "execution_count": 13,
   "metadata": {},
   "outputs": [
    {
     "data": {
      "text/plain": [
       "13576"
      ]
     },
     "execution_count": 13,
     "metadata": {},
     "output_type": "execute_result"
    }
   ],
   "source": [
    "df['user_id'].nunique()#количесвто уникальных юзеров"
   ]
  },
  {
   "cell_type": "code",
   "execution_count": 14,
   "metadata": {},
   "outputs": [
    {
     "data": {
      "image/png": "[encoded data removed]",
      "text/plain": [
       "<Figure size 864x432 with 1 Axes>"
      ]
     },
     "metadata": {
      "needs_background": "light"
     },
     "output_type": "display_data"
    }
   ],
   "source": [
    "game_actions.groupby('date').agg({'user_id': 'nunique'}).plot(figsize = (12, 6))\n",
    "plt.ylabel('Количество уникальных игроков в день')\n",
    "plt.xlabel('Дата')\n",
    "plt.title('DAU')\n",
    "plt.grid()\n",
    "plt.show();"
   ]
  },
  {
   "cell_type": "markdown",
   "metadata": {},
   "source": [
    "За неделю рекламной кампании привлечено 13576 игроков, после окончания рекламной кампании уникальных игроков падает, до конца месяца юзеры либо уходят в отток, либо переходят на следующий уровень."
   ]
  },
  {
   "cell_type": "code",
   "execution_count": 15,
   "metadata": {},
   "outputs": [
    {
     "data": {
      "text/html": [
       "<div>\n",
       "<style scoped>\n",
       "    .dataframe tbody tr th:only-of-type {\n",
       "        vertical-align: middle;\n",
       "    }\n",
       "\n",
       "    .dataframe tbody tr th {\n",
       "        vertical-align: top;\n",
       "    }\n",
       "\n",
       "    .dataframe thead th {\n",
       "        text-align: right;\n",
       "    }\n",
       "</style>\n",
       "<table border=\"1\" class=\"dataframe\">\n",
       "  <thead>\n",
       "    <tr style=\"text-align: right;\">\n",
       "      <th></th>\n",
       "      <th>event_datetime</th>\n",
       "    </tr>\n",
       "  </thead>\n",
       "  <tbody>\n",
       "    <tr>\n",
       "      <th>count</th>\n",
       "      <td>13576.000000</td>\n",
       "    </tr>\n",
       "    <tr>\n",
       "      <th>mean</th>\n",
       "      <td>9.991087</td>\n",
       "    </tr>\n",
       "    <tr>\n",
       "      <th>std</th>\n",
       "      <td>4.146133</td>\n",
       "    </tr>\n",
       "    <tr>\n",
       "      <th>min</th>\n",
       "      <td>1.000000</td>\n",
       "    </tr>\n",
       "    <tr>\n",
       "      <th>25%</th>\n",
       "      <td>6.000000</td>\n",
       "    </tr>\n",
       "    <tr>\n",
       "      <th>50%</th>\n",
       "      <td>10.000000</td>\n",
       "    </tr>\n",
       "    <tr>\n",
       "      <th>75%</th>\n",
       "      <td>13.000000</td>\n",
       "    </tr>\n",
       "    <tr>\n",
       "      <th>max</th>\n",
       "      <td>22.000000</td>\n",
       "    </tr>\n",
       "  </tbody>\n",
       "</table>\n",
       "</div>"
      ],
      "text/plain": [
       "       event_datetime\n",
       "count    13576.000000\n",
       "mean         9.991087\n",
       "std          4.146133\n",
       "min          1.000000\n",
       "25%          6.000000\n",
       "50%         10.000000\n",
       "75%         13.000000\n",
       "max         22.000000"
      ]
     },
     "execution_count": 15,
     "metadata": {},
     "output_type": "execute_result"
    }
   ],
   "source": [
    "game_actions.groupby('user_id').agg({'event_datetime': 'count'}).describe()"
   ]
  },
  {
   "cell_type": "code",
   "execution_count": 16,
   "metadata": {},
   "outputs": [
    {
     "data": {
      "image/png": "[encoded data removed]",
      "text/plain": [
       "<Figure size 576x288 with 1 Axes>"
      ]
     },
     "metadata": {
      "needs_background": "light"
     },
     "output_type": "display_data"
    }
   ],
   "source": [
    "game_actions.groupby('event').agg({'event' : 'count'}).plot(kind= 'bar', figsize = (8, 4))\n",
    "plt.xlabel(\"Тип события\")\n",
    "plt.ylabel(\"Количество событий\")\n",
    "plt.title('Столбчатая диаграмма по количеству возможных событий')\n",
    "plt.show();"
   ]
  },
  {
   "cell_type": "code",
   "execution_count": 51,
   "metadata": {},
   "outputs": [
    {
     "data": {
      "text/html": [
       "<div>\n",
       "<style scoped>\n",
       "    .dataframe tbody tr th:only-of-type {\n",
       "        vertical-align: middle;\n",
       "    }\n",
       "\n",
       "    .dataframe tbody tr th {\n",
       "        vertical-align: top;\n",
       "    }\n",
       "\n",
       "    .dataframe thead th {\n",
       "        text-align: right;\n",
       "    }\n",
       "</style>\n",
       "<table border=\"1\" class=\"dataframe\">\n",
       "  <thead>\n",
       "    <tr style=\"text-align: right;\">\n",
       "      <th></th>\n",
       "      <th>event</th>\n",
       "    </tr>\n",
       "    <tr>\n",
       "      <th>event</th>\n",
       "      <th></th>\n",
       "    </tr>\n",
       "  </thead>\n",
       "  <tbody>\n",
       "    <tr>\n",
       "      <th>building</th>\n",
       "      <td>127956</td>\n",
       "    </tr>\n",
       "    <tr>\n",
       "      <th>finished_stage_1</th>\n",
       "      <td>5817</td>\n",
       "    </tr>\n",
       "    <tr>\n",
       "      <th>project</th>\n",
       "      <td>1866</td>\n",
       "    </tr>\n",
       "  </tbody>\n",
       "</table>\n",
       "</div>"
      ],
      "text/plain": [
       "                   event\n",
       "event                   \n",
       "building          127956\n",
       "finished_stage_1    5817\n",
       "project             1866"
      ]
     },
     "execution_count": 51,
     "metadata": {},
     "output_type": "execute_result"
    }
   ],
   "source": [
    "game_actions.groupby('event').agg({'event' : 'count'})"
   ]
  },
  {
   "cell_type": "code",
   "execution_count": 18,
   "metadata": {},
   "outputs": [
    {
     "data": {
      "image/png": "[encoded data removed]",
      "text/plain": [
       "<Figure size 1080x360 with 1 Axes>"
      ]
     },
     "metadata": {
      "needs_background": "light"
     },
     "output_type": "display_data"
    }
   ],
   "source": [
    "game_actions.groupby('date').agg({'event' : 'count'}).plot(kind= 'bar', figsize = (15, 5))\n",
    "plt.xlabel(\"Дата\")\n",
    "plt.ylabel(\"Количество событый\")\n",
    "plt.title('Столбчатая диаграмма по дате и количеству событий')\n",
    "plt.show();"
   ]
  },
  {
   "cell_type": "markdown",
   "metadata": {},
   "source": [
    "За месяц построенно 127956 зданий, в среднем каждый игрок строит 10 зданий. Всего перешли на следующий уровень 5817 игроков из них 1866 выполнением проекта satellite_orbital_assembly. Также можно наблюдать падение активности юзеров после 10 мая."
   ]
  },
  {
   "cell_type": "code",
   "execution_count": 19,
   "metadata": {},
   "outputs": [
    {
     "data": {
      "image/png": "[encoded data removed]",
      "text/plain": [
       "<Figure size 648x360 with 1 Axes>"
      ]
     },
     "metadata": {
      "needs_background": "light"
     },
     "output_type": "display_data"
    }
   ],
   "source": [
    "game_actions.groupby('building_type').agg({'event' : 'count'}).reset_index().sort_values(by='event', ascending=False).plot(x='building_type', y='event',kind= 'bar', figsize = (9, 5))\n",
    "plt.xlabel(\"Тип здания\")\n",
    "plt.ylabel(\"Количество событый\")\n",
    "plt.title('Столбчатая диаграмма по типам зданий')\n",
    "plt.show();"
   ]
  },
  {
   "cell_type": "code",
   "execution_count": 20,
   "metadata": {},
   "outputs": [
    {
     "data": {
      "text/html": [
       "<div>\n",
       "<style scoped>\n",
       "    .dataframe tbody tr th:only-of-type {\n",
       "        vertical-align: middle;\n",
       "    }\n",
       "\n",
       "    .dataframe tbody tr th {\n",
       "        vertical-align: top;\n",
       "    }\n",
       "\n",
       "    .dataframe thead th {\n",
       "        text-align: right;\n",
       "    }\n",
       "</style>\n",
       "<table border=\"1\" class=\"dataframe\">\n",
       "  <thead>\n",
       "    <tr style=\"text-align: right;\">\n",
       "      <th></th>\n",
       "      <th>building_type</th>\n",
       "      <th>event</th>\n",
       "    </tr>\n",
       "  </thead>\n",
       "  <tbody>\n",
       "    <tr>\n",
       "      <th>0</th>\n",
       "      <td>assembly_shop</td>\n",
       "      <td>54494</td>\n",
       "    </tr>\n",
       "    <tr>\n",
       "      <th>1</th>\n",
       "      <td>research_center</td>\n",
       "      <td>14137</td>\n",
       "    </tr>\n",
       "    <tr>\n",
       "      <th>2</th>\n",
       "      <td>spaceport</td>\n",
       "      <td>59325</td>\n",
       "    </tr>\n",
       "  </tbody>\n",
       "</table>\n",
       "</div>"
      ],
      "text/plain": [
       "     building_type  event\n",
       "0    assembly_shop  54494\n",
       "1  research_center  14137\n",
       "2        spaceport  59325"
      ]
     },
     "execution_count": 20,
     "metadata": {},
     "output_type": "execute_result"
    }
   ],
   "source": [
    "game_actions.groupby('building_type').agg({'event' : 'count'}).reset_index()"
   ]
  },
  {
   "cell_type": "markdown",
   "metadata": {},
   "source": [
    "# Вывод \n",
    "Меньше всего строят здание research_center. Assembly_shop и spaceport строят примерно одинакого\n",
    "\n",
    "42,84% пользователей завершили первый уровень. За месяц построено 127956 зданий, в среднем каждый игрок строит 10 зданий"
   ]
  },
  {
   "cell_type": "markdown",
   "metadata": {},
   "source": [
    "## Сформируем модель монетизации"
   ]
  },
  {
   "cell_type": "code",
   "execution_count": 21,
   "metadata": {},
   "outputs": [],
   "source": [
    "ad_costs['day'] = ad_costs['day'].astype('datetime64')\n",
    "game_actions['event_datetime'] = game_actions['event_datetime'].astype('datetime64')"
   ]
  },
  {
   "cell_type": "code",
   "execution_count": 22,
   "metadata": {},
   "outputs": [],
   "source": [
    "ad_costs['day'] = ad_costs['day'] + timedelta(days=1)"
   ]
  },
  {
   "cell_type": "code",
   "execution_count": 23,
   "metadata": {},
   "outputs": [],
   "source": [
    "channels = game_actions.merge(user_source, on='user_id', how='left')"
   ]
  },
  {
   "cell_type": "markdown",
   "metadata": {},
   "source": [
    "Посчитаем количество привлеченных пользователей, игроков завершивших уровень один и САС, с разбивкой по рекламным каналам:"
   ]
  },
  {
   "cell_type": "code",
   "execution_count": 24,
   "metadata": {},
   "outputs": [],
   "source": [
    "source = (ad_costs.groupby(['source'])\n",
    "          .agg({'cost' : 'sum'})\n",
    "          .reset_index().merge(channels.groupby('source').agg({'user_id' : 'nunique'}).reset_index(),on='source')\n",
    "          .rename(columns={'user_id': 'players'}))\n",
    "source = (source\n",
    "          .merge(channels.query('event == \"finished_stage_1\"')\n",
    "          .groupby('source').agg({'user_id' : 'nunique'}).reset_index())\n",
    "          .rename(columns={'user_id': 'finsished_lev1'}))\n",
    "source['CAC'] = source['cost'] / source['players']\n"
   ]
  },
  {
   "cell_type": "code",
   "execution_count": 25,
   "metadata": {},
   "outputs": [
    {
     "data": {
      "text/html": [
       "<div>\n",
       "<style scoped>\n",
       "    .dataframe tbody tr th:only-of-type {\n",
       "        vertical-align: middle;\n",
       "    }\n",
       "\n",
       "    .dataframe tbody tr th {\n",
       "        vertical-align: top;\n",
       "    }\n",
       "\n",
       "    .dataframe thead th {\n",
       "        text-align: right;\n",
       "    }\n",
       "</style>\n",
       "<table border=\"1\" class=\"dataframe\">\n",
       "  <thead>\n",
       "    <tr style=\"text-align: right;\">\n",
       "      <th></th>\n",
       "      <th>day</th>\n",
       "      <th>cost</th>\n",
       "    </tr>\n",
       "  </thead>\n",
       "  <tbody>\n",
       "    <tr>\n",
       "      <th>0</th>\n",
       "      <td>2020-05-04</td>\n",
       "      <td>3302.451840</td>\n",
       "    </tr>\n",
       "    <tr>\n",
       "      <th>1</th>\n",
       "      <td>2020-05-05</td>\n",
       "      <td>1865.004649</td>\n",
       "    </tr>\n",
       "    <tr>\n",
       "      <th>2</th>\n",
       "      <td>2020-05-06</td>\n",
       "      <td>1029.431469</td>\n",
       "    </tr>\n",
       "    <tr>\n",
       "      <th>3</th>\n",
       "      <td>2020-05-07</td>\n",
       "      <td>620.476519</td>\n",
       "    </tr>\n",
       "    <tr>\n",
       "      <th>4</th>\n",
       "      <td>2020-05-08</td>\n",
       "      <td>391.852033</td>\n",
       "    </tr>\n",
       "    <tr>\n",
       "      <th>5</th>\n",
       "      <td>2020-05-09</td>\n",
       "      <td>242.767553</td>\n",
       "    </tr>\n",
       "    <tr>\n",
       "      <th>6</th>\n",
       "      <td>2020-05-10</td>\n",
       "      <td>151.592924</td>\n",
       "    </tr>\n",
       "  </tbody>\n",
       "</table>\n",
       "</div>"
      ],
      "text/plain": [
       "         day         cost\n",
       "0 2020-05-04  3302.451840\n",
       "1 2020-05-05  1865.004649\n",
       "2 2020-05-06  1029.431469\n",
       "3 2020-05-07   620.476519\n",
       "4 2020-05-08   391.852033\n",
       "5 2020-05-09   242.767553\n",
       "6 2020-05-10   151.592924"
      ]
     },
     "execution_count": 25,
     "metadata": {},
     "output_type": "execute_result"
    }
   ],
   "source": [
    "ad_costs.groupby(['day']).agg({'cost' : 'sum'}).reset_index()# Расходы на рекламу с разбивкой по дням"
   ]
  },
  {
   "cell_type": "code",
   "execution_count": 26,
   "metadata": {},
   "outputs": [],
   "source": [
    "channels['revenue'] = np.where(channels['event'] == 'building', 0.07, 0)"
   ]
  },
  {
   "cell_type": "code",
   "execution_count": 27,
   "metadata": {},
   "outputs": [],
   "source": [
    "source = source.merge(channels.groupby('source').agg({'revenue' : 'sum', }).reset_index())\n",
    "source['ROMI (%)'] = (source['revenue'] / source['cost']) *100 #посчитаем ROMI"
   ]
  },
  {
   "cell_type": "code",
   "execution_count": 28,
   "metadata": {},
   "outputs": [],
   "source": [
    "source.loc[len(source.index)] = ['Общая сумма значений, средние значения САС и ROMI', source['cost'].sum(), source['players'].sum(), source['finsished_lev1'].sum(), source['CAC'].mean(), source['revenue'].sum(), source['ROMI (%)'].mean()]"
   ]
  },
  {
   "cell_type": "code",
   "execution_count": 29,
   "metadata": {},
   "outputs": [],
   "source": [
    "source['profit'] = source['revenue'] - source['cost']#вычислим теоретическую прибыль"
   ]
  },
  {
   "cell_type": "code",
   "execution_count": 30,
   "metadata": {},
   "outputs": [
    {
     "data": {
      "text/html": [
       "<div>\n",
       "<style scoped>\n",
       "    .dataframe tbody tr th:only-of-type {\n",
       "        vertical-align: middle;\n",
       "    }\n",
       "\n",
       "    .dataframe tbody tr th {\n",
       "        vertical-align: top;\n",
       "    }\n",
       "\n",
       "    .dataframe thead th {\n",
       "        text-align: right;\n",
       "    }\n",
       "</style>\n",
       "<table border=\"1\" class=\"dataframe\">\n",
       "  <thead>\n",
       "    <tr style=\"text-align: right;\">\n",
       "      <th></th>\n",
       "      <th>source</th>\n",
       "      <th>cost</th>\n",
       "      <th>players</th>\n",
       "      <th>finsished_lev1</th>\n",
       "      <th>CAC</th>\n",
       "      <th>revenue</th>\n",
       "      <th>ROMI (%)</th>\n",
       "      <th>profit</th>\n",
       "    </tr>\n",
       "  </thead>\n",
       "  <tbody>\n",
       "    <tr>\n",
       "      <th>0</th>\n",
       "      <td>facebook_ads</td>\n",
       "      <td>2140.904643</td>\n",
       "      <td>2726</td>\n",
       "      <td>1150</td>\n",
       "      <td>0.785365</td>\n",
       "      <td>1829.17</td>\n",
       "      <td>85.439116</td>\n",
       "      <td>-311.734643</td>\n",
       "    </tr>\n",
       "    <tr>\n",
       "      <th>1</th>\n",
       "      <td>instagram_new_adverts</td>\n",
       "      <td>2161.441691</td>\n",
       "      <td>3347</td>\n",
       "      <td>1466</td>\n",
       "      <td>0.645785</td>\n",
       "      <td>2227.05</td>\n",
       "      <td>103.035396</td>\n",
       "      <td>65.608309</td>\n",
       "    </tr>\n",
       "    <tr>\n",
       "      <th>2</th>\n",
       "      <td>yandex_direct</td>\n",
       "      <td>2233.111449</td>\n",
       "      <td>4817</td>\n",
       "      <td>2042</td>\n",
       "      <td>0.463590</td>\n",
       "      <td>3152.24</td>\n",
       "      <td>141.159099</td>\n",
       "      <td>919.128551</td>\n",
       "    </tr>\n",
       "    <tr>\n",
       "      <th>3</th>\n",
       "      <td>youtube_channel_reklama</td>\n",
       "      <td>1068.119204</td>\n",
       "      <td>2686</td>\n",
       "      <td>1159</td>\n",
       "      <td>0.397662</td>\n",
       "      <td>1748.46</td>\n",
       "      <td>163.695212</td>\n",
       "      <td>680.340796</td>\n",
       "    </tr>\n",
       "    <tr>\n",
       "      <th>4</th>\n",
       "      <td>Общая сумма значений, средние значения САС и ROMI</td>\n",
       "      <td>7603.576987</td>\n",
       "      <td>13576</td>\n",
       "      <td>5817</td>\n",
       "      <td>0.573100</td>\n",
       "      <td>8956.92</td>\n",
       "      <td>123.332206</td>\n",
       "      <td>1353.343013</td>\n",
       "    </tr>\n",
       "  </tbody>\n",
       "</table>\n",
       "</div>"
      ],
      "text/plain": [
       "                                              source         cost  players  \\\n",
       "0                                       facebook_ads  2140.904643     2726   \n",
       "1                              instagram_new_adverts  2161.441691     3347   \n",
       "2                                      yandex_direct  2233.111449     4817   \n",
       "3                            youtube_channel_reklama  1068.119204     2686   \n",
       "4  Общая сумма значений, средние значения САС и ROMI  7603.576987    13576   \n",
       "\n",
       "   finsished_lev1       CAC  revenue    ROMI (%)       profit  \n",
       "0            1150  0.785365  1829.17   85.439116  -311.734643  \n",
       "1            1466  0.645785  2227.05  103.035396    65.608309  \n",
       "2            2042  0.463590  3152.24  141.159099   919.128551  \n",
       "3            1159  0.397662  1748.46  163.695212   680.340796  \n",
       "4            5817  0.573100  8956.92  123.332206  1353.343013  "
      ]
     },
     "execution_count": 30,
     "metadata": {},
     "output_type": "execute_result"
    }
   ],
   "source": [
    "source"
   ]
  },
  {
   "cell_type": "code",
   "execution_count": 31,
   "metadata": {},
   "outputs": [
    {
     "data": {
      "image/png": "[encoded data removed]",
      "text/plain": [
       "<Figure size 864x432 with 1 Axes>"
      ]
     },
     "metadata": {
      "needs_background": "light"
     },
     "output_type": "display_data"
    }
   ],
   "source": [
    "source.loc[4, 'source'] = 'Общая выручка'\n",
    "fig = plt.subplots(figsize=[12,6])\n",
    "sns.barplot(x='source', y='revenue', data=source.sort_values(by='revenue', ascending=False))\n",
    "plt.xlabel('Источник',fontsize=12)\n",
    "plt.ylabel('Выручка (у.е.)',fontsize=12)\n",
    "plt.title('Условная выручка модели при показе рекламы на экране с выбором типа объекта для постройки');"
   ]
  },
  {
   "cell_type": "markdown",
   "metadata": {},
   "source": [
    "Общие расходы на рекламную кампанию состоваляют 7,603.58 у.е. При модели предложенной заказчиком и CPM 70, прибыль составит 1,353.34 у.е. При этом, платформа facebook_ads показывает ROMI ниже 100% и потери в сумее 311.73 у.е, что требует корректировки стратегии продвижения для данной платформы. К сожалению при столь агрессивном подходе к показе рекламы неизбежно увеличение оттока пользователей, поэтому мы предлагаем ненамного уменьшить количество показов, демонстрируя рекламу только при строительстве \"assembly_shop\" и \"spaceport\":"
   ]
  },
  {
   "cell_type": "code",
   "execution_count": 32,
   "metadata": {},
   "outputs": [
    {
     "data": {
      "image/png": "[encoded data removed]",
      "text/plain": [
       "<Figure size 576x720 with 1 Axes>"
      ]
     },
     "metadata": {
      "needs_background": "light"
     },
     "output_type": "display_data"
    }
   ],
   "source": [
    "x = ['Модель № 1', 'Модель №2']\n",
    "y = [8956.92, 7967.33]\n",
    "plt.subplots(figsize=[8,10])\n",
    "plt.title('Сравнение выручки моделей монетизации')\n",
    "plt.ylabel('Выручка (у.е.)',fontsize=12)\n",
    "sns.barplot(x, y);"
   ]
  },
  {
   "cell_type": "code",
   "execution_count": 33,
   "metadata": {},
   "outputs": [
    {
     "data": {
      "text/plain": [
       "7967.330000000001"
      ]
     },
     "execution_count": 33,
     "metadata": {},
     "output_type": "execute_result"
    }
   ],
   "source": [
    "game_actions.query(\"building_type == 'assembly_shop' or building_type == 'spaceport'\")['building_type'].count() * 0.07\n",
    "#Выручка при показе рекламы при стрительстве \"assembly_shop\" и \"spaceport\":"
   ]
  },
  {
   "cell_type": "code",
   "execution_count": 34,
   "metadata": {},
   "outputs": [
    {
     "data": {
      "text/plain": [
       "363.7530132119782"
      ]
     },
     "execution_count": 34,
     "metadata": {},
     "output_type": "execute_result"
    }
   ],
   "source": [
    "game_actions.query(\"building_type == 'assembly_shop' or building_type == 'spaceport'\")['building_type'].count() * 0.07 - source.loc[4,'cost']\n",
    "#Прибыль при показе рекламы при строительстве \"assembly_shop\" и \"spaceport\", без учета оттока игроков из-за показов рекламы"
   ]
  },
  {
   "cell_type": "markdown",
   "metadata": {},
   "source": [
    "Данная модель показывет условную прибыль уже на этапе первого уровня игры и позволяет минимизировать отток игроков из-за показов рекламы"
   ]
  },
  {
   "cell_type": "markdown",
   "metadata": {},
   "source": [
    "## Проанализируем влияние событий на совершение целевого события"
   ]
  },
  {
   "cell_type": "code",
   "execution_count": 35,
   "metadata": {},
   "outputs": [],
   "source": [
    "mtrx = game_actions[['user_id','event','building_type','project_type', 'date']]"
   ]
  },
  {
   "cell_type": "code",
   "execution_count": 36,
   "metadata": {},
   "outputs": [],
   "source": [
    "finished_users = game_actions.query('event == \"finished_stage_1\"')['user_id'].unique()\n",
    "project_users = game_actions.query('project_type == \"satellite_orbital_assembly\"')['user_id'].unique()"
   ]
  },
  {
   "cell_type": "code",
   "execution_count": 37,
   "metadata": {},
   "outputs": [],
   "source": [
    "level_complete=[]\n",
    "for i in mtrx['user_id']:\n",
    "    if i in finished_users:\n",
    "        level_complete.append(1)\n",
    "    else:\n",
    "        level_complete.append(0)"
   ]
  },
  {
   "cell_type": "code",
   "execution_count": 38,
   "metadata": {},
   "outputs": [],
   "source": [
    "project_complete=[]\n",
    "for i in mtrx['user_id']:\n",
    "    if i in project_users:\n",
    "        project_complete.append(1)\n",
    "    else:\n",
    "        project_complete.append(0)"
   ]
  },
  {
   "cell_type": "code",
   "execution_count": 39,
   "metadata": {},
   "outputs": [],
   "source": [
    "mtrx['level_complete'] = level_complete\n",
    "mtrx['project_complete'] = project_complete"
   ]
  },
  {
   "cell_type": "code",
   "execution_count": 40,
   "metadata": {},
   "outputs": [],
   "source": [
    "mtrx['research_center'] = np.where(mtrx['building_type'] == 'research_center', 1, 0)\n",
    "mtrx['assembly_shop'] = np.where(mtrx['building_type'] == 'assembly_shop', 1, 0)\n",
    "mtrx['spaceport'] = np.where(mtrx['building_type'] == 'spaceport', 1, 0)"
   ]
  },
  {
   "cell_type": "code",
   "execution_count": 41,
   "metadata": {},
   "outputs": [
    {
     "data": {
      "image/png": "[encoded data removed]",
      "text/plain": [
       "<Figure size 576x576 with 2 Axes>"
      ]
     },
     "metadata": {
      "needs_background": "light"
     },
     "output_type": "display_data"
    },
    {
     "data": {
      "text/html": [
       "<div>\n",
       "<style scoped>\n",
       "    .dataframe tbody tr th:only-of-type {\n",
       "        vertical-align: middle;\n",
       "    }\n",
       "\n",
       "    .dataframe tbody tr th {\n",
       "        vertical-align: top;\n",
       "    }\n",
       "\n",
       "    .dataframe thead th {\n",
       "        text-align: right;\n",
       "    }\n",
       "</style>\n",
       "<table border=\"1\" class=\"dataframe\">\n",
       "  <thead>\n",
       "    <tr style=\"text-align: right;\">\n",
       "      <th></th>\n",
       "      <th>level_complete</th>\n",
       "      <th>project_complete</th>\n",
       "      <th>research_center</th>\n",
       "      <th>assembly_shop</th>\n",
       "      <th>spaceport</th>\n",
       "    </tr>\n",
       "  </thead>\n",
       "  <tbody>\n",
       "    <tr>\n",
       "      <th>level_complete</th>\n",
       "      <td>1.000000</td>\n",
       "      <td>0.497574</td>\n",
       "      <td>0.015241</td>\n",
       "      <td>-0.062981</td>\n",
       "      <td>-0.060241</td>\n",
       "    </tr>\n",
       "    <tr>\n",
       "      <th>project_complete</th>\n",
       "      <td>0.497574</td>\n",
       "      <td>1.000000</td>\n",
       "      <td>0.051021</td>\n",
       "      <td>-0.069927</td>\n",
       "      <td>-0.043229</td>\n",
       "    </tr>\n",
       "    <tr>\n",
       "      <th>research_center</th>\n",
       "      <td>0.015241</td>\n",
       "      <td>0.051021</td>\n",
       "      <td>1.000000</td>\n",
       "      <td>-0.279531</td>\n",
       "      <td>-0.300749</td>\n",
       "    </tr>\n",
       "    <tr>\n",
       "      <th>assembly_shop</th>\n",
       "      <td>-0.062981</td>\n",
       "      <td>-0.069927</td>\n",
       "      <td>-0.279531</td>\n",
       "      <td>1.000000</td>\n",
       "      <td>-0.722537</td>\n",
       "    </tr>\n",
       "    <tr>\n",
       "      <th>spaceport</th>\n",
       "      <td>-0.060241</td>\n",
       "      <td>-0.043229</td>\n",
       "      <td>-0.300749</td>\n",
       "      <td>-0.722537</td>\n",
       "      <td>1.000000</td>\n",
       "    </tr>\n",
       "  </tbody>\n",
       "</table>\n",
       "</div>"
      ],
      "text/plain": [
       "                  level_complete  project_complete  research_center  \\\n",
       "level_complete          1.000000          0.497574         0.015241   \n",
       "project_complete        0.497574          1.000000         0.051021   \n",
       "research_center         0.015241          0.051021         1.000000   \n",
       "assembly_shop          -0.062981         -0.069927        -0.279531   \n",
       "spaceport              -0.060241         -0.043229        -0.300749   \n",
       "\n",
       "                  assembly_shop  spaceport  \n",
       "level_complete        -0.062981  -0.060241  \n",
       "project_complete      -0.069927  -0.043229  \n",
       "research_center       -0.279531  -0.300749  \n",
       "assembly_shop          1.000000  -0.722537  \n",
       "spaceport             -0.722537   1.000000  "
      ]
     },
     "execution_count": 41,
     "metadata": {},
     "output_type": "execute_result"
    }
   ],
   "source": [
    "plt.subplots(figsize=[8,8])\n",
    "sns.heatmap(mtrx.corr(), annot=True, square=True)\n",
    "plt.show()\n",
    "mtrx.corr()"
   ]
  },
  {
   "cell_type": "markdown",
   "metadata": {},
   "source": [
    "# Вывод \n",
    "Какие либо события практически не влияют на совершения целевого события. Есть сильная обратная взаимосвязь между событиями строительство \"assembly_shop\" и строительство \"spaceport\", что говорит в пользу версии модели с показами рекламы только на двух этих событиях."
   ]
  },
  {
   "cell_type": "markdown",
   "metadata": {},
   "source": [
    "## Проверим статистические гипотезы"
   ]
  },
  {
   "cell_type": "markdown",
   "metadata": {},
   "source": [
    "### Подготовим данные"
   ]
  },
  {
   "cell_type": "code",
   "execution_count": 42,
   "metadata": {},
   "outputs": [],
   "source": [
    "time_f = (game_actions.groupby('user_id')\n",
    "        .agg({'event_datetime': 'first',})\n",
    "        .rename(columns={'event_datetime': 'first_ts'})\n",
    "        .reset_index())\n",
    "time_l = (game_actions.groupby('user_id')\n",
    "        .agg({'event_datetime': 'last',})\n",
    "        .rename(columns={'event_datetime': 'last_ts'})\n",
    "        .reset_index())\n",
    "time = time_f.merge(time_l)"
   ]
  },
  {
   "cell_type": "code",
   "execution_count": 43,
   "metadata": {},
   "outputs": [],
   "source": [
    "fs = (game_actions.query('event == \"finished_stage_1\"')\n",
    "    .merge(game_actions.query('project_type == \"satellite_orbital_assembly\"'), on = 'user_id', how = 'left'))"
   ]
  },
  {
   "cell_type": "code",
   "execution_count": 44,
   "metadata": {},
   "outputs": [],
   "source": [
    "fs = fs.merge(time, on = 'user_id', how = 'left')"
   ]
  },
  {
   "cell_type": "code",
   "execution_count": 45,
   "metadata": {},
   "outputs": [],
   "source": [
    "fs = fs[['user_id','event_x','project_type_y', 'first_ts', 'last_ts']]\n",
    "fs.rename(columns = {'event_x' : 'event', 'project_type_y' : 'pve'}, inplace = True)"
   ]
  },
  {
   "cell_type": "code",
   "execution_count": 46,
   "metadata": {},
   "outputs": [],
   "source": [
    "fs['spent_time'] = fs['last_ts'] - fs['first_ts']# время затраченное на прохождение первого уровня\n",
    "fs['spent_time'] = fs['spent_time'].dt.total_seconds()# переведем в секунды"
   ]
  },
  {
   "cell_type": "code",
   "execution_count": 47,
   "metadata": {},
   "outputs": [
    {
     "data": {
      "text/html": [
       "<div>\n",
       "<style scoped>\n",
       "    .dataframe tbody tr th:only-of-type {\n",
       "        vertical-align: middle;\n",
       "    }\n",
       "\n",
       "    .dataframe tbody tr th {\n",
       "        vertical-align: top;\n",
       "    }\n",
       "\n",
       "    .dataframe thead th {\n",
       "        text-align: right;\n",
       "    }\n",
       "</style>\n",
       "<table border=\"1\" class=\"dataframe\">\n",
       "  <thead>\n",
       "    <tr style=\"text-align: right;\">\n",
       "      <th></th>\n",
       "      <th>user_id</th>\n",
       "      <th>event</th>\n",
       "      <th>pve</th>\n",
       "      <th>first_ts</th>\n",
       "      <th>last_ts</th>\n",
       "      <th>spent_time</th>\n",
       "    </tr>\n",
       "  </thead>\n",
       "  <tbody>\n",
       "    <tr>\n",
       "      <th>5812</th>\n",
       "      <td>22cce310-fe10-41a2-941b-9c3d63327fea</td>\n",
       "      <td>finished_stage_1</td>\n",
       "      <td>NaN</td>\n",
       "      <td>2020-05-04 18:38:25</td>\n",
       "      <td>2020-06-04 15:50:38</td>\n",
       "      <td>2668333.0</td>\n",
       "    </tr>\n",
       "    <tr>\n",
       "      <th>5813</th>\n",
       "      <td>d477dde8-7c22-4f23-9c4f-4ec31a1aa4c8</td>\n",
       "      <td>finished_stage_1</td>\n",
       "      <td>satellite_orbital_assembly</td>\n",
       "      <td>2020-05-07 02:18:19</td>\n",
       "      <td>2020-06-04 17:56:14</td>\n",
       "      <td>2475475.0</td>\n",
       "    </tr>\n",
       "    <tr>\n",
       "      <th>5814</th>\n",
       "      <td>515c1952-99aa-4bca-a7ea-d0449eb5385a</td>\n",
       "      <td>finished_stage_1</td>\n",
       "      <td>NaN</td>\n",
       "      <td>2020-05-07 07:28:50</td>\n",
       "      <td>2020-06-05 02:25:12</td>\n",
       "      <td>2487382.0</td>\n",
       "    </tr>\n",
       "    <tr>\n",
       "      <th>5815</th>\n",
       "      <td>32572adb-900f-4b5d-a453-1eb1e6d88d8b</td>\n",
       "      <td>finished_stage_1</td>\n",
       "      <td>NaN</td>\n",
       "      <td>2020-05-07 05:43:45</td>\n",
       "      <td>2020-06-05 12:12:27</td>\n",
       "      <td>2528922.0</td>\n",
       "    </tr>\n",
       "    <tr>\n",
       "      <th>5816</th>\n",
       "      <td>f21d179f-1c4b-437e-b9c6-ab1976907195</td>\n",
       "      <td>finished_stage_1</td>\n",
       "      <td>NaN</td>\n",
       "      <td>2020-05-06 02:56:25</td>\n",
       "      <td>2020-06-05 12:32:49</td>\n",
       "      <td>2626584.0</td>\n",
       "    </tr>\n",
       "  </tbody>\n",
       "</table>\n",
       "</div>"
      ],
      "text/plain": [
       "                                   user_id             event  \\\n",
       "5812  22cce310-fe10-41a2-941b-9c3d63327fea  finished_stage_1   \n",
       "5813  d477dde8-7c22-4f23-9c4f-4ec31a1aa4c8  finished_stage_1   \n",
       "5814  515c1952-99aa-4bca-a7ea-d0449eb5385a  finished_stage_1   \n",
       "5815  32572adb-900f-4b5d-a453-1eb1e6d88d8b  finished_stage_1   \n",
       "5816  f21d179f-1c4b-437e-b9c6-ab1976907195  finished_stage_1   \n",
       "\n",
       "                             pve            first_ts             last_ts  \\\n",
       "5812                         NaN 2020-05-04 18:38:25 2020-06-04 15:50:38   \n",
       "5813  satellite_orbital_assembly 2020-05-07 02:18:19 2020-06-04 17:56:14   \n",
       "5814                         NaN 2020-05-07 07:28:50 2020-06-05 02:25:12   \n",
       "5815                         NaN 2020-05-07 05:43:45 2020-06-05 12:12:27   \n",
       "5816                         NaN 2020-05-06 02:56:25 2020-06-05 12:32:49   \n",
       "\n",
       "      spent_time  \n",
       "5812   2668333.0  \n",
       "5813   2475475.0  \n",
       "5814   2487382.0  \n",
       "5815   2528922.0  \n",
       "5816   2626584.0  "
      ]
     },
     "execution_count": 47,
     "metadata": {},
     "output_type": "execute_result"
    }
   ],
   "source": [
    "fs.tail()"
   ]
  },
  {
   "cell_type": "markdown",
   "metadata": {},
   "source": [
    "### Проверим гипотезу: 'Среднее время прохождения уровня между PVE и PVP пользователями не различается\""
   ]
  },
  {
   "cell_type": "markdown",
   "metadata": {},
   "source": [
    "- H0: Среднее время прохождения уровня между пользователями, которые заканчивают уровень через реализацию проекта, и пользователями, которые заканчивают уровень победой над другим игроком не различается\n",
    "- H1: Среднее время прохождения уровня между пользователями, которые заканчивают уровень через реализацию проекта, и пользователями, которые заканчивают уровень победой над другим игроком различается"
   ]
  },
  {
   "cell_type": "code",
   "execution_count": 48,
   "metadata": {},
   "outputs": [
    {
     "name": "stdout",
     "output_type": "stream",
     "text": [
      "p-значение: 7.256845329495443e-98\n",
      "Отвергаем нулевую гипотезу\n",
      "\n"
     ]
    }
   ],
   "source": [
    "alpha = 0.05\n",
    "results = st.ttest_ind(fs.query(\"pve != 'satellite_orbital_assembly'\")['spent_time'], fs.query(\"pve == 'satellite_orbital_assembly'\")['spent_time'])\n",
    "\n",
    "print('p-значение:', results.pvalue)\n",
    "\n",
    "if (results.pvalue < alpha):\n",
    "    print(\"Отвергаем нулевую гипотезу\")\n",
    "else:\n",
    "    print(\"Не получилось отвергнуть нулевую гипотезу\")\n",
    "    \n",
    "print()    "
   ]
  },
  {
   "cell_type": "markdown",
   "metadata": {},
   "source": [
    "Время прохождения уровня между PVE и PVP пользователями различается. В среднем PVE игроки завершают уровень дольше чем PVP игроки."
   ]
  },
  {
   "cell_type": "markdown",
   "metadata": {},
   "source": [
    "### Проверим гипотезу: 'Среднее количество построенных зданий пользователями, привлеченных из каналов yandex_direct и youtube_channel_reklama, не различается\""
   ]
  },
  {
   "cell_type": "markdown",
   "metadata": {},
   "source": [
    "- H0: Среднее количество построенных зданий пользователями, привлеченных из каналов yandex_direct и youtube_channel_reklama не различается\n",
    "- H1: Среднее количество построенных зданий пользователями, привлеченных из каналов yandex_direct и youtube_channel_reklama различается"
   ]
  },
  {
   "cell_type": "code",
   "execution_count": 49,
   "metadata": {},
   "outputs": [],
   "source": [
    "yt=channels.query('source == \"youtube_channel_reklama\"').groupby('user_id').agg({'building_type': 'count'}).reset_index()['building_type']\n",
    "yd=channels.query('source == \"yandex_direct\"').groupby('user_id').agg({'building_type': 'count'}).reset_index()['building_type']"
   ]
  },
  {
   "cell_type": "code",
   "execution_count": 50,
   "metadata": {},
   "outputs": [
    {
     "name": "stdout",
     "output_type": "stream",
     "text": [
      "p-значение: 0.5972890424874877\n",
      "Не получилось отвергнуть нулевую гипотезу\n",
      "\n"
     ]
    }
   ],
   "source": [
    "alpha = 0.05\n",
    "results = st.ttest_ind(yt, yd)\n",
    "\n",
    "print('p-значение:', results.pvalue)\n",
    "\n",
    "if (results.pvalue < alpha):\n",
    "    print(\"Отвергаем нулевую гипотезу\")\n",
    "else:\n",
    "    print(\"Не получилось отвергнуть нулевую гипотезу\")\n",
    "    \n",
    "print()    "
   ]
  },
  {
   "cell_type": "markdown",
   "metadata": {},
   "source": [
    "Среднее количество построенных зданий пользователями, привлеченных из каналов yandex_direct и youtube_channel_reklama не различается. Пользователи привлеченные из этих каналов ведут себя одинакого."
   ]
  },
  {
   "cell_type": "markdown",
   "metadata": {},
   "source": [
    "# Общий вывод \n",
    "Модель предложенная заказчиком, имеет теоритическую прибыль прибыль в 1,353.34 у.е. и общую окупаемость рекламной кампании, при условии отсутствия оттока пользователей из-за показов рекламы. При этом был обнаружен убыток в размере 311.73 у.е. от источника facebook_ads.\n",
    "\n",
    "Для минимизации оттока юзеров рекомендуем использовать модель монетизации с показом рекламы только на событиях: \"постройка assembly_shop\" и \"постройка spaceport\". Отрицательная взаимосвязь между этими событиями(чем больше строят одно тем меньше другое) снизит частоту показа рекламы игрокам и позволит снизить отток юзеров, при этом данная модель остается прибыльной и позволит в какой-то мере снизить раздражение игроков по поводу слишком частого показа рекламы.\n",
    "\n",
    "Независимо от выбора модели монетизации рекомендуется скорректирововть стратегию продвижения продукта для платформы facebook_ads."
   ]
  }
 ],
 "metadata": {
  "ExecuteTimeLog": [
   {
    "duration": 4,
    "start_time": "2022-11-27T09:17:05.026Z"
   },
   {
    "duration": 1375,
    "start_time": "2022-11-27T09:18:39.975Z"
   },
   {
    "duration": 1029,
    "start_time": "2022-11-27T09:19:45.724Z"
   },
   {
    "duration": 5,
    "start_time": "2022-11-27T09:20:34.676Z"
   },
   {
    "duration": 199,
    "start_time": "2022-11-27T09:21:41.087Z"
   },
   {
    "duration": 216,
    "start_time": "2022-11-27T09:22:10.254Z"
   },
   {
    "duration": 135,
    "start_time": "2022-11-27T09:22:32.149Z"
   },
   {
    "duration": 106,
    "start_time": "2022-11-27T09:23:10.941Z"
   },
   {
    "duration": 12,
    "start_time": "2022-11-27T09:23:16.952Z"
   },
   {
    "duration": 13,
    "start_time": "2022-11-27T09:23:23.053Z"
   },
   {
    "duration": 21,
    "start_time": "2022-11-27T09:23:32.572Z"
   },
   {
    "duration": 86,
    "start_time": "2022-11-27T09:23:52.845Z"
   },
   {
    "duration": 3,
    "start_time": "2022-11-27T09:24:10.068Z"
   },
   {
    "duration": 71,
    "start_time": "2022-11-27T09:24:13.158Z"
   },
   {
    "duration": 4,
    "start_time": "2022-11-27T09:25:34.308Z"
   },
   {
    "duration": 26,
    "start_time": "2022-11-27T09:25:51.105Z"
   },
   {
    "duration": 19,
    "start_time": "2022-11-27T09:25:55.730Z"
   },
   {
    "duration": 12,
    "start_time": "2022-11-27T09:26:02.536Z"
   },
   {
    "duration": 387,
    "start_time": "2022-11-27T09:26:08.441Z"
   },
   {
    "duration": 52,
    "start_time": "2022-11-27T09:26:24.983Z"
   },
   {
    "duration": 171,
    "start_time": "2022-11-27T09:26:32.115Z"
   },
   {
    "duration": 24,
    "start_time": "2022-11-27T09:26:38.330Z"
   },
   {
    "duration": 357,
    "start_time": "2022-11-27T09:26:45.321Z"
   },
   {
    "duration": 156,
    "start_time": "2022-11-27T09:27:02.153Z"
   },
   {
    "duration": 38,
    "start_time": "2022-11-27T09:27:11.988Z"
   },
   {
    "duration": 32,
    "start_time": "2022-11-27T09:28:26.324Z"
   },
   {
    "duration": 4,
    "start_time": "2022-11-27T09:28:31.263Z"
   },
   {
    "duration": 50,
    "start_time": "2022-11-27T09:28:41.145Z"
   },
   {
    "duration": 76,
    "start_time": "2022-11-27T09:28:56.141Z"
   },
   {
    "duration": 96,
    "start_time": "2022-11-27T09:29:07.052Z"
   },
   {
    "duration": 14,
    "start_time": "2022-11-27T09:29:15.322Z"
   },
   {
    "duration": 12,
    "start_time": "2022-11-27T09:29:29.760Z"
   },
   {
    "duration": 19,
    "start_time": "2022-11-27T09:29:35.522Z"
   },
   {
    "duration": 10,
    "start_time": "2022-11-27T09:29:47.807Z"
   },
   {
    "duration": 3,
    "start_time": "2022-11-27T09:29:53.232Z"
   },
   {
    "duration": 13,
    "start_time": "2022-11-27T09:29:57.711Z"
   },
   {
    "duration": 158,
    "start_time": "2022-11-27T09:30:05.067Z"
   },
   {
    "duration": 128,
    "start_time": "2022-11-27T09:30:58.705Z"
   },
   {
    "duration": 47,
    "start_time": "2022-11-27T09:31:06.384Z"
   },
   {
    "duration": 28,
    "start_time": "2022-11-27T09:31:12.788Z"
   },
   {
    "duration": 112,
    "start_time": "2022-11-27T09:31:34.030Z"
   },
   {
    "duration": 9,
    "start_time": "2022-11-27T09:39:05.950Z"
   },
   {
    "duration": 15,
    "start_time": "2022-11-27T09:39:22.637Z"
   },
   {
    "duration": 18797,
    "start_time": "2022-11-27T09:39:28.576Z"
   },
   {
    "duration": 5951,
    "start_time": "2022-11-27T09:39:47.375Z"
   },
   {
    "duration": 57,
    "start_time": "2022-11-27T09:39:53.328Z"
   },
   {
    "duration": 27,
    "start_time": "2022-11-27T09:39:54.861Z"
   },
   {
    "duration": 581,
    "start_time": "2022-11-27T09:40:02.088Z"
   },
   {
    "duration": 89,
    "start_time": "2022-11-27T09:41:10.291Z"
   },
   {
    "duration": 28,
    "start_time": "2022-11-27T09:41:17.973Z"
   },
   {
    "duration": 13,
    "start_time": "2022-11-27T09:41:25.584Z"
   },
   {
    "duration": 7,
    "start_time": "2022-11-27T09:41:31.854Z"
   },
   {
    "duration": 6,
    "start_time": "2022-11-27T09:41:39.671Z"
   },
   {
    "duration": 13,
    "start_time": "2022-11-27T09:41:44.972Z"
   },
   {
    "duration": 15,
    "start_time": "2022-11-27T09:43:25.046Z"
   },
   {
    "duration": 128,
    "start_time": "2022-11-27T09:44:03.245Z"
   },
   {
    "duration": 41,
    "start_time": "2022-11-27T09:44:16.246Z"
   },
   {
    "duration": 6,
    "start_time": "2022-11-27T09:44:17.747Z"
   },
   {
    "duration": 1351,
    "start_time": "2022-11-28T07:23:49.248Z"
   },
   {
    "duration": 902,
    "start_time": "2022-11-28T07:23:50.601Z"
   },
   {
    "duration": 192,
    "start_time": "2022-11-28T07:23:51.505Z"
   },
   {
    "duration": 216,
    "start_time": "2022-11-28T07:23:51.699Z"
   },
   {
    "duration": 88,
    "start_time": "2022-11-28T07:23:51.917Z"
   },
   {
    "duration": 99,
    "start_time": "2022-11-28T07:23:52.006Z"
   },
   {
    "duration": 10,
    "start_time": "2022-11-28T07:23:52.107Z"
   },
   {
    "duration": 19,
    "start_time": "2022-11-28T07:23:52.119Z"
   },
   {
    "duration": 21,
    "start_time": "2022-11-28T07:23:52.140Z"
   },
   {
    "duration": 77,
    "start_time": "2022-11-28T07:23:52.162Z"
   },
   {
    "duration": 13,
    "start_time": "2022-11-28T07:23:52.241Z"
   },
   {
    "duration": 20,
    "start_time": "2022-11-28T07:23:52.256Z"
   },
   {
    "duration": 13,
    "start_time": "2022-11-28T07:23:52.278Z"
   },
   {
    "duration": 370,
    "start_time": "2022-11-28T07:23:52.294Z"
   },
   {
    "duration": 52,
    "start_time": "2022-11-28T07:23:52.666Z"
   },
   {
    "duration": 171,
    "start_time": "2022-11-28T07:23:52.721Z"
   },
   {
    "duration": 24,
    "start_time": "2022-11-28T07:23:52.894Z"
   },
   {
    "duration": 380,
    "start_time": "2022-11-28T07:23:52.920Z"
   },
   {
    "duration": 200,
    "start_time": "2022-11-28T07:23:53.302Z"
   },
   {
    "duration": 35,
    "start_time": "2022-11-28T07:23:53.504Z"
   },
   {
    "duration": 37,
    "start_time": "2022-11-28T07:23:53.541Z"
   },
   {
    "duration": 4,
    "start_time": "2022-11-28T07:23:53.579Z"
   },
   {
    "duration": 65,
    "start_time": "2022-11-28T07:23:53.585Z"
   },
   {
    "duration": 107,
    "start_time": "2022-11-28T07:23:53.651Z"
   },
   {
    "duration": 11,
    "start_time": "2022-11-28T07:23:53.760Z"
   },
   {
    "duration": 17,
    "start_time": "2022-11-28T07:23:53.773Z"
   },
   {
    "duration": 25,
    "start_time": "2022-11-28T07:23:53.792Z"
   },
   {
    "duration": 25,
    "start_time": "2022-11-28T07:23:53.820Z"
   },
   {
    "duration": 11,
    "start_time": "2022-11-28T07:23:53.847Z"
   },
   {
    "duration": 16,
    "start_time": "2022-11-28T07:23:53.860Z"
   },
   {
    "duration": 171,
    "start_time": "2022-11-28T07:23:53.878Z"
   },
   {
    "duration": 135,
    "start_time": "2022-11-28T07:23:54.051Z"
   },
   {
    "duration": 58,
    "start_time": "2022-11-28T07:23:54.188Z"
   },
   {
    "duration": 25,
    "start_time": "2022-11-28T07:23:54.248Z"
   },
   {
    "duration": 7,
    "start_time": "2022-11-28T07:23:54.275Z"
   },
   {
    "duration": 14,
    "start_time": "2022-11-28T07:23:54.284Z"
   },
   {
    "duration": 16098,
    "start_time": "2022-11-28T07:23:54.300Z"
   },
   {
    "duration": 5697,
    "start_time": "2022-11-28T07:24:10.400Z"
   },
   {
    "duration": 66,
    "start_time": "2022-11-28T07:24:16.099Z"
   },
   {
    "duration": 36,
    "start_time": "2022-11-28T07:24:16.166Z"
   },
   {
    "duration": 502,
    "start_time": "2022-11-28T07:24:16.207Z"
   },
   {
    "duration": 85,
    "start_time": "2022-11-28T07:24:16.711Z"
   },
   {
    "duration": 18,
    "start_time": "2022-11-28T07:24:16.798Z"
   },
   {
    "duration": 25,
    "start_time": "2022-11-28T07:24:16.818Z"
   },
   {
    "duration": 5,
    "start_time": "2022-11-28T07:24:16.845Z"
   },
   {
    "duration": 5,
    "start_time": "2022-11-28T07:24:16.852Z"
   },
   {
    "duration": 11,
    "start_time": "2022-11-28T07:24:16.860Z"
   },
   {
    "duration": 111,
    "start_time": "2022-11-28T07:24:16.872Z"
   },
   {
    "duration": 55,
    "start_time": "2022-11-28T07:24:16.985Z"
   },
   {
    "duration": 6,
    "start_time": "2022-11-28T07:24:17.042Z"
   },
   {
    "duration": 21,
    "start_time": "2022-11-28T07:28:37.923Z"
   }
  ],
  "kernelspec": {
   "display_name": "Python 3 (ipykernel)",
   "language": "python",
   "name": "python3"
  },
  "language_info": {
   "codemirror_mode": {
    "name": "ipython",
    "version": 3
   },
   "file_extension": ".py",
   "mimetype": "text/x-python",
   "name": "python",
   "nbconvert_exporter": "python",
   "pygments_lexer": "ipython3",
   "version": "3.9.5"
  },
  "toc": {
   "base_numbering": 1,
   "nav_menu": {},
   "number_sections": true,
   "sideBar": true,
   "skip_h1_title": true,
   "title_cell": "Table of Contents",
   "title_sidebar": "Contents",
   "toc_cell": false,
   "toc_position": {},
   "toc_section_display": true,
   "toc_window_display": false
  }
 },
 "nbformat": 4,
 "nbformat_minor": 2
}
