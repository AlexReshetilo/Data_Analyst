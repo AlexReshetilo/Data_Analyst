{
 "cells": [
  {
   "cell_type": "raw",
   "metadata": {},
   "source": [
    "Анализ игровой индустрии \n",
    "\n",
    "План проекта:\n",
    "1) Открыть датесет, простомтреть на данные \n",
    "2) Почистить анамалии и пропуски \n",
    "3) Добавить общие продажи \n",
    "4) проаналищзировать продажи\n",
    "5) Составить портрет покупателя \n",
    "6) Проверить гипотезы \n",
    "7) Общий вывод"
   ]
  },
  {
   "cell_type": "code",
   "execution_count": 1,
   "metadata": {},
   "outputs": [],
   "source": [
    "import pandas as pd\n",
    "import numpy as np\n",
    "import matplotlib.pyplot as plt\n",
    "from scipy import stats as st\n",
    "import seaborn as sns"
   ]
  },
  {
   "cell_type": "code",
   "execution_count": 2,
   "metadata": {},
   "outputs": [
    {
     "data": {
      "text/html": [
       "<div>\n",
       "<style scoped>\n",
       "    .dataframe tbody tr th:only-of-type {\n",
       "        vertical-align: middle;\n",
       "    }\n",
       "\n",
       "    .dataframe tbody tr th {\n",
       "        vertical-align: top;\n",
       "    }\n",
       "\n",
       "    .dataframe thead th {\n",
       "        text-align: right;\n",
       "    }\n",
       "</style>\n",
       "<table border=\"1\" class=\"dataframe\">\n",
       "  <thead>\n",
       "    <tr style=\"text-align: right;\">\n",
       "      <th></th>\n",
       "      <th>Name</th>\n",
       "      <th>Platform</th>\n",
       "      <th>Year_of_Release</th>\n",
       "      <th>Genre</th>\n",
       "      <th>NA_sales</th>\n",
       "      <th>EU_sales</th>\n",
       "      <th>JP_sales</th>\n",
       "      <th>Other_sales</th>\n",
       "      <th>Critic_Score</th>\n",
       "      <th>User_Score</th>\n",
       "      <th>Rating</th>\n",
       "    </tr>\n",
       "  </thead>\n",
       "  <tbody>\n",
       "    <tr>\n",
       "      <th>0</th>\n",
       "      <td>Wii Sports</td>\n",
       "      <td>Wii</td>\n",
       "      <td>2006.0</td>\n",
       "      <td>Sports</td>\n",
       "      <td>41.36</td>\n",
       "      <td>28.96</td>\n",
       "      <td>3.77</td>\n",
       "      <td>8.45</td>\n",
       "      <td>76.0</td>\n",
       "      <td>8</td>\n",
       "      <td>E</td>\n",
       "    </tr>\n",
       "    <tr>\n",
       "      <th>1</th>\n",
       "      <td>Super Mario Bros.</td>\n",
       "      <td>NES</td>\n",
       "      <td>1985.0</td>\n",
       "      <td>Platform</td>\n",
       "      <td>29.08</td>\n",
       "      <td>3.58</td>\n",
       "      <td>6.81</td>\n",
       "      <td>0.77</td>\n",
       "      <td>NaN</td>\n",
       "      <td>NaN</td>\n",
       "      <td>NaN</td>\n",
       "    </tr>\n",
       "    <tr>\n",
       "      <th>2</th>\n",
       "      <td>Mario Kart Wii</td>\n",
       "      <td>Wii</td>\n",
       "      <td>2008.0</td>\n",
       "      <td>Racing</td>\n",
       "      <td>15.68</td>\n",
       "      <td>12.76</td>\n",
       "      <td>3.79</td>\n",
       "      <td>3.29</td>\n",
       "      <td>82.0</td>\n",
       "      <td>8.3</td>\n",
       "      <td>E</td>\n",
       "    </tr>\n",
       "    <tr>\n",
       "      <th>3</th>\n",
       "      <td>Wii Sports Resort</td>\n",
       "      <td>Wii</td>\n",
       "      <td>2009.0</td>\n",
       "      <td>Sports</td>\n",
       "      <td>15.61</td>\n",
       "      <td>10.93</td>\n",
       "      <td>3.28</td>\n",
       "      <td>2.95</td>\n",
       "      <td>80.0</td>\n",
       "      <td>8</td>\n",
       "      <td>E</td>\n",
       "    </tr>\n",
       "    <tr>\n",
       "      <th>4</th>\n",
       "      <td>Pokemon Red/Pokemon Blue</td>\n",
       "      <td>GB</td>\n",
       "      <td>1996.0</td>\n",
       "      <td>Role-Playing</td>\n",
       "      <td>11.27</td>\n",
       "      <td>8.89</td>\n",
       "      <td>10.22</td>\n",
       "      <td>1.00</td>\n",
       "      <td>NaN</td>\n",
       "      <td>NaN</td>\n",
       "      <td>NaN</td>\n",
       "    </tr>\n",
       "  </tbody>\n",
       "</table>\n",
       "</div>"
      ],
      "text/plain": [
       "                       Name Platform  Year_of_Release         Genre  NA_sales  \\\n",
       "0                Wii Sports      Wii           2006.0        Sports     41.36   \n",
       "1         Super Mario Bros.      NES           1985.0      Platform     29.08   \n",
       "2            Mario Kart Wii      Wii           2008.0        Racing     15.68   \n",
       "3         Wii Sports Resort      Wii           2009.0        Sports     15.61   \n",
       "4  Pokemon Red/Pokemon Blue       GB           1996.0  Role-Playing     11.27   \n",
       "\n",
       "   EU_sales  JP_sales  Other_sales  Critic_Score User_Score Rating  \n",
       "0     28.96      3.77         8.45          76.0          8      E  \n",
       "1      3.58      6.81         0.77           NaN        NaN    NaN  \n",
       "2     12.76      3.79         3.29          82.0        8.3      E  \n",
       "3     10.93      3.28         2.95          80.0          8      E  \n",
       "4      8.89     10.22         1.00           NaN        NaN    NaN  "
      ]
     },
     "execution_count": 2,
     "metadata": {},
     "output_type": "execute_result"
    }
   ],
   "source": [
    "data_games = pd.read_csv('/datasets/games.csv')\n",
    "data_games.head(5)"
   ]
  },
  {
   "cell_type": "code",
   "execution_count": 3,
   "metadata": {},
   "outputs": [
    {
     "data": {
      "text/html": [
       "<div>\n",
       "<style scoped>\n",
       "    .dataframe tbody tr th:only-of-type {\n",
       "        vertical-align: middle;\n",
       "    }\n",
       "\n",
       "    .dataframe tbody tr th {\n",
       "        vertical-align: top;\n",
       "    }\n",
       "\n",
       "    .dataframe thead th {\n",
       "        text-align: right;\n",
       "    }\n",
       "</style>\n",
       "<table border=\"1\" class=\"dataframe\">\n",
       "  <thead>\n",
       "    <tr style=\"text-align: right;\">\n",
       "      <th></th>\n",
       "      <th>Year_of_Release</th>\n",
       "      <th>NA_sales</th>\n",
       "      <th>EU_sales</th>\n",
       "      <th>JP_sales</th>\n",
       "      <th>Other_sales</th>\n",
       "      <th>Critic_Score</th>\n",
       "    </tr>\n",
       "  </thead>\n",
       "  <tbody>\n",
       "    <tr>\n",
       "      <th>count</th>\n",
       "      <td>16446.000000</td>\n",
       "      <td>16715.000000</td>\n",
       "      <td>16715.000000</td>\n",
       "      <td>16715.000000</td>\n",
       "      <td>16715.000000</td>\n",
       "      <td>8137.000000</td>\n",
       "    </tr>\n",
       "    <tr>\n",
       "      <th>mean</th>\n",
       "      <td>2006.484616</td>\n",
       "      <td>0.263377</td>\n",
       "      <td>0.145060</td>\n",
       "      <td>0.077617</td>\n",
       "      <td>0.047342</td>\n",
       "      <td>68.967679</td>\n",
       "    </tr>\n",
       "    <tr>\n",
       "      <th>std</th>\n",
       "      <td>5.877050</td>\n",
       "      <td>0.813604</td>\n",
       "      <td>0.503339</td>\n",
       "      <td>0.308853</td>\n",
       "      <td>0.186731</td>\n",
       "      <td>13.938165</td>\n",
       "    </tr>\n",
       "    <tr>\n",
       "      <th>min</th>\n",
       "      <td>1980.000000</td>\n",
       "      <td>0.000000</td>\n",
       "      <td>0.000000</td>\n",
       "      <td>0.000000</td>\n",
       "      <td>0.000000</td>\n",
       "      <td>13.000000</td>\n",
       "    </tr>\n",
       "    <tr>\n",
       "      <th>25%</th>\n",
       "      <td>2003.000000</td>\n",
       "      <td>0.000000</td>\n",
       "      <td>0.000000</td>\n",
       "      <td>0.000000</td>\n",
       "      <td>0.000000</td>\n",
       "      <td>60.000000</td>\n",
       "    </tr>\n",
       "    <tr>\n",
       "      <th>50%</th>\n",
       "      <td>2007.000000</td>\n",
       "      <td>0.080000</td>\n",
       "      <td>0.020000</td>\n",
       "      <td>0.000000</td>\n",
       "      <td>0.010000</td>\n",
       "      <td>71.000000</td>\n",
       "    </tr>\n",
       "    <tr>\n",
       "      <th>75%</th>\n",
       "      <td>2010.000000</td>\n",
       "      <td>0.240000</td>\n",
       "      <td>0.110000</td>\n",
       "      <td>0.040000</td>\n",
       "      <td>0.030000</td>\n",
       "      <td>79.000000</td>\n",
       "    </tr>\n",
       "    <tr>\n",
       "      <th>max</th>\n",
       "      <td>2016.000000</td>\n",
       "      <td>41.360000</td>\n",
       "      <td>28.960000</td>\n",
       "      <td>10.220000</td>\n",
       "      <td>10.570000</td>\n",
       "      <td>98.000000</td>\n",
       "    </tr>\n",
       "  </tbody>\n",
       "</table>\n",
       "</div>"
      ],
      "text/plain": [
       "       Year_of_Release      NA_sales      EU_sales      JP_sales  \\\n",
       "count     16446.000000  16715.000000  16715.000000  16715.000000   \n",
       "mean       2006.484616      0.263377      0.145060      0.077617   \n",
       "std           5.877050      0.813604      0.503339      0.308853   \n",
       "min        1980.000000      0.000000      0.000000      0.000000   \n",
       "25%        2003.000000      0.000000      0.000000      0.000000   \n",
       "50%        2007.000000      0.080000      0.020000      0.000000   \n",
       "75%        2010.000000      0.240000      0.110000      0.040000   \n",
       "max        2016.000000     41.360000     28.960000     10.220000   \n",
       "\n",
       "        Other_sales  Critic_Score  \n",
       "count  16715.000000   8137.000000  \n",
       "mean       0.047342     68.967679  \n",
       "std        0.186731     13.938165  \n",
       "min        0.000000     13.000000  \n",
       "25%        0.000000     60.000000  \n",
       "50%        0.010000     71.000000  \n",
       "75%        0.030000     79.000000  \n",
       "max       10.570000     98.000000  "
      ]
     },
     "execution_count": 3,
     "metadata": {},
     "output_type": "execute_result"
    }
   ],
   "source": [
    "data_games.describe()"
   ]
  },
  {
   "cell_type": "markdown",
   "metadata": {},
   "source": [
    "Импортировали данные. Тут мы видим что все есть пропуски и тип данные в годе float, год не может быть с дробью. И приведем к нижнему регистру название столбцов."
   ]
  },
  {
   "cell_type": "code",
   "execution_count": 4,
   "metadata": {},
   "outputs": [],
   "source": [
    "data_games.columns = data_games.columns.str.lower()"
   ]
  },
  {
   "cell_type": "code",
   "execution_count": 5,
   "metadata": {},
   "outputs": [
    {
     "data": {
      "text/html": [
       "<div>\n",
       "<style scoped>\n",
       "    .dataframe tbody tr th:only-of-type {\n",
       "        vertical-align: middle;\n",
       "    }\n",
       "\n",
       "    .dataframe tbody tr th {\n",
       "        vertical-align: top;\n",
       "    }\n",
       "\n",
       "    .dataframe thead th {\n",
       "        text-align: right;\n",
       "    }\n",
       "</style>\n",
       "<table border=\"1\" class=\"dataframe\">\n",
       "  <thead>\n",
       "    <tr style=\"text-align: right;\">\n",
       "      <th></th>\n",
       "      <th>name</th>\n",
       "      <th>platform</th>\n",
       "      <th>year_of_release</th>\n",
       "      <th>genre</th>\n",
       "      <th>na_sales</th>\n",
       "      <th>eu_sales</th>\n",
       "      <th>jp_sales</th>\n",
       "      <th>other_sales</th>\n",
       "      <th>critic_score</th>\n",
       "      <th>user_score</th>\n",
       "      <th>rating</th>\n",
       "    </tr>\n",
       "  </thead>\n",
       "  <tbody>\n",
       "    <tr>\n",
       "      <th>0</th>\n",
       "      <td>Wii Sports</td>\n",
       "      <td>Wii</td>\n",
       "      <td>2006.0</td>\n",
       "      <td>Sports</td>\n",
       "      <td>41.36</td>\n",
       "      <td>28.96</td>\n",
       "      <td>3.77</td>\n",
       "      <td>8.45</td>\n",
       "      <td>76.0</td>\n",
       "      <td>8</td>\n",
       "      <td>E</td>\n",
       "    </tr>\n",
       "    <tr>\n",
       "      <th>1</th>\n",
       "      <td>Super Mario Bros.</td>\n",
       "      <td>NES</td>\n",
       "      <td>1985.0</td>\n",
       "      <td>Platform</td>\n",
       "      <td>29.08</td>\n",
       "      <td>3.58</td>\n",
       "      <td>6.81</td>\n",
       "      <td>0.77</td>\n",
       "      <td>NaN</td>\n",
       "      <td>NaN</td>\n",
       "      <td>NaN</td>\n",
       "    </tr>\n",
       "    <tr>\n",
       "      <th>2</th>\n",
       "      <td>Mario Kart Wii</td>\n",
       "      <td>Wii</td>\n",
       "      <td>2008.0</td>\n",
       "      <td>Racing</td>\n",
       "      <td>15.68</td>\n",
       "      <td>12.76</td>\n",
       "      <td>3.79</td>\n",
       "      <td>3.29</td>\n",
       "      <td>82.0</td>\n",
       "      <td>8.3</td>\n",
       "      <td>E</td>\n",
       "    </tr>\n",
       "    <tr>\n",
       "      <th>3</th>\n",
       "      <td>Wii Sports Resort</td>\n",
       "      <td>Wii</td>\n",
       "      <td>2009.0</td>\n",
       "      <td>Sports</td>\n",
       "      <td>15.61</td>\n",
       "      <td>10.93</td>\n",
       "      <td>3.28</td>\n",
       "      <td>2.95</td>\n",
       "      <td>80.0</td>\n",
       "      <td>8</td>\n",
       "      <td>E</td>\n",
       "    </tr>\n",
       "    <tr>\n",
       "      <th>4</th>\n",
       "      <td>Pokemon Red/Pokemon Blue</td>\n",
       "      <td>GB</td>\n",
       "      <td>1996.0</td>\n",
       "      <td>Role-Playing</td>\n",
       "      <td>11.27</td>\n",
       "      <td>8.89</td>\n",
       "      <td>10.22</td>\n",
       "      <td>1.00</td>\n",
       "      <td>NaN</td>\n",
       "      <td>NaN</td>\n",
       "      <td>NaN</td>\n",
       "    </tr>\n",
       "  </tbody>\n",
       "</table>\n",
       "</div>"
      ],
      "text/plain": [
       "                       name platform  year_of_release         genre  na_sales  \\\n",
       "0                Wii Sports      Wii           2006.0        Sports     41.36   \n",
       "1         Super Mario Bros.      NES           1985.0      Platform     29.08   \n",
       "2            Mario Kart Wii      Wii           2008.0        Racing     15.68   \n",
       "3         Wii Sports Resort      Wii           2009.0        Sports     15.61   \n",
       "4  Pokemon Red/Pokemon Blue       GB           1996.0  Role-Playing     11.27   \n",
       "\n",
       "   eu_sales  jp_sales  other_sales  critic_score user_score rating  \n",
       "0     28.96      3.77         8.45          76.0          8      E  \n",
       "1      3.58      6.81         0.77           NaN        NaN    NaN  \n",
       "2     12.76      3.79         3.29          82.0        8.3      E  \n",
       "3     10.93      3.28         2.95          80.0          8      E  \n",
       "4      8.89     10.22         1.00           NaN        NaN    NaN  "
      ]
     },
     "execution_count": 5,
     "metadata": {},
     "output_type": "execute_result"
    }
   ],
   "source": [
    "data_games.head(5)"
   ]
  },
  {
   "cell_type": "markdown",
   "metadata": {},
   "source": [
    "С регистром разобрались, теперь займемся типом данных и пропусками"
   ]
  },
  {
   "cell_type": "code",
   "execution_count": 6,
   "metadata": {},
   "outputs": [
    {
     "name": "stdout",
     "output_type": "stream",
     "text": [
      "<class 'pandas.core.frame.DataFrame'>\n",
      "RangeIndex: 16715 entries, 0 to 16714\n",
      "Data columns (total 11 columns):\n",
      " #   Column           Non-Null Count  Dtype  \n",
      "---  ------           --------------  -----  \n",
      " 0   name             16713 non-null  object \n",
      " 1   platform         16715 non-null  object \n",
      " 2   year_of_release  16446 non-null  float64\n",
      " 3   genre            16713 non-null  object \n",
      " 4   na_sales         16715 non-null  float64\n",
      " 5   eu_sales         16715 non-null  float64\n",
      " 6   jp_sales         16715 non-null  float64\n",
      " 7   other_sales      16715 non-null  float64\n",
      " 8   critic_score     8137 non-null   float64\n",
      " 9   user_score       10014 non-null  object \n",
      " 10  rating           9949 non-null   object \n",
      "dtypes: float64(6), object(5)\n",
      "memory usage: 1.4+ MB\n"
     ]
    }
   ],
   "source": [
    "data_games.info()"
   ]
  },
  {
   "cell_type": "code",
   "execution_count": 7,
   "metadata": {},
   "outputs": [],
   "source": [
    "data_games['year_of_release'] = data_games['year_of_release'].fillna(2077)\n",
    "data_games['year_of_release'] = data_games['year_of_release'].dropna().reset_index(drop = True)\n",
    "data_games['year_of_release'] = data_games['year_of_release'].astype('int')\n",
    "data_games = data_games[(data_games['year_of_release'] != 2077) & (data_games['year_of_release'] > 1990)]"
   ]
  },
  {
   "cell_type": "markdown",
   "metadata": {},
   "source": [
    "Поправил код, и решил срузу убрать сильно. старые игры и игры из будующего"
   ]
  },
  {
   "cell_type": "code",
   "execution_count": 8,
   "metadata": {},
   "outputs": [
    {
     "data": {
      "text/html": [
       "<div>\n",
       "<style scoped>\n",
       "    .dataframe tbody tr th:only-of-type {\n",
       "        vertical-align: middle;\n",
       "    }\n",
       "\n",
       "    .dataframe tbody tr th {\n",
       "        vertical-align: top;\n",
       "    }\n",
       "\n",
       "    .dataframe thead th {\n",
       "        text-align: right;\n",
       "    }\n",
       "</style>\n",
       "<table border=\"1\" class=\"dataframe\">\n",
       "  <thead>\n",
       "    <tr style=\"text-align: right;\">\n",
       "      <th></th>\n",
       "      <th>name</th>\n",
       "      <th>platform</th>\n",
       "      <th>year_of_release</th>\n",
       "      <th>genre</th>\n",
       "      <th>na_sales</th>\n",
       "      <th>eu_sales</th>\n",
       "      <th>jp_sales</th>\n",
       "      <th>other_sales</th>\n",
       "      <th>critic_score</th>\n",
       "      <th>user_score</th>\n",
       "      <th>rating</th>\n",
       "    </tr>\n",
       "  </thead>\n",
       "  <tbody>\n",
       "    <tr>\n",
       "      <th>0</th>\n",
       "      <td>Wii Sports</td>\n",
       "      <td>Wii</td>\n",
       "      <td>2006</td>\n",
       "      <td>Sports</td>\n",
       "      <td>41.36</td>\n",
       "      <td>28.96</td>\n",
       "      <td>3.77</td>\n",
       "      <td>8.45</td>\n",
       "      <td>76.0</td>\n",
       "      <td>8</td>\n",
       "      <td>E</td>\n",
       "    </tr>\n",
       "    <tr>\n",
       "      <th>2</th>\n",
       "      <td>Mario Kart Wii</td>\n",
       "      <td>Wii</td>\n",
       "      <td>2008</td>\n",
       "      <td>Racing</td>\n",
       "      <td>15.68</td>\n",
       "      <td>12.76</td>\n",
       "      <td>3.79</td>\n",
       "      <td>3.29</td>\n",
       "      <td>82.0</td>\n",
       "      <td>8.3</td>\n",
       "      <td>E</td>\n",
       "    </tr>\n",
       "    <tr>\n",
       "      <th>3</th>\n",
       "      <td>Wii Sports Resort</td>\n",
       "      <td>Wii</td>\n",
       "      <td>2009</td>\n",
       "      <td>Sports</td>\n",
       "      <td>15.61</td>\n",
       "      <td>10.93</td>\n",
       "      <td>3.28</td>\n",
       "      <td>2.95</td>\n",
       "      <td>80.0</td>\n",
       "      <td>8</td>\n",
       "      <td>E</td>\n",
       "    </tr>\n",
       "    <tr>\n",
       "      <th>4</th>\n",
       "      <td>Pokemon Red/Pokemon Blue</td>\n",
       "      <td>GB</td>\n",
       "      <td>1996</td>\n",
       "      <td>Role-Playing</td>\n",
       "      <td>11.27</td>\n",
       "      <td>8.89</td>\n",
       "      <td>10.22</td>\n",
       "      <td>1.00</td>\n",
       "      <td>NaN</td>\n",
       "      <td>NaN</td>\n",
       "      <td>NaN</td>\n",
       "    </tr>\n",
       "    <tr>\n",
       "      <th>6</th>\n",
       "      <td>New Super Mario Bros.</td>\n",
       "      <td>DS</td>\n",
       "      <td>2006</td>\n",
       "      <td>Platform</td>\n",
       "      <td>11.28</td>\n",
       "      <td>9.14</td>\n",
       "      <td>6.50</td>\n",
       "      <td>2.88</td>\n",
       "      <td>89.0</td>\n",
       "      <td>8.5</td>\n",
       "      <td>E</td>\n",
       "    </tr>\n",
       "  </tbody>\n",
       "</table>\n",
       "</div>"
      ],
      "text/plain": [
       "                       name platform  year_of_release         genre  na_sales  \\\n",
       "0                Wii Sports      Wii             2006        Sports     41.36   \n",
       "2            Mario Kart Wii      Wii             2008        Racing     15.68   \n",
       "3         Wii Sports Resort      Wii             2009        Sports     15.61   \n",
       "4  Pokemon Red/Pokemon Blue       GB             1996  Role-Playing     11.27   \n",
       "6     New Super Mario Bros.       DS             2006      Platform     11.28   \n",
       "\n",
       "   eu_sales  jp_sales  other_sales  critic_score user_score rating  \n",
       "0     28.96      3.77         8.45          76.0          8      E  \n",
       "2     12.76      3.79         3.29          82.0        8.3      E  \n",
       "3     10.93      3.28         2.95          80.0          8      E  \n",
       "4      8.89     10.22         1.00           NaN        NaN    NaN  \n",
       "6      9.14      6.50         2.88          89.0        8.5      E  "
      ]
     },
     "execution_count": 8,
     "metadata": {},
     "output_type": "execute_result"
    }
   ],
   "source": [
    "data_games.head(5)"
   ]
  },
  {
   "cell_type": "markdown",
   "metadata": {},
   "source": [
    "Год сделали правильным, но есть пропуски в других стобцах. Пропуски в стобце с рейтингом, полагаю позвеватели не поставили оценку или мы получили не все данные. Предлагаю заменить на статус без рейтинга, так как другие данные возможно нам понадобятся"
   ]
  },
  {
   "cell_type": "code",
   "execution_count": 9,
   "metadata": {},
   "outputs": [],
   "source": [
    "data_games['user_score'] = data_games['user_score'].fillna(-1)\n",
    "data_games['critic_score'] = data_games['critic_score'].fillna(-1)\n",
    "data_games['rating'] = data_games['rating'].fillna('out of rating')"
   ]
  },
  {
   "cell_type": "code",
   "execution_count": 10,
   "metadata": {},
   "outputs": [
    {
     "name": "stdout",
     "output_type": "stream",
     "text": [
      "<class 'pandas.core.frame.DataFrame'>\n",
      "Int64Index: 16225 entries, 0 to 16714\n",
      "Data columns (total 11 columns):\n",
      " #   Column           Non-Null Count  Dtype  \n",
      "---  ------           --------------  -----  \n",
      " 0   name             16223 non-null  object \n",
      " 1   platform         16225 non-null  object \n",
      " 2   year_of_release  16225 non-null  int64  \n",
      " 3   genre            16223 non-null  object \n",
      " 4   na_sales         16225 non-null  float64\n",
      " 5   eu_sales         16225 non-null  float64\n",
      " 6   jp_sales         16225 non-null  float64\n",
      " 7   other_sales      16225 non-null  float64\n",
      " 8   critic_score     16225 non-null  float64\n",
      " 9   user_score       16225 non-null  object \n",
      " 10  rating           16225 non-null  object \n",
      "dtypes: float64(5), int64(1), object(5)\n",
      "memory usage: 1.5+ MB\n"
     ]
    }
   ],
   "source": [
    "data_games.info()"
   ]
  },
  {
   "cell_type": "markdown",
   "metadata": {},
   "source": [
    "Другое дело, можно продолжать. Самое время посмотреть на 'tbd' в столбце с оценками пользователей"
   ]
  },
  {
   "cell_type": "code",
   "execution_count": 11,
   "metadata": {},
   "outputs": [
    {
     "data": {
      "text/plain": [
       "array(['8', '8.3', -1, '8.5', '6.6', '8.4', '8.6', '7.7', '6.3', '7.4',\n",
       "       '8.2', '9', '7.9', '8.1', '8.7', '7.1', '3.4', '5.3', '4.8', '3.2',\n",
       "       '8.9', '6.4', '7.8', '7.5', '2.6', '7.2', '9.2', '7', '7.3', '4.3',\n",
       "       '7.6', '5.7', '5', '9.1', '6.5', 'tbd', '8.8', '6.9', '9.4', '6.8',\n",
       "       '6.1', '6.7', '5.4', '4', '4.9', '4.5', '9.3', '6.2', '4.2', '6',\n",
       "       '3.7', '4.1', '5.8', '5.6', '5.5', '4.4', '4.6', '5.9', '3.9',\n",
       "       '3.1', '2.9', '5.2', '3.3', '4.7', '5.1', '3.5', '2.5', '1.9', '3',\n",
       "       '2.7', '2.2', '2', '9.5', '2.1', '3.6', '2.8', '1.8', '3.8', '0',\n",
       "       '1.6', '9.6', '2.4', '1.7', '1.1', '0.3', '1.5', '0.7', '1.2',\n",
       "       '2.3', '0.5', '1.3', '0.2', '0.6', '1.4', '0.9', '1', '9.7'],\n",
       "      dtype=object)"
      ]
     },
     "execution_count": 11,
     "metadata": {},
     "output_type": "execute_result"
    }
   ],
   "source": [
    "data_games['user_score'].unique()"
   ]
  },
  {
   "cell_type": "code",
   "execution_count": 12,
   "metadata": {},
   "outputs": [
    {
     "data": {
      "text/plain": [
       "2376"
      ]
     },
     "execution_count": 12,
     "metadata": {},
     "output_type": "execute_result"
    }
   ],
   "source": [
    "data_games[data_games['user_score'] == 'tbd']['user_score'].count()"
   ]
  },
  {
   "cell_type": "markdown",
   "metadata": {},
   "source": [
    "Слишком много таких позиций, но это 14% от всего массива данных. Думаю стоит заменить на категорию без рейтинга"
   ]
  },
  {
   "cell_type": "code",
   "execution_count": 13,
   "metadata": {},
   "outputs": [],
   "source": [
    "data_games.loc[data_games['user_score'] == 'tbd','user_score'] = np.nan\n",
    "data_games['user_score'] = data_games['user_score'].fillna(-1)"
   ]
  },
  {
   "cell_type": "code",
   "execution_count": 14,
   "metadata": {},
   "outputs": [],
   "source": [
    "data_games['user_score'] = pd.to_numeric(data_games['user_score'])"
   ]
  },
  {
   "cell_type": "code",
   "execution_count": 15,
   "metadata": {},
   "outputs": [
    {
     "data": {
      "text/plain": [
       "array([ 8. ,  8.3, -1. ,  8.5,  6.6,  8.4,  8.6,  7.7,  6.3,  7.4,  8.2,\n",
       "        9. ,  7.9,  8.1,  8.7,  7.1,  3.4,  5.3,  4.8,  3.2,  8.9,  6.4,\n",
       "        7.8,  7.5,  2.6,  7.2,  9.2,  7. ,  7.3,  4.3,  7.6,  5.7,  5. ,\n",
       "        9.1,  6.5,  8.8,  6.9,  9.4,  6.8,  6.1,  6.7,  5.4,  4. ,  4.9,\n",
       "        4.5,  9.3,  6.2,  4.2,  6. ,  3.7,  4.1,  5.8,  5.6,  5.5,  4.4,\n",
       "        4.6,  5.9,  3.9,  3.1,  2.9,  5.2,  3.3,  4.7,  5.1,  3.5,  2.5,\n",
       "        1.9,  3. ,  2.7,  2.2,  2. ,  9.5,  2.1,  3.6,  2.8,  1.8,  3.8,\n",
       "        0. ,  1.6,  9.6,  2.4,  1.7,  1.1,  0.3,  1.5,  0.7,  1.2,  2.3,\n",
       "        0.5,  1.3,  0.2,  0.6,  1.4,  0.9,  1. ,  9.7])"
      ]
     },
     "execution_count": 15,
     "metadata": {},
     "output_type": "execute_result"
    }
   ],
   "source": [
    "data_games['user_score'].unique()"
   ]
  },
  {
   "cell_type": "markdown",
   "metadata": {},
   "source": [
    "Теперь все как нужно. Теперь нам нужны общие продажи "
   ]
  },
  {
   "cell_type": "code",
   "execution_count": 16,
   "metadata": {},
   "outputs": [],
   "source": [
    "data_games['total_sales'] = data_games[['na_sales','eu_sales','jp_sales', 'other_sales']].sum(axis = 1)"
   ]
  },
  {
   "cell_type": "code",
   "execution_count": 17,
   "metadata": {},
   "outputs": [
    {
     "data": {
      "text/html": [
       "<div>\n",
       "<style scoped>\n",
       "    .dataframe tbody tr th:only-of-type {\n",
       "        vertical-align: middle;\n",
       "    }\n",
       "\n",
       "    .dataframe tbody tr th {\n",
       "        vertical-align: top;\n",
       "    }\n",
       "\n",
       "    .dataframe thead th {\n",
       "        text-align: right;\n",
       "    }\n",
       "</style>\n",
       "<table border=\"1\" class=\"dataframe\">\n",
       "  <thead>\n",
       "    <tr style=\"text-align: right;\">\n",
       "      <th></th>\n",
       "      <th>name</th>\n",
       "      <th>platform</th>\n",
       "      <th>year_of_release</th>\n",
       "      <th>genre</th>\n",
       "      <th>na_sales</th>\n",
       "      <th>eu_sales</th>\n",
       "      <th>jp_sales</th>\n",
       "      <th>other_sales</th>\n",
       "      <th>critic_score</th>\n",
       "      <th>user_score</th>\n",
       "      <th>rating</th>\n",
       "      <th>total_sales</th>\n",
       "    </tr>\n",
       "  </thead>\n",
       "  <tbody>\n",
       "    <tr>\n",
       "      <th>0</th>\n",
       "      <td>Wii Sports</td>\n",
       "      <td>Wii</td>\n",
       "      <td>2006</td>\n",
       "      <td>Sports</td>\n",
       "      <td>41.36</td>\n",
       "      <td>28.96</td>\n",
       "      <td>3.77</td>\n",
       "      <td>8.45</td>\n",
       "      <td>76.0</td>\n",
       "      <td>8.0</td>\n",
       "      <td>E</td>\n",
       "      <td>82.54</td>\n",
       "    </tr>\n",
       "    <tr>\n",
       "      <th>2</th>\n",
       "      <td>Mario Kart Wii</td>\n",
       "      <td>Wii</td>\n",
       "      <td>2008</td>\n",
       "      <td>Racing</td>\n",
       "      <td>15.68</td>\n",
       "      <td>12.76</td>\n",
       "      <td>3.79</td>\n",
       "      <td>3.29</td>\n",
       "      <td>82.0</td>\n",
       "      <td>8.3</td>\n",
       "      <td>E</td>\n",
       "      <td>35.52</td>\n",
       "    </tr>\n",
       "    <tr>\n",
       "      <th>3</th>\n",
       "      <td>Wii Sports Resort</td>\n",
       "      <td>Wii</td>\n",
       "      <td>2009</td>\n",
       "      <td>Sports</td>\n",
       "      <td>15.61</td>\n",
       "      <td>10.93</td>\n",
       "      <td>3.28</td>\n",
       "      <td>2.95</td>\n",
       "      <td>80.0</td>\n",
       "      <td>8.0</td>\n",
       "      <td>E</td>\n",
       "      <td>32.77</td>\n",
       "    </tr>\n",
       "    <tr>\n",
       "      <th>4</th>\n",
       "      <td>Pokemon Red/Pokemon Blue</td>\n",
       "      <td>GB</td>\n",
       "      <td>1996</td>\n",
       "      <td>Role-Playing</td>\n",
       "      <td>11.27</td>\n",
       "      <td>8.89</td>\n",
       "      <td>10.22</td>\n",
       "      <td>1.00</td>\n",
       "      <td>-1.0</td>\n",
       "      <td>-1.0</td>\n",
       "      <td>out of rating</td>\n",
       "      <td>31.38</td>\n",
       "    </tr>\n",
       "    <tr>\n",
       "      <th>6</th>\n",
       "      <td>New Super Mario Bros.</td>\n",
       "      <td>DS</td>\n",
       "      <td>2006</td>\n",
       "      <td>Platform</td>\n",
       "      <td>11.28</td>\n",
       "      <td>9.14</td>\n",
       "      <td>6.50</td>\n",
       "      <td>2.88</td>\n",
       "      <td>89.0</td>\n",
       "      <td>8.5</td>\n",
       "      <td>E</td>\n",
       "      <td>29.80</td>\n",
       "    </tr>\n",
       "  </tbody>\n",
       "</table>\n",
       "</div>"
      ],
      "text/plain": [
       "                       name platform  year_of_release         genre  na_sales  \\\n",
       "0                Wii Sports      Wii             2006        Sports     41.36   \n",
       "2            Mario Kart Wii      Wii             2008        Racing     15.68   \n",
       "3         Wii Sports Resort      Wii             2009        Sports     15.61   \n",
       "4  Pokemon Red/Pokemon Blue       GB             1996  Role-Playing     11.27   \n",
       "6     New Super Mario Bros.       DS             2006      Platform     11.28   \n",
       "\n",
       "   eu_sales  jp_sales  other_sales  critic_score  user_score         rating  \\\n",
       "0     28.96      3.77         8.45          76.0         8.0              E   \n",
       "2     12.76      3.79         3.29          82.0         8.3              E   \n",
       "3     10.93      3.28         2.95          80.0         8.0              E   \n",
       "4      8.89     10.22         1.00          -1.0        -1.0  out of rating   \n",
       "6      9.14      6.50         2.88          89.0         8.5              E   \n",
       "\n",
       "   total_sales  \n",
       "0        82.54  \n",
       "2        35.52  \n",
       "3        32.77  \n",
       "4        31.38  \n",
       "6        29.80  "
      ]
     },
     "execution_count": 17,
     "metadata": {},
     "output_type": "execute_result"
    }
   ],
   "source": [
    "data_games.head(5)"
   ]
  },
  {
   "cell_type": "markdown",
   "metadata": {},
   "source": [
    "Продажи есть, идем дальше)"
   ]
  },
  {
   "cell_type": "code",
   "execution_count": 18,
   "metadata": {},
   "outputs": [
    {
     "data": {
      "text/plain": [
       "array([2006, 2008, 2009, 1996, 2005, 1999, 2007, 2010, 2013, 2004, 2002,\n",
       "       2001, 2011, 1998, 2015, 2012, 2014, 1992, 1997, 1993, 1994, 2016,\n",
       "       2003, 2000, 1995, 1991])"
      ]
     },
     "execution_count": 18,
     "metadata": {},
     "output_type": "execute_result"
    }
   ],
   "source": [
    "data_games['year_of_release'].unique()"
   ]
  },
  {
   "cell_type": "code",
   "execution_count": 19,
   "metadata": {},
   "outputs": [
    {
     "data": {
      "image/png": "[encoded data removed]",
      "text/plain": [
       "<Figure size 1080x360 with 1 Axes>"
      ]
     },
     "metadata": {
      "needs_background": "light"
     },
     "output_type": "display_data"
    }
   ],
   "source": [
    "import matplotlib.pyplot as plt\n",
    "\n",
    "fig, ax = plt.subplots(figsize=(15, 5))\n",
    "\n",
    "hist = data_games['year_of_release'].plot(kind='hist', bins=80).legend()\n",
    "ax.set_xlabel('Год')\n",
    "ax.set_ylabel('Продажи');"
   ]
  },
  {
   "cell_type": "markdown",
   "metadata": {},
   "source": [
    "Рынок начал стремительно расти в начале 90-ых с ростом распространения персональных компьютеров и скачком технологий и достиг пика в 2008-2009 году. \n",
    "\n",
    "После кризиса и с ростом популярности смартфонов как игровой платформы, многие независимые разработчики и маленькие студии сосредоточились на них. \n",
    "В наборе данных смартфоны не представлены, из-за специфической модели распространения, поэтому после 2009 наблюдаем спад и затем рост количества выпускаемых игр после 2012 года, скорее всего связанный с выходом нового поколения консолей"
   ]
  },
  {
   "cell_type": "code",
   "execution_count": 20,
   "metadata": {},
   "outputs": [
    {
     "data": {
      "text/html": [
       "<div>\n",
       "<style scoped>\n",
       "    .dataframe tbody tr th:only-of-type {\n",
       "        vertical-align: middle;\n",
       "    }\n",
       "\n",
       "    .dataframe tbody tr th {\n",
       "        vertical-align: top;\n",
       "    }\n",
       "\n",
       "    .dataframe thead th {\n",
       "        text-align: right;\n",
       "    }\n",
       "</style>\n",
       "<table border=\"1\" class=\"dataframe\">\n",
       "  <thead>\n",
       "    <tr style=\"text-align: right;\">\n",
       "      <th></th>\n",
       "      <th>platform</th>\n",
       "      <th>total_sales</th>\n",
       "    </tr>\n",
       "  </thead>\n",
       "  <tbody>\n",
       "    <tr>\n",
       "      <th>15</th>\n",
       "      <td>PS2</td>\n",
       "      <td>1233.56</td>\n",
       "    </tr>\n",
       "    <tr>\n",
       "      <th>27</th>\n",
       "      <td>X360</td>\n",
       "      <td>961.24</td>\n",
       "    </tr>\n",
       "    <tr>\n",
       "      <th>16</th>\n",
       "      <td>PS3</td>\n",
       "      <td>931.34</td>\n",
       "    </tr>\n",
       "    <tr>\n",
       "      <th>25</th>\n",
       "      <td>Wii</td>\n",
       "      <td>891.18</td>\n",
       "    </tr>\n",
       "    <tr>\n",
       "      <th>3</th>\n",
       "      <td>DS</td>\n",
       "      <td>802.76</td>\n",
       "    </tr>\n",
       "  </tbody>\n",
       "</table>\n",
       "</div>"
      ],
      "text/plain": [
       "   platform  total_sales\n",
       "15      PS2      1233.56\n",
       "27     X360       961.24\n",
       "16      PS3       931.34\n",
       "25      Wii       891.18\n",
       "3        DS       802.76"
      ]
     },
     "execution_count": 20,
     "metadata": {},
     "output_type": "execute_result"
    }
   ],
   "source": [
    "most_popular_platform = data_games.groupby('platform').agg({'total_sales':'sum'}).reset_index()\n",
    "most_popular_platform.sort_values(by='total_sales', ascending=False).head()"
   ]
  },
  {
   "cell_type": "markdown",
   "metadata": {},
   "source": [
    "Самые большие продажи у PS2 Xbox и PS3, предлагаю посмотреть детельно на продажи. Начем с ПС2 "
   ]
  },
  {
   "cell_type": "code",
   "execution_count": 21,
   "metadata": {},
   "outputs": [
    {
     "data": {
      "text/plain": [
       "<AxesSubplot:ylabel='Frequency'>"
      ]
     },
     "execution_count": 21,
     "metadata": {},
     "output_type": "execute_result"
    },
    {
     "data": {
      "image/png": "[encoded data removed]",
      "text/plain": [
       "<Figure size 432x288 with 1 Axes>"
      ]
     },
     "metadata": {
      "needs_background": "light"
     },
     "output_type": "display_data"
    }
   ],
   "source": [
    "data_games.query('platform in \"PS2\"')['year_of_release'].plot(kind='hist', bins=10)"
   ]
  },
  {
   "cell_type": "markdown",
   "metadata": {},
   "source": [
    "PS2 мы видим что пик попудярности держал с 2000 по 2006, потом пошел на спад "
   ]
  },
  {
   "cell_type": "markdown",
   "metadata": {},
   "source": [
    "Не получилось перевести на бары и сделать красиво "
   ]
  },
  {
   "cell_type": "code",
   "execution_count": 22,
   "metadata": {},
   "outputs": [
    {
     "data": {
      "text/plain": [
       "<AxesSubplot:ylabel='Frequency'>"
      ]
     },
     "execution_count": 22,
     "metadata": {},
     "output_type": "execute_result"
    },
    {
     "data": {
      "image/png": "[encoded data removed]",
      "text/plain": [
       "<Figure size 432x288 with 1 Axes>"
      ]
     },
     "metadata": {
      "needs_background": "light"
     },
     "output_type": "display_data"
    }
   ],
   "source": [
    "data_games.query('platform in \"X360\" and year_of_release != 2077')['year_of_release'].plot(kind='hist', bins=10)"
   ]
  },
  {
   "cell_type": "markdown",
   "metadata": {},
   "source": [
    "На замену ПС2 приходит xbox, до 2011 держал высокую популярнось "
   ]
  },
  {
   "cell_type": "code",
   "execution_count": 23,
   "metadata": {},
   "outputs": [
    {
     "data": {
      "text/plain": [
       "<AxesSubplot:ylabel='Frequency'>"
      ]
     },
     "execution_count": 23,
     "metadata": {},
     "output_type": "execute_result"
    },
    {
     "data": {
      "image/png": "[encoded data removed]",
      "text/plain": [
       "<Figure size 432x288 with 1 Axes>"
      ]
     },
     "metadata": {
      "needs_background": "light"
     },
     "output_type": "display_data"
    }
   ],
   "source": [
    "data_games.query('platform in \"PS3\" and year_of_release != 2077')['year_of_release'].plot(kind='hist', bins=10)"
   ]
  },
  {
   "cell_type": "markdown",
   "metadata": {},
   "source": [
    "Популярность не такая резкая как у консоли от майкрософт, по сейчас более востребован чем xbox, можем расмотреть еще Wii\n"
   ]
  },
  {
   "cell_type": "code",
   "execution_count": 24,
   "metadata": {},
   "outputs": [
    {
     "data": {
      "text/plain": [
       "<AxesSubplot:ylabel='Frequency'>"
      ]
     },
     "execution_count": 24,
     "metadata": {},
     "output_type": "execute_result"
    },
    {
     "data": {
      "image/png": "[encoded data removed]",
      "text/plain": [
       "<Figure size 432x288 with 1 Axes>"
      ]
     },
     "metadata": {
      "needs_background": "light"
     },
     "output_type": "display_data"
    }
   ],
   "source": [
    "data_games.query('platform in \"Wii\" and year_of_release != 2077')['year_of_release'].plot(kind='hist', bins=10)"
   ]
  },
  {
   "cell_type": "markdown",
   "metadata": {},
   "source": [
    "В 2010 был пик, и резко на спад. А что нам скажет ящик с усами "
   ]
  },
  {
   "cell_type": "markdown",
   "metadata": {},
   "source": [
    "## check step 3"
   ]
  },
  {
   "cell_type": "code",
   "execution_count": 25,
   "metadata": {},
   "outputs": [],
   "source": [
    "plf = data_games.groupby('platform')['total_sales'].sum().sort_values().reset_index()\n",
    "popul_platforms = plf.loc[17:30, 'platform'].values\n",
    "mean_year_life = 0\n",
    "for i in range(0,len(popul_platforms)):\n",
    "    platform  = data_games.query('platform == @popul_platforms[@i]').groupby('year_of_release')['total_sales'].sum()\n",
    "    mean_year_life += platform.count()"
   ]
  },
  {
   "cell_type": "code",
   "execution_count": 26,
   "metadata": {},
   "outputs": [
    {
     "data": {
      "text/plain": [
       "10.461538461538462"
      ]
     },
     "execution_count": 26,
     "metadata": {},
     "output_type": "execute_result"
    }
   ],
   "source": [
    "mean_year_life/len(popul_platforms)"
   ]
  },
  {
   "cell_type": "markdown",
   "metadata": {},
   "source": [
    "Расчетное значение 10,4 года, а из графиков видно, что срок активного существования платформ 9-10 лет и распределение продаж идет близко к нормальному распределению,Поэтому будем считтать,что срок средний существования платформы - 10-12 лет."
   ]
  },
  {
   "cell_type": "markdown",
   "metadata": {},
   "source": [
    "Как мы видели из предыдущих пунктов срок существования платформ 10-12 лет, поэтому для прогноза на 2017 год возьмем предыдущий период в 11 лет (с 2005 года)"
   ]
  },
  {
   "cell_type": "code",
   "execution_count": 27,
   "metadata": {},
   "outputs": [
    {
     "data": {
      "text/html": [
       "<div>\n",
       "<style scoped>\n",
       "    .dataframe tbody tr th:only-of-type {\n",
       "        vertical-align: middle;\n",
       "    }\n",
       "\n",
       "    .dataframe tbody tr th {\n",
       "        vertical-align: top;\n",
       "    }\n",
       "\n",
       "    .dataframe thead th {\n",
       "        text-align: right;\n",
       "    }\n",
       "</style>\n",
       "<table border=\"1\" class=\"dataframe\">\n",
       "  <thead>\n",
       "    <tr style=\"text-align: right;\">\n",
       "      <th>platform</th>\n",
       "      <th>year_of_release</th>\n",
       "      <th>3DS</th>\n",
       "      <th>DC</th>\n",
       "      <th>DS</th>\n",
       "      <th>GBA</th>\n",
       "      <th>GC</th>\n",
       "      <th>PC</th>\n",
       "      <th>PS2</th>\n",
       "      <th>PS3</th>\n",
       "      <th>PS4</th>\n",
       "      <th>PSP</th>\n",
       "      <th>PSV</th>\n",
       "      <th>Wii</th>\n",
       "      <th>WiiU</th>\n",
       "      <th>X360</th>\n",
       "      <th>XB</th>\n",
       "      <th>XOne</th>\n",
       "    </tr>\n",
       "  </thead>\n",
       "  <tbody>\n",
       "    <tr>\n",
       "      <th>0</th>\n",
       "      <td>2005</td>\n",
       "      <td>0.00</td>\n",
       "      <td>0.00</td>\n",
       "      <td>130.14</td>\n",
       "      <td>33.86</td>\n",
       "      <td>27.62</td>\n",
       "      <td>4.37</td>\n",
       "      <td>160.66</td>\n",
       "      <td>0.00</td>\n",
       "      <td>0.00</td>\n",
       "      <td>43.84</td>\n",
       "      <td>0.00</td>\n",
       "      <td>0.00</td>\n",
       "      <td>0.00</td>\n",
       "      <td>8.25</td>\n",
       "      <td>49.08</td>\n",
       "      <td>0.00</td>\n",
       "    </tr>\n",
       "    <tr>\n",
       "      <th>1</th>\n",
       "      <td>2006</td>\n",
       "      <td>0.00</td>\n",
       "      <td>0.00</td>\n",
       "      <td>119.81</td>\n",
       "      <td>5.28</td>\n",
       "      <td>11.26</td>\n",
       "      <td>2.85</td>\n",
       "      <td>103.42</td>\n",
       "      <td>20.96</td>\n",
       "      <td>0.00</td>\n",
       "      <td>55.32</td>\n",
       "      <td>0.00</td>\n",
       "      <td>137.15</td>\n",
       "      <td>0.00</td>\n",
       "      <td>51.62</td>\n",
       "      <td>10.04</td>\n",
       "      <td>0.00</td>\n",
       "    </tr>\n",
       "    <tr>\n",
       "      <th>2</th>\n",
       "      <td>2007</td>\n",
       "      <td>0.00</td>\n",
       "      <td>0.02</td>\n",
       "      <td>146.94</td>\n",
       "      <td>3.40</td>\n",
       "      <td>0.27</td>\n",
       "      <td>9.28</td>\n",
       "      <td>75.99</td>\n",
       "      <td>73.19</td>\n",
       "      <td>0.00</td>\n",
       "      <td>46.93</td>\n",
       "      <td>0.00</td>\n",
       "      <td>152.77</td>\n",
       "      <td>0.00</td>\n",
       "      <td>95.41</td>\n",
       "      <td>0.55</td>\n",
       "      <td>0.00</td>\n",
       "    </tr>\n",
       "    <tr>\n",
       "      <th>3</th>\n",
       "      <td>2008</td>\n",
       "      <td>0.00</td>\n",
       "      <td>0.04</td>\n",
       "      <td>145.31</td>\n",
       "      <td>0.00</td>\n",
       "      <td>0.00</td>\n",
       "      <td>12.42</td>\n",
       "      <td>53.90</td>\n",
       "      <td>118.52</td>\n",
       "      <td>0.00</td>\n",
       "      <td>34.55</td>\n",
       "      <td>0.00</td>\n",
       "      <td>171.32</td>\n",
       "      <td>0.00</td>\n",
       "      <td>135.26</td>\n",
       "      <td>0.18</td>\n",
       "      <td>0.00</td>\n",
       "    </tr>\n",
       "    <tr>\n",
       "      <th>4</th>\n",
       "      <td>2009</td>\n",
       "      <td>0.00</td>\n",
       "      <td>0.00</td>\n",
       "      <td>119.54</td>\n",
       "      <td>0.00</td>\n",
       "      <td>0.00</td>\n",
       "      <td>16.91</td>\n",
       "      <td>26.40</td>\n",
       "      <td>130.93</td>\n",
       "      <td>0.00</td>\n",
       "      <td>37.78</td>\n",
       "      <td>0.00</td>\n",
       "      <td>206.97</td>\n",
       "      <td>0.00</td>\n",
       "      <td>120.29</td>\n",
       "      <td>0.00</td>\n",
       "      <td>0.00</td>\n",
       "    </tr>\n",
       "    <tr>\n",
       "      <th>5</th>\n",
       "      <td>2010</td>\n",
       "      <td>0.00</td>\n",
       "      <td>0.00</td>\n",
       "      <td>85.02</td>\n",
       "      <td>0.00</td>\n",
       "      <td>0.00</td>\n",
       "      <td>24.28</td>\n",
       "      <td>5.64</td>\n",
       "      <td>142.17</td>\n",
       "      <td>0.00</td>\n",
       "      <td>35.04</td>\n",
       "      <td>0.00</td>\n",
       "      <td>127.95</td>\n",
       "      <td>0.00</td>\n",
       "      <td>170.03</td>\n",
       "      <td>0.00</td>\n",
       "      <td>0.00</td>\n",
       "    </tr>\n",
       "    <tr>\n",
       "      <th>6</th>\n",
       "      <td>2011</td>\n",
       "      <td>63.20</td>\n",
       "      <td>0.00</td>\n",
       "      <td>26.18</td>\n",
       "      <td>0.00</td>\n",
       "      <td>0.00</td>\n",
       "      <td>35.03</td>\n",
       "      <td>0.45</td>\n",
       "      <td>156.78</td>\n",
       "      <td>0.00</td>\n",
       "      <td>17.82</td>\n",
       "      <td>4.63</td>\n",
       "      <td>59.65</td>\n",
       "      <td>0.00</td>\n",
       "      <td>143.84</td>\n",
       "      <td>0.00</td>\n",
       "      <td>0.00</td>\n",
       "    </tr>\n",
       "    <tr>\n",
       "      <th>7</th>\n",
       "      <td>2012</td>\n",
       "      <td>51.36</td>\n",
       "      <td>0.00</td>\n",
       "      <td>11.01</td>\n",
       "      <td>0.00</td>\n",
       "      <td>0.00</td>\n",
       "      <td>23.22</td>\n",
       "      <td>0.00</td>\n",
       "      <td>107.36</td>\n",
       "      <td>0.00</td>\n",
       "      <td>7.69</td>\n",
       "      <td>16.19</td>\n",
       "      <td>21.71</td>\n",
       "      <td>17.56</td>\n",
       "      <td>99.74</td>\n",
       "      <td>0.00</td>\n",
       "      <td>0.00</td>\n",
       "    </tr>\n",
       "    <tr>\n",
       "      <th>8</th>\n",
       "      <td>2013</td>\n",
       "      <td>56.57</td>\n",
       "      <td>0.00</td>\n",
       "      <td>1.54</td>\n",
       "      <td>0.00</td>\n",
       "      <td>0.00</td>\n",
       "      <td>12.38</td>\n",
       "      <td>0.00</td>\n",
       "      <td>113.25</td>\n",
       "      <td>25.99</td>\n",
       "      <td>3.14</td>\n",
       "      <td>10.59</td>\n",
       "      <td>8.59</td>\n",
       "      <td>21.65</td>\n",
       "      <td>88.58</td>\n",
       "      <td>0.00</td>\n",
       "      <td>18.96</td>\n",
       "    </tr>\n",
       "    <tr>\n",
       "      <th>9</th>\n",
       "      <td>2014</td>\n",
       "      <td>43.76</td>\n",
       "      <td>0.00</td>\n",
       "      <td>0.00</td>\n",
       "      <td>0.00</td>\n",
       "      <td>0.00</td>\n",
       "      <td>13.28</td>\n",
       "      <td>0.00</td>\n",
       "      <td>47.76</td>\n",
       "      <td>100.00</td>\n",
       "      <td>0.24</td>\n",
       "      <td>11.90</td>\n",
       "      <td>3.75</td>\n",
       "      <td>22.03</td>\n",
       "      <td>34.74</td>\n",
       "      <td>0.00</td>\n",
       "      <td>54.07</td>\n",
       "    </tr>\n",
       "    <tr>\n",
       "      <th>10</th>\n",
       "      <td>2015</td>\n",
       "      <td>27.78</td>\n",
       "      <td>0.00</td>\n",
       "      <td>0.00</td>\n",
       "      <td>0.00</td>\n",
       "      <td>0.00</td>\n",
       "      <td>8.52</td>\n",
       "      <td>0.00</td>\n",
       "      <td>16.82</td>\n",
       "      <td>118.90</td>\n",
       "      <td>0.12</td>\n",
       "      <td>6.25</td>\n",
       "      <td>1.14</td>\n",
       "      <td>16.35</td>\n",
       "      <td>11.96</td>\n",
       "      <td>0.00</td>\n",
       "      <td>60.14</td>\n",
       "    </tr>\n",
       "    <tr>\n",
       "      <th>11</th>\n",
       "      <td>2016</td>\n",
       "      <td>15.14</td>\n",
       "      <td>0.00</td>\n",
       "      <td>0.00</td>\n",
       "      <td>0.00</td>\n",
       "      <td>0.00</td>\n",
       "      <td>5.25</td>\n",
       "      <td>0.00</td>\n",
       "      <td>3.60</td>\n",
       "      <td>69.25</td>\n",
       "      <td>0.00</td>\n",
       "      <td>4.25</td>\n",
       "      <td>0.18</td>\n",
       "      <td>4.60</td>\n",
       "      <td>1.52</td>\n",
       "      <td>0.00</td>\n",
       "      <td>26.15</td>\n",
       "    </tr>\n",
       "  </tbody>\n",
       "</table>\n",
       "</div>"
      ],
      "text/plain": [
       "platform  year_of_release    3DS    DC      DS    GBA     GC     PC     PS2  \\\n",
       "0                    2005   0.00  0.00  130.14  33.86  27.62   4.37  160.66   \n",
       "1                    2006   0.00  0.00  119.81   5.28  11.26   2.85  103.42   \n",
       "2                    2007   0.00  0.02  146.94   3.40   0.27   9.28   75.99   \n",
       "3                    2008   0.00  0.04  145.31   0.00   0.00  12.42   53.90   \n",
       "4                    2009   0.00  0.00  119.54   0.00   0.00  16.91   26.40   \n",
       "5                    2010   0.00  0.00   85.02   0.00   0.00  24.28    5.64   \n",
       "6                    2011  63.20  0.00   26.18   0.00   0.00  35.03    0.45   \n",
       "7                    2012  51.36  0.00   11.01   0.00   0.00  23.22    0.00   \n",
       "8                    2013  56.57  0.00    1.54   0.00   0.00  12.38    0.00   \n",
       "9                    2014  43.76  0.00    0.00   0.00   0.00  13.28    0.00   \n",
       "10                   2015  27.78  0.00    0.00   0.00   0.00   8.52    0.00   \n",
       "11                   2016  15.14  0.00    0.00   0.00   0.00   5.25    0.00   \n",
       "\n",
       "platform     PS3     PS4    PSP    PSV     Wii   WiiU    X360     XB   XOne  \n",
       "0           0.00    0.00  43.84   0.00    0.00   0.00    8.25  49.08   0.00  \n",
       "1          20.96    0.00  55.32   0.00  137.15   0.00   51.62  10.04   0.00  \n",
       "2          73.19    0.00  46.93   0.00  152.77   0.00   95.41   0.55   0.00  \n",
       "3         118.52    0.00  34.55   0.00  171.32   0.00  135.26   0.18   0.00  \n",
       "4         130.93    0.00  37.78   0.00  206.97   0.00  120.29   0.00   0.00  \n",
       "5         142.17    0.00  35.04   0.00  127.95   0.00  170.03   0.00   0.00  \n",
       "6         156.78    0.00  17.82   4.63   59.65   0.00  143.84   0.00   0.00  \n",
       "7         107.36    0.00   7.69  16.19   21.71  17.56   99.74   0.00   0.00  \n",
       "8         113.25   25.99   3.14  10.59    8.59  21.65   88.58   0.00  18.96  \n",
       "9          47.76  100.00   0.24  11.90    3.75  22.03   34.74   0.00  54.07  \n",
       "10         16.82  118.90   0.12   6.25    1.14  16.35   11.96   0.00  60.14  \n",
       "11          3.60   69.25   0.00   4.25    0.18   4.60    1.52   0.00  26.15  "
      ]
     },
     "metadata": {},
     "output_type": "display_data"
    }
   ],
   "source": [
    "platform2017 = data_games.pivot_table(index='year_of_release', columns='platform', values='total_sales', aggfunc='sum').\\\n",
    "    query('year_of_release>2004').fillna(0).reset_index()\n",
    "platform2017['year_of_release'] = platform2017['year_of_release'].astype('Int64')\n",
    "\n",
    "for column in platform2017.columns:\n",
    "    if platform2017[column].sum()==0:\n",
    "        platform2017.drop(column, axis=1,inplace=True)\n",
    "\n",
    "display(platform2017)"
   ]
  },
  {
   "cell_type": "code",
   "execution_count": 28,
   "metadata": {},
   "outputs": [
    {
     "data": {
      "image/png": "[encoded data removed]",
      "text/plain": [
       "<Figure size 1080x504 with 1 Axes>"
      ]
     },
     "metadata": {
      "needs_background": "light"
     },
     "output_type": "display_data"
    }
   ],
   "source": [
    "plt.figure(figsize=(15, 7))\n",
    "plt.grid()\n",
    "plt.title('Объёмы продаж на разных платформах по годам')\n",
    "\n",
    "i=0\n",
    "for column in platform2017.columns[1:]:\n",
    "    plt.plot(platform2017['year_of_release'].to_list(), platform2017[column].to_list(), label=column, alpha=0.95);\n",
    "    i+=1 # В верхней строчке выдает ошибку\n",
    "\n",
    "plt.grid()\n",
    "plt.xlabel('Расчетный год')    \n",
    "plt.ylabel('Объём продаж за год')\n",
    "plt.legend()\n",
    "plt.show();"
   ]
  },
  {
   "cell_type": "markdown",
   "metadata": {},
   "source": [
    "Видно , что многие популярные платформы, такие как: Wii, PS3, X360, PSP, - прошли свой цикл развития 10-12 лет, и как раз в районе текущего 2016 года завершающий аккорд (другие платформы PS2, DS, GBA, XB, закончилиь еще раньще) - во все эти платформы вкладываться не стоит их развитие закончилось"
   ]
  },
  {
   "cell_type": "markdown",
   "metadata": {},
   "source": [
    "Создадим: список из топ-5 потенциально прибыльных платформ top5_2017 на 2017 год\n",
    "Список популярных с 2010 года top2010"
   ]
  },
  {
   "cell_type": "code",
   "execution_count": 29,
   "metadata": {},
   "outputs": [
    {
     "data": {
      "text/html": [
       "<div>\n",
       "<style scoped>\n",
       "    .dataframe tbody tr th:only-of-type {\n",
       "        vertical-align: middle;\n",
       "    }\n",
       "\n",
       "    .dataframe tbody tr th {\n",
       "        vertical-align: top;\n",
       "    }\n",
       "\n",
       "    .dataframe thead th {\n",
       "        text-align: right;\n",
       "    }\n",
       "</style>\n",
       "<table border=\"1\" class=\"dataframe\">\n",
       "  <thead>\n",
       "    <tr style=\"text-align: right;\">\n",
       "      <th></th>\n",
       "      <th>platform</th>\n",
       "      <th>total_sales</th>\n",
       "    </tr>\n",
       "  </thead>\n",
       "  <tbody>\n",
       "    <tr>\n",
       "      <th>0</th>\n",
       "      <td>PS3</td>\n",
       "      <td>587.74</td>\n",
       "    </tr>\n",
       "    <tr>\n",
       "      <th>1</th>\n",
       "      <td>X360</td>\n",
       "      <td>550.41</td>\n",
       "    </tr>\n",
       "    <tr>\n",
       "      <th>2</th>\n",
       "      <td>PS4</td>\n",
       "      <td>314.14</td>\n",
       "    </tr>\n",
       "    <tr>\n",
       "      <th>3</th>\n",
       "      <td>3DS</td>\n",
       "      <td>257.81</td>\n",
       "    </tr>\n",
       "    <tr>\n",
       "      <th>4</th>\n",
       "      <td>Wii</td>\n",
       "      <td>222.97</td>\n",
       "    </tr>\n",
       "    <tr>\n",
       "      <th>5</th>\n",
       "      <td>XOne</td>\n",
       "      <td>159.32</td>\n",
       "    </tr>\n",
       "    <tr>\n",
       "      <th>6</th>\n",
       "      <td>DS</td>\n",
       "      <td>123.75</td>\n",
       "    </tr>\n",
       "    <tr>\n",
       "      <th>7</th>\n",
       "      <td>PC</td>\n",
       "      <td>121.96</td>\n",
       "    </tr>\n",
       "    <tr>\n",
       "      <th>8</th>\n",
       "      <td>WiiU</td>\n",
       "      <td>82.19</td>\n",
       "    </tr>\n",
       "    <tr>\n",
       "      <th>9</th>\n",
       "      <td>PSP</td>\n",
       "      <td>64.05</td>\n",
       "    </tr>\n",
       "  </tbody>\n",
       "</table>\n",
       "</div>"
      ],
      "text/plain": [
       "  platform  total_sales\n",
       "0      PS3       587.74\n",
       "1     X360       550.41\n",
       "2      PS4       314.14\n",
       "3      3DS       257.81\n",
       "4      Wii       222.97\n",
       "5     XOne       159.32\n",
       "6       DS       123.75\n",
       "7       PC       121.96\n",
       "8     WiiU        82.19\n",
       "9      PSP        64.05"
      ]
     },
     "execution_count": 29,
     "metadata": {},
     "output_type": "execute_result"
    }
   ],
   "source": [
    "top5_2017 = ['PS4', 'XOne', 'WiiU', 'PSV', '3DS']\n",
    "\n",
    "top2010 = data_games.query('year_of_release>=2010').groupby('platform')['total_sales'].sum().sort_values(ascending=False).reset_index().head(10)\n",
    "top2010"
   ]
  },
  {
   "cell_type": "code",
   "execution_count": 30,
   "metadata": {},
   "outputs": [
    {
     "data": {
      "image/png": "[encoded data removed]",
      "text/plain": [
       "<Figure size 1152x864 with 8 Axes>"
      ]
     },
     "metadata": {
      "needs_background": "light"
     },
     "output_type": "display_data"
    }
   ],
   "source": [
    "fig, (ax1, ax2, ax3, ax4, ax5, ax6, ax7, ax8) = plt.subplots(nrows=1, ncols=8, figsize=(16, 12))\n",
    "fig.autofmt_xdate();\n",
    "\n",
    "p = {ax1:'X360', ax2:'PS3', ax3:'Wii', ax4:'DS', ax5:'PS2', ax6:'PS4', ax7:'PSP', ax8:'3DS'}\n",
    "for ax in [ax1, ax2, ax3, ax4, ax5, ax6, ax7, ax8]:\n",
    "    sales = data_games.query('platform==@p[@ax]')['total_sales']\n",
    "    ax.boxplot(sales)\n",
    "    ax.grid()\n",
    "    ax.set_title(p[ax])\n",
    "\n",
    "fig.autofmt_xdate()"
   ]
  },
  {
   "cell_type": "markdown",
   "metadata": {},
   "source": [
    "Продажи на популярных платформах схожи. Медианные значения продаж у четырех X360, PS3, Wii, PS2 находятся близко к уровню 0,2, а в других 4 к уровню 0,1. На платформах 3DS,DS и PSP большая часть проданых игр лежит до значения в 0,5-0,6, на платформах PS4, Wii и PS2 до 0,85-1, а в лидерах X360 до 1,1 и в PS3 до 1,3млн"
   ]
  },
  {
   "cell_type": "code",
   "execution_count": 31,
   "metadata": {},
   "outputs": [
    {
     "data": {
      "image/png": "[encoded data removed]",
      "text/plain": [
       "<Figure size 1080x576 with 1 Axes>"
      ]
     },
     "metadata": {
      "needs_background": "light"
     },
     "output_type": "display_data"
    }
   ],
   "source": [
    "# check\n",
    "\n",
    "data_games.query('year_of_release >=2014').boxplot('total_sales', by='platform',figsize=(15,8)).set_ylim(0,2.5)\n",
    "\n",
    "plt.xlabel('Платформы')\n",
    "plt.ylabel('Продажи')\n",
    "\n",
    "plt.suptitle('')\n",
    "plt.title('Продажи по платформам 2014 -2016')\n",
    "\n",
    "plt.show()"
   ]
  },
  {
   "cell_type": "markdown",
   "metadata": {},
   "source": [
    "Расмотрим заисимость оценок критиков и пользователей к продажам на примере XBOX360"
   ]
  },
  {
   "cell_type": "code",
   "execution_count": 32,
   "metadata": {},
   "outputs": [
    {
     "data": {
      "image/png": "[encoded data removed]",
      "text/plain": [
       "<Figure size 1080x360 with 1 Axes>"
      ]
     },
     "metadata": {
      "needs_background": "light"
     },
     "output_type": "display_data"
    }
   ],
   "source": [
    "xbox = data_games[(data_games['platform'] == 'X360') & (data_games['critic_score'] > 0)].copy()\n",
    "xbox.plot(kind='scatter', x='critic_score', y='total_sales', color='DarkOrange',alpha=0.5, figsize=(15,5))\n",
    "plt.title('Зависимость Продаж от отзывов критиков для XBOX 360');"
   ]
  },
  {
   "cell_type": "code",
   "execution_count": 33,
   "metadata": {
    "scrolled": false
   },
   "outputs": [
    {
     "data": {
      "image/png": "[encoded data removed]",
      "text/plain": [
       "<Figure size 1080x360 with 1 Axes>"
      ]
     },
     "metadata": {
      "needs_background": "light"
     },
     "output_type": "display_data"
    }
   ],
   "source": [
    "xbox = data_games[(data_games['platform'] == 'X360') & (data_games['user_score'] > 0)].copy()\n",
    "xbox.plot(kind='scatter', x='user_score', y='total_sales', color='DarkOrange',alpha=0.5, figsize=(15,5))\n",
    "plt.title('Зависимость Продаж от отзывов пользователей для XBOX 360');"
   ]
  },
  {
   "cell_type": "markdown",
   "metadata": {},
   "source": [
    "Отзывы критиков важны, зависимость здесь прямопропорцианальная - чем выше оценка, тем выше продажи. И зависимость продаж от отзывов пользователей, как выясняется слабая, но ближе к средней, также она прямопропорцианальная(хотя коэффициент значительно меньше - 0,115). В общем зависимости схожи."
   ]
  },
  {
   "cell_type": "markdown",
   "metadata": {},
   "source": [
    "Теперь сделаем для PS3"
   ]
  },
  {
   "cell_type": "code",
   "execution_count": 34,
   "metadata": {},
   "outputs": [
    {
     "data": {
      "image/png": "[encoded data removed]",
      "text/plain": [
       "<Figure size 1080x360 with 1 Axes>"
      ]
     },
     "metadata": {
      "needs_background": "light"
     },
     "output_type": "display_data"
    }
   ],
   "source": [
    "ps3 = data_games[(data_games['platform'] == 'PS3') & (data_games['critic_score'] > 0)].copy()\n",
    "ps3.plot(kind='scatter', x='critic_score', y='total_sales', color='green',alpha=0.5, figsize=(15,5))\n",
    "plt.title('Зависимость Продаж от отзывов критиков для PlayStation');"
   ]
  },
  {
   "cell_type": "code",
   "execution_count": 35,
   "metadata": {},
   "outputs": [
    {
     "data": {
      "image/png": "[encoded data removed]",
      "text/plain": [
       "<Figure size 1080x360 with 1 Axes>"
      ]
     },
     "metadata": {
      "needs_background": "light"
     },
     "output_type": "display_data"
    }
   ],
   "source": [
    "ps3 = data_games[(data_games['platform'] == 'PS3') & (data_games['user_score'] > 0)].copy()\n",
    "ps3.plot(kind='scatter', x='user_score', y='total_sales', color='green',alpha=0.5, figsize=(15,5))\n",
    "plt.title('Зависимость Продаж от отзывов пользователей для PlayStation');"
   ]
  },
  {
   "cell_type": "markdown",
   "metadata": {},
   "source": [
    "Посмотрим на самые продаваемые жанры, и самые не популярные "
   ]
  },
  {
   "cell_type": "code",
   "execution_count": 36,
   "metadata": {},
   "outputs": [
    {
     "data": {
      "image/png": "[encoded data removed]",
      "text/plain": [
       "<Figure size 432x288 with 1 Axes>"
      ]
     },
     "metadata": {
      "needs_background": "light"
     },
     "output_type": "display_data"
    }
   ],
   "source": [
    "sns.boxplot(data=data_games, x='genre', y='total_sales')\n",
    "plt.xlabel('Жанры')\n",
    "plt.ylabel('Продажи')\n",
    "plt.show()"
   ]
  },
  {
   "cell_type": "markdown",
   "metadata": {},
   "source": [
    "Главные суперхиты с продажами более 10 млн копий принадлежат жанрам экшн, рпг, шутер и гонки, и два в жанровые рамки не уложились. Посмотрим на картину без выбросов"
   ]
  },
  {
   "cell_type": "code",
   "execution_count": 37,
   "metadata": {},
   "outputs": [
    {
     "data": {
      "image/png": "[encoded data removed]",
      "text/plain": [
       "<Figure size 432x288 with 1 Axes>"
      ]
     },
     "metadata": {
      "needs_background": "light"
     },
     "output_type": "display_data"
    }
   ],
   "source": [
    "sns.boxplot(data=data_games, x='genre', y='total_sales', showfliers=False)\n",
    "plt.xlabel('Жанры')\n",
    "plt.ylabel('Продажи')\n",
    "plt.show()"
   ]
  },
  {
   "cell_type": "markdown",
   "metadata": {},
   "source": [
    "Отобразим также основные статистические показатели применительно к Общим продажам для разных жанров и платформ в табличном виде, упорядочив по медиане по убыванию"
   ]
  },
  {
   "cell_type": "code",
   "execution_count": 38,
   "metadata": {},
   "outputs": [
    {
     "data": {
      "text/html": [
       "<div>\n",
       "<style scoped>\n",
       "    .dataframe tbody tr th:only-of-type {\n",
       "        vertical-align: middle;\n",
       "    }\n",
       "\n",
       "    .dataframe tbody tr th {\n",
       "        vertical-align: top;\n",
       "    }\n",
       "\n",
       "    .dataframe thead th {\n",
       "        text-align: right;\n",
       "    }\n",
       "</style>\n",
       "<table border=\"1\" class=\"dataframe\">\n",
       "  <thead>\n",
       "    <tr style=\"text-align: right;\">\n",
       "      <th></th>\n",
       "      <th>count</th>\n",
       "      <th>mean</th>\n",
       "      <th>std</th>\n",
       "      <th>min</th>\n",
       "      <th>25%</th>\n",
       "      <th>50%</th>\n",
       "      <th>75%</th>\n",
       "      <th>max</th>\n",
       "    </tr>\n",
       "    <tr>\n",
       "      <th>genre</th>\n",
       "      <th></th>\n",
       "      <th></th>\n",
       "      <th></th>\n",
       "      <th></th>\n",
       "      <th></th>\n",
       "      <th></th>\n",
       "      <th></th>\n",
       "      <th></th>\n",
       "    </tr>\n",
       "  </thead>\n",
       "  <tbody>\n",
       "    <tr>\n",
       "      <th>Platform</th>\n",
       "      <td>842.0</td>\n",
       "      <td>0.807969</td>\n",
       "      <td>1.980791</td>\n",
       "      <td>0.01</td>\n",
       "      <td>0.09</td>\n",
       "      <td>0.250</td>\n",
       "      <td>0.66</td>\n",
       "      <td>29.80</td>\n",
       "    </tr>\n",
       "    <tr>\n",
       "      <th>Shooter</th>\n",
       "      <td>1266.0</td>\n",
       "      <td>0.775348</td>\n",
       "      <td>1.678996</td>\n",
       "      <td>0.01</td>\n",
       "      <td>0.08</td>\n",
       "      <td>0.225</td>\n",
       "      <td>0.70</td>\n",
       "      <td>14.73</td>\n",
       "    </tr>\n",
       "    <tr>\n",
       "      <th>Role-Playing</th>\n",
       "      <td>1470.0</td>\n",
       "      <td>0.619939</td>\n",
       "      <td>1.720442</td>\n",
       "      <td>0.01</td>\n",
       "      <td>0.07</td>\n",
       "      <td>0.180</td>\n",
       "      <td>0.51</td>\n",
       "      <td>31.38</td>\n",
       "    </tr>\n",
       "    <tr>\n",
       "      <th>Racing</th>\n",
       "      <td>1216.0</td>\n",
       "      <td>0.579885</td>\n",
       "      <td>1.669984</td>\n",
       "      <td>0.00</td>\n",
       "      <td>0.07</td>\n",
       "      <td>0.180</td>\n",
       "      <td>0.52</td>\n",
       "      <td>35.52</td>\n",
       "    </tr>\n",
       "    <tr>\n",
       "      <th>Sports</th>\n",
       "      <td>2280.0</td>\n",
       "      <td>0.559333</td>\n",
       "      <td>2.106955</td>\n",
       "      <td>0.00</td>\n",
       "      <td>0.09</td>\n",
       "      <td>0.220</td>\n",
       "      <td>0.55</td>\n",
       "      <td>82.54</td>\n",
       "    </tr>\n",
       "    <tr>\n",
       "      <th>Fighting</th>\n",
       "      <td>833.0</td>\n",
       "      <td>0.522713</td>\n",
       "      <td>0.950154</td>\n",
       "      <td>0.01</td>\n",
       "      <td>0.08</td>\n",
       "      <td>0.210</td>\n",
       "      <td>0.54</td>\n",
       "      <td>12.84</td>\n",
       "    </tr>\n",
       "    <tr>\n",
       "      <th>Action</th>\n",
       "      <td>3238.0</td>\n",
       "      <td>0.512363</td>\n",
       "      <td>1.154945</td>\n",
       "      <td>0.01</td>\n",
       "      <td>0.06</td>\n",
       "      <td>0.180</td>\n",
       "      <td>0.48</td>\n",
       "      <td>21.05</td>\n",
       "    </tr>\n",
       "    <tr>\n",
       "      <th>Misc</th>\n",
       "      <td>1713.0</td>\n",
       "      <td>0.456421</td>\n",
       "      <td>1.314720</td>\n",
       "      <td>0.01</td>\n",
       "      <td>0.06</td>\n",
       "      <td>0.160</td>\n",
       "      <td>0.39</td>\n",
       "      <td>28.91</td>\n",
       "    </tr>\n",
       "    <tr>\n",
       "      <th>Simulation</th>\n",
       "      <td>853.0</td>\n",
       "      <td>0.452896</td>\n",
       "      <td>1.199376</td>\n",
       "      <td>0.01</td>\n",
       "      <td>0.05</td>\n",
       "      <td>0.150</td>\n",
       "      <td>0.42</td>\n",
       "      <td>24.67</td>\n",
       "    </tr>\n",
       "    <tr>\n",
       "      <th>Puzzle</th>\n",
       "      <td>548.0</td>\n",
       "      <td>0.312318</td>\n",
       "      <td>0.835916</td>\n",
       "      <td>0.01</td>\n",
       "      <td>0.04</td>\n",
       "      <td>0.100</td>\n",
       "      <td>0.27</td>\n",
       "      <td>15.28</td>\n",
       "    </tr>\n",
       "    <tr>\n",
       "      <th>Strategy</th>\n",
       "      <td>673.0</td>\n",
       "      <td>0.256419</td>\n",
       "      <td>0.522303</td>\n",
       "      <td>0.01</td>\n",
       "      <td>0.04</td>\n",
       "      <td>0.100</td>\n",
       "      <td>0.27</td>\n",
       "      <td>5.45</td>\n",
       "    </tr>\n",
       "    <tr>\n",
       "      <th>Adventure</th>\n",
       "      <td>1291.0</td>\n",
       "      <td>0.177033</td>\n",
       "      <td>0.492354</td>\n",
       "      <td>0.01</td>\n",
       "      <td>0.02</td>\n",
       "      <td>0.050</td>\n",
       "      <td>0.15</td>\n",
       "      <td>11.18</td>\n",
       "    </tr>\n",
       "  </tbody>\n",
       "</table>\n",
       "</div>"
      ],
      "text/plain": [
       "               count      mean       std   min   25%    50%   75%    max\n",
       "genre                                                                   \n",
       "Platform       842.0  0.807969  1.980791  0.01  0.09  0.250  0.66  29.80\n",
       "Shooter       1266.0  0.775348  1.678996  0.01  0.08  0.225  0.70  14.73\n",
       "Role-Playing  1470.0  0.619939  1.720442  0.01  0.07  0.180  0.51  31.38\n",
       "Racing        1216.0  0.579885  1.669984  0.00  0.07  0.180  0.52  35.52\n",
       "Sports        2280.0  0.559333  2.106955  0.00  0.09  0.220  0.55  82.54\n",
       "Fighting       833.0  0.522713  0.950154  0.01  0.08  0.210  0.54  12.84\n",
       "Action        3238.0  0.512363  1.154945  0.01  0.06  0.180  0.48  21.05\n",
       "Misc          1713.0  0.456421  1.314720  0.01  0.06  0.160  0.39  28.91\n",
       "Simulation     853.0  0.452896  1.199376  0.01  0.05  0.150  0.42  24.67\n",
       "Puzzle         548.0  0.312318  0.835916  0.01  0.04  0.100  0.27  15.28\n",
       "Strategy       673.0  0.256419  0.522303  0.01  0.04  0.100  0.27   5.45\n",
       "Adventure     1291.0  0.177033  0.492354  0.01  0.02  0.050  0.15  11.18"
      ]
     },
     "metadata": {},
     "output_type": "display_data"
    }
   ],
   "source": [
    "display(data_games.groupby('genre')['total_sales'].describe().sort_values(by='mean', ascending=False))"
   ]
  },
  {
   "cell_type": "markdown",
   "metadata": {},
   "source": [
    "Платформеры выглядят надёжнее всего с точки зрения продаж - выше медианное значение и больше диапазон между 25% и 75% квартилями, и достаточно часто \"выстреливают\" хитами, как показал график выше. И шутеры не отстают"
   ]
  },
  {
   "cell_type": "code",
   "execution_count": 39,
   "metadata": {},
   "outputs": [],
   "source": [
    "def graph (df, year, region, name, axes):\n",
    "    \n",
    "    df = df.query('year_of_release > @year')\n",
    "    \n",
    "    sales = df.pivot_table(index='platform', \n",
    "                           values=region, \n",
    "                           aggfunc='sum').nlargest(5, region)\n",
    "    \n",
    "    sales = sales.reset_index()\n",
    "    \n",
    "    sales = (\n",
    "            sales.append({'platform': 'Other', region: df[region].sum() \n",
    "                       - sales[region].sum()}, ignore_index= True)\n",
    "         )\n",
    "    \n",
    "    \n",
    "    sales.columns = ['platform', 'sales']\n",
    "    sales.plot(kind='pie',\n",
    "               y=\"sales\",\n",
    "               \n",
    "               autopct='%1.0f%%',\n",
    "               wedgeprops={'linewidth': 3.0, 'edgecolor': 'white'},\n",
    "               textprops={'size': 'x-large'}, labels = sales.platform,\n",
    "               \n",
    "               legend=False, \n",
    "               title = f\"Популярность платформ в {name} \", \n",
    "               ax = axes).set(ylabel='')\n",
    "    plt.tight_layout()"
   ]
  },
  {
   "cell_type": "code",
   "execution_count": 40,
   "metadata": {},
   "outputs": [
    {
     "data": {
      "image/png": "[encoded data removed]",
      "text/plain": [
       "<Figure size 1080x432 with 3 Axes>"
      ]
     },
     "metadata": {},
     "output_type": "display_data"
    }
   ],
   "source": [
    "fig, axes = plt.subplots(1, 3, figsize = (15,6))\n",
    "fig.suptitle('Обзор рынка платформ (портрет покупателя)', fontsize = 30, fontweight='bold')\n",
    "\n",
    "graph(data_games, 2014, 'na_sales', 'Северной Америке', axes[0])\n",
    "graph(data_games, 2014,'eu_sales', 'Европе', axes[1])\n",
    "graph(data_games, 2014, 'jp_sales', 'Японии', axes[2])"
   ]
  },
  {
   "cell_type": "markdown",
   "metadata": {},
   "source": [
    "В японии самая популярная платформа 3DS, в Европе и в США любят PS4 больше всех"
   ]
  },
  {
   "cell_type": "code",
   "execution_count": 41,
   "metadata": {},
   "outputs": [],
   "source": [
    "def graph (df, year, region, name, axes):\n",
    "    \n",
    "    df = df.query('year_of_release > @year')\n",
    "    \n",
    "    sales = df.pivot_table(index='genre', \n",
    "                           values=region, \n",
    "                           aggfunc='sum').nlargest(5, region)\n",
    "    \n",
    "    sales = sales.reset_index()\n",
    "    \n",
    "    sales = (\n",
    "            sales.append({'genre': 'Other', region: df[region].sum() \n",
    "                       - sales[region].sum()}, ignore_index= True)\n",
    "         )\n",
    "    \n",
    "    \n",
    "    sales.columns = ['genre', 'sales']\n",
    "    sales.plot(kind='pie',\n",
    "               y=\"sales\",\n",
    "               \n",
    "               autopct='%1.0f%%',\n",
    "               wedgeprops={'linewidth': 3.0, 'edgecolor': 'white'},\n",
    "               textprops={'size': 'x-large'}, labels = sales.genre,\n",
    "               \n",
    "               legend=False, \n",
    "               title = f\"Популярность жанров в {name} \", \n",
    "               ax = axes).set(ylabel='')\n",
    "    plt.tight_layout()"
   ]
  },
  {
   "cell_type": "code",
   "execution_count": 42,
   "metadata": {},
   "outputs": [
    {
     "data": {
      "image/png": "[encoded data removed]",
      "text/plain": [
       "<Figure size 1080x432 with 3 Axes>"
      ]
     },
     "metadata": {},
     "output_type": "display_data"
    }
   ],
   "source": [
    "fig, axes = plt.subplots(1, 3, figsize = (15,6))\n",
    "fig.suptitle('Обзор рынка жанров (портрет покупателя)', fontsize = 30, fontweight='bold')\n",
    "\n",
    "graph(data_games, 2014, 'na_sales', 'Северной Америке', axes[0])\n",
    "graph(data_games, 2014,'eu_sales', 'Европе', axes[1])\n",
    "graph(data_games, 2014, 'jp_sales', 'Японии', axes[2])"
   ]
  },
  {
   "cell_type": "markdown",
   "metadata": {},
   "source": [
    "В Японии больше всего любят экшены, а Европа и США отдает свое предпочтение шутерам "
   ]
  },
  {
   "cell_type": "markdown",
   "metadata": {},
   "source": [
    "## check top-5"
   ]
  },
  {
   "cell_type": "code",
   "execution_count": 43,
   "metadata": {},
   "outputs": [
    {
     "data": {
      "text/plain": [
       "<AxesSubplot:xlabel='rating'>"
      ]
     },
     "execution_count": 43,
     "metadata": {},
     "output_type": "execute_result"
    },
    {
     "data": {
      "image/png": "[encoded data removed]",
      "text/plain": [
       "<Figure size 432x288 with 1 Axes>"
      ]
     },
     "metadata": {
      "needs_background": "light"
     },
     "output_type": "display_data"
    },
    {
     "data": {
      "image/png": "[encoded data removed]",
      "text/plain": [
       "<Figure size 432x288 with 1 Axes>"
      ]
     },
     "metadata": {
      "needs_background": "light"
     },
     "output_type": "display_data"
    },
    {
     "data": {
      "image/png": "[encoded data removed]",
      "text/plain": [
       "<Figure size 432x288 with 1 Axes>"
      ]
     },
     "metadata": {
      "needs_background": "light"
     },
     "output_type": "display_data"
    }
   ],
   "source": [
    "rating = data_games[(data_games['year_of_release'] > 2014)]\n",
    "rating.groupby(by='rating').agg({'jp_sales':'sum'}).sort_values(by='jp_sales', ascending=False).head(5).plot(kind='bar')\n",
    "rating.groupby(by='rating').agg({'eu_sales':'sum'}).sort_values(by='eu_sales', ascending=False).head(5).plot(kind='bar')\n",
    "rating.groupby(by='rating').agg({'na_sales':'sum'}).sort_values(by='na_sales', ascending=False).head(5).plot(kind='bar')"
   ]
  },
  {
   "cell_type": "markdown",
   "metadata": {},
   "source": [
    "В Европе: група M держит первое место, потом идет без рейтинга и группа E. \n",
    "В США: картина как в Европа група M держит первое место, потом идет без рейтинга и группа E,\n",
    "В Японии: Самая популярная групп без рейтинга, потом T E делать 2 и 3 место"
   ]
  },
  {
   "cell_type": "markdown",
   "metadata": {},
   "source": [
    "Настала время гипотиз: \n",
    "H0: средний пользовательский рейтинг платформ PS и XBOX одинаковый \n",
    "H1: средний пользовательский рейтинг платформ PS и XBOX различается"
   ]
  },
  {
   "cell_type": "code",
   "execution_count": 44,
   "metadata": {
    "scrolled": true
   },
   "outputs": [
    {
     "name": "stdout",
     "output_type": "stream",
     "text": [
      "p-значение: 0.10450507919348415\n",
      "Не получилось отвергнуть нулевую гипотезу\n"
     ]
    }
   ],
   "source": [
    "alpha = 0.05# критический уровень статистической значимости\n",
    "# если p-value окажется меньше него - отвергнем гипотезу\n",
    "PC = data_games[(data_games['platform'] == 'PC') & (data_games['user_score'] > 0) & (data_games['year_of_release'] > 2013)]['user_score']\n",
    "XOne = data_games[(data_games['platform'] == 'XOne') & (data_games['user_score'] > 0) & (data_games['year_of_release'] > 2013)]['user_score']\n",
    "results = st.ttest_ind(PC, XOne)\n",
    "print('p-значение:', results.pvalue)\n",
    "\n",
    "if (results.pvalue < alpha):\n",
    "    print(\"Отвергаем нулевую гипотезу\")\n",
    "else:\n",
    "    print(\"Не получилось отвергнуть нулевую гипотезу\")"
   ]
  },
  {
   "cell_type": "markdown",
   "metadata": {},
   "source": [
    "Для проверки гипотезы исползуем гипотезу о равенстве средних двух средных генеральных совокупностей.\n",
    "Не получилось отвергать нулевую гипотезу поскольку с вероятностью 62% что средные значения одинаковые."
   ]
  },
  {
   "cell_type": "markdown",
   "metadata": {},
   "source": [
    "H0: средний пользовательский рейтинг жанров Action и Sports одинаковый\n",
    "H1: средний пользовательский рейтинг жанров Action и Sports различается"
   ]
  },
  {
   "cell_type": "code",
   "execution_count": 45,
   "metadata": {},
   "outputs": [
    {
     "name": "stdout",
     "output_type": "stream",
     "text": [
      "p-значение: 0.06480928064420527\n",
      "Не получилось отвергнуть нулевую гипотезу\n"
     ]
    }
   ],
   "source": [
    "alpha = 0.05\n",
    "action = data_games[(data_games['genre'] == 'Action') & (data_games['user_score'] > 0)]['user_score']\n",
    "sports = data_games[(data_games['genre'] == 'Sports') & (data_games['user_score'] > 0)]['user_score']\n",
    "results = st.ttest_ind(action, sports)\n",
    "print('p-значение:', results.pvalue)\n",
    "\n",
    "if (results.pvalue < alpha):\n",
    "    print(\"Отвергаем нулевую гипотезу\")\n",
    "else:\n",
    "    print(\"Не получилось отвергнуть нулевую гипотезу\")"
   ]
  },
  {
   "cell_type": "markdown",
   "metadata": {},
   "source": [
    "Полученное значение p-value говорит о том, что хотя оценки и неодинаковы, с вероятностью 6.4% такое или большее различие можно получить случайно Это явно слишком большая вероятность, чтобы делать вывод о значимом различии между средними оценками пользователей двух платформ"
   ]
  },
  {
   "cell_type": "code",
   "execution_count": 46,
   "metadata": {},
   "outputs": [
    {
     "name": "stdout",
     "output_type": "stream",
     "text": [
      "p-значение: 0.1912450522572209\n",
      "Не получилось отвергнуть нулевую гипотезу\n"
     ]
    }
   ],
   "source": [
    "# Приведены два датасета: сумма покупок, совершённых за месяц посетителями ...\n",
    "\n",
    "sample_1 = [3071, 3636, 3454, 3151, 2185, 3259, 1727, 2263, 2015,\n",
    "2582, 4815, 633, 3186, 887, 2028, 3589, 2564, 1422, 1785,\n",
    "3180, 1770, 2716, 2546, 1848, 4644, 3134, 475, 2686,\n",
    "1838, 3352]\n",
    "sample_2 = [1211, 1228, 2157, 3699, 600, 1898, 1688, 1420, 5048, 3007,\n",
    "509, 3777, 5583, 3949, 121, 1674, 4300, 1338, 3066,\n",
    "3562, 1010, 2311, 462, 863, 2021, 528, 1849, 255,\n",
    "1740, 2596]\n",
    "alpha = .05 # критический уровень статистической значимости\n",
    "# если p-value окажется меньше него - отвергнем гипотезу\n",
    "results = st.ttest_ind(\n",
    "sample_1,\n",
    "sample_2)\n",
    "print('p-значение:', results.pvalue)\n",
    "if (results.pvalue < alpha):\n",
    "    print(\"Отвергаем нулевую гипотезу\")\n",
    "else:\n",
    "\n",
    "    print(\"Не получилось отвергнуть нулевую гипотезу\")"
   ]
  },
  {
   "cell_type": "markdown",
   "metadata": {},
   "source": [
    "\n",
    "Период до 1994 года характеризуется малой активностью. Хорошо видно, что важный период в релизах игр наступает в 1994 году - и после него начинается бум - компьютерные игры захватывают мир. В 2010 наступает переломный момент и уже в 2012 релизы падают в 2 раза и до 2016 держатся примерно на одном уровне\n",
    "\n",
    "Срок активного существования платформ 10-12 лет. Можно выделить из списка платформ - \"PC\" они хоть и не в топах по выручке, но актуальны во все времена. Также надо отметить,что платформа \"DS\" просуществовала очень долго - до 2013 года.\n",
    "По прогнозу на 2017 год можно сказать: Флагманы - PS4 и XOne! PSV, WiiU и 3DS - тоже можно продолжать развивать, но в меньших объемах(PSV - развитие идет слабо, поэтому приоритет у WiiU и 3DS); платформа PC - актуальна всегда(но в малых объемах), поэтому надо поддерживать её развитие\n",
    "\n",
    "\n"
   ]
  }
 ],
 "metadata": {
  "ExecuteTimeLog": [
   {
    "duration": 50,
    "start_time": "2022-07-25T16:54:50.628Z"
   },
   {
    "duration": 356,
    "start_time": "2022-07-25T16:54:53.095Z"
   },
   {
    "duration": 115,
    "start_time": "2022-07-25T16:54:54.174Z"
   },
   {
    "duration": 88,
    "start_time": "2022-07-25T16:56:55.585Z"
   },
   {
    "duration": 80,
    "start_time": "2022-07-25T16:57:12.634Z"
   },
   {
    "duration": 83,
    "start_time": "2022-07-25T16:57:27.244Z"
   },
   {
    "duration": 66,
    "start_time": "2022-07-25T16:57:36.580Z"
   },
   {
    "duration": 27,
    "start_time": "2022-07-25T16:57:38.594Z"
   },
   {
    "duration": 246,
    "start_time": "2022-07-25T17:02:08.867Z"
   },
   {
    "duration": 3,
    "start_time": "2022-07-25T17:03:44.544Z"
   },
   {
    "duration": 18,
    "start_time": "2022-07-25T17:03:52.292Z"
   },
   {
    "duration": 13,
    "start_time": "2022-07-25T17:06:12.296Z"
   },
   {
    "duration": 15,
    "start_time": "2022-07-25T17:06:26.273Z"
   },
   {
    "duration": 15,
    "start_time": "2022-07-25T17:06:51.126Z"
   },
   {
    "duration": 12,
    "start_time": "2022-07-25T17:06:59.813Z"
   },
   {
    "duration": 12,
    "start_time": "2022-07-25T17:07:22.092Z"
   },
   {
    "duration": 17,
    "start_time": "2022-07-25T17:08:16.580Z"
   },
   {
    "duration": 12,
    "start_time": "2022-07-25T17:09:00.507Z"
   },
   {
    "duration": 6,
    "start_time": "2022-07-25T17:09:10.704Z"
   },
   {
    "duration": 11,
    "start_time": "2022-07-25T17:09:36.974Z"
   },
   {
    "duration": 10,
    "start_time": "2022-07-25T17:18:17.291Z"
   },
   {
    "duration": 3,
    "start_time": "2022-07-25T17:19:27.998Z"
   },
   {
    "duration": 13,
    "start_time": "2022-07-25T17:19:35.892Z"
   },
   {
    "duration": 15,
    "start_time": "2022-07-25T17:20:50.044Z"
   },
   {
    "duration": 13,
    "start_time": "2022-07-25T17:20:52.280Z"
   },
   {
    "duration": 5,
    "start_time": "2022-07-25T17:22:47.299Z"
   },
   {
    "duration": 14,
    "start_time": "2022-07-25T17:22:50.487Z"
   },
   {
    "duration": 9,
    "start_time": "2022-07-25T17:23:13.048Z"
   },
   {
    "duration": 19,
    "start_time": "2022-07-25T17:23:35.118Z"
   },
   {
    "duration": 5,
    "start_time": "2022-07-25T17:25:40.246Z"
   },
   {
    "duration": 13,
    "start_time": "2022-07-25T17:25:42.594Z"
   },
   {
    "duration": 4,
    "start_time": "2022-07-25T17:26:14.512Z"
   },
   {
    "duration": 13,
    "start_time": "2022-07-25T17:26:15.488Z"
   },
   {
    "duration": 18,
    "start_time": "2022-07-25T17:27:08.935Z"
   },
   {
    "duration": 5,
    "start_time": "2022-07-25T17:27:09.663Z"
   },
   {
    "duration": 27,
    "start_time": "2022-07-25T17:31:03.222Z"
   },
   {
    "duration": 10,
    "start_time": "2022-07-25T17:32:29.797Z"
   },
   {
    "duration": 14,
    "start_time": "2022-07-25T17:32:36.337Z"
   },
   {
    "duration": 944,
    "start_time": "2022-07-25T17:39:29.909Z"
   },
   {
    "duration": 0,
    "start_time": "2022-07-25T17:39:30.854Z"
   },
   {
    "duration": 1048,
    "start_time": "2022-07-25T17:39:50.340Z"
   },
   {
    "duration": 0,
    "start_time": "2022-07-25T17:39:51.389Z"
   },
   {
    "duration": 8,
    "start_time": "2022-07-25T17:40:21.251Z"
   },
   {
    "duration": 13,
    "start_time": "2022-07-25T17:40:22.887Z"
   },
   {
    "duration": 5,
    "start_time": "2022-07-25T17:50:15.901Z"
   },
   {
    "duration": 10,
    "start_time": "2022-07-25T17:50:57.441Z"
   },
   {
    "duration": 7,
    "start_time": "2022-07-25T17:51:08.705Z"
   },
   {
    "duration": 63,
    "start_time": "2022-07-25T18:09:36.779Z"
   },
   {
    "duration": 8,
    "start_time": "2022-07-25T18:10:15.741Z"
   },
   {
    "duration": 2,
    "start_time": "2022-07-25T18:10:32.437Z"
   },
   {
    "duration": 7,
    "start_time": "2022-07-25T18:10:35.647Z"
   },
   {
    "duration": 6,
    "start_time": "2022-07-25T18:10:42.490Z"
   },
   {
    "duration": 7,
    "start_time": "2022-07-25T18:11:03.939Z"
   },
   {
    "duration": 6,
    "start_time": "2022-07-25T18:11:04.585Z"
   },
   {
    "duration": 7,
    "start_time": "2022-07-25T18:26:43.601Z"
   },
   {
    "duration": 15,
    "start_time": "2022-07-25T18:26:51.782Z"
   },
   {
    "duration": 710,
    "start_time": "2022-07-25T18:29:54.865Z"
   },
   {
    "duration": 173,
    "start_time": "2022-07-25T18:30:04.759Z"
   },
   {
    "duration": 6,
    "start_time": "2022-07-25T18:30:48.064Z"
   },
   {
    "duration": 233,
    "start_time": "2022-07-25T18:31:57.705Z"
   },
   {
    "duration": 234,
    "start_time": "2022-07-25T18:32:32.173Z"
   },
   {
    "duration": 34,
    "start_time": "2022-07-25T18:34:55.856Z"
   },
   {
    "duration": 9,
    "start_time": "2022-07-25T18:36:23.498Z"
   },
   {
    "duration": 16,
    "start_time": "2022-07-25T18:36:35.971Z"
   },
   {
    "duration": 16,
    "start_time": "2022-07-25T18:41:35.165Z"
   },
   {
    "duration": 17,
    "start_time": "2022-07-25T18:42:04.560Z"
   },
   {
    "duration": 111,
    "start_time": "2022-07-25T18:43:56.805Z"
   },
   {
    "duration": 9,
    "start_time": "2022-07-25T18:44:15.218Z"
   },
   {
    "duration": 8,
    "start_time": "2022-07-25T18:48:39.069Z"
   },
   {
    "duration": 32,
    "start_time": "2022-07-25T18:48:55.355Z"
   },
   {
    "duration": 26,
    "start_time": "2022-07-25T18:49:05.493Z"
   },
   {
    "duration": 27,
    "start_time": "2022-07-25T18:49:32.561Z"
   },
   {
    "duration": 166,
    "start_time": "2022-07-25T18:50:04.252Z"
   },
   {
    "duration": 164,
    "start_time": "2022-07-25T18:50:27.657Z"
   },
   {
    "duration": 194,
    "start_time": "2022-07-25T18:50:54.462Z"
   },
   {
    "duration": 161,
    "start_time": "2022-07-25T18:51:36.893Z"
   },
   {
    "duration": 158,
    "start_time": "2022-07-25T18:51:45.157Z"
   },
   {
    "duration": 186,
    "start_time": "2022-07-25T18:51:49.219Z"
   },
   {
    "duration": 132,
    "start_time": "2022-07-25T18:51:55.258Z"
   },
   {
    "duration": 158,
    "start_time": "2022-07-25T18:52:53.635Z"
   },
   {
    "duration": 179,
    "start_time": "2022-07-25T18:54:38.317Z"
   },
   {
    "duration": 143,
    "start_time": "2022-07-25T18:56:55.801Z"
   },
   {
    "duration": 258,
    "start_time": "2022-07-25T18:58:47.127Z"
   },
   {
    "duration": 7,
    "start_time": "2022-07-25T19:02:41.163Z"
   },
   {
    "duration": 11,
    "start_time": "2022-07-25T19:02:57.200Z"
   },
   {
    "duration": 11,
    "start_time": "2022-07-25T19:03:22.170Z"
   },
   {
    "duration": 247,
    "start_time": "2022-07-25T19:04:20.881Z"
   },
   {
    "duration": 244,
    "start_time": "2022-07-25T19:04:46.393Z"
   },
   {
    "duration": 357,
    "start_time": "2022-07-25T19:05:04.158Z"
   },
   {
    "duration": 2,
    "start_time": "2022-07-25T19:05:21.602Z"
   },
   {
    "duration": 271,
    "start_time": "2022-07-25T19:05:25.392Z"
   },
   {
    "duration": 273,
    "start_time": "2022-07-25T19:05:41.282Z"
   },
   {
    "duration": 377,
    "start_time": "2022-07-25T19:06:16.994Z"
   },
   {
    "duration": 10,
    "start_time": "2022-07-25T19:07:22.289Z"
   },
   {
    "duration": 6,
    "start_time": "2022-07-25T19:07:24.157Z"
   },
   {
    "duration": 341,
    "start_time": "2022-07-25T19:07:50.160Z"
   },
   {
    "duration": 378,
    "start_time": "2022-07-25T19:08:06.981Z"
   },
   {
    "duration": 307,
    "start_time": "2022-07-25T19:08:20.414Z"
   },
   {
    "duration": 298,
    "start_time": "2022-07-25T19:08:59.702Z"
   },
   {
    "duration": 7,
    "start_time": "2022-07-25T19:09:59.797Z"
   },
   {
    "duration": 12,
    "start_time": "2022-07-25T19:11:04.920Z"
   },
   {
    "duration": 8,
    "start_time": "2022-07-25T19:14:24.656Z"
   },
   {
    "duration": 5,
    "start_time": "2022-07-25T19:14:38.455Z"
   },
   {
    "duration": 230,
    "start_time": "2022-07-25T19:14:43.578Z"
   },
   {
    "duration": 328,
    "start_time": "2022-07-25T19:15:53.957Z"
   },
   {
    "duration": 12,
    "start_time": "2022-07-25T19:17:30.662Z"
   },
   {
    "duration": 10,
    "start_time": "2022-07-25T19:17:41.118Z"
   },
   {
    "duration": 12,
    "start_time": "2022-07-25T19:18:15.069Z"
   },
   {
    "duration": 409,
    "start_time": "2022-07-25T19:22:00.721Z"
   },
   {
    "duration": 451,
    "start_time": "2022-07-25T19:24:27.250Z"
   },
   {
    "duration": 386,
    "start_time": "2022-07-25T19:28:32.875Z"
   },
   {
    "duration": 10,
    "start_time": "2022-07-25T19:33:50.242Z"
   },
   {
    "duration": 15,
    "start_time": "2022-07-25T19:34:28.341Z"
   },
   {
    "duration": 525,
    "start_time": "2022-07-25T19:34:55.584Z"
   },
   {
    "duration": 10,
    "start_time": "2022-07-25T19:34:59.063Z"
   },
   {
    "duration": 5,
    "start_time": "2022-07-25T19:36:43.261Z"
   },
   {
    "duration": 12,
    "start_time": "2022-07-25T19:37:14.251Z"
   },
   {
    "duration": 16,
    "start_time": "2022-07-25T19:39:00.146Z"
   },
   {
    "duration": 8,
    "start_time": "2022-07-25T19:39:19.946Z"
   },
   {
    "duration": 4,
    "start_time": "2022-07-25T19:39:59.975Z"
   },
   {
    "duration": 10,
    "start_time": "2022-07-25T19:40:14.183Z"
   },
   {
    "duration": 76,
    "start_time": "2022-07-25T20:18:13.603Z"
   },
   {
    "duration": 1450,
    "start_time": "2022-07-25T20:18:23.371Z"
   },
   {
    "duration": 204,
    "start_time": "2022-07-25T20:18:24.823Z"
   },
   {
    "duration": 66,
    "start_time": "2022-07-25T20:18:25.029Z"
   },
   {
    "duration": 7,
    "start_time": "2022-07-25T20:18:25.099Z"
   },
   {
    "duration": 88,
    "start_time": "2022-07-25T20:18:25.108Z"
   },
   {
    "duration": 38,
    "start_time": "2022-07-25T20:18:25.199Z"
   },
   {
    "duration": 257,
    "start_time": "2022-07-25T20:18:25.243Z"
   },
   {
    "duration": 0,
    "start_time": "2022-07-25T20:18:25.503Z"
   },
   {
    "duration": 0,
    "start_time": "2022-07-25T20:18:25.505Z"
   },
   {
    "duration": 0,
    "start_time": "2022-07-25T20:18:25.506Z"
   },
   {
    "duration": 0,
    "start_time": "2022-07-25T20:18:25.509Z"
   },
   {
    "duration": 0,
    "start_time": "2022-07-25T20:18:25.510Z"
   },
   {
    "duration": 0,
    "start_time": "2022-07-25T20:18:25.511Z"
   },
   {
    "duration": 0,
    "start_time": "2022-07-25T20:18:25.513Z"
   },
   {
    "duration": 0,
    "start_time": "2022-07-25T20:18:25.514Z"
   },
   {
    "duration": 0,
    "start_time": "2022-07-25T20:18:25.519Z"
   },
   {
    "duration": 0,
    "start_time": "2022-07-25T20:18:25.520Z"
   },
   {
    "duration": 0,
    "start_time": "2022-07-25T20:18:25.521Z"
   },
   {
    "duration": 0,
    "start_time": "2022-07-25T20:18:25.524Z"
   },
   {
    "duration": 0,
    "start_time": "2022-07-25T20:18:25.526Z"
   },
   {
    "duration": 0,
    "start_time": "2022-07-25T20:18:25.527Z"
   },
   {
    "duration": 0,
    "start_time": "2022-07-25T20:18:25.535Z"
   },
   {
    "duration": 0,
    "start_time": "2022-07-25T20:18:25.536Z"
   },
   {
    "duration": 0,
    "start_time": "2022-07-25T20:18:25.538Z"
   },
   {
    "duration": 0,
    "start_time": "2022-07-25T20:18:25.544Z"
   },
   {
    "duration": 0,
    "start_time": "2022-07-25T20:18:25.545Z"
   },
   {
    "duration": 0,
    "start_time": "2022-07-25T20:18:25.547Z"
   },
   {
    "duration": 0,
    "start_time": "2022-07-25T20:18:25.549Z"
   },
   {
    "duration": 0,
    "start_time": "2022-07-25T20:18:25.550Z"
   },
   {
    "duration": 0,
    "start_time": "2022-07-25T20:18:25.555Z"
   },
   {
    "duration": 0,
    "start_time": "2022-07-25T20:18:25.556Z"
   },
   {
    "duration": 0,
    "start_time": "2022-07-25T20:18:25.558Z"
   },
   {
    "duration": 0,
    "start_time": "2022-07-25T20:18:25.559Z"
   },
   {
    "duration": 0,
    "start_time": "2022-07-25T20:18:25.565Z"
   },
   {
    "duration": 0,
    "start_time": "2022-07-25T20:18:25.566Z"
   },
   {
    "duration": 5,
    "start_time": "2022-07-25T20:19:10.167Z"
   },
   {
    "duration": 22,
    "start_time": "2022-07-25T20:19:29.195Z"
   },
   {
    "duration": 21,
    "start_time": "2022-07-25T20:19:37.963Z"
   },
   {
    "duration": 1599,
    "start_time": "2022-07-25T20:21:44.201Z"
   },
   {
    "duration": 130,
    "start_time": "2022-07-25T20:21:45.807Z"
   },
   {
    "duration": 70,
    "start_time": "2022-07-25T20:21:45.938Z"
   },
   {
    "duration": 10,
    "start_time": "2022-07-25T20:21:46.016Z"
   },
   {
    "duration": 106,
    "start_time": "2022-07-25T20:21:46.030Z"
   },
   {
    "duration": 172,
    "start_time": "2022-07-25T20:21:46.139Z"
   },
   {
    "duration": 95,
    "start_time": "2022-07-25T20:21:46.318Z"
   },
   {
    "duration": 25,
    "start_time": "2022-07-25T20:21:46.416Z"
   },
   {
    "duration": 72,
    "start_time": "2022-07-25T20:21:46.445Z"
   },
   {
    "duration": 25,
    "start_time": "2022-07-25T20:21:46.520Z"
   },
   {
    "duration": 41,
    "start_time": "2022-07-25T20:21:46.548Z"
   },
   {
    "duration": 41,
    "start_time": "2022-07-25T20:21:46.591Z"
   },
   {
    "duration": 84,
    "start_time": "2022-07-25T20:21:46.634Z"
   },
   {
    "duration": 93,
    "start_time": "2022-07-25T20:21:46.723Z"
   },
   {
    "duration": 86,
    "start_time": "2022-07-25T20:21:46.818Z"
   },
   {
    "duration": 100,
    "start_time": "2022-07-25T20:21:46.907Z"
   },
   {
    "duration": 94,
    "start_time": "2022-07-25T20:21:47.010Z"
   },
   {
    "duration": 21,
    "start_time": "2022-07-25T20:21:47.106Z"
   },
   {
    "duration": 188,
    "start_time": "2022-07-25T20:21:47.129Z"
   },
   {
    "duration": 0,
    "start_time": "2022-07-25T20:21:47.319Z"
   },
   {
    "duration": 0,
    "start_time": "2022-07-25T20:21:47.321Z"
   },
   {
    "duration": 0,
    "start_time": "2022-07-25T20:21:47.325Z"
   },
   {
    "duration": 0,
    "start_time": "2022-07-25T20:21:47.326Z"
   },
   {
    "duration": 0,
    "start_time": "2022-07-25T20:21:47.330Z"
   },
   {
    "duration": 0,
    "start_time": "2022-07-25T20:21:47.331Z"
   },
   {
    "duration": 0,
    "start_time": "2022-07-25T20:21:47.333Z"
   },
   {
    "duration": 0,
    "start_time": "2022-07-25T20:21:47.335Z"
   },
   {
    "duration": 0,
    "start_time": "2022-07-25T20:21:47.336Z"
   },
   {
    "duration": 0,
    "start_time": "2022-07-25T20:21:47.338Z"
   },
   {
    "duration": 0,
    "start_time": "2022-07-25T20:21:47.339Z"
   },
   {
    "duration": 0,
    "start_time": "2022-07-25T20:21:47.343Z"
   },
   {
    "duration": 0,
    "start_time": "2022-07-25T20:21:47.344Z"
   },
   {
    "duration": 0,
    "start_time": "2022-07-25T20:21:47.349Z"
   },
   {
    "duration": 0,
    "start_time": "2022-07-25T20:21:47.351Z"
   },
   {
    "duration": 0,
    "start_time": "2022-07-25T20:21:47.353Z"
   },
   {
    "duration": 1798,
    "start_time": "2022-07-25T20:22:08.687Z"
   },
   {
    "duration": 143,
    "start_time": "2022-07-25T20:22:10.488Z"
   },
   {
    "duration": 64,
    "start_time": "2022-07-25T20:22:10.638Z"
   },
   {
    "duration": 79,
    "start_time": "2022-07-25T20:22:10.709Z"
   },
   {
    "duration": 138,
    "start_time": "2022-07-25T20:22:10.800Z"
   },
   {
    "duration": 201,
    "start_time": "2022-07-25T20:22:10.940Z"
   },
   {
    "duration": 131,
    "start_time": "2022-07-25T20:22:11.144Z"
   },
   {
    "duration": 211,
    "start_time": "2022-07-25T20:22:11.277Z"
   },
   {
    "duration": 160,
    "start_time": "2022-07-25T20:22:11.490Z"
   },
   {
    "duration": 193,
    "start_time": "2022-07-25T20:22:11.652Z"
   },
   {
    "duration": 121,
    "start_time": "2022-07-25T20:22:11.847Z"
   },
   {
    "duration": 114,
    "start_time": "2022-07-25T20:22:11.970Z"
   },
   {
    "duration": 178,
    "start_time": "2022-07-25T20:22:12.089Z"
   },
   {
    "duration": 53,
    "start_time": "2022-07-25T20:22:12.282Z"
   },
   {
    "duration": 84,
    "start_time": "2022-07-25T20:22:12.337Z"
   },
   {
    "duration": 171,
    "start_time": "2022-07-25T20:22:12.423Z"
   },
   {
    "duration": 45,
    "start_time": "2022-07-25T20:22:12.601Z"
   },
   {
    "duration": 60,
    "start_time": "2022-07-25T20:22:12.649Z"
   },
   {
    "duration": 7,
    "start_time": "2022-07-25T20:22:12.711Z"
   },
   {
    "duration": 370,
    "start_time": "2022-07-25T20:22:12.719Z"
   },
   {
    "duration": 26,
    "start_time": "2022-07-25T20:22:13.093Z"
   },
   {
    "duration": 373,
    "start_time": "2022-07-25T20:22:13.124Z"
   },
   {
    "duration": 221,
    "start_time": "2022-07-25T20:22:13.499Z"
   },
   {
    "duration": 236,
    "start_time": "2022-07-25T20:22:13.722Z"
   },
   {
    "duration": 242,
    "start_time": "2022-07-25T20:22:13.961Z"
   },
   {
    "duration": 176,
    "start_time": "2022-07-25T20:22:14.209Z"
   },
   {
    "duration": 367,
    "start_time": "2022-07-25T20:22:14.391Z"
   },
   {
    "duration": 341,
    "start_time": "2022-07-25T20:22:14.765Z"
   },
   {
    "duration": 18,
    "start_time": "2022-07-25T20:22:15.112Z"
   },
   {
    "duration": 964,
    "start_time": "2022-07-25T20:22:15.135Z"
   },
   {
    "duration": 649,
    "start_time": "2022-07-25T20:22:16.108Z"
   },
   {
    "duration": 728,
    "start_time": "2022-07-25T20:22:16.763Z"
   },
   {
    "duration": 34,
    "start_time": "2022-07-25T20:22:17.497Z"
   },
   {
    "duration": 115,
    "start_time": "2022-07-25T20:22:17.538Z"
   },
   {
    "duration": 71,
    "start_time": "2022-07-25T20:22:17.655Z"
   },
   {
    "duration": 1630,
    "start_time": "2022-07-25T20:31:40.674Z"
   },
   {
    "duration": 199,
    "start_time": "2022-07-25T20:31:42.307Z"
   },
   {
    "duration": 59,
    "start_time": "2022-07-25T20:31:42.507Z"
   },
   {
    "duration": 33,
    "start_time": "2022-07-25T20:31:42.568Z"
   },
   {
    "duration": 132,
    "start_time": "2022-07-25T20:31:42.604Z"
   },
   {
    "duration": 97,
    "start_time": "2022-07-25T20:31:42.739Z"
   },
   {
    "duration": 127,
    "start_time": "2022-07-25T20:31:42.853Z"
   },
   {
    "duration": 137,
    "start_time": "2022-07-25T20:31:42.982Z"
   },
   {
    "duration": 17,
    "start_time": "2022-07-25T20:31:43.122Z"
   },
   {
    "duration": 85,
    "start_time": "2022-07-25T20:31:43.140Z"
   },
   {
    "duration": 85,
    "start_time": "2022-07-25T20:31:43.227Z"
   },
   {
    "duration": 92,
    "start_time": "2022-07-25T20:31:43.314Z"
   },
   {
    "duration": 107,
    "start_time": "2022-07-25T20:31:43.409Z"
   },
   {
    "duration": 82,
    "start_time": "2022-07-25T20:31:43.519Z"
   },
   {
    "duration": 86,
    "start_time": "2022-07-25T20:31:43.603Z"
   },
   {
    "duration": 61,
    "start_time": "2022-07-25T20:31:43.691Z"
   },
   {
    "duration": 92,
    "start_time": "2022-07-25T20:31:43.755Z"
   },
   {
    "duration": 74,
    "start_time": "2022-07-25T20:31:43.854Z"
   },
   {
    "duration": 81,
    "start_time": "2022-07-25T20:31:43.935Z"
   },
   {
    "duration": 337,
    "start_time": "2022-07-25T20:31:44.019Z"
   },
   {
    "duration": 21,
    "start_time": "2022-07-25T20:31:44.361Z"
   },
   {
    "duration": 285,
    "start_time": "2022-07-25T20:31:44.391Z"
   },
   {
    "duration": 267,
    "start_time": "2022-07-25T20:31:44.679Z"
   },
   {
    "duration": 284,
    "start_time": "2022-07-25T20:31:44.952Z"
   },
   {
    "duration": 243,
    "start_time": "2022-07-25T20:31:45.242Z"
   },
   {
    "duration": 258,
    "start_time": "2022-07-25T20:31:45.491Z"
   },
   {
    "duration": 519,
    "start_time": "2022-07-25T20:31:45.758Z"
   },
   {
    "duration": 395,
    "start_time": "2022-07-25T20:31:46.283Z"
   },
   {
    "duration": 18,
    "start_time": "2022-07-25T20:31:46.680Z"
   },
   {
    "duration": 704,
    "start_time": "2022-07-25T20:31:46.701Z"
   },
   {
    "duration": 606,
    "start_time": "2022-07-25T20:31:47.407Z"
   },
   {
    "duration": 669,
    "start_time": "2022-07-25T20:31:48.015Z"
   },
   {
    "duration": 28,
    "start_time": "2022-07-25T20:31:48.687Z"
   },
   {
    "duration": 31,
    "start_time": "2022-07-25T20:31:48.718Z"
   },
   {
    "duration": 46,
    "start_time": "2022-07-25T20:31:48.751Z"
   },
   {
    "duration": 1495,
    "start_time": "2022-07-25T20:32:08.953Z"
   },
   {
    "duration": 109,
    "start_time": "2022-07-25T20:32:10.451Z"
   },
   {
    "duration": 46,
    "start_time": "2022-07-25T20:32:10.564Z"
   },
   {
    "duration": 5,
    "start_time": "2022-07-25T20:32:10.613Z"
   },
   {
    "duration": 26,
    "start_time": "2022-07-25T20:32:10.625Z"
   },
   {
    "duration": 39,
    "start_time": "2022-07-25T20:32:10.653Z"
   },
   {
    "duration": 6,
    "start_time": "2022-07-25T20:32:10.694Z"
   },
   {
    "duration": 38,
    "start_time": "2022-07-25T20:32:10.702Z"
   },
   {
    "duration": 30,
    "start_time": "2022-07-25T20:32:10.742Z"
   },
   {
    "duration": 24,
    "start_time": "2022-07-25T20:32:10.774Z"
   },
   {
    "duration": 6,
    "start_time": "2022-07-25T20:32:10.801Z"
   },
   {
    "duration": 18,
    "start_time": "2022-07-25T20:32:10.810Z"
   },
   {
    "duration": 47,
    "start_time": "2022-07-25T20:32:10.831Z"
   },
   {
    "duration": 19,
    "start_time": "2022-07-25T20:32:10.882Z"
   },
   {
    "duration": 14,
    "start_time": "2022-07-25T20:32:10.904Z"
   },
   {
    "duration": 51,
    "start_time": "2022-07-25T20:32:10.921Z"
   },
   {
    "duration": 29,
    "start_time": "2022-07-25T20:32:10.974Z"
   },
   {
    "duration": 10,
    "start_time": "2022-07-25T20:32:11.006Z"
   },
   {
    "duration": 36,
    "start_time": "2022-07-25T20:32:11.018Z"
   },
   {
    "duration": 299,
    "start_time": "2022-07-25T20:32:11.057Z"
   },
   {
    "duration": 19,
    "start_time": "2022-07-25T20:32:11.358Z"
   },
   {
    "duration": 253,
    "start_time": "2022-07-25T20:32:11.380Z"
   },
   {
    "duration": 228,
    "start_time": "2022-07-25T20:32:11.635Z"
   },
   {
    "duration": 196,
    "start_time": "2022-07-25T20:32:11.865Z"
   },
   {
    "duration": 246,
    "start_time": "2022-07-25T20:32:12.063Z"
   },
   {
    "duration": 190,
    "start_time": "2022-07-25T20:32:12.312Z"
   },
   {
    "duration": 433,
    "start_time": "2022-07-25T20:32:12.504Z"
   },
   {
    "duration": 371,
    "start_time": "2022-07-25T20:32:12.939Z"
   },
   {
    "duration": 29,
    "start_time": "2022-07-25T20:32:13.313Z"
   },
   {
    "duration": 744,
    "start_time": "2022-07-25T20:32:13.346Z"
   },
   {
    "duration": 519,
    "start_time": "2022-07-25T20:32:14.092Z"
   },
   {
    "duration": 560,
    "start_time": "2022-07-25T20:32:14.613Z"
   },
   {
    "duration": 35,
    "start_time": "2022-07-25T20:32:15.175Z"
   },
   {
    "duration": 51,
    "start_time": "2022-07-25T20:32:15.224Z"
   },
   {
    "duration": 30,
    "start_time": "2022-07-25T20:32:15.277Z"
   },
   {
    "duration": 49,
    "start_time": "2022-07-25T21:30:26.943Z"
   },
   {
    "duration": 1279,
    "start_time": "2022-07-25T21:30:31.827Z"
   },
   {
    "duration": 106,
    "start_time": "2022-07-25T21:30:33.428Z"
   },
   {
    "duration": 1116,
    "start_time": "2022-07-25T21:30:39.954Z"
   },
   {
    "duration": 14,
    "start_time": "2022-07-25T21:31:09.875Z"
   },
   {
    "duration": 970,
    "start_time": "2022-07-25T21:31:29.204Z"
   },
   {
    "duration": 875,
    "start_time": "2022-07-25T21:31:36.224Z"
   },
   {
    "duration": 827,
    "start_time": "2022-07-25T21:32:07.720Z"
   },
   {
    "duration": 964,
    "start_time": "2022-07-25T21:32:44.201Z"
   },
   {
    "duration": 867,
    "start_time": "2022-07-25T21:33:35.109Z"
   },
   {
    "duration": 3,
    "start_time": "2022-07-25T21:33:43.985Z"
   },
   {
    "duration": 62,
    "start_time": "2022-07-25T21:33:45.430Z"
   },
   {
    "duration": 30,
    "start_time": "2022-07-25T21:33:46.327Z"
   },
   {
    "duration": 3,
    "start_time": "2022-07-25T21:33:49.314Z"
   },
   {
    "duration": 14,
    "start_time": "2022-07-25T21:33:50.734Z"
   },
   {
    "duration": 18,
    "start_time": "2022-07-25T21:33:53.758Z"
   },
   {
    "duration": 22,
    "start_time": "2022-07-25T21:33:57.638Z"
   },
   {
    "duration": 14,
    "start_time": "2022-07-25T21:34:02.511Z"
   },
   {
    "duration": 14,
    "start_time": "2022-07-25T21:34:15.465Z"
   },
   {
    "duration": 21,
    "start_time": "2022-07-25T21:34:26.624Z"
   },
   {
    "duration": 6,
    "start_time": "2022-07-25T21:34:41.666Z"
   },
   {
    "duration": 15,
    "start_time": "2022-07-25T21:35:31.865Z"
   },
   {
    "duration": 5,
    "start_time": "2022-07-25T21:35:42.910Z"
   },
   {
    "duration": 21,
    "start_time": "2022-07-25T21:36:03.953Z"
   },
   {
    "duration": 6,
    "start_time": "2022-07-25T21:36:23.120Z"
   },
   {
    "duration": 14,
    "start_time": "2022-07-25T21:36:29.451Z"
   },
   {
    "duration": 21,
    "start_time": "2022-07-25T21:38:44.008Z"
   },
   {
    "duration": 16,
    "start_time": "2022-07-25T21:49:12.880Z"
   },
   {
    "duration": 9,
    "start_time": "2022-07-25T21:50:06.494Z"
   },
   {
    "duration": 5,
    "start_time": "2022-07-25T21:50:39.772Z"
   },
   {
    "duration": 7,
    "start_time": "2022-07-25T21:52:02.759Z"
   },
   {
    "duration": 13,
    "start_time": "2022-07-25T21:52:05.811Z"
   },
   {
    "duration": 8,
    "start_time": "2022-07-25T21:52:34.306Z"
   },
   {
    "duration": 5,
    "start_time": "2022-07-25T21:53:05.204Z"
   },
   {
    "duration": 7,
    "start_time": "2022-07-25T21:53:21.706Z"
   },
   {
    "duration": 12,
    "start_time": "2022-07-25T21:53:29.673Z"
   },
   {
    "duration": 5,
    "start_time": "2022-07-25T21:53:46.602Z"
   },
   {
    "duration": 13,
    "start_time": "2022-07-25T21:53:48.242Z"
   },
   {
    "duration": 14,
    "start_time": "2022-07-25T21:54:01.854Z"
   },
   {
    "duration": 4,
    "start_time": "2022-07-25T21:54:07.605Z"
   },
   {
    "duration": 13,
    "start_time": "2022-07-25T21:54:10.166Z"
   },
   {
    "duration": 4,
    "start_time": "2022-07-25T21:54:35.083Z"
   },
   {
    "duration": 3,
    "start_time": "2022-07-25T21:54:44.505Z"
   },
   {
    "duration": 4,
    "start_time": "2022-07-25T21:54:45.896Z"
   },
   {
    "duration": 4,
    "start_time": "2022-07-25T21:54:50.573Z"
   },
   {
    "duration": 5,
    "start_time": "2022-07-25T21:54:52.055Z"
   },
   {
    "duration": 3,
    "start_time": "2022-07-25T21:54:58.454Z"
   },
   {
    "duration": 4,
    "start_time": "2022-07-25T21:54:59.507Z"
   },
   {
    "duration": 19,
    "start_time": "2022-07-25T21:55:05.424Z"
   },
   {
    "duration": 3,
    "start_time": "2022-07-25T21:55:11.438Z"
   },
   {
    "duration": 70,
    "start_time": "2022-07-25T21:55:13.122Z"
   },
   {
    "duration": 28,
    "start_time": "2022-07-25T21:55:14.670Z"
   },
   {
    "duration": 4,
    "start_time": "2022-07-25T21:55:18.186Z"
   },
   {
    "duration": 13,
    "start_time": "2022-07-25T21:55:20.809Z"
   },
   {
    "duration": 14,
    "start_time": "2022-07-25T21:55:24.351Z"
   },
   {
    "duration": 5,
    "start_time": "2022-07-25T21:55:30.765Z"
   },
   {
    "duration": 6,
    "start_time": "2022-07-25T21:55:32.290Z"
   },
   {
    "duration": 5,
    "start_time": "2022-07-25T21:55:57.105Z"
   },
   {
    "duration": 5,
    "start_time": "2022-07-25T21:55:58.953Z"
   },
   {
    "duration": 4,
    "start_time": "2022-07-25T21:56:03.183Z"
   },
   {
    "duration": 4,
    "start_time": "2022-07-25T21:56:04.414Z"
   },
   {
    "duration": 59,
    "start_time": "2022-07-25T21:56:10.558Z"
   },
   {
    "duration": 29,
    "start_time": "2022-07-25T21:56:12.436Z"
   },
   {
    "duration": 3,
    "start_time": "2022-07-25T21:56:16.113Z"
   },
   {
    "duration": 13,
    "start_time": "2022-07-25T21:56:17.545Z"
   },
   {
    "duration": 15,
    "start_time": "2022-07-25T21:56:26.495Z"
   },
   {
    "duration": 5,
    "start_time": "2022-07-25T21:56:28.001Z"
   },
   {
    "duration": 4,
    "start_time": "2022-07-25T21:56:31.568Z"
   },
   {
    "duration": 6,
    "start_time": "2022-07-25T21:57:04.660Z"
   },
   {
    "duration": 9,
    "start_time": "2022-07-25T21:57:05.826Z"
   },
   {
    "duration": 4,
    "start_time": "2022-07-25T21:58:00.553Z"
   },
   {
    "duration": 12,
    "start_time": "2022-07-25T21:58:50.013Z"
   },
   {
    "duration": 11,
    "start_time": "2022-07-25T21:59:26.665Z"
   },
   {
    "duration": 17,
    "start_time": "2022-07-25T21:59:47.315Z"
   },
   {
    "duration": 18,
    "start_time": "2022-07-25T22:00:18.946Z"
   },
   {
    "duration": 6,
    "start_time": "2022-07-25T22:00:23.362Z"
   },
   {
    "duration": 240,
    "start_time": "2022-07-25T22:00:57.540Z"
   },
   {
    "duration": 194,
    "start_time": "2022-07-25T22:01:12.515Z"
   },
   {
    "duration": 14,
    "start_time": "2022-07-25T22:01:21.692Z"
   },
   {
    "duration": 297,
    "start_time": "2022-07-25T22:01:22.852Z"
   },
   {
    "duration": 69,
    "start_time": "2022-07-25T22:01:32.582Z"
   },
   {
    "duration": 29,
    "start_time": "2022-07-25T22:01:34.187Z"
   },
   {
    "duration": 7,
    "start_time": "2022-07-25T22:01:37.422Z"
   },
   {
    "duration": 15,
    "start_time": "2022-07-25T22:01:38.766Z"
   },
   {
    "duration": 14,
    "start_time": "2022-07-25T22:01:41.640Z"
   },
   {
    "duration": 5,
    "start_time": "2022-07-25T22:01:43.360Z"
   },
   {
    "duration": 6,
    "start_time": "2022-07-25T22:01:46.179Z"
   },
   {
    "duration": 22,
    "start_time": "2022-07-25T22:04:49.384Z"
   },
   {
    "duration": 4,
    "start_time": "2022-07-25T22:04:59.738Z"
   },
   {
    "duration": 25,
    "start_time": "2022-07-25T22:05:16.910Z"
   },
   {
    "duration": 7,
    "start_time": "2022-07-25T22:05:20.951Z"
   },
   {
    "duration": 315,
    "start_time": "2022-07-25T22:05:26.746Z"
   },
   {
    "duration": 9,
    "start_time": "2022-07-25T22:05:28.719Z"
   },
   {
    "duration": 263,
    "start_time": "2022-07-25T22:06:09.946Z"
   },
   {
    "duration": 3,
    "start_time": "2022-07-25T22:06:15.392Z"
   },
   {
    "duration": 71,
    "start_time": "2022-07-25T22:06:16.692Z"
   },
   {
    "duration": 28,
    "start_time": "2022-07-25T22:06:17.554Z"
   },
   {
    "duration": 3,
    "start_time": "2022-07-25T22:06:21.820Z"
   },
   {
    "duration": 13,
    "start_time": "2022-07-25T22:06:23.239Z"
   },
   {
    "duration": 14,
    "start_time": "2022-07-25T22:06:26.256Z"
   },
   {
    "duration": 17,
    "start_time": "2022-07-25T22:06:28.003Z"
   },
   {
    "duration": 6,
    "start_time": "2022-07-25T22:06:30.388Z"
   },
   {
    "duration": 199,
    "start_time": "2022-07-25T22:06:46.910Z"
   },
   {
    "duration": 3,
    "start_time": "2022-07-25T22:06:54.937Z"
   },
   {
    "duration": 67,
    "start_time": "2022-07-25T22:06:55.951Z"
   },
   {
    "duration": 30,
    "start_time": "2022-07-25T22:06:56.585Z"
   },
   {
    "duration": 4,
    "start_time": "2022-07-25T22:06:58.384Z"
   },
   {
    "duration": 14,
    "start_time": "2022-07-25T22:06:59.517Z"
   },
   {
    "duration": 14,
    "start_time": "2022-07-25T22:07:01.385Z"
   },
   {
    "duration": 22,
    "start_time": "2022-07-25T22:07:02.212Z"
   },
   {
    "duration": 23,
    "start_time": "2022-07-25T22:07:11.238Z"
   },
   {
    "duration": 4,
    "start_time": "2022-07-25T22:07:21.841Z"
   },
   {
    "duration": 25,
    "start_time": "2022-07-25T22:07:45.790Z"
   },
   {
    "duration": 4,
    "start_time": "2022-07-25T22:07:50.353Z"
   },
   {
    "duration": 14,
    "start_time": "2022-07-25T22:08:53.589Z"
   },
   {
    "duration": 2,
    "start_time": "2022-07-25T22:08:58.667Z"
   },
   {
    "duration": 62,
    "start_time": "2022-07-25T22:08:59.951Z"
   },
   {
    "duration": 28,
    "start_time": "2022-07-25T22:09:01.217Z"
   },
   {
    "duration": 5,
    "start_time": "2022-07-25T22:09:04.494Z"
   },
   {
    "duration": 14,
    "start_time": "2022-07-25T22:09:06.145Z"
   },
   {
    "duration": 21,
    "start_time": "2022-07-25T22:09:09.624Z"
   },
   {
    "duration": 14,
    "start_time": "2022-07-25T22:09:10.797Z"
   },
   {
    "duration": 6,
    "start_time": "2022-07-25T22:09:29.985Z"
   },
   {
    "duration": 4,
    "start_time": "2022-07-25T22:09:32.568Z"
   },
   {
    "duration": 13,
    "start_time": "2022-07-25T22:15:56.494Z"
   },
   {
    "duration": 14,
    "start_time": "2022-07-25T22:15:59.877Z"
   },
   {
    "duration": 19,
    "start_time": "2022-07-25T22:19:02.710Z"
   },
   {
    "duration": 23,
    "start_time": "2022-07-25T22:20:28.637Z"
   },
   {
    "duration": 9,
    "start_time": "2022-07-25T22:20:31.685Z"
   },
   {
    "duration": 3,
    "start_time": "2022-07-25T22:20:36.943Z"
   },
   {
    "duration": 60,
    "start_time": "2022-07-25T22:20:38.464Z"
   },
   {
    "duration": 27,
    "start_time": "2022-07-25T22:20:39.917Z"
   },
   {
    "duration": 3,
    "start_time": "2022-07-25T22:20:43.958Z"
   },
   {
    "duration": 14,
    "start_time": "2022-07-25T22:20:45.175Z"
   },
   {
    "duration": 21,
    "start_time": "2022-07-25T22:20:49.042Z"
   },
   {
    "duration": 23,
    "start_time": "2022-07-25T22:20:50.351Z"
   },
   {
    "duration": 7,
    "start_time": "2022-07-25T22:20:53.722Z"
   },
   {
    "duration": 210,
    "start_time": "2022-07-25T22:21:16.226Z"
   },
   {
    "duration": 5,
    "start_time": "2022-07-25T22:21:18.137Z"
   },
   {
    "duration": 3,
    "start_time": "2022-07-25T22:21:22.554Z"
   },
   {
    "duration": 61,
    "start_time": "2022-07-25T22:21:23.605Z"
   },
   {
    "duration": 35,
    "start_time": "2022-07-25T22:21:24.566Z"
   },
   {
    "duration": 3,
    "start_time": "2022-07-25T22:21:26.700Z"
   },
   {
    "duration": 13,
    "start_time": "2022-07-25T22:21:27.994Z"
   },
   {
    "duration": 14,
    "start_time": "2022-07-25T22:21:29.584Z"
   },
   {
    "duration": 7,
    "start_time": "2022-07-25T22:21:30.544Z"
   },
   {
    "duration": 5,
    "start_time": "2022-07-25T22:21:32.094Z"
   },
   {
    "duration": 17,
    "start_time": "2022-07-25T22:26:42.124Z"
   },
   {
    "duration": 14,
    "start_time": "2022-07-25T22:26:56.298Z"
   },
   {
    "duration": 18,
    "start_time": "2022-07-25T22:27:02.926Z"
   },
   {
    "duration": 7,
    "start_time": "2022-07-25T22:27:04.904Z"
   },
   {
    "duration": 201,
    "start_time": "2022-07-25T22:27:25.395Z"
   },
   {
    "duration": 6,
    "start_time": "2022-07-25T22:27:27.190Z"
   },
   {
    "duration": 13,
    "start_time": "2022-07-25T22:27:33.625Z"
   },
   {
    "duration": 14,
    "start_time": "2022-07-25T22:27:35.431Z"
   },
   {
    "duration": 217,
    "start_time": "2022-07-25T22:27:36.044Z"
   },
   {
    "duration": 69,
    "start_time": "2022-07-25T22:27:44.332Z"
   },
   {
    "duration": 29,
    "start_time": "2022-07-25T22:27:48.592Z"
   },
   {
    "duration": 3,
    "start_time": "2022-07-25T22:27:50.594Z"
   },
   {
    "duration": 14,
    "start_time": "2022-07-25T22:27:51.846Z"
   },
   {
    "duration": 16,
    "start_time": "2022-07-25T22:27:53.446Z"
   },
   {
    "duration": 7,
    "start_time": "2022-07-25T22:27:54.304Z"
   },
   {
    "duration": 4,
    "start_time": "2022-07-25T22:27:56.109Z"
   },
   {
    "duration": 69,
    "start_time": "2022-07-25T22:30:12.307Z"
   },
   {
    "duration": 4,
    "start_time": "2022-07-25T22:30:20.633Z"
   },
   {
    "duration": 65,
    "start_time": "2022-07-25T22:30:21.541Z"
   },
   {
    "duration": 30,
    "start_time": "2022-07-25T22:30:22.145Z"
   },
   {
    "duration": 4,
    "start_time": "2022-07-25T22:30:23.879Z"
   },
   {
    "duration": 15,
    "start_time": "2022-07-25T22:30:24.862Z"
   },
   {
    "duration": 15,
    "start_time": "2022-07-25T22:30:26.586Z"
   },
   {
    "duration": 59,
    "start_time": "2022-07-25T22:30:27.299Z"
   },
   {
    "duration": 8,
    "start_time": "2022-07-25T22:30:41.289Z"
   },
   {
    "duration": 7,
    "start_time": "2022-07-25T22:30:45.222Z"
   },
   {
    "duration": 14,
    "start_time": "2022-07-25T22:31:17.682Z"
   },
   {
    "duration": 9,
    "start_time": "2022-07-25T22:32:39.540Z"
   },
   {
    "duration": 5,
    "start_time": "2022-07-25T22:32:50.346Z"
   },
   {
    "duration": 4,
    "start_time": "2022-07-25T22:34:41.697Z"
   },
   {
    "duration": 1226,
    "start_time": "2022-07-26T15:20:22.621Z"
   },
   {
    "duration": 4,
    "start_time": "2022-07-26T15:20:23.850Z"
   },
   {
    "duration": 117,
    "start_time": "2022-07-26T15:20:24.409Z"
   },
   {
    "duration": 28,
    "start_time": "2022-07-26T15:20:26.733Z"
   },
   {
    "duration": 4,
    "start_time": "2022-07-26T15:20:30.792Z"
   },
   {
    "duration": 12,
    "start_time": "2022-07-26T15:20:33.592Z"
   },
   {
    "duration": 14,
    "start_time": "2022-07-26T15:20:37.109Z"
   },
   {
    "duration": 9,
    "start_time": "2022-07-26T15:20:39.058Z"
   },
   {
    "duration": 5,
    "start_time": "2022-07-26T15:20:40.795Z"
   },
   {
    "duration": 13,
    "start_time": "2022-07-26T15:22:40.905Z"
   },
   {
    "duration": 12,
    "start_time": "2022-07-26T15:22:44.897Z"
   },
   {
    "duration": 15,
    "start_time": "2022-07-26T15:23:44.962Z"
   },
   {
    "duration": 5,
    "start_time": "2022-07-26T15:23:50.148Z"
   },
   {
    "duration": 12,
    "start_time": "2022-07-26T15:23:52.057Z"
   },
   {
    "duration": 106,
    "start_time": "2022-07-26T15:24:34.916Z"
   },
   {
    "duration": 6,
    "start_time": "2022-07-26T15:24:46.571Z"
   },
   {
    "duration": 6,
    "start_time": "2022-07-26T15:25:15.547Z"
   },
   {
    "duration": 16,
    "start_time": "2022-07-26T15:25:32.120Z"
   },
   {
    "duration": 143,
    "start_time": "2022-07-26T15:25:49.859Z"
   },
   {
    "duration": 152,
    "start_time": "2022-07-26T15:26:31.426Z"
   },
   {
    "duration": 154,
    "start_time": "2022-07-26T15:28:28.925Z"
   },
   {
    "duration": 150,
    "start_time": "2022-07-26T15:29:40.047Z"
   },
   {
    "duration": 186,
    "start_time": "2022-07-26T15:39:08.801Z"
   },
   {
    "duration": 166,
    "start_time": "2022-07-26T15:39:40.320Z"
   },
   {
    "duration": 137,
    "start_time": "2022-07-26T15:40:59.590Z"
   },
   {
    "duration": 3,
    "start_time": "2022-07-26T15:42:35.078Z"
   },
   {
    "duration": 3,
    "start_time": "2022-07-26T15:42:36.409Z"
   },
   {
    "duration": 61,
    "start_time": "2022-07-26T15:42:36.962Z"
   },
   {
    "duration": 28,
    "start_time": "2022-07-26T15:42:37.866Z"
   },
   {
    "duration": 4,
    "start_time": "2022-07-26T15:42:40.137Z"
   },
   {
    "duration": 14,
    "start_time": "2022-07-26T15:42:41.241Z"
   },
   {
    "duration": 15,
    "start_time": "2022-07-26T15:42:43.109Z"
   },
   {
    "duration": 8,
    "start_time": "2022-07-26T15:42:43.883Z"
   },
   {
    "duration": 13,
    "start_time": "2022-07-26T15:42:46.398Z"
   },
   {
    "duration": 10,
    "start_time": "2022-07-26T15:42:48.788Z"
   },
   {
    "duration": 14,
    "start_time": "2022-07-26T15:42:52.038Z"
   },
   {
    "duration": 5,
    "start_time": "2022-07-26T15:42:54.313Z"
   },
   {
    "duration": 7,
    "start_time": "2022-07-26T15:42:56.511Z"
   },
   {
    "duration": 7,
    "start_time": "2022-07-26T15:42:58.100Z"
   },
   {
    "duration": 8,
    "start_time": "2022-07-26T15:42:59.567Z"
   },
   {
    "duration": 5,
    "start_time": "2022-07-26T15:43:00.074Z"
   },
   {
    "duration": 8,
    "start_time": "2022-07-26T15:43:02.558Z"
   },
   {
    "duration": 14,
    "start_time": "2022-07-26T15:43:05.610Z"
   },
   {
    "duration": 6,
    "start_time": "2022-07-26T15:43:08.690Z"
   },
   {
    "duration": 154,
    "start_time": "2022-07-26T15:43:09.482Z"
   },
   {
    "duration": 12,
    "start_time": "2022-07-26T15:43:14.093Z"
   },
   {
    "duration": 120,
    "start_time": "2022-07-26T15:43:15.844Z"
   },
   {
    "duration": 4,
    "start_time": "2022-07-26T15:44:15.629Z"
   },
   {
    "duration": 4,
    "start_time": "2022-07-26T15:44:17.279Z"
   },
   {
    "duration": 66,
    "start_time": "2022-07-26T15:44:18.200Z"
   },
   {
    "duration": 28,
    "start_time": "2022-07-26T15:44:19.036Z"
   },
   {
    "duration": 4,
    "start_time": "2022-07-26T15:44:22.144Z"
   },
   {
    "duration": 15,
    "start_time": "2022-07-26T15:44:23.521Z"
   },
   {
    "duration": 17,
    "start_time": "2022-07-26T15:44:25.209Z"
   },
   {
    "duration": 10,
    "start_time": "2022-07-26T15:44:27.362Z"
   },
   {
    "duration": 19,
    "start_time": "2022-07-26T15:44:30.673Z"
   },
   {
    "duration": 12,
    "start_time": "2022-07-26T15:44:34.747Z"
   },
   {
    "duration": 16,
    "start_time": "2022-07-26T15:44:39.312Z"
   },
   {
    "duration": 6,
    "start_time": "2022-07-26T15:44:41.953Z"
   },
   {
    "duration": 7,
    "start_time": "2022-07-26T15:44:43.874Z"
   },
   {
    "duration": 6,
    "start_time": "2022-07-26T15:44:45.440Z"
   },
   {
    "duration": 7,
    "start_time": "2022-07-26T15:44:46.628Z"
   },
   {
    "duration": 5,
    "start_time": "2022-07-26T15:44:48.668Z"
   },
   {
    "duration": 6,
    "start_time": "2022-07-26T15:44:51.059Z"
   },
   {
    "duration": 15,
    "start_time": "2022-07-26T15:44:52.630Z"
   },
   {
    "duration": 5,
    "start_time": "2022-07-26T15:44:54.897Z"
   },
   {
    "duration": 169,
    "start_time": "2022-07-26T15:44:57.293Z"
   },
   {
    "duration": 12,
    "start_time": "2022-07-26T15:45:02.162Z"
   },
   {
    "duration": 115,
    "start_time": "2022-07-26T15:45:34.386Z"
   },
   {
    "duration": 156,
    "start_time": "2022-07-26T15:45:35.348Z"
   },
   {
    "duration": 61,
    "start_time": "2022-07-26T15:46:14.166Z"
   },
   {
    "duration": 128,
    "start_time": "2022-07-26T15:46:42.662Z"
   },
   {
    "duration": 186,
    "start_time": "2022-07-26T15:47:16.289Z"
   },
   {
    "duration": 132,
    "start_time": "2022-07-26T15:47:19.108Z"
   },
   {
    "duration": 143,
    "start_time": "2022-07-26T15:47:20.466Z"
   },
   {
    "duration": 560,
    "start_time": "2022-07-26T16:01:22.356Z"
   },
   {
    "duration": 398,
    "start_time": "2022-07-26T16:08:22.746Z"
   },
   {
    "duration": 12,
    "start_time": "2022-07-26T16:11:47.901Z"
   },
   {
    "duration": 7,
    "start_time": "2022-07-26T16:12:22.112Z"
   },
   {
    "duration": 27,
    "start_time": "2022-07-26T16:12:47.858Z"
   },
   {
    "duration": 3,
    "start_time": "2022-07-26T16:13:05.051Z"
   },
   {
    "duration": 4,
    "start_time": "2022-07-26T16:13:06.020Z"
   },
   {
    "duration": 116,
    "start_time": "2022-07-26T16:13:06.596Z"
   },
   {
    "duration": 28,
    "start_time": "2022-07-26T16:13:07.456Z"
   },
   {
    "duration": 4,
    "start_time": "2022-07-26T16:13:09.752Z"
   },
   {
    "duration": 13,
    "start_time": "2022-07-26T16:13:10.651Z"
   },
   {
    "duration": 16,
    "start_time": "2022-07-26T16:13:12.065Z"
   },
   {
    "duration": 9,
    "start_time": "2022-07-26T16:13:13.114Z"
   },
   {
    "duration": 13,
    "start_time": "2022-07-26T16:13:14.903Z"
   },
   {
    "duration": 9,
    "start_time": "2022-07-26T16:13:16.130Z"
   },
   {
    "duration": 20,
    "start_time": "2022-07-26T16:13:18.580Z"
   },
   {
    "duration": 6,
    "start_time": "2022-07-26T16:13:19.579Z"
   },
   {
    "duration": 7,
    "start_time": "2022-07-26T16:13:20.282Z"
   },
   {
    "duration": 8,
    "start_time": "2022-07-26T16:13:21.306Z"
   },
   {
    "duration": 7,
    "start_time": "2022-07-26T16:13:22.415Z"
   },
   {
    "duration": 6,
    "start_time": "2022-07-26T16:13:23.128Z"
   },
   {
    "duration": 8,
    "start_time": "2022-07-26T16:13:24.389Z"
   },
   {
    "duration": 14,
    "start_time": "2022-07-26T16:13:25.896Z"
   },
   {
    "duration": 6,
    "start_time": "2022-07-26T16:13:27.199Z"
   },
   {
    "duration": 155,
    "start_time": "2022-07-26T16:13:28.592Z"
   },
   {
    "duration": 14,
    "start_time": "2022-07-26T16:13:30.942Z"
   },
   {
    "duration": 131,
    "start_time": "2022-07-26T16:13:32.330Z"
   },
   {
    "duration": 139,
    "start_time": "2022-07-26T16:13:36.859Z"
   },
   {
    "duration": 133,
    "start_time": "2022-07-26T16:13:38.333Z"
   },
   {
    "duration": 127,
    "start_time": "2022-07-26T16:13:39.753Z"
   },
   {
    "duration": 12,
    "start_time": "2022-07-26T16:14:48.284Z"
   },
   {
    "duration": 419,
    "start_time": "2022-07-26T16:14:50.745Z"
   },
   {
    "duration": 530,
    "start_time": "2022-07-26T16:14:54.629Z"
   },
   {
    "duration": 11,
    "start_time": "2022-07-26T16:21:36.838Z"
   },
   {
    "duration": 6,
    "start_time": "2022-07-26T16:21:40.597Z"
   },
   {
    "duration": 16,
    "start_time": "2022-07-26T16:21:54.465Z"
   },
   {
    "duration": 53,
    "start_time": "2022-07-26T16:33:35.634Z"
   },
   {
    "duration": 47,
    "start_time": "2022-07-27T09:43:09.949Z"
   },
   {
    "duration": 6,
    "start_time": "2022-07-27T09:43:34.552Z"
   },
   {
    "duration": 6,
    "start_time": "2022-07-27T09:43:36.948Z"
   },
   {
    "duration": 1012,
    "start_time": "2022-07-27T09:44:21.793Z"
   },
   {
    "duration": 3,
    "start_time": "2022-07-27T09:44:22.806Z"
   },
   {
    "duration": 69,
    "start_time": "2022-07-27T09:44:22.810Z"
   },
   {
    "duration": 27,
    "start_time": "2022-07-27T09:44:22.881Z"
   },
   {
    "duration": 3,
    "start_time": "2022-07-27T09:44:22.909Z"
   },
   {
    "duration": 17,
    "start_time": "2022-07-27T09:44:22.913Z"
   },
   {
    "duration": 36,
    "start_time": "2022-07-27T09:44:22.931Z"
   },
   {
    "duration": 9,
    "start_time": "2022-07-27T09:44:22.969Z"
   },
   {
    "duration": 14,
    "start_time": "2022-07-27T09:44:22.979Z"
   },
   {
    "duration": 14,
    "start_time": "2022-07-27T09:44:22.995Z"
   },
   {
    "duration": 18,
    "start_time": "2022-07-27T09:44:23.012Z"
   },
   {
    "duration": 9,
    "start_time": "2022-07-27T09:44:23.032Z"
   },
   {
    "duration": 8,
    "start_time": "2022-07-27T09:44:23.061Z"
   },
   {
    "duration": 10,
    "start_time": "2022-07-27T09:44:23.070Z"
   },
   {
    "duration": 9,
    "start_time": "2022-07-27T09:44:23.081Z"
   },
   {
    "duration": 12,
    "start_time": "2022-07-27T09:44:23.092Z"
   },
   {
    "duration": 10,
    "start_time": "2022-07-27T09:44:23.106Z"
   },
   {
    "duration": 14,
    "start_time": "2022-07-27T09:44:23.118Z"
   },
   {
    "duration": 27,
    "start_time": "2022-07-27T09:44:23.134Z"
   },
   {
    "duration": 165,
    "start_time": "2022-07-27T09:44:23.163Z"
   },
   {
    "duration": 201,
    "start_time": "2022-07-27T09:44:23.331Z"
   },
   {
    "duration": 15,
    "start_time": "2022-07-27T09:44:23.534Z"
   },
   {
    "duration": 161,
    "start_time": "2022-07-27T09:44:23.550Z"
   },
   {
    "duration": 151,
    "start_time": "2022-07-27T09:44:23.713Z"
   },
   {
    "duration": 129,
    "start_time": "2022-07-27T09:44:23.865Z"
   },
   {
    "duration": 143,
    "start_time": "2022-07-27T09:44:23.995Z"
   },
   {
    "duration": 122,
    "start_time": "2022-07-27T09:44:24.140Z"
   },
   {
    "duration": 255,
    "start_time": "2022-07-27T09:44:24.265Z"
   },
   {
    "duration": 272,
    "start_time": "2022-07-27T09:44:24.522Z"
   },
   {
    "duration": 10,
    "start_time": "2022-07-27T09:44:24.796Z"
   },
   {
    "duration": 406,
    "start_time": "2022-07-27T09:44:24.807Z"
   },
   {
    "duration": 404,
    "start_time": "2022-07-27T09:44:25.215Z"
   },
   {
    "duration": 380,
    "start_time": "2022-07-27T09:44:25.621Z"
   },
   {
    "duration": 21,
    "start_time": "2022-07-27T09:44:26.003Z"
   },
   {
    "duration": 9,
    "start_time": "2022-07-27T09:44:26.026Z"
   },
   {
    "duration": 26,
    "start_time": "2022-07-27T09:44:26.036Z"
   },
   {
    "duration": 11,
    "start_time": "2022-07-27T09:44:26.064Z"
   },
   {
    "duration": 231,
    "start_time": "2022-07-27T09:45:20.384Z"
   },
   {
    "duration": 373,
    "start_time": "2022-07-27T09:45:26.232Z"
   },
   {
    "duration": 437,
    "start_time": "2022-07-27T09:45:36.089Z"
   },
   {
    "duration": 254,
    "start_time": "2022-07-27T09:48:10.311Z"
   },
   {
    "duration": 3,
    "start_time": "2022-07-27T11:11:52.323Z"
   },
   {
    "duration": 242,
    "start_time": "2022-07-27T11:16:52.598Z"
   },
   {
    "duration": 280,
    "start_time": "2022-07-27T11:16:58.856Z"
   },
   {
    "duration": 303,
    "start_time": "2022-07-27T11:17:04.730Z"
   },
   {
    "duration": 261,
    "start_time": "2022-07-27T11:17:24.759Z"
   },
   {
    "duration": 386,
    "start_time": "2022-07-27T11:17:31.354Z"
   },
   {
    "duration": 1120,
    "start_time": "2022-07-27T11:23:02.865Z"
   },
   {
    "duration": 2,
    "start_time": "2022-07-27T11:23:03.987Z"
   },
   {
    "duration": 90,
    "start_time": "2022-07-27T11:23:03.991Z"
   },
   {
    "duration": 28,
    "start_time": "2022-07-27T11:23:04.082Z"
   },
   {
    "duration": 3,
    "start_time": "2022-07-27T11:23:04.112Z"
   },
   {
    "duration": 25,
    "start_time": "2022-07-27T11:23:04.117Z"
   },
   {
    "duration": 25,
    "start_time": "2022-07-27T11:23:04.143Z"
   },
   {
    "duration": 9,
    "start_time": "2022-07-27T11:23:04.170Z"
   },
   {
    "duration": 13,
    "start_time": "2022-07-27T11:23:04.180Z"
   },
   {
    "duration": 14,
    "start_time": "2022-07-27T11:23:04.195Z"
   },
   {
    "duration": 18,
    "start_time": "2022-07-27T11:23:04.211Z"
   },
   {
    "duration": 6,
    "start_time": "2022-07-27T11:23:04.260Z"
   },
   {
    "duration": 9,
    "start_time": "2022-07-27T11:23:04.268Z"
   },
   {
    "duration": 8,
    "start_time": "2022-07-27T11:23:04.281Z"
   },
   {
    "duration": 10,
    "start_time": "2022-07-27T11:23:04.291Z"
   },
   {
    "duration": 8,
    "start_time": "2022-07-27T11:23:04.303Z"
   },
   {
    "duration": 9,
    "start_time": "2022-07-27T11:23:04.313Z"
   },
   {
    "duration": 41,
    "start_time": "2022-07-27T11:23:04.323Z"
   },
   {
    "duration": 12,
    "start_time": "2022-07-27T11:23:04.366Z"
   },
   {
    "duration": 166,
    "start_time": "2022-07-27T11:23:04.379Z"
   },
   {
    "duration": 355,
    "start_time": "2022-07-27T11:23:04.547Z"
   },
   {
    "duration": 13,
    "start_time": "2022-07-27T11:23:04.904Z"
   },
   {
    "duration": 147,
    "start_time": "2022-07-27T11:23:04.919Z"
   },
   {
    "duration": 151,
    "start_time": "2022-07-27T11:23:05.068Z"
   },
   {
    "duration": 159,
    "start_time": "2022-07-27T11:23:05.221Z"
   },
   {
    "duration": 143,
    "start_time": "2022-07-27T11:23:05.382Z"
   },
   {
    "duration": 123,
    "start_time": "2022-07-27T11:23:05.527Z"
   },
   {
    "duration": 254,
    "start_time": "2022-07-27T11:23:05.660Z"
   },
   {
    "duration": 289,
    "start_time": "2022-07-27T11:23:05.916Z"
   },
   {
    "duration": 16,
    "start_time": "2022-07-27T11:23:06.207Z"
   },
   {
    "duration": 538,
    "start_time": "2022-07-27T11:23:06.225Z"
   },
   {
    "duration": 419,
    "start_time": "2022-07-27T11:23:06.765Z"
   },
   {
    "duration": 403,
    "start_time": "2022-07-27T11:23:07.186Z"
   },
   {
    "duration": 24,
    "start_time": "2022-07-27T11:23:07.591Z"
   },
   {
    "duration": 38,
    "start_time": "2022-07-27T11:23:07.617Z"
   },
   {
    "duration": 39,
    "start_time": "2022-07-27T11:23:07.657Z"
   },
   {
    "duration": 47,
    "start_time": "2022-07-27T11:23:07.697Z"
   },
   {
    "duration": 32,
    "start_time": "2022-07-27T11:23:07.746Z"
   },
   {
    "duration": 1302,
    "start_time": "2022-07-27T17:05:46.929Z"
   },
   {
    "duration": 208,
    "start_time": "2022-07-27T17:05:49.368Z"
   },
   {
    "duration": 25,
    "start_time": "2022-07-27T17:06:03.674Z"
   },
   {
    "duration": 3,
    "start_time": "2022-07-27T17:06:05.588Z"
   },
   {
    "duration": 13,
    "start_time": "2022-07-27T17:06:08.258Z"
   },
   {
    "duration": 13,
    "start_time": "2022-07-27T17:06:10.968Z"
   },
   {
    "duration": 9,
    "start_time": "2022-07-27T17:06:12.860Z"
   },
   {
    "duration": 16,
    "start_time": "2022-07-27T17:06:17.703Z"
   },
   {
    "duration": 11,
    "start_time": "2022-07-27T17:06:21.732Z"
   },
   {
    "duration": 6,
    "start_time": "2022-07-27T17:06:31.545Z"
   },
   {
    "duration": 18,
    "start_time": "2022-07-27T17:06:42.830Z"
   },
   {
    "duration": 5,
    "start_time": "2022-07-27T17:06:46.149Z"
   },
   {
    "duration": 6,
    "start_time": "2022-07-27T17:06:47.276Z"
   },
   {
    "duration": 8,
    "start_time": "2022-07-27T17:06:52.728Z"
   },
   {
    "duration": 10,
    "start_time": "2022-07-27T17:06:57.211Z"
   },
   {
    "duration": 5,
    "start_time": "2022-07-27T17:06:58.038Z"
   },
   {
    "duration": 6,
    "start_time": "2022-07-27T17:07:02.725Z"
   },
   {
    "duration": 13,
    "start_time": "2022-07-27T17:07:06.256Z"
   },
   {
    "duration": 5,
    "start_time": "2022-07-27T17:07:09.456Z"
   },
   {
    "duration": 84,
    "start_time": "2022-07-27T17:08:05.402Z"
   },
   {
    "duration": 60,
    "start_time": "2022-07-27T17:08:32.397Z"
   },
   {
    "duration": 14,
    "start_time": "2022-07-27T17:08:38.887Z"
   },
   {
    "duration": 9,
    "start_time": "2022-07-27T17:08:58.931Z"
   },
   {
    "duration": 10,
    "start_time": "2022-07-27T17:09:05.905Z"
   },
   {
    "duration": 10,
    "start_time": "2022-07-27T17:09:29.731Z"
   },
   {
    "duration": 15,
    "start_time": "2022-07-27T17:09:42.761Z"
   },
   {
    "duration": 205,
    "start_time": "2022-07-27T17:09:55.704Z"
   },
   {
    "duration": 260,
    "start_time": "2022-07-27T17:10:12.049Z"
   },
   {
    "duration": 9,
    "start_time": "2022-07-27T17:13:48.410Z"
   },
   {
    "duration": 9,
    "start_time": "2022-07-27T17:18:26.250Z"
   },
   {
    "duration": 8,
    "start_time": "2022-07-27T17:18:42.773Z"
   },
   {
    "duration": 8,
    "start_time": "2022-07-27T17:19:08.463Z"
   },
   {
    "duration": 11,
    "start_time": "2022-07-27T17:19:23.087Z"
   },
   {
    "duration": 13,
    "start_time": "2022-07-27T17:19:44.673Z"
   },
   {
    "duration": 122,
    "start_time": "2022-07-27T17:20:03.134Z"
   },
   {
    "duration": 4,
    "start_time": "2022-07-27T17:20:05.034Z"
   },
   {
    "duration": 9,
    "start_time": "2022-07-27T17:22:06.555Z"
   },
   {
    "duration": 45,
    "start_time": "2022-07-27T17:22:34.450Z"
   },
   {
    "duration": 159,
    "start_time": "2022-07-27T17:23:14.331Z"
   },
   {
    "duration": 347,
    "start_time": "2022-07-27T17:23:30.166Z"
   },
   {
    "duration": 655,
    "start_time": "2022-07-27T17:24:56.248Z"
   },
   {
    "duration": 750,
    "start_time": "2022-07-27T17:25:11.949Z"
   },
   {
    "duration": 661,
    "start_time": "2022-07-27T17:25:33.242Z"
   },
   {
    "duration": 684,
    "start_time": "2022-07-27T17:25:46.692Z"
   },
   {
    "duration": 8,
    "start_time": "2022-07-27T17:26:48.578Z"
   },
   {
    "duration": 8,
    "start_time": "2022-07-27T17:28:52.906Z"
   },
   {
    "duration": 9,
    "start_time": "2022-07-27T17:29:32.314Z"
   },
   {
    "duration": 28,
    "start_time": "2022-07-27T17:29:46.319Z"
   },
   {
    "duration": 12,
    "start_time": "2022-07-27T17:30:23.252Z"
   },
   {
    "duration": 13,
    "start_time": "2022-07-27T17:30:54.869Z"
   },
   {
    "duration": 30,
    "start_time": "2022-07-27T17:31:11.833Z"
   },
   {
    "duration": 196,
    "start_time": "2022-07-27T17:31:34.922Z"
   },
   {
    "duration": 790,
    "start_time": "2022-07-27T17:32:52.177Z"
   },
   {
    "duration": 672,
    "start_time": "2022-07-27T17:33:18.355Z"
   },
   {
    "duration": 677,
    "start_time": "2022-07-27T17:34:07.010Z"
   },
   {
    "duration": 11,
    "start_time": "2022-07-27T17:35:17.635Z"
   },
   {
    "duration": 8,
    "start_time": "2022-07-27T17:36:25.940Z"
   },
   {
    "duration": 14,
    "start_time": "2022-07-27T17:36:46.245Z"
   },
   {
    "duration": 13,
    "start_time": "2022-07-27T17:37:03.879Z"
   },
   {
    "duration": 1361,
    "start_time": "2022-07-27T17:37:13.080Z"
   },
   {
    "duration": 162,
    "start_time": "2022-07-27T17:37:23.732Z"
   },
   {
    "duration": 262,
    "start_time": "2022-07-27T17:37:59.590Z"
   },
   {
    "duration": 178,
    "start_time": "2022-07-27T17:38:19.915Z"
   },
   {
    "duration": 1455,
    "start_time": "2022-07-27T17:40:49.715Z"
   },
   {
    "duration": 149,
    "start_time": "2022-07-27T17:41:14.504Z"
   },
   {
    "duration": 140,
    "start_time": "2022-07-27T17:47:23.542Z"
   },
   {
    "duration": 161,
    "start_time": "2022-07-27T17:47:36.798Z"
   },
   {
    "duration": 155,
    "start_time": "2022-07-27T17:49:19.998Z"
   },
   {
    "duration": 193,
    "start_time": "2022-07-27T17:49:37.491Z"
   },
   {
    "duration": 172,
    "start_time": "2022-07-27T17:52:40.078Z"
   },
   {
    "duration": 174,
    "start_time": "2022-07-27T17:52:59.374Z"
   },
   {
    "duration": 172,
    "start_time": "2022-07-27T17:53:30.841Z"
   },
   {
    "duration": 177,
    "start_time": "2022-07-27T17:53:48.043Z"
   },
   {
    "duration": 151,
    "start_time": "2022-07-27T17:54:01.953Z"
   },
   {
    "duration": 8,
    "start_time": "2022-07-27T17:58:35.662Z"
   },
   {
    "duration": 14,
    "start_time": "2022-07-27T17:58:43.841Z"
   },
   {
    "duration": 300,
    "start_time": "2022-07-27T17:59:24.532Z"
   },
   {
    "duration": 356,
    "start_time": "2022-07-27T18:00:23.528Z"
   },
   {
    "duration": 9,
    "start_time": "2022-07-27T18:01:10.805Z"
   },
   {
    "duration": 112,
    "start_time": "2022-07-27T18:01:36.307Z"
   },
   {
    "duration": 99,
    "start_time": "2022-07-27T18:01:44.009Z"
   },
   {
    "duration": 104,
    "start_time": "2022-07-27T18:01:53.572Z"
   },
   {
    "duration": 39,
    "start_time": "2022-07-27T18:02:22.865Z"
   },
   {
    "duration": 35,
    "start_time": "2022-07-27T18:03:17.307Z"
   },
   {
    "duration": 77,
    "start_time": "2022-07-27T18:03:45.892Z"
   },
   {
    "duration": 36,
    "start_time": "2022-07-27T18:03:51.238Z"
   },
   {
    "duration": 36,
    "start_time": "2022-07-27T18:03:57.587Z"
   },
   {
    "duration": 5,
    "start_time": "2022-07-27T18:04:39.221Z"
   },
   {
    "duration": 39,
    "start_time": "2022-07-27T18:04:50.021Z"
   },
   {
    "duration": 3,
    "start_time": "2022-07-27T18:04:57.501Z"
   },
   {
    "duration": 58,
    "start_time": "2022-07-27T18:04:58.668Z"
   },
   {
    "duration": 32,
    "start_time": "2022-07-27T18:04:59.792Z"
   },
   {
    "duration": 3,
    "start_time": "2022-07-27T18:05:03.044Z"
   },
   {
    "duration": 18,
    "start_time": "2022-07-27T18:05:04.440Z"
   },
   {
    "duration": 12,
    "start_time": "2022-07-27T18:05:06.908Z"
   },
   {
    "duration": 10,
    "start_time": "2022-07-27T18:05:07.736Z"
   },
   {
    "duration": 11,
    "start_time": "2022-07-27T18:05:10.834Z"
   },
   {
    "duration": 7,
    "start_time": "2022-07-27T18:05:12.605Z"
   },
   {
    "duration": 14,
    "start_time": "2022-07-27T18:05:19.493Z"
   },
   {
    "duration": 4,
    "start_time": "2022-07-27T18:05:21.264Z"
   },
   {
    "duration": 7,
    "start_time": "2022-07-27T18:05:22.835Z"
   },
   {
    "duration": 6,
    "start_time": "2022-07-27T18:05:24.654Z"
   },
   {
    "duration": 7,
    "start_time": "2022-07-27T18:05:25.805Z"
   },
   {
    "duration": 5,
    "start_time": "2022-07-27T18:05:26.595Z"
   },
   {
    "duration": 16,
    "start_time": "2022-07-27T18:05:28.768Z"
   },
   {
    "duration": 13,
    "start_time": "2022-07-27T18:05:31.483Z"
   },
   {
    "duration": 4,
    "start_time": "2022-07-27T18:05:32.832Z"
   },
   {
    "duration": 281,
    "start_time": "2022-07-27T18:05:34.850Z"
   },
   {
    "duration": 13,
    "start_time": "2022-07-27T18:05:40.768Z"
   },
   {
    "duration": 172,
    "start_time": "2022-07-27T18:05:41.973Z"
   },
   {
    "duration": 175,
    "start_time": "2022-07-27T18:05:53.770Z"
   },
   {
    "duration": 163,
    "start_time": "2022-07-27T18:05:56.539Z"
   },
   {
    "duration": 184,
    "start_time": "2022-07-27T18:05:59.700Z"
   },
   {
    "duration": 119,
    "start_time": "2022-07-27T18:06:06.995Z"
   },
   {
    "duration": 7,
    "start_time": "2022-07-27T18:06:07.658Z"
   },
   {
    "duration": 53,
    "start_time": "2022-07-27T18:06:11.982Z"
   },
   {
    "duration": 313,
    "start_time": "2022-07-27T18:06:15.172Z"
   },
   {
    "duration": 764,
    "start_time": "2022-07-27T18:06:20.132Z"
   },
   {
    "duration": 165,
    "start_time": "2022-07-27T18:06:26.231Z"
   },
   {
    "duration": 159,
    "start_time": "2022-07-27T18:06:28.767Z"
   },
   {
    "duration": 180,
    "start_time": "2022-07-27T18:06:33.360Z"
   },
   {
    "duration": 154,
    "start_time": "2022-07-27T18:06:35.379Z"
   },
   {
    "duration": 281,
    "start_time": "2022-07-27T18:06:38.032Z"
   },
   {
    "duration": 270,
    "start_time": "2022-07-27T18:06:40.655Z"
   },
   {
    "duration": 38,
    "start_time": "2022-07-27T18:06:45.032Z"
   },
   {
    "duration": 6,
    "start_time": "2022-07-27T18:07:32.484Z"
   },
   {
    "duration": 5,
    "start_time": "2022-07-27T18:08:51.004Z"
   },
   {
    "duration": 1171,
    "start_time": "2022-07-27T18:09:06.748Z"
   },
   {
    "duration": 19,
    "start_time": "2022-07-27T18:09:14.686Z"
   },
   {
    "duration": 39,
    "start_time": "2022-07-27T18:09:49.699Z"
   },
   {
    "duration": 9,
    "start_time": "2022-07-27T18:11:40.666Z"
   },
   {
    "duration": 10,
    "start_time": "2022-07-27T18:11:57.863Z"
   },
   {
    "duration": 1028,
    "start_time": "2022-07-27T18:12:08.831Z"
   },
   {
    "duration": 10,
    "start_time": "2022-07-27T18:14:01.768Z"
   },
   {
    "duration": 76,
    "start_time": "2022-07-27T18:15:18.019Z"
   },
   {
    "duration": 76,
    "start_time": "2022-07-27T18:15:32.279Z"
   },
   {
    "duration": 105,
    "start_time": "2022-07-27T18:16:18.515Z"
   },
   {
    "duration": 525,
    "start_time": "2022-07-27T18:16:59.519Z"
   },
   {
    "duration": 78,
    "start_time": "2022-07-27T18:17:21.256Z"
   },
   {
    "duration": 511,
    "start_time": "2022-07-27T18:17:49.832Z"
   },
   {
    "duration": 17,
    "start_time": "2022-07-27T18:19:39.776Z"
   },
   {
    "duration": 461,
    "start_time": "2022-07-27T18:19:51.327Z"
   },
   {
    "duration": 485,
    "start_time": "2022-07-27T18:20:22.299Z"
   },
   {
    "duration": 4,
    "start_time": "2022-07-27T18:25:33.666Z"
   },
   {
    "duration": 6,
    "start_time": "2022-07-27T18:25:45.140Z"
   },
   {
    "duration": 10,
    "start_time": "2022-07-27T18:25:59.765Z"
   },
   {
    "duration": 12,
    "start_time": "2022-07-27T18:26:20.125Z"
   },
   {
    "duration": 12,
    "start_time": "2022-07-27T18:27:12.470Z"
   },
   {
    "duration": 12,
    "start_time": "2022-07-27T18:27:24.867Z"
   },
   {
    "duration": 11,
    "start_time": "2022-07-27T18:27:35.314Z"
   },
   {
    "duration": 13,
    "start_time": "2022-07-27T18:27:41.808Z"
   },
   {
    "duration": 12,
    "start_time": "2022-07-27T18:28:04.974Z"
   },
   {
    "duration": 9,
    "start_time": "2022-07-27T18:30:41.416Z"
   },
   {
    "duration": 12,
    "start_time": "2022-07-27T18:31:00.309Z"
   },
   {
    "duration": 9,
    "start_time": "2022-07-27T18:34:11.497Z"
   },
   {
    "duration": 8,
    "start_time": "2022-07-27T19:31:43.066Z"
   },
   {
    "duration": 18,
    "start_time": "2022-07-27T19:32:06.718Z"
   },
   {
    "duration": 20,
    "start_time": "2022-07-27T19:32:29.169Z"
   },
   {
    "duration": 15,
    "start_time": "2022-07-27T19:33:04.560Z"
   },
   {
    "duration": 63,
    "start_time": "2022-07-28T10:37:31.605Z"
   },
   {
    "duration": 1392,
    "start_time": "2022-07-28T10:37:55.319Z"
   },
   {
    "duration": 99,
    "start_time": "2022-07-28T10:37:56.714Z"
   },
   {
    "duration": 48,
    "start_time": "2022-07-28T10:37:56.815Z"
   },
   {
    "duration": 4,
    "start_time": "2022-07-28T10:37:56.866Z"
   },
   {
    "duration": 39,
    "start_time": "2022-07-28T10:37:56.873Z"
   },
   {
    "duration": 34,
    "start_time": "2022-07-28T10:37:56.914Z"
   },
   {
    "duration": 19,
    "start_time": "2022-07-28T10:37:56.950Z"
   },
   {
    "duration": 35,
    "start_time": "2022-07-28T10:37:56.971Z"
   },
   {
    "duration": 27,
    "start_time": "2022-07-28T10:37:57.008Z"
   },
   {
    "duration": 32,
    "start_time": "2022-07-28T10:37:57.037Z"
   },
   {
    "duration": 11,
    "start_time": "2022-07-28T10:37:57.071Z"
   },
   {
    "duration": 25,
    "start_time": "2022-07-28T10:37:57.083Z"
   },
   {
    "duration": 30,
    "start_time": "2022-07-28T10:37:57.110Z"
   },
   {
    "duration": 17,
    "start_time": "2022-07-28T10:37:57.144Z"
   },
   {
    "duration": 39,
    "start_time": "2022-07-28T10:37:57.163Z"
   },
   {
    "duration": 21,
    "start_time": "2022-07-28T10:37:57.204Z"
   },
   {
    "duration": 35,
    "start_time": "2022-07-28T10:37:57.227Z"
   },
   {
    "duration": 29,
    "start_time": "2022-07-28T10:37:57.264Z"
   },
   {
    "duration": 346,
    "start_time": "2022-07-28T10:37:57.295Z"
   },
   {
    "duration": 15,
    "start_time": "2022-07-28T10:37:57.643Z"
   },
   {
    "duration": 179,
    "start_time": "2022-07-28T10:37:57.660Z"
   },
   {
    "duration": 180,
    "start_time": "2022-07-28T10:37:57.841Z"
   },
   {
    "duration": 172,
    "start_time": "2022-07-28T10:37:58.023Z"
   },
   {
    "duration": 171,
    "start_time": "2022-07-28T10:37:58.197Z"
   },
   {
    "duration": 295,
    "start_time": "2022-07-28T10:37:58.370Z"
   },
   {
    "duration": 4,
    "start_time": "2022-07-28T10:37:58.667Z"
   },
   {
    "duration": 72,
    "start_time": "2022-07-28T10:37:58.673Z"
   },
   {
    "duration": 388,
    "start_time": "2022-07-28T10:37:58.747Z"
   },
   {
    "duration": 17,
    "start_time": "2022-07-28T10:37:59.137Z"
   },
   {
    "duration": 982,
    "start_time": "2022-07-28T10:37:59.156Z"
   },
   {
    "duration": 38,
    "start_time": "2022-07-28T10:38:00.141Z"
   },
   {
    "duration": 198,
    "start_time": "2022-07-28T10:38:00.203Z"
   },
   {
    "duration": 12,
    "start_time": "2022-07-28T10:38:00.405Z"
   },
   {
    "duration": 0,
    "start_time": "2022-07-28T10:38:00.420Z"
   },
   {
    "duration": 0,
    "start_time": "2022-07-28T10:38:00.422Z"
   },
   {
    "duration": 0,
    "start_time": "2022-07-28T10:38:00.423Z"
   },
   {
    "duration": 0,
    "start_time": "2022-07-28T10:38:00.424Z"
   },
   {
    "duration": 0,
    "start_time": "2022-07-28T10:38:00.425Z"
   },
   {
    "duration": 0,
    "start_time": "2022-07-28T10:38:00.427Z"
   },
   {
    "duration": 0,
    "start_time": "2022-07-28T10:38:00.429Z"
   },
   {
    "duration": 0,
    "start_time": "2022-07-28T10:38:00.430Z"
   },
   {
    "duration": 0,
    "start_time": "2022-07-28T10:38:00.431Z"
   },
   {
    "duration": 0,
    "start_time": "2022-07-28T10:38:00.433Z"
   },
   {
    "duration": 0,
    "start_time": "2022-07-28T10:38:00.434Z"
   },
   {
    "duration": 0,
    "start_time": "2022-07-28T10:38:00.436Z"
   },
   {
    "duration": 270,
    "start_time": "2022-07-28T10:39:17.824Z"
   },
   {
    "duration": 257,
    "start_time": "2022-07-28T10:39:40.431Z"
   },
   {
    "duration": 261,
    "start_time": "2022-07-28T10:39:54.356Z"
   },
   {
    "duration": 372,
    "start_time": "2022-07-28T10:40:09.968Z"
   },
   {
    "duration": 235,
    "start_time": "2022-07-28T10:40:37.723Z"
   },
   {
    "duration": 376,
    "start_time": "2022-07-28T10:41:18.955Z"
   },
   {
    "duration": 255,
    "start_time": "2022-07-28T10:41:27.892Z"
   },
   {
    "duration": 264,
    "start_time": "2022-07-28T10:41:42.389Z"
   },
   {
    "duration": 404,
    "start_time": "2022-07-28T10:42:11.605Z"
   },
   {
    "duration": 253,
    "start_time": "2022-07-28T10:42:40.527Z"
   },
   {
    "duration": 287,
    "start_time": "2022-07-28T10:47:54.332Z"
   },
   {
    "duration": 305,
    "start_time": "2022-07-28T10:48:01.018Z"
   },
   {
    "duration": 275,
    "start_time": "2022-07-28T10:48:09.880Z"
   },
   {
    "duration": 126,
    "start_time": "2022-07-28T10:49:02.388Z"
   },
   {
    "duration": 167,
    "start_time": "2022-07-28T10:53:18.292Z"
   },
   {
    "duration": 165,
    "start_time": "2022-07-28T10:53:18.780Z"
   },
   {
    "duration": 1360,
    "start_time": "2022-07-28T10:55:49.826Z"
   },
   {
    "duration": 75,
    "start_time": "2022-07-28T10:55:51.188Z"
   },
   {
    "duration": 36,
    "start_time": "2022-07-28T10:55:51.265Z"
   },
   {
    "duration": 4,
    "start_time": "2022-07-28T10:55:51.303Z"
   },
   {
    "duration": 46,
    "start_time": "2022-07-28T10:55:51.309Z"
   },
   {
    "duration": 48,
    "start_time": "2022-07-28T10:55:51.357Z"
   },
   {
    "duration": 42,
    "start_time": "2022-07-28T10:55:51.407Z"
   },
   {
    "duration": 56,
    "start_time": "2022-07-28T10:55:51.452Z"
   },
   {
    "duration": 19,
    "start_time": "2022-07-28T10:55:51.510Z"
   },
   {
    "duration": 18,
    "start_time": "2022-07-28T10:55:51.532Z"
   },
   {
    "duration": 15,
    "start_time": "2022-07-28T10:55:51.552Z"
   },
   {
    "duration": 13,
    "start_time": "2022-07-28T10:55:51.568Z"
   },
   {
    "duration": 20,
    "start_time": "2022-07-28T10:55:51.584Z"
   },
   {
    "duration": 20,
    "start_time": "2022-07-28T10:55:51.606Z"
   },
   {
    "duration": 14,
    "start_time": "2022-07-28T10:55:51.627Z"
   },
   {
    "duration": 14,
    "start_time": "2022-07-28T10:55:51.643Z"
   },
   {
    "duration": 17,
    "start_time": "2022-07-28T10:55:51.660Z"
   },
   {
    "duration": 8,
    "start_time": "2022-07-28T10:55:51.679Z"
   },
   {
    "duration": 351,
    "start_time": "2022-07-28T10:55:51.705Z"
   },
   {
    "duration": 14,
    "start_time": "2022-07-28T10:55:52.058Z"
   },
   {
    "duration": 180,
    "start_time": "2022-07-28T10:55:52.074Z"
   },
   {
    "duration": 163,
    "start_time": "2022-07-28T10:55:52.256Z"
   },
   {
    "duration": 154,
    "start_time": "2022-07-28T10:55:52.421Z"
   },
   {
    "duration": 159,
    "start_time": "2022-07-28T10:55:52.577Z"
   },
   {
    "duration": 264,
    "start_time": "2022-07-28T10:55:52.738Z"
   },
   {
    "duration": 5,
    "start_time": "2022-07-28T10:55:53.004Z"
   },
   {
    "duration": 58,
    "start_time": "2022-07-28T10:55:53.011Z"
   },
   {
    "duration": 381,
    "start_time": "2022-07-28T10:55:53.073Z"
   },
   {
    "duration": 15,
    "start_time": "2022-07-28T10:55:53.456Z"
   },
   {
    "duration": 1154,
    "start_time": "2022-07-28T10:55:53.473Z"
   },
   {
    "duration": 286,
    "start_time": "2022-07-28T10:55:54.629Z"
   },
   {
    "duration": 199,
    "start_time": "2022-07-28T10:55:54.917Z"
   },
   {
    "duration": 130,
    "start_time": "2022-07-28T10:55:55.119Z"
   },
   {
    "duration": 185,
    "start_time": "2022-07-28T10:55:55.251Z"
   },
   {
    "duration": 169,
    "start_time": "2022-07-28T10:55:55.438Z"
   },
   {
    "duration": 383,
    "start_time": "2022-07-28T10:55:55.610Z"
   },
   {
    "duration": 285,
    "start_time": "2022-07-28T10:55:55.995Z"
   },
   {
    "duration": 52,
    "start_time": "2022-07-28T10:55:56.282Z"
   },
   {
    "duration": 534,
    "start_time": "2022-07-28T10:55:56.336Z"
   },
   {
    "duration": 467,
    "start_time": "2022-07-28T10:55:56.872Z"
   },
   {
    "duration": 455,
    "start_time": "2022-07-28T10:55:57.341Z"
   },
   {
    "duration": 25,
    "start_time": "2022-07-28T10:55:57.803Z"
   },
   {
    "duration": 18,
    "start_time": "2022-07-28T10:55:57.830Z"
   },
   {
    "duration": 18,
    "start_time": "2022-07-28T10:55:57.850Z"
   },
   {
    "duration": 8,
    "start_time": "2022-07-28T10:55:57.870Z"
   },
   {
    "duration": 24,
    "start_time": "2022-07-28T10:57:20.378Z"
   },
   {
    "duration": 6,
    "start_time": "2022-07-28T10:58:48.950Z"
   },
   {
    "duration": 6,
    "start_time": "2022-07-28T11:00:09.019Z"
   },
   {
    "duration": 753,
    "start_time": "2022-07-28T11:00:25.540Z"
   },
   {
    "duration": 6,
    "start_time": "2022-07-28T11:01:39.653Z"
   },
   {
    "duration": 880,
    "start_time": "2022-07-28T11:01:46.789Z"
   },
   {
    "duration": 6,
    "start_time": "2022-07-28T11:01:54.046Z"
   },
   {
    "duration": 666,
    "start_time": "2022-07-28T11:01:54.945Z"
   },
   {
    "duration": 24,
    "start_time": "2022-07-28T11:02:16.846Z"
   },
   {
    "duration": 673,
    "start_time": "2022-07-28T11:02:34.724Z"
   },
   {
    "duration": 6,
    "start_time": "2022-07-28T11:03:34.250Z"
   },
   {
    "duration": 697,
    "start_time": "2022-07-28T11:03:36.698Z"
   },
   {
    "duration": 7,
    "start_time": "2022-07-28T11:04:08.154Z"
   },
   {
    "duration": 721,
    "start_time": "2022-07-28T11:04:08.786Z"
   },
   {
    "duration": 1337,
    "start_time": "2022-07-28T11:17:40.426Z"
   },
   {
    "duration": 78,
    "start_time": "2022-07-28T11:17:41.765Z"
   },
   {
    "duration": 35,
    "start_time": "2022-07-28T11:17:41.845Z"
   },
   {
    "duration": 4,
    "start_time": "2022-07-28T11:17:41.882Z"
   },
   {
    "duration": 31,
    "start_time": "2022-07-28T11:17:41.888Z"
   },
   {
    "duration": 19,
    "start_time": "2022-07-28T11:17:41.921Z"
   },
   {
    "duration": 13,
    "start_time": "2022-07-28T11:17:41.941Z"
   },
   {
    "duration": 17,
    "start_time": "2022-07-28T11:17:41.956Z"
   },
   {
    "duration": 37,
    "start_time": "2022-07-28T11:17:41.975Z"
   },
   {
    "duration": 15,
    "start_time": "2022-07-28T11:17:42.016Z"
   },
   {
    "duration": 7,
    "start_time": "2022-07-28T11:17:42.033Z"
   },
   {
    "duration": 12,
    "start_time": "2022-07-28T11:17:42.041Z"
   },
   {
    "duration": 14,
    "start_time": "2022-07-28T11:17:42.054Z"
   },
   {
    "duration": 47,
    "start_time": "2022-07-28T11:17:42.070Z"
   },
   {
    "duration": 13,
    "start_time": "2022-07-28T11:17:42.119Z"
   },
   {
    "duration": 10,
    "start_time": "2022-07-28T11:17:42.135Z"
   },
   {
    "duration": 21,
    "start_time": "2022-07-28T11:17:42.148Z"
   },
   {
    "duration": 7,
    "start_time": "2022-07-28T11:17:42.172Z"
   },
   {
    "duration": 344,
    "start_time": "2022-07-28T11:17:42.181Z"
   },
   {
    "duration": 16,
    "start_time": "2022-07-28T11:17:42.527Z"
   },
   {
    "duration": 180,
    "start_time": "2022-07-28T11:17:42.546Z"
   },
   {
    "duration": 181,
    "start_time": "2022-07-28T11:17:42.728Z"
   },
   {
    "duration": 163,
    "start_time": "2022-07-28T11:17:42.912Z"
   },
   {
    "duration": 171,
    "start_time": "2022-07-28T11:17:43.077Z"
   },
   {
    "duration": 321,
    "start_time": "2022-07-28T11:17:43.251Z"
   },
   {
    "duration": 4,
    "start_time": "2022-07-28T11:17:43.574Z"
   },
   {
    "duration": 76,
    "start_time": "2022-07-28T11:17:43.580Z"
   },
   {
    "duration": 397,
    "start_time": "2022-07-28T11:17:43.661Z"
   },
   {
    "duration": 22,
    "start_time": "2022-07-28T11:17:44.061Z"
   },
   {
    "duration": 999,
    "start_time": "2022-07-28T11:17:44.105Z"
   },
   {
    "duration": 320,
    "start_time": "2022-07-28T11:17:45.109Z"
   },
   {
    "duration": 196,
    "start_time": "2022-07-28T11:17:45.432Z"
   },
   {
    "duration": 140,
    "start_time": "2022-07-28T11:17:45.630Z"
   },
   {
    "duration": 191,
    "start_time": "2022-07-28T11:17:45.772Z"
   },
   {
    "duration": 192,
    "start_time": "2022-07-28T11:17:45.965Z"
   },
   {
    "duration": 445,
    "start_time": "2022-07-28T11:17:46.159Z"
   },
   {
    "duration": 375,
    "start_time": "2022-07-28T11:17:46.607Z"
   },
   {
    "duration": 61,
    "start_time": "2022-07-28T11:17:46.984Z"
   },
   {
    "duration": 467,
    "start_time": "2022-07-28T11:17:47.047Z"
   },
   {
    "duration": 498,
    "start_time": "2022-07-28T11:17:47.516Z"
   },
   {
    "duration": 6,
    "start_time": "2022-07-28T11:17:48.016Z"
   },
   {
    "duration": 704,
    "start_time": "2022-07-28T11:17:48.025Z"
   },
   {
    "duration": 523,
    "start_time": "2022-07-28T11:17:48.731Z"
   },
   {
    "duration": 39,
    "start_time": "2022-07-28T11:17:49.257Z"
   },
   {
    "duration": 20,
    "start_time": "2022-07-28T11:17:49.298Z"
   },
   {
    "duration": 13,
    "start_time": "2022-07-28T11:17:49.320Z"
   },
   {
    "duration": 8,
    "start_time": "2022-07-28T11:17:49.335Z"
   },
   {
    "duration": 51,
    "start_time": "2022-07-28T16:54:23.653Z"
   },
   {
    "duration": 1368,
    "start_time": "2022-07-28T16:54:32.380Z"
   },
   {
    "duration": 208,
    "start_time": "2022-07-28T16:54:34.166Z"
   },
   {
    "duration": 663,
    "start_time": "2022-07-28T16:54:40.751Z"
   },
   {
    "duration": 37,
    "start_time": "2022-07-28T16:54:46.819Z"
   },
   {
    "duration": 3,
    "start_time": "2022-07-28T16:54:53.386Z"
   },
   {
    "duration": 65,
    "start_time": "2022-07-28T16:54:53.980Z"
   },
   {
    "duration": 30,
    "start_time": "2022-07-28T16:54:54.594Z"
   },
   {
    "duration": 4,
    "start_time": "2022-07-28T16:54:57.139Z"
   },
   {
    "duration": 14,
    "start_time": "2022-07-28T16:54:58.093Z"
   },
   {
    "duration": 15,
    "start_time": "2022-07-28T16:54:59.542Z"
   },
   {
    "duration": 10,
    "start_time": "2022-07-28T16:55:00.207Z"
   },
   {
    "duration": 15,
    "start_time": "2022-07-28T16:55:01.458Z"
   },
   {
    "duration": 7,
    "start_time": "2022-07-28T16:55:02.771Z"
   },
   {
    "duration": 15,
    "start_time": "2022-07-28T16:55:04.373Z"
   },
   {
    "duration": 5,
    "start_time": "2022-07-28T16:55:05.554Z"
   },
   {
    "duration": 9,
    "start_time": "2022-07-28T16:55:06.204Z"
   },
   {
    "duration": 7,
    "start_time": "2022-07-28T16:55:07.980Z"
   },
   {
    "duration": 12,
    "start_time": "2022-07-28T16:55:09.203Z"
   },
   {
    "duration": 6,
    "start_time": "2022-07-28T16:55:09.929Z"
   },
   {
    "duration": 7,
    "start_time": "2022-07-28T16:55:11.323Z"
   },
   {
    "duration": 15,
    "start_time": "2022-07-28T16:55:12.569Z"
   },
   {
    "duration": 16,
    "start_time": "2022-07-28T16:55:17.509Z"
   },
   {
    "duration": 5,
    "start_time": "2022-07-28T16:55:21.340Z"
   },
   {
    "duration": 316,
    "start_time": "2022-07-28T16:55:22.145Z"
   },
   {
    "duration": 13,
    "start_time": "2022-07-28T16:55:25.818Z"
   },
   {
    "duration": 136,
    "start_time": "2022-07-28T16:55:28.853Z"
   },
   {
    "duration": 156,
    "start_time": "2022-07-28T16:55:33.588Z"
   },
   {
    "duration": 136,
    "start_time": "2022-07-28T16:55:34.879Z"
   },
   {
    "duration": 145,
    "start_time": "2022-07-28T16:55:37.313Z"
   },
   {
    "duration": 292,
    "start_time": "2022-07-28T16:55:39.891Z"
   },
   {
    "duration": 5,
    "start_time": "2022-07-28T16:55:40.854Z"
   },
   {
    "duration": 55,
    "start_time": "2022-07-28T16:55:43.845Z"
   },
   {
    "duration": 375,
    "start_time": "2022-07-28T16:55:45.707Z"
   },
   {
    "duration": 15,
    "start_time": "2022-07-28T16:55:49.466Z"
   },
   {
    "duration": 767,
    "start_time": "2022-07-28T16:55:52.017Z"
   },
   {
    "duration": 275,
    "start_time": "2022-07-28T16:56:26.351Z"
   },
   {
    "duration": 154,
    "start_time": "2022-07-28T16:56:56.223Z"
   },
   {
    "duration": 153,
    "start_time": "2022-07-28T16:57:10.598Z"
   },
   {
    "duration": 165,
    "start_time": "2022-07-28T16:57:15.880Z"
   },
   {
    "duration": 260,
    "start_time": "2022-07-28T16:58:09.630Z"
   },
   {
    "duration": 10,
    "start_time": "2022-07-28T16:58:26.604Z"
   },
   {
    "duration": 10,
    "start_time": "2022-07-28T16:59:12.602Z"
   },
   {
    "duration": 19,
    "start_time": "2022-07-28T16:59:23.512Z"
   },
   {
    "duration": 154,
    "start_time": "2022-07-28T16:59:41.222Z"
   },
   {
    "duration": 174,
    "start_time": "2022-07-28T17:00:04.502Z"
   },
   {
    "duration": 12,
    "start_time": "2022-07-28T17:01:49.334Z"
   },
   {
    "duration": 1586,
    "start_time": "2022-07-28T17:01:58.924Z"
   },
   {
    "duration": 162,
    "start_time": "2022-07-28T17:02:15.660Z"
   },
   {
    "duration": 152,
    "start_time": "2022-07-28T17:02:40.578Z"
   },
   {
    "duration": 148,
    "start_time": "2022-07-28T17:04:03.605Z"
   },
   {
    "duration": 150,
    "start_time": "2022-07-28T17:05:12.920Z"
   },
   {
    "duration": 151,
    "start_time": "2022-07-28T17:05:16.260Z"
   },
   {
    "duration": 152,
    "start_time": "2022-07-28T17:05:27.400Z"
   },
   {
    "duration": 140,
    "start_time": "2022-07-28T17:07:06.693Z"
   },
   {
    "duration": 188,
    "start_time": "2022-07-28T17:07:11.869Z"
   },
   {
    "duration": 152,
    "start_time": "2022-07-28T17:07:32.206Z"
   },
   {
    "duration": 166,
    "start_time": "2022-07-28T17:07:48.136Z"
   },
   {
    "duration": 177,
    "start_time": "2022-07-28T17:07:57.754Z"
   },
   {
    "duration": 149,
    "start_time": "2022-07-28T17:08:15.626Z"
   },
   {
    "duration": 158,
    "start_time": "2022-07-28T17:08:31.652Z"
   },
   {
    "duration": 169,
    "start_time": "2022-07-28T17:08:41.509Z"
   },
   {
    "duration": 147,
    "start_time": "2022-07-28T17:09:30.575Z"
   },
   {
    "duration": 328,
    "start_time": "2022-07-28T17:10:15.173Z"
   },
   {
    "duration": 168,
    "start_time": "2022-07-28T17:10:43.289Z"
   },
   {
    "duration": 170,
    "start_time": "2022-07-28T17:11:12.566Z"
   },
   {
    "duration": 160,
    "start_time": "2022-07-28T17:11:29.768Z"
   },
   {
    "duration": 163,
    "start_time": "2022-07-28T17:12:17.452Z"
   },
   {
    "duration": 172,
    "start_time": "2022-07-28T17:12:39.364Z"
   },
   {
    "duration": 172,
    "start_time": "2022-07-28T17:12:42.581Z"
   },
   {
    "duration": 163,
    "start_time": "2022-07-28T17:12:50.918Z"
   },
   {
    "duration": 169,
    "start_time": "2022-07-28T17:13:16.239Z"
   },
   {
    "duration": 154,
    "start_time": "2022-07-28T17:13:39.377Z"
   },
   {
    "duration": 162,
    "start_time": "2022-07-28T17:14:05.752Z"
   },
   {
    "duration": 165,
    "start_time": "2022-07-28T17:14:44.809Z"
   },
   {
    "duration": 262,
    "start_time": "2022-07-28T17:15:03.252Z"
   },
   {
    "duration": 6,
    "start_time": "2022-07-28T17:21:42.225Z"
   },
   {
    "duration": 693,
    "start_time": "2022-07-28T17:22:39.851Z"
   },
   {
    "duration": 5,
    "start_time": "2022-07-28T17:24:03.453Z"
   },
   {
    "duration": 302,
    "start_time": "2022-07-28T17:24:24.171Z"
   },
   {
    "duration": 6,
    "start_time": "2022-07-28T17:24:47.456Z"
   },
   {
    "duration": 437,
    "start_time": "2022-07-28T17:24:50.317Z"
   },
   {
    "duration": 6,
    "start_time": "2022-07-28T17:25:20.723Z"
   },
   {
    "duration": 6,
    "start_time": "2022-07-28T17:25:34.388Z"
   },
   {
    "duration": 310,
    "start_time": "2022-07-28T17:25:35.632Z"
   },
   {
    "duration": 6,
    "start_time": "2022-07-28T17:26:20.838Z"
   },
   {
    "duration": 298,
    "start_time": "2022-07-28T17:26:22.721Z"
   },
   {
    "duration": 4,
    "start_time": "2022-07-28T17:29:01.761Z"
   },
   {
    "duration": 61,
    "start_time": "2022-07-28T17:29:02.401Z"
   },
   {
    "duration": 32,
    "start_time": "2022-07-28T17:29:02.995Z"
   },
   {
    "duration": 3,
    "start_time": "2022-07-28T17:29:04.661Z"
   },
   {
    "duration": 14,
    "start_time": "2022-07-28T17:29:05.702Z"
   },
   {
    "duration": 15,
    "start_time": "2022-07-28T17:29:07.067Z"
   },
   {
    "duration": 8,
    "start_time": "2022-07-28T17:29:07.713Z"
   },
   {
    "duration": 14,
    "start_time": "2022-07-28T17:29:08.663Z"
   },
   {
    "duration": 7,
    "start_time": "2022-07-28T17:29:09.784Z"
   },
   {
    "duration": 16,
    "start_time": "2022-07-28T17:29:11.061Z"
   },
   {
    "duration": 6,
    "start_time": "2022-07-28T17:29:12.254Z"
   },
   {
    "duration": 8,
    "start_time": "2022-07-28T17:29:12.899Z"
   },
   {
    "duration": 7,
    "start_time": "2022-07-28T17:29:14.146Z"
   },
   {
    "duration": 8,
    "start_time": "2022-07-28T17:29:15.454Z"
   },
   {
    "duration": 6,
    "start_time": "2022-07-28T17:29:16.062Z"
   },
   {
    "duration": 6,
    "start_time": "2022-07-28T17:29:17.194Z"
   },
   {
    "duration": 16,
    "start_time": "2022-07-28T17:29:17.872Z"
   },
   {
    "duration": 5,
    "start_time": "2022-07-28T17:29:19.401Z"
   },
   {
    "duration": 292,
    "start_time": "2022-07-28T17:29:20.358Z"
   },
   {
    "duration": 14,
    "start_time": "2022-07-28T17:29:23.817Z"
   },
   {
    "duration": 160,
    "start_time": "2022-07-28T17:29:25.213Z"
   },
   {
    "duration": 146,
    "start_time": "2022-07-28T17:29:27.869Z"
   },
   {
    "duration": 139,
    "start_time": "2022-07-28T17:29:29.146Z"
   },
   {
    "duration": 276,
    "start_time": "2022-07-28T17:29:30.571Z"
   },
   {
    "duration": 139,
    "start_time": "2022-07-28T17:29:33.862Z"
   },
   {
    "duration": 4,
    "start_time": "2022-07-28T17:29:34.358Z"
   },
   {
    "duration": 56,
    "start_time": "2022-07-28T17:29:36.118Z"
   },
   {
    "duration": 358,
    "start_time": "2022-07-28T17:29:36.854Z"
   },
   {
    "duration": 15,
    "start_time": "2022-07-28T17:29:38.771Z"
   },
   {
    "duration": 764,
    "start_time": "2022-07-28T17:29:40.454Z"
   },
   {
    "duration": 266,
    "start_time": "2022-07-28T17:29:43.665Z"
   },
   {
    "duration": 172,
    "start_time": "2022-07-28T17:29:45.674Z"
   },
   {
    "duration": 154,
    "start_time": "2022-07-28T17:29:47.065Z"
   },
   {
    "duration": 155,
    "start_time": "2022-07-28T17:29:49.464Z"
   },
   {
    "duration": 163,
    "start_time": "2022-07-28T17:29:50.061Z"
   },
   {
    "duration": 396,
    "start_time": "2022-07-28T17:29:53.560Z"
   },
   {
    "duration": 274,
    "start_time": "2022-07-28T17:29:58.202Z"
   },
   {
    "duration": 42,
    "start_time": "2022-07-28T17:30:00.561Z"
   },
   {
    "duration": 5,
    "start_time": "2022-07-28T17:30:02.955Z"
   },
   {
    "duration": 639,
    "start_time": "2022-07-28T17:30:04.158Z"
   },
   {
    "duration": 6,
    "start_time": "2022-07-28T17:30:06.874Z"
   },
   {
    "duration": 308,
    "start_time": "2022-07-28T17:30:08.206Z"
   },
   {
    "duration": 8,
    "start_time": "2022-07-28T17:30:51.800Z"
   },
   {
    "duration": 652,
    "start_time": "2022-07-28T17:30:52.666Z"
   },
   {
    "duration": 6,
    "start_time": "2022-07-28T17:31:20.766Z"
   },
   {
    "duration": 700,
    "start_time": "2022-07-28T17:31:21.905Z"
   },
   {
    "duration": 12,
    "start_time": "2022-07-28T17:33:20.871Z"
   },
   {
    "duration": 13,
    "start_time": "2022-07-28T17:33:40.658Z"
   },
   {
    "duration": 6,
    "start_time": "2022-07-28T17:36:30.504Z"
   },
   {
    "duration": 314,
    "start_time": "2022-07-28T17:36:42.488Z"
   },
   {
    "duration": 6,
    "start_time": "2022-07-28T17:38:15.586Z"
   },
   {
    "duration": 301,
    "start_time": "2022-07-28T17:38:16.418Z"
   },
   {
    "duration": 5,
    "start_time": "2022-07-28T17:39:23.059Z"
   },
   {
    "duration": 473,
    "start_time": "2022-07-28T17:39:23.867Z"
   },
   {
    "duration": 6,
    "start_time": "2022-07-28T17:39:53.057Z"
   },
   {
    "duration": 665,
    "start_time": "2022-07-28T17:39:53.864Z"
   },
   {
    "duration": 7,
    "start_time": "2022-07-28T17:41:29.148Z"
   },
   {
    "duration": 316,
    "start_time": "2022-07-28T17:41:30.803Z"
   },
   {
    "duration": 11,
    "start_time": "2022-07-28T17:44:24.362Z"
   },
   {
    "duration": 10,
    "start_time": "2022-07-28T17:44:26.624Z"
   },
   {
    "duration": 6,
    "start_time": "2022-07-28T17:45:02.151Z"
   },
   {
    "duration": 312,
    "start_time": "2022-07-28T17:45:03.123Z"
   },
   {
    "duration": 6,
    "start_time": "2022-07-28T17:45:20.993Z"
   },
   {
    "duration": 711,
    "start_time": "2022-07-28T17:45:21.655Z"
   },
   {
    "duration": 8,
    "start_time": "2022-07-28T17:45:43.623Z"
   },
   {
    "duration": 10,
    "start_time": "2022-07-28T17:45:46.055Z"
   },
   {
    "duration": 72,
    "start_time": "2022-07-28T17:47:04.390Z"
   },
   {
    "duration": 86,
    "start_time": "2022-07-28T17:47:21.721Z"
   },
   {
    "duration": 70,
    "start_time": "2022-07-28T17:48:24.913Z"
   },
   {
    "duration": 70,
    "start_time": "2022-07-28T17:48:46.474Z"
   },
   {
    "duration": 124,
    "start_time": "2022-07-28T17:49:13.018Z"
   },
   {
    "duration": 73,
    "start_time": "2022-07-28T17:49:48.099Z"
   },
   {
    "duration": 73,
    "start_time": "2022-07-28T17:50:40.423Z"
   },
   {
    "duration": 9,
    "start_time": "2022-07-28T17:53:02.323Z"
   },
   {
    "duration": 422,
    "start_time": "2022-07-28T17:55:03.843Z"
   },
   {
    "duration": 396,
    "start_time": "2022-07-28T17:56:43.619Z"
   },
   {
    "duration": 1260,
    "start_time": "2022-07-28T21:04:40.781Z"
   },
   {
    "duration": 73,
    "start_time": "2022-07-28T21:04:42.043Z"
   },
   {
    "duration": 39,
    "start_time": "2022-07-28T21:04:42.118Z"
   },
   {
    "duration": 4,
    "start_time": "2022-07-28T21:04:42.160Z"
   },
   {
    "duration": 39,
    "start_time": "2022-07-28T21:04:42.166Z"
   },
   {
    "duration": 18,
    "start_time": "2022-07-28T21:04:42.207Z"
   },
   {
    "duration": 11,
    "start_time": "2022-07-28T21:04:42.227Z"
   },
   {
    "duration": 16,
    "start_time": "2022-07-28T21:04:42.240Z"
   },
   {
    "duration": 10,
    "start_time": "2022-07-28T21:04:42.257Z"
   },
   {
    "duration": 48,
    "start_time": "2022-07-28T21:04:42.269Z"
   },
   {
    "duration": 5,
    "start_time": "2022-07-28T21:04:42.319Z"
   },
   {
    "duration": 11,
    "start_time": "2022-07-28T21:04:42.326Z"
   },
   {
    "duration": 8,
    "start_time": "2022-07-28T21:04:42.339Z"
   },
   {
    "duration": 9,
    "start_time": "2022-07-28T21:04:42.351Z"
   },
   {
    "duration": 10,
    "start_time": "2022-07-28T21:04:42.361Z"
   },
   {
    "duration": 8,
    "start_time": "2022-07-28T21:04:42.405Z"
   },
   {
    "duration": 23,
    "start_time": "2022-07-28T21:04:42.415Z"
   },
   {
    "duration": 8,
    "start_time": "2022-07-28T21:04:42.440Z"
   },
   {
    "duration": 358,
    "start_time": "2022-07-28T21:04:42.450Z"
   },
   {
    "duration": 15,
    "start_time": "2022-07-28T21:04:42.810Z"
   },
   {
    "duration": 169,
    "start_time": "2022-07-28T21:04:42.827Z"
   },
   {
    "duration": 176,
    "start_time": "2022-07-28T21:04:42.998Z"
   },
   {
    "duration": 154,
    "start_time": "2022-07-28T21:04:43.176Z"
   },
   {
    "duration": 163,
    "start_time": "2022-07-28T21:04:43.332Z"
   },
   {
    "duration": 290,
    "start_time": "2022-07-28T21:04:43.505Z"
   },
   {
    "duration": 7,
    "start_time": "2022-07-28T21:04:43.798Z"
   },
   {
    "duration": 56,
    "start_time": "2022-07-28T21:04:43.807Z"
   },
   {
    "duration": 393,
    "start_time": "2022-07-28T21:04:43.865Z"
   },
   {
    "duration": 16,
    "start_time": "2022-07-28T21:04:44.260Z"
   },
   {
    "duration": 901,
    "start_time": "2022-07-28T21:04:44.278Z"
   },
   {
    "duration": 297,
    "start_time": "2022-07-28T21:04:45.181Z"
   },
   {
    "duration": 183,
    "start_time": "2022-07-28T21:04:45.480Z"
   },
   {
    "duration": 172,
    "start_time": "2022-07-28T21:04:45.665Z"
   },
   {
    "duration": 172,
    "start_time": "2022-07-28T21:04:45.839Z"
   },
   {
    "duration": 183,
    "start_time": "2022-07-28T21:04:46.014Z"
   },
   {
    "duration": 420,
    "start_time": "2022-07-28T21:04:46.199Z"
   },
   {
    "duration": 303,
    "start_time": "2022-07-28T21:04:46.622Z"
   },
   {
    "duration": 52,
    "start_time": "2022-07-28T21:04:46.927Z"
   },
   {
    "duration": 23,
    "start_time": "2022-07-28T21:04:46.981Z"
   },
   {
    "duration": 671,
    "start_time": "2022-07-28T21:04:47.007Z"
   },
   {
    "duration": 6,
    "start_time": "2022-07-28T21:04:47.682Z"
   },
   {
    "duration": 687,
    "start_time": "2022-07-28T21:04:47.690Z"
   },
   {
    "duration": 415,
    "start_time": "2022-07-28T21:04:48.379Z"
   },
   {
    "duration": 17,
    "start_time": "2022-07-28T21:04:48.796Z"
   },
   {
    "duration": 12,
    "start_time": "2022-07-28T21:04:48.815Z"
   },
   {
    "duration": 9,
    "start_time": "2022-07-28T21:04:48.828Z"
   }
  ],
  "kernelspec": {
   "display_name": "Python 3 (ipykernel)",
   "language": "python",
   "name": "python3"
  },
  "language_info": {
   "codemirror_mode": {
    "name": "ipython",
    "version": 3
   },
   "file_extension": ".py",
   "mimetype": "text/x-python",
   "name": "python",
   "nbconvert_exporter": "python",
   "pygments_lexer": "ipython3",
   "version": "3.9.5"
  },
  "toc": {
   "base_numbering": 1,
   "nav_menu": {},
   "number_sections": true,
   "sideBar": true,
   "skip_h1_title": true,
   "title_cell": "Table of Contents",
   "title_sidebar": "Contents",
   "toc_cell": false,
   "toc_position": {
    "height": "478px",
    "left": "178px",
    "top": "111.125px",
    "width": "165px"
   },
   "toc_section_display": true,
   "toc_window_display": true
  }
 },
 "nbformat": 4,
 "nbformat_minor": 2
}
